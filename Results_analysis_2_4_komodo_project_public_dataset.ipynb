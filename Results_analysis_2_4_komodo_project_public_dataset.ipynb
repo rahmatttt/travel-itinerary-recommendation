{
 "cells": [
  {
   "cell_type": "code",
   "execution_count": 4,
   "id": "629b09e9",
   "metadata": {},
   "outputs": [],
   "source": [
    "import json\n",
    "import time\n",
    "import random\n",
    "import datetime\n",
    "import copy\n",
    "import pandas as pd\n",
    "import numpy as np\n",
    "import scipy.stats as stats\n",
    "import glob\n",
    "import os\n",
    "\n",
    "import matplotlib.pyplot as plt\n",
    "from matplotlib.cm import get_cmap\n",
    "from matplotlib.patches import FancyArrowPatch\n",
    "\n",
    "from optimization_c_r_rc_100_100_dataset.aco import ACO\n",
    "from optimization_c_r_rc_100_100_dataset.acs import ACS\n",
    "from optimization_c_r_rc_100_100_dataset.bso import BSO\n",
    "from optimization_c_r_rc_100_100_dataset.dka import DKA\n",
    "from optimization_c_r_rc_100_100_dataset.ga import GA\n",
    "from optimization_c_r_rc_100_100_dataset.pso import PSO\n",
    "from optimization_c_r_rc_100_100_dataset.sa import SA\n",
    "from optimization_c_r_rc_100_100_dataset.tabu_search import TS\n",
    "from optimization_c_r_rc_100_100_dataset.woa import WOA\n",
    "\n",
    "import warnings\n",
    "warnings.filterwarnings('ignore')"
   ]
  },
  {
   "cell_type": "code",
   "execution_count": 2,
   "id": "18c91806",
   "metadata": {},
   "outputs": [],
   "source": [
    "def get_analysis(model,depot,nodes,num_vehicle):\n",
    "    start = time.time()\n",
    "    model.set_model(nodes = nodes,depot = depot, num_vehicle = num_vehicle)\n",
    "    solution,fitness = model.construct_solution()[-2:]\n",
    "    end = time.time()\n",
    "    run_time = end-start\n",
    "    results = {\"solution\":[[i[\"id\"] for i in sol] for sol in solution],\n",
    "              \"fitness\":fitness,\n",
    "              \"run_time\":run_time}\n",
    "    \n",
    "    return results"
   ]
  },
  {
   "cell_type": "code",
   "execution_count": 5,
   "id": "96296883",
   "metadata": {},
   "outputs": [],
   "source": [
    "dir_path = \"raw_data/c_r_rc_100_100\"\n",
    "files = glob.glob(os.path.join(dir_path,\"*.txt\"))"
   ]
  },
  {
   "cell_type": "code",
   "execution_count": 13,
   "id": "321e6ffe",
   "metadata": {},
   "outputs": [],
   "source": [
    "def get_data(filename):\n",
    "    print(filename)\n",
    "    with open(filename, 'r') as f:\n",
    "        lines = f.readlines()\n",
    "    \n",
    "    #find the start of the line\n",
    "    start = len([line for line in lines if len(line.strip().split())<9])\n",
    "    \n",
    "    parts = list(map(float,lines[start].strip().split()))\n",
    "    depot = {\n",
    "        \"id\": parts[0], #id\n",
    "        \"x\": parts[1], #x coordinate\n",
    "        \"y\": parts[2], #y coordinate\n",
    "        \"d\": parts[3], #service duration or visiting time\n",
    "        \"S\": parts[4], #profit of the location\n",
    "        \"f\": parts[5], #not relevant for TOPTW\n",
    "        \"a\": parts[6], #not relevant for TOPTW\n",
    "        \"list\": parts[7], #not relevant for TOPTW\n",
    "        \"O\": 0, #opening of time window (earliest time for start of service) for depot its a starting point\n",
    "        \"C\": parts[8], #closing of time window (latest time for start of service) for depot its the maximum duration (Tmax)\n",
    "    }\n",
    "\n",
    "    nodes = []\n",
    "    \n",
    "    for line in lines[start+1:]:\n",
    "        parts = list(map(float, line.strip().split()))\n",
    "        if len(parts) >= 9:\n",
    "            node = {\n",
    "                \"id\": parts[0], #id\n",
    "                \"x\": parts[1], #x coordinate\n",
    "                \"y\": parts[2], #y coordinate\n",
    "                \"d\": parts[3], #service duration or visiting time\n",
    "                \"S\": parts[4], #profit of the location\n",
    "                \"f\": parts[5], #not relevant for TOPTW\n",
    "                \"a\": parts[6], #not relevant for TOPTW\n",
    "                \"list\": parts[7], #not relevant for TOPTW\n",
    "                \"O\": parts[8], #opening of time window (earliest time for start of service)\n",
    "                \"C\": parts[9], #closing of time window (latest time for start of service)\n",
    "            }\n",
    "            nodes.append(node)\n",
    "        else:\n",
    "            continue\n",
    "    return depot,nodes"
   ]
  },
  {
   "cell_type": "code",
   "execution_count": 14,
   "id": "d49ae786",
   "metadata": {},
   "outputs": [
    {
     "name": "stdout",
     "output_type": "stream",
     "text": [
      "raw_data/c_r_rc_100_100\\c101.txt\n",
      "========================================\n"
     ]
    }
   ],
   "source": [
    "df_results = pd.DataFrame()\n",
    "\n",
    "#scenario\n",
    "num_vehicle = 3\n",
    "random_state = 100\n",
    "\n",
    "for file in files:\n",
    "    depot,nodes = get_data(file)\n",
    "    \n",
    "    results = {\n",
    "        \"method\" : [],\n",
    "        \"fitness\" : [],\n",
    "        \"run_time\" : []\n",
    "    }\n",
    "    \n",
    "    aco = ACO(random_state = random_state)\n",
    "    results_aco = get_analysis(aco,depot,nodes,num_vehicle)\n",
    "    results[\"method\"].append(\"aco\")\n",
    "    \n",
    "    acs = ACS(random_state = random_state)\n",
    "    results_acs = get_analysis(acs,depot,nodes,num_vehicle)\n",
    "    results[\"method\"].append(\"acs\")\n",
    "    \n",
    "    bso = BSO(random_state = random_state)\n",
    "    results_bso = get_analysis(bso,depot,nodes,num_vehicle)\n",
    "    results[\"method\"].append(\"bso\")\n",
    "    \n",
    "    dka = DKA(random_state = random_state)\n",
    "    results_dka = get_analysis(dka,depot,nodes,num_vehicle)\n",
    "    results[\"method\"].append(\"dka\")\n",
    "    \n",
    "    ga = GA(random_state = random_state)\n",
    "    results_ga = get_analysis(ga,depot,nodes,num_vehicle)\n",
    "    results[\"method\"].append(\"ga\")\n",
    "    \n",
    "    pso = PSO(random_state = random_state)\n",
    "    results_pso = get_analysis(pso,depot,nodes,num_vehicle)\n",
    "    results[\"method\"].append(\"pso\")\n",
    "    \n",
    "    sa = SA(random_state = random_state)\n",
    "    results_sa = get_analysis(sa,depot,nodes,num_vehicle)\n",
    "    results[\"method\"].append(\"sa\")\n",
    "    \n",
    "    ts = TS(random_state = random_state)\n",
    "    results_ts = get_analysis(ts,depot,nodes,num_vehicle)\n",
    "    results[\"method\"].append(\"ts\")\n",
    "    \n",
    "    woa = WOA(random_state = random_state)\n",
    "    results_woa = get_analysis(woa,depot,nodes,num_vehicle)\n",
    "    results[\"method\"].append(\"woa\")\n",
    "    \n",
    "    for i in [results_aco,results_acs,results_bso,results_dka,results_ga,results_pso,results_sa,results_ts,results_woa]:\n",
    "        results[\"fitness\"].append(i[\"fitness\"])\n",
    "        results[\"run_time\"].append(i[\"run_time\"])\n",
    "    \n",
    "    results = pd.DataFrame(results)\n",
    "    results[\"dataset\"] = file.split(\"\\\\\")[-1]\n",
    "    \n",
    "    df_results = pd.concat([df_results,results])\n",
    "    \n",
    "    print(\"========================================\")"
   ]
  },
  {
   "cell_type": "code",
   "execution_count": 21,
   "id": "6f95415e",
   "metadata": {},
   "outputs": [
    {
     "data": {
      "text/html": [
       "<div>\n",
       "<style scoped>\n",
       "    .dataframe tbody tr th:only-of-type {\n",
       "        vertical-align: middle;\n",
       "    }\n",
       "\n",
       "    .dataframe tbody tr th {\n",
       "        vertical-align: top;\n",
       "    }\n",
       "\n",
       "    .dataframe thead th {\n",
       "        text-align: right;\n",
       "    }\n",
       "</style>\n",
       "<table border=\"1\" class=\"dataframe\">\n",
       "  <thead>\n",
       "    <tr style=\"text-align: right;\">\n",
       "      <th></th>\n",
       "      <th>method</th>\n",
       "      <th>fitness</th>\n",
       "      <th>run_time</th>\n",
       "      <th>dataset</th>\n",
       "    </tr>\n",
       "  </thead>\n",
       "  <tbody>\n",
       "    <tr>\n",
       "      <th>0</th>\n",
       "      <td>aco</td>\n",
       "      <td>570.0</td>\n",
       "      <td>52.075427</td>\n",
       "      <td>raw_data/c_r_rc_100_100\\c101.txt</td>\n",
       "    </tr>\n",
       "    <tr>\n",
       "      <th>1</th>\n",
       "      <td>acs</td>\n",
       "      <td>320.0</td>\n",
       "      <td>22.561275</td>\n",
       "      <td>raw_data/c_r_rc_100_100\\c101.txt</td>\n",
       "    </tr>\n",
       "    <tr>\n",
       "      <th>2</th>\n",
       "      <td>bso</td>\n",
       "      <td>260.0</td>\n",
       "      <td>6.550626</td>\n",
       "      <td>raw_data/c_r_rc_100_100\\c101.txt</td>\n",
       "    </tr>\n",
       "    <tr>\n",
       "      <th>3</th>\n",
       "      <td>dka</td>\n",
       "      <td>340.0</td>\n",
       "      <td>2.846139</td>\n",
       "      <td>raw_data/c_r_rc_100_100\\c101.txt</td>\n",
       "    </tr>\n",
       "    <tr>\n",
       "      <th>4</th>\n",
       "      <td>ga</td>\n",
       "      <td>360.0</td>\n",
       "      <td>9.723127</td>\n",
       "      <td>raw_data/c_r_rc_100_100\\c101.txt</td>\n",
       "    </tr>\n",
       "    <tr>\n",
       "      <th>5</th>\n",
       "      <td>pso</td>\n",
       "      <td>520.0</td>\n",
       "      <td>4.339589</td>\n",
       "      <td>raw_data/c_r_rc_100_100\\c101.txt</td>\n",
       "    </tr>\n",
       "    <tr>\n",
       "      <th>6</th>\n",
       "      <td>sa</td>\n",
       "      <td>540.0</td>\n",
       "      <td>8.740301</td>\n",
       "      <td>raw_data/c_r_rc_100_100\\c101.txt</td>\n",
       "    </tr>\n",
       "    <tr>\n",
       "      <th>7</th>\n",
       "      <td>ts</td>\n",
       "      <td>490.0</td>\n",
       "      <td>24.730015</td>\n",
       "      <td>raw_data/c_r_rc_100_100\\c101.txt</td>\n",
       "    </tr>\n",
       "    <tr>\n",
       "      <th>8</th>\n",
       "      <td>woa</td>\n",
       "      <td>410.0</td>\n",
       "      <td>9.019006</td>\n",
       "      <td>raw_data/c_r_rc_100_100\\c101.txt</td>\n",
       "    </tr>\n",
       "  </tbody>\n",
       "</table>\n",
       "</div>"
      ],
      "text/plain": [
       "  method  fitness   run_time                           dataset\n",
       "0    aco    570.0  52.075427  raw_data/c_r_rc_100_100\\c101.txt\n",
       "1    acs    320.0  22.561275  raw_data/c_r_rc_100_100\\c101.txt\n",
       "2    bso    260.0   6.550626  raw_data/c_r_rc_100_100\\c101.txt\n",
       "3    dka    340.0   2.846139  raw_data/c_r_rc_100_100\\c101.txt\n",
       "4     ga    360.0   9.723127  raw_data/c_r_rc_100_100\\c101.txt\n",
       "5    pso    520.0   4.339589  raw_data/c_r_rc_100_100\\c101.txt\n",
       "6     sa    540.0   8.740301  raw_data/c_r_rc_100_100\\c101.txt\n",
       "7     ts    490.0  24.730015  raw_data/c_r_rc_100_100\\c101.txt\n",
       "8    woa    410.0   9.019006  raw_data/c_r_rc_100_100\\c101.txt"
      ]
     },
     "execution_count": 21,
     "metadata": {},
     "output_type": "execute_result"
    }
   ],
   "source": [
    "df_results"
   ]
  },
  {
   "cell_type": "code",
   "execution_count": 11,
   "id": "316bd893",
   "metadata": {},
   "outputs": [],
   "source": [
    "ga = GA(random_state=100)\n",
    "results_ga = get_analysis(ga,depot,nodes,num_vehicle)"
   ]
  },
  {
   "cell_type": "code",
   "execution_count": 12,
   "id": "51e2f123",
   "metadata": {},
   "outputs": [
    {
     "data": {
      "text/plain": [
       "{'solution': [[3.0, 54.0, 16.0, 36.0, 75.0, 47.0],\n",
       "  [25.0, 97.0, 59.0, 22.0, 69.0],\n",
       "  [81.0, 7.0, 61.0, 12.0, 91.0, 21.0, 49.0]],\n",
       " 'fitness': 360.0,\n",
       " 'run_time': 6.153579950332642}"
      ]
     },
     "execution_count": 12,
     "metadata": {},
     "output_type": "execute_result"
    }
   ],
   "source": [
    "results_ga"
   ]
  },
  {
   "cell_type": "code",
   "execution_count": 165,
   "id": "964a757f",
   "metadata": {},
   "outputs": [],
   "source": [
    "acs = ACS(random_state=100)\n",
    "acs.set_model(nodes=nodes,depot=depot,\n",
    "                num_vehicle=3)\n",
    "solution,fitness = acs.construct_solution()"
   ]
  },
  {
   "cell_type": "code",
   "execution_count": 134,
   "id": "32f7fbeb",
   "metadata": {},
   "outputs": [],
   "source": [
    "aco = ACO(random_state=100)\n",
    "aco.set_model(nodes=nodes,depot=depot,\n",
    "                num_vehicle=3)\n",
    "solution,fitness = aco.construct_solution()"
   ]
  },
  {
   "cell_type": "code",
   "execution_count": 138,
   "id": "4a43a3b4",
   "metadata": {},
   "outputs": [],
   "source": [
    "woa = WOA(random_state=100)\n",
    "woa.set_model(nodes=nodes,depot=depot,\n",
    "                num_vehicle=3)\n",
    "solution,fitness = woa.construct_solution()"
   ]
  },
  {
   "cell_type": "code",
   "execution_count": 148,
   "id": "b292d3bd",
   "metadata": {},
   "outputs": [],
   "source": [
    "sa = SA(random_state=100)\n",
    "sa.set_model(nodes=nodes,depot=depot,\n",
    "                num_vehicle=3)\n",
    "solution,fitness = sa.construct_solution()"
   ]
  },
  {
   "cell_type": "code",
   "execution_count": 156,
   "id": "c2bd8292",
   "metadata": {},
   "outputs": [],
   "source": [
    "ts = TS(random_state=100)\n",
    "ts.set_model(nodes=nodes,depot=depot,\n",
    "                num_vehicle=3)\n",
    "solution,fitness = ts.construct_solution()"
   ]
  },
  {
   "cell_type": "code",
   "execution_count": 160,
   "id": "b6bb0daa",
   "metadata": {},
   "outputs": [],
   "source": [
    "pso = PSO(random_state=100)\n",
    "pso.set_model(nodes=nodes,depot=depot,\n",
    "                num_vehicle=3)\n",
    "solution,fitness = pso.construct_solution()"
   ]
  },
  {
   "cell_type": "code",
   "execution_count": 179,
   "id": "195c12cb",
   "metadata": {},
   "outputs": [],
   "source": [
    "bso = BSO(random_state=100)\n",
    "bso.set_model(nodes=nodes,depot=depot,\n",
    "                num_vehicle=3)\n",
    "solution,fitness = bso.construct_solution()"
   ]
  },
  {
   "cell_type": "code",
   "execution_count": 189,
   "id": "99725d0d",
   "metadata": {},
   "outputs": [],
   "source": [
    "dka = DKA(random_state=100)\n",
    "dka.set_model(nodes=nodes,depot=depot,\n",
    "                num_vehicle=3)\n",
    "solution,fitness = dka.construct_solution()"
   ]
  },
  {
   "cell_type": "code",
   "execution_count": 190,
   "id": "ad01c287",
   "metadata": {},
   "outputs": [
    {
     "data": {
      "text/plain": [
       "[[{'id': 19.0,\n",
       "   'x': 42.0,\n",
       "   'y': 10.0,\n",
       "   'd': 10.0,\n",
       "   'S': 40.0,\n",
       "   'f': 1.0,\n",
       "   'a': 1.0,\n",
       "   'list': 1.0,\n",
       "   'O': 40.0,\n",
       "   'C': 148.0},\n",
       "  {'id': 59.0,\n",
       "   'x': 10.0,\n",
       "   'y': 20.0,\n",
       "   'd': 10.0,\n",
       "   'S': 19.0,\n",
       "   'f': 1.0,\n",
       "   'a': 1.0,\n",
       "   'list': 1.0,\n",
       "   'O': 42.0,\n",
       "   'C': 187.0},\n",
       "  {'id': 57.0,\n",
       "   'x': 30.0,\n",
       "   'y': 25.0,\n",
       "   'd': 10.0,\n",
       "   'S': 23.0,\n",
       "   'f': 1.0,\n",
       "   'a': 1.0,\n",
       "   'list': 1.0,\n",
       "   'O': 56.0,\n",
       "   'C': 165.0},\n",
       "  {'id': 23.0,\n",
       "   'x': 38.0,\n",
       "   'y': 5.0,\n",
       "   'd': 10.0,\n",
       "   'S': 30.0,\n",
       "   'f': 1.0,\n",
       "   'a': 1.0,\n",
       "   'list': 1.0,\n",
       "   'O': 45.0,\n",
       "   'C': 164.0},\n",
       "  {'id': 91.0,\n",
       "   'x': 49.0,\n",
       "   'y': 42.0,\n",
       "   'd': 10.0,\n",
       "   'S': 13.0,\n",
       "   'f': 1.0,\n",
       "   'a': 1.0,\n",
       "   'list': 1.0,\n",
       "   'O': 89.0,\n",
       "   'C': 217.0},\n",
       "  {'id': 80.0,\n",
       "   'x': 47.0,\n",
       "   'y': 47.0,\n",
       "   'd': 10.0,\n",
       "   'S': 13.0,\n",
       "   'f': 1.0,\n",
       "   'a': 1.0,\n",
       "   'list': 1.0,\n",
       "   'O': 93.0,\n",
       "   'C': 222.0}],\n",
       " [{'id': 51.0,\n",
       "   'x': 55.0,\n",
       "   'y': 20.0,\n",
       "   'd': 10.0,\n",
       "   'S': 19.0,\n",
       "   'f': 1.0,\n",
       "   'a': 1.0,\n",
       "   'list': 1.0,\n",
       "   'O': 45.0,\n",
       "   'C': 150.0},\n",
       "  {'id': 94.0,\n",
       "   'x': 57.0,\n",
       "   'y': 48.0,\n",
       "   'd': 10.0,\n",
       "   'S': 23.0,\n",
       "   'f': 1.0,\n",
       "   'a': 1.0,\n",
       "   'list': 1.0,\n",
       "   'O': 76.0,\n",
       "   'C': 143.0},\n",
       "  {'id': 45.0,\n",
       "   'x': 20.0,\n",
       "   'y': 82.0,\n",
       "   'd': 10.0,\n",
       "   'S': 10.0,\n",
       "   'f': 1.0,\n",
       "   'a': 1.0,\n",
       "   'list': 1.0,\n",
       "   'O': 37.0,\n",
       "   'C': 192.0},\n",
       "  {'id': 4.0,\n",
       "   'x': 20.0,\n",
       "   'y': 80.0,\n",
       "   'd': 10.0,\n",
       "   'S': 40.0,\n",
       "   'f': 1.0,\n",
       "   'a': 1.0,\n",
       "   'list': 1.0,\n",
       "   'O': 69.0,\n",
       "   'C': 193.0},\n",
       "  {'id': 5.0,\n",
       "   'x': 20.0,\n",
       "   'y': 85.0,\n",
       "   'd': 10.0,\n",
       "   'S': 20.0,\n",
       "   'f': 1.0,\n",
       "   'a': 1.0,\n",
       "   'list': 1.0,\n",
       "   'O': 40.0,\n",
       "   'C': 189.0},\n",
       "  {'id': 70.0,\n",
       "   'x': 35.0,\n",
       "   'y': 69.0,\n",
       "   'd': 10.0,\n",
       "   'S': 23.0,\n",
       "   'f': 1.0,\n",
       "   'a': 1.0,\n",
       "   'list': 1.0,\n",
       "   'O': 30.0,\n",
       "   'C': 210.0}],\n",
       " [{'id': 56.0,\n",
       "   'x': 50.0,\n",
       "   'y': 35.0,\n",
       "   'd': 10.0,\n",
       "   'S': 19.0,\n",
       "   'f': 1.0,\n",
       "   'a': 1.0,\n",
       "   'list': 1.0,\n",
       "   'O': 91.0,\n",
       "   'C': 198.0},\n",
       "  {'id': 65.0,\n",
       "   'x': 35.0,\n",
       "   'y': 40.0,\n",
       "   'd': 10.0,\n",
       "   'S': 16.0,\n",
       "   'f': 1.0,\n",
       "   'a': 1.0,\n",
       "   'list': 1.0,\n",
       "   'O': 11.0,\n",
       "   'C': 150.0},\n",
       "  {'id': 15.0,\n",
       "   'x': 2.0,\n",
       "   'y': 40.0,\n",
       "   'd': 10.0,\n",
       "   'S': 20.0,\n",
       "   'f': 1.0,\n",
       "   'a': 1.0,\n",
       "   'list': 1.0,\n",
       "   'O': 39.0,\n",
       "   'C': 163.0},\n",
       "  {'id': 17.0,\n",
       "   'x': 0.0,\n",
       "   'y': 45.0,\n",
       "   'd': 10.0,\n",
       "   'S': 20.0,\n",
       "   'f': 1.0,\n",
       "   'a': 1.0,\n",
       "   'list': 1.0,\n",
       "   'O': 51.0,\n",
       "   'C': 189.0},\n",
       "  {'id': 47.0,\n",
       "   'x': 2.0,\n",
       "   'y': 45.0,\n",
       "   'd': 10.0,\n",
       "   'S': 10.0,\n",
       "   'f': 1.0,\n",
       "   'a': 1.0,\n",
       "   'list': 1.0,\n",
       "   'O': 38.0,\n",
       "   'C': 191.0}]]"
      ]
     },
     "execution_count": 190,
     "metadata": {},
     "output_type": "execute_result"
    }
   ],
   "source": [
    "solution"
   ]
  },
  {
   "cell_type": "code",
   "execution_count": 191,
   "id": "0547ef38",
   "metadata": {},
   "outputs": [
    {
     "data": {
      "text/plain": [
       "358.0"
      ]
     },
     "execution_count": 191,
     "metadata": {},
     "output_type": "execute_result"
    }
   ],
   "source": [
    "fitness"
   ]
  },
  {
   "cell_type": "code",
   "execution_count": 113,
   "id": "8b19d6a8",
   "metadata": {},
   "outputs": [
    {
     "data": {
      "text/plain": [
       "{'id': 0.0,\n",
       " 'x': 40.0,\n",
       " 'y': 50.0,\n",
       " 'd': 0.0,\n",
       " 'S': 0.0,\n",
       " 'f': 0.0,\n",
       " 'a': 0.0,\n",
       " 'list': 0.0,\n",
       " 'O': 0,\n",
       " 'C': 240.0}"
      ]
     },
     "execution_count": 113,
     "metadata": {},
     "output_type": "execute_result"
    }
   ],
   "source": [
    "depot"
   ]
  },
  {
   "cell_type": "code",
   "execution_count": 136,
   "id": "0dd6d65e",
   "metadata": {},
   "outputs": [
    {
     "data": {
      "text/plain": [
       "array([{'a': 1, 'b': 2}, {'a': 1, 'b': 2}], dtype=object)"
      ]
     },
     "execution_count": 136,
     "metadata": {},
     "output_type": "execute_result"
    }
   ],
   "source": [
    "np.array([{\"a\":1,\"b\":2},{\"a\":1,\"b\":2}])"
   ]
  },
  {
   "cell_type": "code",
   "execution_count": 141,
   "id": "5a1d971a",
   "metadata": {},
   "outputs": [
    {
     "data": {
      "text/plain": [
       "[3, 4, 5, 2, 1]"
      ]
     },
     "execution_count": 141,
     "metadata": {},
     "output_type": "execute_result"
    }
   ],
   "source": [
    "a = [1,2,3,4,5]\n",
    "random.sample(a,len(a))"
   ]
  },
  {
   "cell_type": "code",
   "execution_count": 142,
   "id": "f097215d",
   "metadata": {},
   "outputs": [
    {
     "data": {
      "text/plain": [
       "[1, 2, 3, 4, 5, 6]"
      ]
     },
     "execution_count": 142,
     "metadata": {},
     "output_type": "execute_result"
    }
   ],
   "source": [
    "sum([[1,2,3],[4,5,6]],[])"
   ]
  },
  {
   "cell_type": "code",
   "execution_count": 174,
   "id": "8171192a",
   "metadata": {},
   "outputs": [],
   "source": [
    "a = [{'id': 58.0, 'x': 15.0, 'y': 10.0, 'd': 10.0, 'S': 20.0, 'f': 1.0, 'a': 1.0, 'list': 1.0, 'O': 51.0, 'C': 182.0}, {'id': 77.0, 'x': 23.0, 'y': 3.0, 'd': 10.0, 'S': 7.0, 'f': 1.0, 'a': 1.0, 'list': 1.0, 'O': 49.0, 'C': 180.0}, {'id': 28.0, 'x': 92.0, 'y': 30.0, 'd': 10.0, 'S': 10.0, 'f': 1.0, 'a': 1.0, 'list': 1.0, 'O': 55.0, 'C': 174.0}, {'id': 32.0, 'x': 87.0, 'y': 30.0, 'd': 10.0, 'S': 10.0, 'f': 1.0, 'a': 1.0, 'list': 1.0, 'O': 61.0, 'C': 178.0}]"
   ]
  },
  {
   "cell_type": "code",
   "execution_count": 175,
   "id": "ee4eecc0",
   "metadata": {},
   "outputs": [
    {
     "ename": "TypeError",
     "evalue": "can only concatenate list (not \"dict\") to list",
     "output_type": "error",
     "traceback": [
      "\u001b[1;31m---------------------------------------------------------------------------\u001b[0m",
      "\u001b[1;31mTypeError\u001b[0m                                 Traceback (most recent call last)",
      "Cell \u001b[1;32mIn[175], line 1\u001b[0m\n\u001b[1;32m----> 1\u001b[0m \u001b[38;5;28msum\u001b[39m(a,[])\n",
      "\u001b[1;31mTypeError\u001b[0m: can only concatenate list (not \"dict\") to list"
     ]
    }
   ],
   "source": [
    "sum(a,[])"
   ]
  },
  {
   "cell_type": "code",
   "execution_count": null,
   "id": "4fb1a515",
   "metadata": {},
   "outputs": [],
   "source": []
  }
 ],
 "metadata": {
  "kernelspec": {
   "display_name": "Python 3 (ipykernel)",
   "language": "python",
   "name": "python3"
  },
  "language_info": {
   "codemirror_mode": {
    "name": "ipython",
    "version": 3
   },
   "file_extension": ".py",
   "mimetype": "text/x-python",
   "name": "python",
   "nbconvert_exporter": "python",
   "pygments_lexer": "ipython3",
   "version": "3.11.3"
  }
 },
 "nbformat": 4,
 "nbformat_minor": 5
}
