{
 "cells": [
  {
   "cell_type": "code",
   "execution_count": 1,
   "id": "408bd820",
   "metadata": {},
   "outputs": [],
   "source": [
    "from optimization.acs import ACS_VRP,ACS_TSP\n",
    "from optimization.bso import BSO_VRP,BSO_TSP\n",
    "from optimization.hybrid_acs_bso import ACSBSO_VRP,ACSBSO_TSP\n",
    "\n",
    "from optimization.koneksi import ConDB\n",
    "\n",
    "import json\n",
    "import time"
   ]
  },
  {
   "cell_type": "code",
   "execution_count": 15,
   "id": "c96be8d1",
   "metadata": {},
   "outputs": [
    {
     "name": "stdout",
     "output_type": "stream",
     "text": [
      "{\"idWisata\":[{\"id\":\"1\"},{\"id\":\"2\"},{\"id\":\"3\"},{\"id\":\"4\"},{\"id\":\"5\"},{\"id\":\"6\"},{\"id\":\"7\"},{\"id\":\"8\"},{\"id\":\"9\"},{\"id\":\"10\"},{\"id\":\"11\"},{\"id\":\"12\"},{\"id\":\"13\"},{\"id\":\"14\"},{\"id\":\"15\"},{\"id\":\"16\"},{\"id\":\"17\"},{\"id\":\"18\"},{\"id\":\"19\"},{\"id\":\"20\"},{\"id\":\"21\"},{\"id\":\"22\"},{\"id\":\"23\"},{\"id\":\"24\"},{\"id\":\"25\"},{\"id\":\"26\"},{\"id\":\"27\"},{\"id\":\"28\"},{\"id\":\"29\"},{\"id\":\"69\"}],\"idhotel\":[\"169\"],\"algo_url\":\"ant-colony-optimization-aco-tsp\",\"degree\":[1,1,1],\"travel_days\":5}\n"
     ]
    }
   ],
   "source": [
    "def get_var(strs):\n",
    "    t = str(strs)\n",
    "    print(t)\n",
    "    tourid = []\n",
    "    t_ = json.loads(t)\n",
    "    for t in t_['idWisata']:\n",
    "        tourid.append(t['id'])\n",
    "    idhotel = int(t_['idhotel'][0])\n",
    "    dwaktu = float(t_['degree'][0])\n",
    "    dtarif = float(t_['degree'][2])\n",
    "    drating = float(t_['degree'][1])\n",
    "    travel_days = int(t_['travel_days'])\n",
    "    return tourid,idhotel,dwaktu,dtarif,drating,travel_days\n",
    "\n",
    "choice = '{\"idWisata\":[{\"id\":\"1\"},{\"id\":\"2\"},{\"id\":\"3\"},{\"id\":\"4\"},{\"id\":\"5\"},{\"id\":\"6\"},{\"id\":\"7\"},{\"id\":\"8\"},{\"id\":\"9\"},{\"id\":\"10\"},{\"id\":\"11\"},{\"id\":\"12\"},{\"id\":\"13\"},{\"id\":\"14\"},{\"id\":\"15\"},{\"id\":\"16\"},{\"id\":\"17\"},{\"id\":\"18\"},{\"id\":\"19\"},{\"id\":\"20\"},{\"id\":\"21\"},{\"id\":\"22\"},{\"id\":\"23\"},{\"id\":\"24\"},{\"id\":\"25\"},{\"id\":\"26\"},{\"id\":\"27\"},{\"id\":\"28\"},{\"id\":\"29\"},{\"id\":\"69\"}],\"idhotel\":[\"169\"],\"algo_url\":\"ant-colony-optimization-aco-tsp\",\"degree\":[1,1,1],\"travel_days\":5}'\n",
    "tourid,idhotel,dwaktu,dtarif,drating,travel_days = get_var(choice)"
   ]
  },
  {
   "cell_type": "code",
   "execution_count": 22,
   "id": "d2b03658",
   "metadata": {},
   "outputs": [],
   "source": [
    "db = ConDB()\n",
    "rute_perhari = []\n",
    "waktuDatang = []\n",
    "\n",
    "start = time.time()\n",
    "\n",
    "hotel = db.HotelbyID(idhotel)\n",
    "tur = db.WisatabyID(tourid)\n",
    "timematrix = db.TimeMatrixbyID(hotel._id,tourid)"
   ]
  },
  {
   "cell_type": "code",
   "execution_count": 23,
   "id": "565f6ffc",
   "metadata": {},
   "outputs": [
    {
     "data": {
      "text/plain": [
       "0.7035172143974963"
      ]
     },
     "execution_count": 23,
     "metadata": {},
     "output_type": "execute_result"
    }
   ],
   "source": [
    "bso_model = BSO_VRP(random_state = 100)\n",
    "bso_model.set_model(tur,hotel,timematrix,init_solution=[],travel_days=travel_days,degree_waktu = dwaktu,degree_tarif = dtarif,degree_rating = drating)\n",
    "\n",
    "sol_node,sol,fitness = bso_model.construct_solution()\n",
    "fitness"
   ]
  },
  {
   "cell_type": "code",
   "execution_count": null,
   "id": "9ea4a59e",
   "metadata": {},
   "outputs": [],
   "source": []
  }
 ],
 "metadata": {
  "kernelspec": {
   "display_name": "Python 3 (ipykernel)",
   "language": "python",
   "name": "python3"
  },
  "language_info": {
   "codemirror_mode": {
    "name": "ipython",
    "version": 3
   },
   "file_extension": ".py",
   "mimetype": "text/x-python",
   "name": "python",
   "nbconvert_exporter": "python",
   "pygments_lexer": "ipython3",
   "version": "3.11.3"
  }
 },
 "nbformat": 4,
 "nbformat_minor": 5
}
