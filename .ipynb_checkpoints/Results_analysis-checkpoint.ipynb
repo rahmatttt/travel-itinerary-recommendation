{
 "cells": [
  {
   "cell_type": "markdown",
   "id": "33427a00",
   "metadata": {},
   "source": [
    "# Results Analysis"
   ]
  },
  {
   "cell_type": "code",
   "execution_count": 1,
   "id": "d8e8f566",
   "metadata": {},
   "outputs": [],
   "source": [
    "from optimization.acs import ACS_VRP,ACS_TSP\n",
    "from optimization.bso import BSO_VRP,BSO_TSP\n",
    "from optimization.hybrid_acs_bso import ACSBSO_VRP,ACSBSO_TSP\n",
    "\n",
    "from optimization.aco import ACO_VRP,ACO_TSP\n",
    "from optimization.haco import HACO_VRP,HACO_TSP\n",
    "\n",
    "from optimization.koneksi import ConDB\n",
    "\n",
    "import sql_connection\n",
    "import json\n",
    "import time\n",
    "import random\n",
    "import datetime\n",
    "import copy\n",
    "\n",
    "import matplotlib.pyplot as plt\n",
    "from matplotlib.cm import get_cmap\n",
    "from matplotlib.patches import FancyArrowPatch\n",
    "\n",
    "import warnings\n",
    "warnings.filterwarnings('ignore')"
   ]
  },
  {
   "cell_type": "markdown",
   "id": "4c6924fb",
   "metadata": {},
   "source": [
    "## Generate Data"
   ]
  },
  {
   "cell_type": "code",
   "execution_count": 2,
   "id": "b67b7be0",
   "metadata": {},
   "outputs": [],
   "source": [
    "def generate_data(n = 30, random_state = None):\n",
    "    random.seed(random_state)\n",
    "    query = \"\"\"SELECT \n",
    "                    p.post_id,\n",
    "                    p.post_type,\n",
    "                    CASE\n",
    "                        WHEN pj.pj_jam_buka = pj.pj_jam_tutup THEN \"tutup\"\n",
    "                        ELSE \"buka\"\n",
    "                    END AS is_operate\n",
    "                FROM \n",
    "                    posts p\n",
    "                LEFT JOIN\n",
    "                    posts_jadwal pj\n",
    "                    ON p.post_id = pj.pj_id_tempat AND pj.pj_hari = \"minggu\"\n",
    "                \"\"\"\n",
    "\n",
    "    df_location = sql_connection.read_from_sql(query)\n",
    "    \n",
    "    tourid = df_location[(df_location['post_type']==\"location\")&\n",
    "                         (df_location['is_operate'] != \"tutup\")]['post_id'].values.tolist()\n",
    "    tourid = random.sample(tourid,n)\n",
    "    idhotel = df_location[df_location['post_type']==\"hotel\"]['post_id'].values.tolist()\n",
    "    idhotel = idhotel[random.randint(0,len(idhotel)-1)]\n",
    "    \n",
    "    db = ConDB()\n",
    "\n",
    "    hotel = db.HotelbyID(idhotel)\n",
    "    tur = db.WisatabyID(tourid)\n",
    "    timematrix = db.TimeMatrixbyID(hotel._id,tourid)\n",
    "    \n",
    "    return hotel,tur,timematrix"
   ]
  },
  {
   "cell_type": "markdown",
   "id": "3385922a",
   "metadata": {},
   "source": [
    "## Analisis\n",
    "scenario analisis:\n",
    "1. semua degree 1, 30 pois, 3 hari wisata, all method cek fitness, travel duration, total tarif, rata-rata rating, poi included, running time\n",
    "2. semua degree 1, 0, 5-10-15-20-25-30 pois, 3 hari wisata, all method, cek running time\n",
    "3. degree travel duration 1 sisanya 0, 5-10-15-20-25-30 pois, 365 hari wisata, all method, cek travel duration and travel days\n",
    "4. degree tarif 1 sisanya 0, 30 pois, 3 hari wisata, all method, cek total tarif\n",
    "5. degree rating 1 sisanya 0, 30 pois, 3 hari wisata, all method, cek rata rata rating\n",
    "\n",
    "story:\n",
    "1. overview: jelasin dulu secara keseluruhan dengan scenario analisis no. 1 terus breakdown best model dengan beberapa random berbeda dan running time nya"
   ]
  },
  {
   "cell_type": "code",
   "execution_count": 3,
   "id": "c1931a61",
   "metadata": {},
   "outputs": [],
   "source": [
    "def find_node(node_id,tour):\n",
    "    for node in tour:\n",
    "        if node._id == node_id:\n",
    "            return node\n",
    "    return False\n",
    "\n",
    "def time_to_second(time):\n",
    "    return (time.hour*3600)+(time.minute*60)+time.second\n",
    "\n",
    "def diff_second_between_time(time_a,time_b):\n",
    "    #input: time_a and time_b, datetime.time()\n",
    "    #output: time_b - time_a, seconds (int)\n",
    "    return time_to_second(time_b) - time_to_second(time_a)\n",
    "\n",
    "def get_attribute_analysis(solution):\n",
    "    days_needed = len(solution)\n",
    "    poi_included = len(sum([sol[\"index\"] for sol in solution],[]))\n",
    "    avg_rating = sum(sum([sol[\"rating\"] for sol in solution],[]))/poi_included\n",
    "    total_tarif = sum(sum([sol[\"tarif\"] for sol in solution],[]))\n",
    "    total_duration = sum([diff_second_between_time(j[0],j[-1]) for j in [i['waktu'] for i in solution]])\n",
    "    return days_needed,poi_included,avg_rating,total_tarif,total_duration\n",
    "\n",
    "def get_analysis(model,hotel,tur,timematrix,travel_days,dwaktu,dtarif,drating):\n",
    "    start = time.time()\n",
    "    model.set_model(tour=tur,hotel=hotel,timematrix=timematrix,\n",
    "                    travel_days=travel_days,\n",
    "                    degree_waktu = dwaktu,degree_tarif = dtarif,degree_rating = drating)\n",
    "    solution,fitness = model.construct_solution()[-2:]\n",
    "    end = time.time()\n",
    "    run_time = end-start\n",
    "    days_needed,poi_included,avg_rating,total_tarif,total_duration = get_attribute_analysis(solution)\n",
    "    results = {\"solution\":[sol[\"index\"] for sol in solution],\n",
    "              \"fitness\":fitness,\n",
    "              \"days_needed\":days_needed,\n",
    "              \"poi_included\":poi_included,\n",
    "              \"avg_rating\":avg_rating,\n",
    "              \"total_tarif\":total_tarif,\n",
    "              \"total_duration\":total_duration,\n",
    "              \"run_time\":run_time}\n",
    "    \n",
    "    return results"
   ]
  },
  {
   "cell_type": "code",
   "execution_count": 4,
   "id": "7abb258d",
   "metadata": {},
   "outputs": [],
   "source": [
    "def get_detail_node_on_solution(solution):\n",
    "    db = ConDB()\n",
    "    node_solution = []\n",
    "    for i in solution:\n",
    "        nodes = db.WisatabyID(i)\n",
    "        node_solution.append(nodes)\n",
    "    return node_solution\n",
    "\n",
    "def visualize_solution(solution_node,hotel):\n",
    "    # Sample VRP data\n",
    "    vrp_data = [[hotel]+sol+[hotel] for sol in solution_node]\n",
    "    \n",
    "    # Generate random node coordinates\n",
    "    node_coords = {node._id: (float(node.long), float(node.lat)) for node in set(node for route in vrp_data for node in route)}  \n",
    "\n",
    "    # Number of routes (you can calculate this)\n",
    "    num_routes = len(vrp_data)\n",
    "\n",
    "    # Create the plot\n",
    "    fig, ax = plt.subplots(figsize=(12,9))\n",
    "\n",
    "    # Define the colors for routes using a colormap\n",
    "    cmap = plt.get_cmap('tab20', num_routes)\n",
    "\n",
    "    for i, route in enumerate(vrp_data):\n",
    "        x = [node_coords[node._id][0] for node in route]\n",
    "        y = [node_coords[node._id][1] for node in route]\n",
    "        color = cmap(i)  # Get the color for the route\n",
    "        # Plot the nodes (scatter plot)\n",
    "        ax.scatter(x, y, c=color, label=f'Route {i + 1}', s=100)\n",
    "\n",
    "        for j in range(len(x) - 1):\n",
    "            # Make the arrow heads larger by increasing mutation_scale\n",
    "            arrow = FancyArrowPatch(\n",
    "                (x[j], y[j]), (x[j + 1], y[j + 1]),\n",
    "                arrowstyle='->', mutation_scale=15, color=color\n",
    "            )\n",
    "            ax.add_patch(arrow)\n",
    "\n",
    "    # Set node 159 (start and end point) to black\n",
    "    start_x, start_y = node_coords[hotel._id]\n",
    "    ax.scatter(start_x, start_y, c='k', label='Hotel', s=100)\n",
    "\n",
    "    # Add labels for nodes\n",
    "    for node, (x, y) in node_coords.items():\n",
    "        ax.annotate(str(node), (x, y), textcoords=\"offset points\", xytext=(0, 10), ha='center')\n",
    "\n",
    "    # Add legend\n",
    "    ax.legend()\n",
    "\n",
    "    plt.show()\n",
    "\n"
   ]
  },
  {
   "cell_type": "markdown",
   "id": "b7b11f7f",
   "metadata": {},
   "source": [
    "### 1. Overview"
   ]
  },
  {
   "cell_type": "code",
   "execution_count": 5,
   "id": "5492625e",
   "metadata": {},
   "outputs": [],
   "source": [
    "# setting\n",
    "hotel,tur,timematrix = generate_data(n=30,random_state=30) #random state 50 blacklist\n",
    "travel_days = 3\n",
    "dwaktu,dtarif,drating = 1,1,1"
   ]
  },
  {
   "cell_type": "code",
   "execution_count": 6,
   "id": "556d5646",
   "metadata": {},
   "outputs": [
    {
     "data": {
      "text/plain": [
       "[MALIOBORO JOGJAKARTA(00:00:00-00:00:00),\n",
       " Bringin Kembar Yogyakarta(00:00:00-00:00:00),\n",
       " Titik Nol Km Yogyakarta(00:00:00-00:00:00),\n",
       " Tarunasura Wijilan Gate(00:00:00-00:00:00),\n",
       " Yogyakarta Northern Square(00:00:00-00:00:00),\n",
       " Pasar Ngasem(00:00:00-00:00:00),\n",
       " Situs Gua Seluman(00:00:00-00:00:00),\n",
       " Pakualaman Palace(00:00:00-00:00:00),\n",
       " Bentara Budaya Yogyakarta (BBY)(00:00:00-00:00:00),\n",
       " The Lost World Castle(00:00:00-00:00:00),\n",
       " Grojogan Watu Purbo Gate(00:00:00-00:00:00),\n",
       " House of Chocolate Monggo & Gelato Tirtodipuran(00:00:00-00:00:00),\n",
       " Sermo Reservoir Dam(00:00:00-00:00:00),\n",
       " Jogja T-Shirt Jethe(00:00:00-00:00:00),\n",
       " ALUN ALUN KIDUL YOGYAKARTA(00:00:00-00:00:00),\n",
       " Paintball Jupiter Jogja(00:00:00-00:00:00),\n",
       " Desa Wisata Pentingsari(00:00:00-00:00:00),\n",
       " GOLDEN BIOSKOP VIRTUAL REALITY(00:00:00-00:00:00),\n",
       " Bukit Pangol(00:00:00-00:00:00),\n",
       " Bukit Rhema Gereja Ayam(00:00:00-00:00:00),\n",
       " The Palace of Yogyakarta(00:00:00-00:00:00),\n",
       " Hutan Pinus Pengger(00:00:00-00:00:00),\n",
       " Gembira Loka Zoo(00:00:00-00:00:00),\n",
       " Makam Panembahan Senopati(00:00:00-00:00:00),\n",
       " Tourism Village Mlangi(00:00:00-00:00:00),\n",
       " Klenteng Poncowinatan(00:00:00-00:00:00),\n",
       " Mandira Baruga(00:00:00-00:00:00),\n",
       " Jogokariyan Mosque(00:00:00-00:00:00),\n",
       " Seribu Batu Songgo Langit(00:00:00-00:00:00),\n",
       " Kampung Wisata Basen(00:00:00-00:00:00)]"
      ]
     },
     "execution_count": 6,
     "metadata": {},
     "output_type": "execute_result"
    }
   ],
   "source": [
    "tur"
   ]
  },
  {
   "cell_type": "code",
   "execution_count": 7,
   "id": "28969ec5",
   "metadata": {},
   "outputs": [
    {
     "name": "stdout",
     "output_type": "stream",
     "text": [
      "ACS - VRP\n"
     ]
    },
    {
     "data": {
      "text/plain": [
       "{'solution': [[46, 73, 74, 93, 7, 9, 88],\n",
       "  [16, 39, 69, 76, 10, 35, 40, 1],\n",
       "  [54, 18, 95, 34, 86, 22, 4]],\n",
       " 'fitness': 0.6752524041214517,\n",
       " 'days_needed': 3,\n",
       " 'poi_included': 22,\n",
       " 'avg_rating': 4.5636363636363635,\n",
       " 'total_tarif': 26500,\n",
       " 'total_duration': 127320,\n",
       " 'run_time': 5.073505640029907}"
      ]
     },
     "execution_count": 7,
     "metadata": {},
     "output_type": "execute_result"
    }
   ],
   "source": [
    "print(\"ACS - VRP\")\n",
    "acs_vrp = ACS_VRP(random_state=100)\n",
    "results_acs_vrp = get_analysis(acs_vrp,hotel,tur,timematrix,travel_days,dwaktu,dtarif,drating)\n",
    "results_acs_vrp"
   ]
  },
  {
   "cell_type": "code",
   "execution_count": 8,
   "id": "8d18d7e5",
   "metadata": {},
   "outputs": [
    {
     "name": "stdout",
     "output_type": "stream",
     "text": [
      "ACS - TSP\n"
     ]
    },
    {
     "data": {
      "text/plain": [
       "{'solution': [[53, 9, 95, 16, 73, 46],\n",
       "  [72, 47, 18, 76, 11, 10, 1, 7],\n",
       "  [86, 4, 35, 22, 40, 74, 51]],\n",
       " 'fitness': 0.562661427343967,\n",
       " 'days_needed': 3,\n",
       " 'poi_included': 21,\n",
       " 'avg_rating': 4.6,\n",
       " 'total_tarif': 217500,\n",
       " 'total_duration': 125040,\n",
       " 'run_time': 18.733584880828857}"
      ]
     },
     "execution_count": 8,
     "metadata": {},
     "output_type": "execute_result"
    }
   ],
   "source": [
    "print(\"ACS - TSP\")\n",
    "acs_tsp = ACS_TSP(random_state=100)\n",
    "results_acs_tsp = get_analysis(acs_tsp,hotel,tur,timematrix,travel_days,dwaktu,dtarif,drating)\n",
    "results_acs_tsp"
   ]
  },
  {
   "cell_type": "code",
   "execution_count": 9,
   "id": "86065b44",
   "metadata": {},
   "outputs": [
    {
     "name": "stdout",
     "output_type": "stream",
     "text": [
      "BSO - VRP\n"
     ]
    },
    {
     "data": {
      "text/plain": [
       "{'solution': [[69, 18, 4, 88, 71, 73, 22],\n",
       "  [76, 40, 64, 34, 54, 95, 46],\n",
       "  [29, 47, 16, 9, 86, 10, 7, 1]],\n",
       " 'fitness': 0.5938038556094113,\n",
       " 'days_needed': 3,\n",
       " 'poi_included': 22,\n",
       " 'avg_rating': 4.536363636363636,\n",
       " 'total_tarif': 168000,\n",
       " 'total_duration': 124800,\n",
       " 'run_time': 1.169567584991455}"
      ]
     },
     "execution_count": 9,
     "metadata": {},
     "output_type": "execute_result"
    }
   ],
   "source": [
    "print(\"BSO - VRP\")\n",
    "bso_vrp = BSO_VRP(random_state=100)\n",
    "results_bso_vrp = get_analysis(bso_vrp,hotel,tur,timematrix,travel_days,dwaktu,dtarif,drating)\n",
    "results_bso_vrp"
   ]
  },
  {
   "cell_type": "code",
   "execution_count": 10,
   "id": "40c56478",
   "metadata": {},
   "outputs": [
    {
     "name": "stdout",
     "output_type": "stream",
     "text": [
      "BSO - TSP\n"
     ]
    },
    {
     "data": {
      "text/plain": [
       "{'solution': [[69, 4, 86, 18, 95, 73, 16, 71],\n",
       "  [47, 54, 29, 34, 1],\n",
       "  [76, 22, 72, 9, 7, 10, 11, 35, 88]],\n",
       " 'fitness': 0.5631434042148328,\n",
       " 'days_needed': 3,\n",
       " 'poi_included': 22,\n",
       " 'avg_rating': 4.518181818181818,\n",
       " 'total_tarif': 228000,\n",
       " 'total_duration': 118260,\n",
       " 'run_time': 42.6983482837677}"
      ]
     },
     "execution_count": 10,
     "metadata": {},
     "output_type": "execute_result"
    }
   ],
   "source": [
    "print(\"BSO - TSP\")\n",
    "bso_tsp = BSO_TSP(random_state=100)\n",
    "results_bso_tsp = get_analysis(bso_tsp,hotel,tur,timematrix,travel_days,dwaktu,dtarif,drating)\n",
    "results_bso_tsp"
   ]
  },
  {
   "cell_type": "code",
   "execution_count": 11,
   "id": "093a4a5d",
   "metadata": {},
   "outputs": [
    {
     "name": "stdout",
     "output_type": "stream",
     "text": [
      "Hybrid ACS-BSO - VRP\n"
     ]
    },
    {
     "data": {
      "text/plain": [
       "{'solution': [[34, 74, 40, 93, 73],\n",
       "  [16, 54, 71, 95, 86, 88, 35, 10, 9],\n",
       "  [69, 11, 4, 18, 22, 76, 1, 7, 46]],\n",
       " 'fitness': 0.692216836980467,\n",
       " 'days_needed': 3,\n",
       " 'poi_included': 23,\n",
       " 'avg_rating': 4.556521739130434,\n",
       " 'total_tarif': 25500,\n",
       " 'total_duration': 120300,\n",
       " 'run_time': 87.73428058624268}"
      ]
     },
     "execution_count": 11,
     "metadata": {},
     "output_type": "execute_result"
    }
   ],
   "source": [
    "print(\"Hybrid ACS-BSO - VRP\")\n",
    "acsbso_vrp = ACSBSO_VRP(random_state=100)\n",
    "results_acsbso_vrp = get_analysis(acsbso_vrp,hotel,tur,timematrix,travel_days,dwaktu,dtarif,drating)\n",
    "results_acsbso_vrp"
   ]
  },
  {
   "cell_type": "code",
   "execution_count": 12,
   "id": "0fbe81a8",
   "metadata": {},
   "outputs": [
    {
     "name": "stdout",
     "output_type": "stream",
     "text": [
      "Hybrid ACS-BSO - TSP\n"
     ]
    },
    {
     "data": {
      "text/plain": [
       "{'solution': [[46, 1, 53, 7, 11, 10, 9, 4],\n",
       "  [69, 86, 35, 88, 93, 71, 73],\n",
       "  [54, 47, 16, 95, 72, 18, 22]],\n",
       " 'fitness': 0.570130222511175,\n",
       " 'days_needed': 3,\n",
       " 'poi_included': 22,\n",
       " 'avg_rating': 4.577272727272727,\n",
       " 'total_tarif': 225500,\n",
       " 'total_duration': 120600,\n",
       " 'run_time': 173.12535166740417}"
      ]
     },
     "execution_count": 12,
     "metadata": {},
     "output_type": "execute_result"
    }
   ],
   "source": [
    "print(\"Hybrid ACS-BSO - TSP\")\n",
    "acsbso_tsp = ACSBSO_TSP(random_state=100)\n",
    "results_acsbso_tsp = get_analysis(acsbso_tsp,hotel,tur,timematrix,travel_days,dwaktu,dtarif,drating)\n",
    "results_acsbso_tsp"
   ]
  },
  {
   "cell_type": "code",
   "execution_count": 13,
   "id": "b81ac320",
   "metadata": {},
   "outputs": [
    {
     "name": "stdout",
     "output_type": "stream",
     "text": [
      "ACO - VRP\n"
     ]
    },
    {
     "data": {
      "text/plain": [
       "{'solution': [[46, 95, 18, 93, 73, 88, 10, 9],\n",
       "  [1, 7, 11, 76, 53, 22, 71],\n",
       "  [74, 86, 4, 35, 51, 40]],\n",
       " 'fitness': 0.6640636406509423,\n",
       " 'days_needed': 3,\n",
       " 'poi_included': 21,\n",
       " 'avg_rating': 4.623809523809523,\n",
       " 'total_tarif': 50000,\n",
       " 'total_duration': 121080,\n",
       " 'run_time': 6.541295289993286}"
      ]
     },
     "execution_count": 13,
     "metadata": {},
     "output_type": "execute_result"
    }
   ],
   "source": [
    "print(\"ACO - VRP\")\n",
    "aco_vrp = ACO_VRP(random_state=100)\n",
    "results_aco_vrp = get_analysis(aco_vrp,hotel,tur,timematrix,travel_days,dwaktu,dtarif,drating)\n",
    "results_aco_vrp"
   ]
  },
  {
   "cell_type": "code",
   "execution_count": 14,
   "id": "5126f590",
   "metadata": {},
   "outputs": [
    {
     "name": "stdout",
     "output_type": "stream",
     "text": [
      "ACO - TSP\n"
     ]
    },
    {
     "data": {
      "text/plain": [
       "{'solution': [[46, 9, 74, 7, 73, 10, 40, 4],\n",
       "  [11, 22, 16, 18, 34, 64],\n",
       "  [29, 51, 39, 93]],\n",
       " 'fitness': 0.617375606462908,\n",
       " 'days_needed': 3,\n",
       " 'poi_included': 18,\n",
       " 'avg_rating': 4.594444444444444,\n",
       " 'total_tarif': 71000,\n",
       " 'total_duration': 118380,\n",
       " 'run_time': 11.043853282928467}"
      ]
     },
     "execution_count": 14,
     "metadata": {},
     "output_type": "execute_result"
    }
   ],
   "source": [
    "print(\"ACO - TSP\")\n",
    "aco_tsp = ACO_TSP(random_state=100)\n",
    "results_aco_tsp = get_analysis(aco_tsp,hotel,tur,timematrix,travel_days,dwaktu,dtarif,drating)\n",
    "results_aco_tsp"
   ]
  },
  {
   "cell_type": "code",
   "execution_count": 15,
   "id": "bfe26d2e",
   "metadata": {},
   "outputs": [
    {
     "name": "stdout",
     "output_type": "stream",
     "text": [
      "HACO - VRP\n"
     ]
    },
    {
     "data": {
      "text/plain": [
       "{'solution': [[69, 76, 95, 18, 35, 9, 7, 86, 4, 73],\n",
       "  [93, 11, 16, 88, 10, 74, 40],\n",
       "  [51, 34, 1, 22, 46]],\n",
       " 'fitness': 0.6851428406983961,\n",
       " 'days_needed': 3,\n",
       " 'poi_included': 22,\n",
       " 'avg_rating': 4.595454545454545,\n",
       " 'total_tarif': 28000,\n",
       " 'total_duration': 119760,\n",
       " 'run_time': 15.251123666763306}"
      ]
     },
     "execution_count": 15,
     "metadata": {},
     "output_type": "execute_result"
    }
   ],
   "source": [
    "print(\"HACO - VRP\")\n",
    "haco_vrp = HACO_VRP(random_state=100)\n",
    "results_haco_vrp = get_analysis(haco_vrp,hotel,tur,timematrix,travel_days,dwaktu,dtarif,drating)\n",
    "results_haco_vrp"
   ]
  },
  {
   "cell_type": "code",
   "execution_count": 16,
   "id": "2121225e",
   "metadata": {},
   "outputs": [
    {
     "name": "stdout",
     "output_type": "stream",
     "text": [
      "HACO - TSP\n"
     ]
    },
    {
     "data": {
      "text/plain": [
       "{'solution': [[53, 1, 7, 9, 10, 35],\n",
       "  [88, 4, 86, 93, 71, 73],\n",
       "  [54, 47, 16, 95, 72, 18, 46, 22]],\n",
       " 'fitness': 0.5499378597592884,\n",
       " 'days_needed': 3,\n",
       " 'poi_included': 20,\n",
       " 'avg_rating': 4.58,\n",
       " 'total_tarif': 217500,\n",
       " 'total_duration': 123840,\n",
       " 'run_time': 22.08246374130249}"
      ]
     },
     "execution_count": 16,
     "metadata": {},
     "output_type": "execute_result"
    }
   ],
   "source": [
    "print(\"HACO - TSP\")\n",
    "haco_tsp = HACO_TSP(random_state=100)\n",
    "results_haco_tsp = get_analysis(haco_tsp,hotel,tur,timematrix,travel_days,dwaktu,dtarif,drating)\n",
    "results_haco_tsp"
   ]
  },
  {
   "cell_type": "markdown",
   "id": "fe9d02d6",
   "metadata": {},
   "source": [
    "### 2. Overview: Variasi hasil berdasarkan node yang berbeda"
   ]
  },
  {
   "cell_type": "code",
   "execution_count": 17,
   "id": "be32f1bb",
   "metadata": {},
   "outputs": [
    {
     "name": "stdout",
     "output_type": "stream",
     "text": [
      "random state =  10\n",
      "random state =  30\n",
      "random state =  60\n",
      "random state =  80\n",
      "random state =  100\n"
     ]
    }
   ],
   "source": [
    "random_ls = [10,30,60,80,100]\n",
    "random_node_analysis ={\n",
    "    \"acs_vrp\": [],\n",
    "    \"acs_tsp\": [],\n",
    "    \"bso_vrp\": [],\n",
    "    \"bso_tsp\": [],\n",
    "    \"acsbso_vrp\": [],\n",
    "    \"acsbso_tsp\": []\n",
    "}\n",
    "for i in range(len(random_ls)):\n",
    "    # setting\n",
    "    hotel,tur,timematrix = generate_data(n=30,random_state=random_ls[i]) #random state 50 blacklist\n",
    "    travel_days = 3\n",
    "    dwaktu,dtarif,drating = 1,1,1\n",
    "    \n",
    "    print(\"random state = \",random_ls[i])\n",
    "\n",
    "    acs_vrp = ACS_VRP(random_state=100)\n",
    "    results_acs_vrp = get_analysis(acs_vrp,hotel,tur,timematrix,travel_days,dwaktu,dtarif,drating)\n",
    "    random_node_analysis[\"acs_vrp\"].append(results_acs_vrp)\n",
    "    \n",
    "    acs_tsp = ACS_TSP(random_state=100)\n",
    "    results_acs_tsp = get_analysis(acs_tsp,hotel,tur,timematrix,travel_days,dwaktu,dtarif,drating)\n",
    "    random_node_analysis[\"acs_tsp\"].append(results_acs_tsp)\n",
    "    \n",
    "    bso_vrp = BSO_VRP(random_state=100)\n",
    "    results_bso_vrp = get_analysis(bso_vrp,hotel,tur,timematrix,travel_days,dwaktu,dtarif,drating)\n",
    "    random_node_analysis[\"bso_vrp\"].append(results_bso_vrp)\n",
    "    \n",
    "    bso_tsp = BSO_TSP(random_state=100)\n",
    "    results_bso_tsp = get_analysis(bso_tsp,hotel,tur,timematrix,travel_days,dwaktu,dtarif,drating)\n",
    "    random_node_analysis[\"bso_tsp\"].append(results_bso_tsp)\n",
    "    \n",
    "    acsbso_vrp = ACSBSO_VRP(random_state=100)\n",
    "    results_acsbso_vrp = get_analysis(acsbso_vrp,hotel,tur,timematrix,travel_days,dwaktu,dtarif,drating)\n",
    "    random_node_analysis[\"acsbso_vrp\"].append(results_acsbso_vrp)\n",
    "    \n",
    "    acsbso_tsp = ACSBSO_TSP(random_state=100)\n",
    "    results_acsbso_tsp = get_analysis(acsbso_tsp,hotel,tur,timematrix,travel_days,dwaktu,dtarif,drating)\n",
    "    random_node_analysis[\"acsbso_tsp\"].append(results_acsbso_tsp)"
   ]
  },
  {
   "cell_type": "code",
   "execution_count": 18,
   "id": "0bd6dfa4",
   "metadata": {},
   "outputs": [
    {
     "data": {
      "text/plain": [
       "{'acs_vrp': [{'solution': [[6, 18, 44, 71, 49, 10, 21, 2],\n",
       "    [89, 12, 46, 22, 36, 32, 57, 66],\n",
       "    [39, 34, 51, 74]],\n",
       "   'fitness': 0.6458440766233293,\n",
       "   'days_needed': 3,\n",
       "   'poi_included': 20,\n",
       "   'avg_rating': 4.58,\n",
       "   'total_tarif': 24500,\n",
       "   'total_duration': 120180,\n",
       "   'run_time': 10.784236192703247},\n",
       "  {'solution': [[46, 73, 74, 93, 7, 9, 88],\n",
       "    [16, 39, 69, 76, 10, 35, 40, 1],\n",
       "    [54, 18, 95, 34, 86, 22, 4]],\n",
       "   'fitness': 0.6752524041214517,\n",
       "   'days_needed': 3,\n",
       "   'poi_included': 22,\n",
       "   'avg_rating': 4.5636363636363635,\n",
       "   'total_tarif': 26500,\n",
       "   'total_duration': 127320,\n",
       "   'run_time': 4.67862606048584},\n",
       "  {'solution': [[12, 55, 88, 2, 26, 52, 7, 36],\n",
       "    [39, 95, 66, 32, 15, 23, 10, 21],\n",
       "    [6, 14, 79, 45, 17, 33]],\n",
       "   'fitness': 0.6738332131340155,\n",
       "   'days_needed': 3,\n",
       "   'poi_included': 22,\n",
       "   'avg_rating': 4.595454545454544,\n",
       "   'total_tarif': 38000,\n",
       "   'total_duration': 117600,\n",
       "   'run_time': 15.081909656524658},\n",
       "  {'solution': [[74, 7, 50, 53, 89, 4, 2, 52, 23],\n",
       "    [40, 61, 33, 12, 17, 73, 43, 85],\n",
       "    [22, 32, 14, 37, 57, 94, 49]],\n",
       "   'fitness': 0.6703868576553762,\n",
       "   'days_needed': 3,\n",
       "   'poi_included': 24,\n",
       "   'avg_rating': 4.579166666666667,\n",
       "   'total_tarif': 58000,\n",
       "   'total_duration': 131580,\n",
       "   'run_time': 3.5772602558135986},\n",
       "  {'solution': [[55, 27, 93, 95, 73, 7, 36, 66],\n",
       "    [16, 96, 24, 50, 11, 20, 15, 59],\n",
       "    [69, 99, 14, 45, 53, 32, 57]],\n",
       "   'fitness': 0.6404934230669294,\n",
       "   'days_needed': 3,\n",
       "   'poi_included': 23,\n",
       "   'avg_rating': 4.582608695652174,\n",
       "   'total_tarif': 91500,\n",
       "   'total_duration': 125820,\n",
       "   'run_time': 7.3058764934539795}],\n",
       " 'acs_tsp': [{'solution': [[2, 66, 97, 12, 46, 5, 32],\n",
       "    [89, 74, 80, 57, 10, 48, 49],\n",
       "    [67, 6, 51, 29]],\n",
       "   'fitness': 0.5038589351396628,\n",
       "   'days_needed': 3,\n",
       "   'poi_included': 18,\n",
       "   'avg_rating': 4.522222222222222,\n",
       "   'total_tarif': 218500,\n",
       "   'total_duration': 115140,\n",
       "   'run_time': 7.408185005187988},\n",
       "  {'solution': [[53, 9, 95, 16, 73, 46],\n",
       "    [72, 47, 18, 76, 11, 10, 1, 7],\n",
       "    [86, 4, 35, 22, 40, 74, 51]],\n",
       "   'fitness': 0.562661427343967,\n",
       "   'days_needed': 3,\n",
       "   'poi_included': 21,\n",
       "   'avg_rating': 4.6,\n",
       "   'total_tarif': 217500,\n",
       "   'total_duration': 125040,\n",
       "   'run_time': 18.705933809280396},\n",
       "  {'solution': [[7, 33, 12, 2, 52, 36, 17, 10, 88, 23, 21],\n",
       "    [6, 70, 95, 99, 45, 42],\n",
       "    [79, 55, 84, 64, 66]],\n",
       "   'fitness': 0.6115427884676933,\n",
       "   'days_needed': 3,\n",
       "   'poi_included': 22,\n",
       "   'avg_rating': 4.595454545454545,\n",
       "   'total_tarif': 127000,\n",
       "   'total_duration': 124260,\n",
       "   'run_time': 18.35229802131653},\n",
       "  {'solution': [[89, 43],\n",
       "    [48, 14, 32, 53, 61, 7, 50, 52, 23],\n",
       "    [73, 20, 72, 22, 85, 2, 4, 33]],\n",
       "   'fitness': 0.5553899885040235,\n",
       "   'days_needed': 3,\n",
       "   'poi_included': 19,\n",
       "   'avg_rating': 4.63157894736842,\n",
       "   'total_tarif': 165000,\n",
       "   'total_duration': 123960,\n",
       "   'run_time': 10.42751407623291},\n",
       "  {'solution': [[53, 50, 36, 57, 24, 32, 15],\n",
       "    [11, 62, 14, 20, 97, 59],\n",
       "    [99, 47, 29, 16, 42]],\n",
       "   'fitness': 0.4931511933310497,\n",
       "   'days_needed': 3,\n",
       "   'poi_included': 18,\n",
       "   'avg_rating': 4.527777777777779,\n",
       "   'total_tarif': 320000,\n",
       "   'total_duration': 127860,\n",
       "   'run_time': 12.504164457321167}],\n",
       " 'bso_vrp': [{'solution': [[22, 2, 36, 10, 89, 46, 5, 32],\n",
       "    [58, 29, 64, 21],\n",
       "    [80, 57, 74, 34, 51, 66]],\n",
       "   'fitness': 0.5559338468261772,\n",
       "   'days_needed': 3,\n",
       "   'poi_included': 18,\n",
       "   'avg_rating': 4.566666666666666,\n",
       "   'total_tarif': 132500,\n",
       "   'total_duration': 122220,\n",
       "   'run_time': 1.275921106338501},\n",
       "  {'solution': [[69, 18, 4, 88, 71, 73, 22],\n",
       "    [76, 40, 64, 34, 54, 95, 46],\n",
       "    [29, 47, 16, 9, 86, 10, 7, 1]],\n",
       "   'fitness': 0.5938038556094113,\n",
       "   'days_needed': 3,\n",
       "   'poi_included': 22,\n",
       "   'avg_rating': 4.536363636363636,\n",
       "   'total_tarif': 168000,\n",
       "   'total_duration': 124800,\n",
       "   'run_time': 1.1312263011932373},\n",
       "  {'solution': [[6, 2, 41, 84, 95, 36, 7],\n",
       "    [79, 99, 55, 45, 10],\n",
       "    [64, 26, 66, 17, 52, 23, 88, 21, 15]],\n",
       "   'fitness': 0.6085594360731664,\n",
       "   'days_needed': 3,\n",
       "   'poi_included': 21,\n",
       "   'avg_rating': 4.6,\n",
       "   'total_tarif': 124000,\n",
       "   'total_duration': 118680,\n",
       "   'run_time': 0.617006778717041},\n",
       "  {'solution': [[54, 31, 57, 52, 23, 4, 22],\n",
       "    [20, 48, 74, 75, 2, 32],\n",
       "    [72, 94, 85, 7, 53, 50, 49]],\n",
       "   'fitness': 0.5129669199113643,\n",
       "   'days_needed': 3,\n",
       "   'poi_included': 20,\n",
       "   'avg_rating': 4.535,\n",
       "   'total_tarif': 225000,\n",
       "   'total_duration': 124140,\n",
       "   'run_time': 0.42639684677124023},\n",
       "  {'solution': [[62, 24, 66, 28, 27, 36],\n",
       "    [73, 42, 59, 99, 96, 32, 7],\n",
       "    [29, 50, 11, 15, 93, 95, 57]],\n",
       "   'fitness': 0.5428223426549769,\n",
       "   'days_needed': 3,\n",
       "   'poi_included': 20,\n",
       "   'avg_rating': 4.534999999999999,\n",
       "   'total_tarif': 250500,\n",
       "   'total_duration': 125760,\n",
       "   'run_time': 0.6000568866729736}],\n",
       " 'bso_tsp': [{'solution': [[58, 29, 51, 74],\n",
       "    [34, 64, 80, 22, 21, 46],\n",
       "    [67, 99, 5, 2, 32, 36]],\n",
       "   'fitness': 0.5008792654503077,\n",
       "   'days_needed': 3,\n",
       "   'poi_included': 16,\n",
       "   'avg_rating': 4.5375,\n",
       "   'total_tarif': 172500,\n",
       "   'total_duration': 126900,\n",
       "   'run_time': 37.75505256652832},\n",
       "  {'solution': [[69, 4, 86, 18, 95, 73, 16, 71],\n",
       "    [47, 54, 29, 34, 1],\n",
       "    [76, 22, 72, 9, 7, 10, 11, 35, 88]],\n",
       "   'fitness': 0.5631434042148328,\n",
       "   'days_needed': 3,\n",
       "   'poi_included': 22,\n",
       "   'avg_rating': 4.518181818181818,\n",
       "   'total_tarif': 228000,\n",
       "   'total_duration': 118260,\n",
       "   'run_time': 40.54820919036865},\n",
       "  {'solution': [[64, 41, 84, 21, 52, 23, 88, 15],\n",
       "    [79, 99, 17, 26, 66, 2, 7],\n",
       "    [6, 10, 36, 12, 80, 97]],\n",
       "   'fitness': 0.5589084814792461,\n",
       "   'days_needed': 3,\n",
       "   'poi_included': 21,\n",
       "   'avg_rating': 4.580952380952381,\n",
       "   'total_tarif': 194000,\n",
       "   'total_duration': 118680,\n",
       "   'run_time': 37.42531704902649},\n",
       "  {'solution': [[54, 75, 31, 94, 74, 57],\n",
       "    [22, 2, 32, 4, 52, 23, 48, 33, 40],\n",
       "    [20, 72, 12, 37, 49, 73, 85]],\n",
       "   'fitness': 0.5316193151841301,\n",
       "   'days_needed': 3,\n",
       "   'poi_included': 22,\n",
       "   'avg_rating': 4.500000000000001,\n",
       "   'total_tarif': 218000,\n",
       "   'total_duration': 128100,\n",
       "   'run_time': 37.747100591659546},\n",
       "  {'solution': [[62, 29, 66, 57, 24, 7, 32],\n",
       "    [11, 50, 95, 73, 93, 27, 28],\n",
       "    [99, 53, 36, 96, 15, 59]],\n",
       "   'fitness': 0.5485939951742309,\n",
       "   'days_needed': 3,\n",
       "   'poi_included': 20,\n",
       "   'avg_rating': 4.5649999999999995,\n",
       "   'total_tarif': 255500,\n",
       "   'total_duration': 124320,\n",
       "   'run_time': 42.02081274986267}],\n",
       " 'acsbso_vrp': [{'solution': [[39, 34, 66, 74, 57, 22],\n",
       "    [12, 99, 44, 71, 49, 21, 89],\n",
       "    [6, 18, 46, 2, 32, 10, 36]],\n",
       "   'fitness': 0.6494000145671729,\n",
       "   'days_needed': 3,\n",
       "   'poi_included': 20,\n",
       "   'avg_rating': 4.575,\n",
       "   'total_tarif': 27000,\n",
       "   'total_duration': 113340,\n",
       "   'run_time': 98.91423678398132},\n",
       "  {'solution': [[34, 74, 40, 93, 73],\n",
       "    [16, 54, 71, 95, 86, 88, 35, 10, 9],\n",
       "    [69, 11, 4, 18, 22, 76, 1, 7, 46]],\n",
       "   'fitness': 0.692216836980467,\n",
       "   'days_needed': 3,\n",
       "   'poi_included': 23,\n",
       "   'avg_rating': 4.556521739130434,\n",
       "   'total_tarif': 25500,\n",
       "   'total_duration': 120300,\n",
       "   'run_time': 88.3990969657898},\n",
       "  {'solution': [[6, 12, 55, 21, 52, 23, 88, 15, 32],\n",
       "    [79, 45, 95, 99, 17, 10, 7, 36, 2],\n",
       "    [14, 39, 26, 66, 33]],\n",
       "   'fitness': 0.6783556799851964,\n",
       "   'days_needed': 3,\n",
       "   'poi_included': 23,\n",
       "   'avg_rating': 4.586956521739129,\n",
       "   'total_tarif': 48000,\n",
       "   'total_duration': 115140,\n",
       "   'run_time': 84.20663833618164},\n",
       "  {'solution': [[17, 32, 61, 40, 74, 57, 94, 37],\n",
       "    [12, 85, 33, 49, 54, 43, 52, 23],\n",
       "    [89, 73, 4, 14, 2, 7, 50, 22]],\n",
       "   'fitness': 0.6902856916745805,\n",
       "   'days_needed': 3,\n",
       "   'poi_included': 24,\n",
       "   'avg_rating': 4.5249999999999995,\n",
       "   'total_tarif': 33000,\n",
       "   'total_duration': 121140,\n",
       "   'run_time': 56.00336527824402},\n",
       "  {'solution': [[11, 20, 59, 55, 95, 73, 53],\n",
       "    [69, 96, 14, 45, 27, 93, 15],\n",
       "    [99, 16, 66, 57, 24, 7, 50, 36, 32]],\n",
       "   'fitness': 0.6471292255360653,\n",
       "   'days_needed': 3,\n",
       "   'poi_included': 23,\n",
       "   'avg_rating': 4.5826086956521745,\n",
       "   'total_tarif': 91500,\n",
       "   'total_duration': 118080,\n",
       "   'run_time': 66.02638959884644}],\n",
       " 'acsbso_tsp': [{'solution': [[46, 2, 32, 36, 10, 89, 44, 21, 49],\n",
       "    [67, 99, 58, 71],\n",
       "    [48, 97, 39, 64, 51]],\n",
       "   'fitness': 0.5259659856513347,\n",
       "   'days_needed': 3,\n",
       "   'poi_included': 18,\n",
       "   'avg_rating': 4.544444444444444,\n",
       "   'total_tarif': 178500,\n",
       "   'total_duration': 121200,\n",
       "   'run_time': 202.18853735923767},\n",
       "  {'solution': [[46, 1, 53, 7, 11, 10, 9, 4],\n",
       "    [69, 86, 35, 88, 93, 71, 73],\n",
       "    [54, 47, 16, 95, 72, 18, 22]],\n",
       "   'fitness': 0.570130222511175,\n",
       "   'days_needed': 3,\n",
       "   'poi_included': 22,\n",
       "   'avg_rating': 4.577272727272727,\n",
       "   'total_tarif': 225500,\n",
       "   'total_duration': 120600,\n",
       "   'run_time': 172.09290051460266},\n",
       "  {'solution': [[88, 23, 45, 79, 42, 26],\n",
       "    [84, 55, 41, 64, 66, 2],\n",
       "    [39, 97, 80, 32, 15, 36, 7, 10]],\n",
       "   'fitness': 0.5254985604531444,\n",
       "   'days_needed': 3,\n",
       "   'poi_included': 20,\n",
       "   'avg_rating': 4.57,\n",
       "   'total_tarif': 217000,\n",
       "   'total_duration': 124140,\n",
       "   'run_time': 99.73356461524963},\n",
       "  {'solution': [[2, 32, 53, 89, 17, 4, 52, 23],\n",
       "    [20, 73, 72, 12, 57, 40, 74, 37],\n",
       "    [94, 31, 75, 49, 43]],\n",
       "   'fitness': 0.5520286897601712,\n",
       "   'days_needed': 3,\n",
       "   'poi_included': 21,\n",
       "   'avg_rating': 4.580952380952381,\n",
       "   'total_tarif': 188000,\n",
       "   'total_duration': 126780,\n",
       "   'run_time': 88.9143750667572},\n",
       "  {'solution': [[53, 32, 7, 36, 50],\n",
       "    [11, 69, 96, 15, 14, 45, 27, 93],\n",
       "    [42, 59, 55, 29, 24, 57, 66]],\n",
       "   'fitness': 0.5995155595100639,\n",
       "   'days_needed': 3,\n",
       "   'poi_included': 20,\n",
       "   'avg_rating': 4.575,\n",
       "   'total_tarif': 121500,\n",
       "   'total_duration': 120900,\n",
       "   'run_time': 168.55154705047607}]}"
      ]
     },
     "execution_count": 18,
     "metadata": {},
     "output_type": "execute_result"
    }
   ],
   "source": [
    "random_node_analysis"
   ]
  },
  {
   "cell_type": "code",
   "execution_count": 19,
   "id": "9a5feab9",
   "metadata": {},
   "outputs": [
    {
     "name": "stdout",
     "output_type": "stream",
     "text": [
      "random state =  10\n",
      "random state =  30\n",
      "random state =  60\n",
      "random state =  80\n",
      "random state =  100\n"
     ]
    }
   ],
   "source": [
    "random_ls = [10,30,60,80,100]\n",
    "random_node_analysis = {\n",
    "    \"aco_vrp\": [],\n",
    "    \"aco_tsp\": [],\n",
    "    \"haco_vrp\": [],\n",
    "    \"haco_tsp\": []\n",
    "}\n",
    "for i in range(len(random_ls)):\n",
    "    # setting\n",
    "    hotel,tur,timematrix = generate_data(n=30,random_state=random_ls[i]) #random state 50 blacklist\n",
    "    travel_days = 3\n",
    "    dwaktu,dtarif,drating = 1,1,1\n",
    "    \n",
    "    print(\"random state = \",random_ls[i])\n",
    "\n",
    "    aco_vrp = ACO_VRP(random_state=100)\n",
    "    results_aco_vrp = get_analysis(aco_vrp,hotel,tur,timematrix,travel_days,dwaktu,dtarif,drating)\n",
    "    random_node_analysis[\"aco_vrp\"].append(results_aco_vrp)\n",
    "    \n",
    "    aco_tsp = ACO_TSP(random_state=100)\n",
    "    results_aco_tsp = get_analysis(aco_tsp,hotel,tur,timematrix,travel_days,dwaktu,dtarif,drating)\n",
    "    random_node_analysis[\"aco_tsp\"].append(results_aco_tsp)\n",
    "    \n",
    "    haco_vrp = HACO_VRP(random_state=100)\n",
    "    results_haco_vrp = get_analysis(haco_vrp,hotel,tur,timematrix,travel_days,dwaktu,dtarif,drating)\n",
    "    random_node_analysis[\"haco_vrp\"].append(results_haco_vrp)\n",
    "    \n",
    "    haco_tsp = HACO_TSP(random_state=100)\n",
    "    results_haco_tsp = get_analysis(haco_tsp,hotel,tur,timematrix,travel_days,dwaktu,dtarif,drating)\n",
    "    random_node_analysis[\"haco_tsp\"].append(results_haco_tsp)"
   ]
  },
  {
   "cell_type": "code",
   "execution_count": 20,
   "id": "a290884c",
   "metadata": {},
   "outputs": [
    {
     "data": {
      "text/plain": [
       "{'aco_vrp': [{'solution': [[6, 12, 18, 34, 51, 66],\n",
       "    [46, 2, 32, 36, 22, 10, 44, 74, 21],\n",
       "    [39, 71, 49, 57, 89]],\n",
       "   'fitness': 0.6424232947303251,\n",
       "   'days_needed': 3,\n",
       "   'poi_included': 20,\n",
       "   'avg_rating': 4.58,\n",
       "   'total_tarif': 24500,\n",
       "   'total_duration': 124080,\n",
       "   'run_time': 7.49123740196228},\n",
       "  {'solution': [[46, 95, 18, 93, 73, 88, 10, 9],\n",
       "    [1, 7, 11, 76, 53, 22, 71],\n",
       "    [74, 86, 4, 35, 51, 40]],\n",
       "   'fitness': 0.6640636406509423,\n",
       "   'days_needed': 3,\n",
       "   'poi_included': 21,\n",
       "   'avg_rating': 4.623809523809523,\n",
       "   'total_tarif': 50000,\n",
       "   'total_duration': 121080,\n",
       "   'run_time': 6.159844636917114},\n",
       "  {'solution': [[55, 26, 23, 7, 33, 32, 52, 36, 15],\n",
       "    [12, 79, 14, 10, 21, 17, 2, 66],\n",
       "    [6, 39, 88, 95, 42]],\n",
       "   'fitness': 0.6575282201681654,\n",
       "   'days_needed': 3,\n",
       "   'poi_included': 22,\n",
       "   'avg_rating': 4.581818181818182,\n",
       "   'total_tarif': 50000,\n",
       "   'total_duration': 123060,\n",
       "   'run_time': 8.154229640960693},\n",
       "  {'solution': [[37, 89, 53, 7, 74, 50, 52, 23],\n",
       "    [32, 22, 40, 33, 73, 17, 57, 43],\n",
       "    [14, 12, 20, 2, 4, 61, 49]],\n",
       "   'fitness': 0.6665764597125304,\n",
       "   'days_needed': 3,\n",
       "   'poi_included': 23,\n",
       "   'avg_rating': 4.604347826086956,\n",
       "   'total_tarif': 53000,\n",
       "   'total_duration': 130440,\n",
       "   'run_time': 6.764022588729858},\n",
       "  {'solution': [[69, 14, 16, 27, 73, 96, 36, 15, 24],\n",
       "    [55, 45, 20, 93, 53],\n",
       "    [7, 50, 32, 57, 66, 42, 59]],\n",
       "   'fitness': 0.620371850667614,\n",
       "   'days_needed': 3,\n",
       "   'poi_included': 21,\n",
       "   'avg_rating': 4.6,\n",
       "   'total_tarif': 101500,\n",
       "   'total_duration': 123600,\n",
       "   'run_time': 7.9337687492370605}],\n",
       " 'aco_tsp': [{'solution': [[46, 2, 66, 36, 97, 89, 74],\n",
       "    [64, 34, 38, 80, 49, 21],\n",
       "    [44, 67, 32, 99, 71, 51]],\n",
       "   'fitness': 0.5357839127618019,\n",
       "   'days_needed': 3,\n",
       "   'poi_included': 19,\n",
       "   'avg_rating': 4.526315789473685,\n",
       "   'total_tarif': 165500,\n",
       "   'total_duration': 126900,\n",
       "   'run_time': 6.035643100738525},\n",
       "  {'solution': [[46, 9, 74, 7, 73, 10, 40, 4],\n",
       "    [11, 22, 16, 18, 34, 64],\n",
       "    [29, 51, 39, 93]],\n",
       "   'fitness': 0.617375606462908,\n",
       "   'days_needed': 3,\n",
       "   'poi_included': 18,\n",
       "   'avg_rating': 4.594444444444444,\n",
       "   'total_tarif': 71000,\n",
       "   'total_duration': 118380,\n",
       "   'run_time': 10.768531560897827},\n",
       "  {'solution': [[7, 88, 52, 12, 2, 32, 95, 33, 21],\n",
       "    [14, 79, 45, 80, 17],\n",
       "    [42, 84, 55, 64, 26]],\n",
       "   'fitness': 0.5880519155114469,\n",
       "   'days_needed': 3,\n",
       "   'poi_included': 19,\n",
       "   'avg_rating': 4.58421052631579,\n",
       "   'total_tarif': 119000,\n",
       "   'total_duration': 115260,\n",
       "   'run_time': 10.141078472137451},\n",
       "  {'solution': [[53, 7, 74, 52, 61],\n",
       "    [33, 48, 12, 85, 73, 4, 43],\n",
       "    [14, 31, 37, 94, 40, 22, 57]],\n",
       "   'fitness': 0.5881364439112976,\n",
       "   'days_needed': 3,\n",
       "   'poi_included': 19,\n",
       "   'avg_rating': 4.568421052631579,\n",
       "   'total_tarif': 108000,\n",
       "   'total_duration': 122100,\n",
       "   'run_time': 8.826340436935425},\n",
       "  {'solution': [[53, 7, 50, 96, 57],\n",
       "    [14, 36, 15, 69, 24, 55, 47, 66],\n",
       "    [29, 62, 11, 28, 27]],\n",
       "   'fitness': 0.4963375595819642,\n",
       "   'days_needed': 3,\n",
       "   'poi_included': 18,\n",
       "   'avg_rating': 4.572222222222223,\n",
       "   'total_tarif': 336000,\n",
       "   'total_duration': 127380,\n",
       "   'run_time': 8.06138277053833}],\n",
       " 'haco_vrp': [{'solution': [[39, 34, 51, 49, 21, 10, 36],\n",
       "    [6, 12, 99, 18, 74, 66, 2],\n",
       "    [44, 22, 32, 89, 57, 46]],\n",
       "   'fitness': 0.6456102734986707,\n",
       "   'days_needed': 3,\n",
       "   'poi_included': 20,\n",
       "   'avg_rating': 4.575,\n",
       "   'total_tarif': 29500,\n",
       "   'total_duration': 116040,\n",
       "   'run_time': 20.641608715057373},\n",
       "  {'solution': [[69, 76, 95, 18, 35, 9, 7, 86, 4, 73],\n",
       "    [93, 11, 16, 88, 10, 74, 40],\n",
       "    [51, 34, 1, 22, 46]],\n",
       "   'fitness': 0.6851428406983961,\n",
       "   'days_needed': 3,\n",
       "   'poi_included': 22,\n",
       "   'avg_rating': 4.595454545454545,\n",
       "   'total_tarif': 28000,\n",
       "   'total_duration': 119760,\n",
       "   'run_time': 14.797140121459961},\n",
       "  {'solution': [[14, 12, 95, 32, 15, 21, 23, 33, 52, 36],\n",
       "    [39, 26, 88, 66, 2, 7, 10],\n",
       "    [6, 79, 45, 55, 17]],\n",
       "   'fitness': 0.67398753412167,\n",
       "   'days_needed': 3,\n",
       "   'poi_included': 22,\n",
       "   'avg_rating': 4.595454545454545,\n",
       "   'total_tarif': 38000,\n",
       "   'total_duration': 117420,\n",
       "   'run_time': 19.446609497070312},\n",
       "  {'solution': [[33, 22, 89, 14, 4, 50, 43, 73],\n",
       "    [20, 12, 2, 7, 85, 49, 37, 40],\n",
       "    [57, 61, 52, 23, 32, 17, 94, 74]],\n",
       "   'fitness': 0.6839849108367626,\n",
       "   'days_needed': 3,\n",
       "   'poi_included': 24,\n",
       "   'avg_rating': 4.5666666666666655,\n",
       "   'total_tarif': 43000,\n",
       "   'total_duration': 126060,\n",
       "   'run_time': 22.27491545677185},\n",
       "  {'solution': [[14, 20, 16, 95, 59, 24, 57, 36, 15, 50],\n",
       "    [55, 99, 11, 69, 66, 73, 7, 96],\n",
       "    [45, 93, 27, 32, 53]],\n",
       "   'fitness': 0.6426024765648718,\n",
       "   'days_needed': 3,\n",
       "   'poi_included': 23,\n",
       "   'avg_rating': 4.582608695652174,\n",
       "   'total_tarif': 91500,\n",
       "   'total_duration': 123360,\n",
       "   'run_time': 21.044203758239746}],\n",
       " 'haco_tsp': [{'solution': [[36, 46, 2, 10, 67, 48, 44, 49],\n",
       "    [71, 58, 21, 22, 32],\n",
       "    [18, 12, 6, 5, 89, 57]],\n",
       "   'fitness': 0.5752660425783128,\n",
       "   'days_needed': 3,\n",
       "   'poi_included': 19,\n",
       "   'avg_rating': 4.557894736842105,\n",
       "   'total_tarif': 116000,\n",
       "   'total_duration': 122220,\n",
       "   'run_time': 21.686023712158203},\n",
       "  {'solution': [[53, 1, 7, 9, 10, 35],\n",
       "    [88, 4, 86, 93, 71, 73],\n",
       "    [54, 47, 16, 95, 72, 18, 46, 22]],\n",
       "   'fitness': 0.5499378597592884,\n",
       "   'days_needed': 3,\n",
       "   'poi_included': 20,\n",
       "   'avg_rating': 4.58,\n",
       "   'total_tarif': 217500,\n",
       "   'total_duration': 123840,\n",
       "   'run_time': 20.540011882781982},\n",
       "  {'solution': [[7, 10, 2, 15, 23, 88, 17, 21, 95, 52, 66, 33],\n",
       "    [99, 32, 70, 80, 26],\n",
       "    [12, 14, 45, 79, 42, 36]],\n",
       "   'fitness': 0.6301747746626146,\n",
       "   'days_needed': 3,\n",
       "   'poi_included': 23,\n",
       "   'avg_rating': 4.556521739130434,\n",
       "   'total_tarif': 99000,\n",
       "   'total_duration': 123780,\n",
       "   'run_time': 21.54135274887085},\n",
       "  {'solution': [[53, 4, 73, 2, 32],\n",
       "    [72, 20, 89, 50, 17, 61, 7, 74],\n",
       "    [57, 40, 22, 12, 75, 37, 23, 52]],\n",
       "   'fitness': 0.5747953692398134,\n",
       "   'days_needed': 3,\n",
       "   'poi_included': 21,\n",
       "   'avg_rating': 4.638095238095237,\n",
       "   'total_tarif': 168000,\n",
       "   'total_duration': 126000,\n",
       "   'run_time': 22.407613515853882},\n",
       "  {'solution': [[53, 50, 45, 27], [93, 42, 47, 28, 57], [80, 66, 62, 29, 59]],\n",
       "   'fitness': 0.43097035599033995,\n",
       "   'days_needed': 3,\n",
       "   'poi_included': 14,\n",
       "   'avg_rating': 4.55,\n",
       "   'total_tarif': 398500,\n",
       "   'total_duration': 122940,\n",
       "   'run_time': 21.928020238876343}]}"
      ]
     },
     "execution_count": 20,
     "metadata": {},
     "output_type": "execute_result"
    }
   ],
   "source": [
    "random_node_analysis"
   ]
  },
  {
   "cell_type": "markdown",
   "id": "27a82f0e",
   "metadata": {},
   "source": [
    "### 3. Overview: Visualization"
   ]
  },
  {
   "cell_type": "code",
   "execution_count": 21,
   "id": "4507e06f",
   "metadata": {},
   "outputs": [],
   "source": [
    "# setting\n",
    "hotel,tur,timematrix = generate_data(n=30,random_state=30)\n",
    "travel_days = 3\n",
    "dwaktu,dtarif,drating = 1,1,1"
   ]
  },
  {
   "cell_type": "code",
   "execution_count": 22,
   "id": "ccd7d9ac",
   "metadata": {},
   "outputs": [
    {
     "name": "stdout",
     "output_type": "stream",
     "text": [
      "Hybrid ACS-BSO - VRP\n"
     ]
    },
    {
     "data": {
      "text/plain": [
       "{'solution': [[34, 74, 40, 93, 73],\n",
       "  [16, 54, 71, 95, 86, 88, 35, 10, 9],\n",
       "  [69, 11, 4, 18, 22, 76, 1, 7, 46]],\n",
       " 'fitness': 0.692216836980467,\n",
       " 'days_needed': 3,\n",
       " 'poi_included': 23,\n",
       " 'avg_rating': 4.556521739130434,\n",
       " 'total_tarif': 25500,\n",
       " 'total_duration': 120300,\n",
       " 'run_time': 86.99503445625305}"
      ]
     },
     "execution_count": 22,
     "metadata": {},
     "output_type": "execute_result"
    }
   ],
   "source": [
    "print(\"Hybrid ACS-BSO - VRP\")\n",
    "acsbso_vrp = ACSBSO_VRP(random_state=100)\n",
    "results_acsbso_vrp = get_analysis(acsbso_vrp,hotel,tur,timematrix,travel_days,dwaktu,dtarif,drating)\n",
    "results_acsbso_vrp"
   ]
  },
  {
   "cell_type": "code",
   "execution_count": 23,
   "id": "c06dc958",
   "metadata": {},
   "outputs": [
    {
     "data": {
      "image/png": "[encoded data removed]",
      "text/plain": [
       "<Figure size 1200x900 with 1 Axes>"
      ]
     },
     "metadata": {},
     "output_type": "display_data"
    }
   ],
   "source": [
    "sol_node = get_detail_node_on_solution(results_acsbso_vrp['solution'])\n",
    "visualize_solution(sol_node,hotel)"
   ]
  },
  {
   "cell_type": "code",
   "execution_count": 24,
   "id": "c5f56655",
   "metadata": {},
   "outputs": [
    {
     "name": "stdout",
     "output_type": "stream",
     "text": [
      "HACO - VRP\n"
     ]
    },
    {
     "data": {
      "text/plain": [
       "{'solution': [[69, 76, 95, 18, 35, 9, 7, 86, 4, 73],\n",
       "  [93, 11, 16, 88, 10, 74, 40],\n",
       "  [51, 34, 1, 22, 46]],\n",
       " 'fitness': 0.6851428406983961,\n",
       " 'days_needed': 3,\n",
       " 'poi_included': 22,\n",
       " 'avg_rating': 4.595454545454545,\n",
       " 'total_tarif': 28000,\n",
       " 'total_duration': 119760,\n",
       " 'run_time': 15.445112466812134}"
      ]
     },
     "execution_count": 24,
     "metadata": {},
     "output_type": "execute_result"
    }
   ],
   "source": [
    "print(\"HACO - VRP\")\n",
    "haco_vrp = HACO_VRP(random_state=100)\n",
    "results_haco_vrp = get_analysis(haco_vrp,hotel,tur,timematrix,travel_days,dwaktu,dtarif,drating)\n",
    "results_haco_vrp"
   ]
  },
  {
   "cell_type": "code",
   "execution_count": 25,
   "id": "01d116b6",
   "metadata": {},
   "outputs": [
    {
     "data": {
      "image/png": "[encoded data removed]",
      "text/plain": [
       "<Figure size 1200x900 with 1 Axes>"
      ]
     },
     "metadata": {},
     "output_type": "display_data"
    }
   ],
   "source": [
    "sol_node = get_detail_node_on_solution(results_haco_vrp['solution'])\n",
    "visualize_solution(sol_node,hotel)"
   ]
  },
  {
   "cell_type": "markdown",
   "id": "319d76a0",
   "metadata": {},
   "source": [
    "### 4. Running Time"
   ]
  },
  {
   "cell_type": "code",
   "execution_count": 26,
   "id": "2a7c5cdd",
   "metadata": {},
   "outputs": [
    {
     "name": "stdout",
     "output_type": "stream",
     "text": [
      "n =  5\n",
      "n =  10\n",
      "n =  15\n",
      "n =  20\n",
      "n =  25\n",
      "n =  30\n"
     ]
    }
   ],
   "source": [
    "n = [5,10,15,20,25,30]\n",
    "run_time_analysis = {\n",
    "    \"acs_vrp\": [],\n",
    "    \"acs_tsp\": [],\n",
    "    \"bso_vrp\": [],\n",
    "    \"bso_tsp\": [],\n",
    "    \"acsbso_vrp\": [],\n",
    "    \"acsbso_tsp\": []\n",
    "}\n",
    "for i in n:\n",
    "    # setting\n",
    "    hotel,tur,timematrix = generate_data(n=i,random_state=30)\n",
    "    travel_days = 3\n",
    "    dwaktu,dtarif,drating = 1,1,1\n",
    "    \n",
    "    print(\"n = \",i)\n",
    "    \n",
    "    acs_vrp = ACS_VRP(random_state=100)\n",
    "    results_acs_vrp = get_analysis(acs_vrp,hotel,tur,timematrix,travel_days,dwaktu,dtarif,drating)\n",
    "    run_time_analysis[\"acs_vrp\"].append(results_acs_vrp[\"run_time\"])\n",
    "    \n",
    "    acs_tsp = ACS_TSP(random_state=100)\n",
    "    results_acs_tsp = get_analysis(acs_tsp,hotel,tur,timematrix,travel_days,dwaktu,dtarif,drating)\n",
    "    run_time_analysis[\"acs_tsp\"].append(results_acs_tsp[\"run_time\"])\n",
    "    \n",
    "    bso_vrp = BSO_VRP(random_state=100)\n",
    "    results_bso_vrp = get_analysis(bso_vrp,hotel,tur,timematrix,travel_days,dwaktu,dtarif,drating)\n",
    "    run_time_analysis[\"bso_vrp\"].append(results_bso_vrp[\"run_time\"])\n",
    "    \n",
    "    bso_tsp = BSO_TSP(random_state=100)\n",
    "    results_bso_tsp = get_analysis(bso_tsp,hotel,tur,timematrix,travel_days,dwaktu,dtarif,drating)\n",
    "    run_time_analysis[\"bso_tsp\"].append(results_bso_tsp[\"run_time\"])\n",
    "    \n",
    "    acsbso_vrp = ACSBSO_VRP(random_state=100)\n",
    "    results_acsbso_vrp = get_analysis(acsbso_vrp,hotel,tur,timematrix,travel_days,dwaktu,dtarif,drating)\n",
    "    run_time_analysis[\"acsbso_vrp\"].append(results_acsbso_vrp[\"run_time\"])\n",
    "    \n",
    "    acsbso_tsp = ACSBSO_TSP(random_state=100)\n",
    "    results_acsbso_tsp = get_analysis(acsbso_tsp,hotel,tur,timematrix,travel_days,dwaktu,dtarif,drating)\n",
    "    run_time_analysis[\"acsbso_tsp\"].append(results_acsbso_tsp[\"run_time\"])"
   ]
  },
  {
   "cell_type": "code",
   "execution_count": 27,
   "id": "b26a59f9",
   "metadata": {},
   "outputs": [
    {
     "data": {
      "text/plain": [
       "{'acs_vrp': [0.3470425605773926,\n",
       "  1.7940073013305664,\n",
       "  2.1675901412963867,\n",
       "  2.9062185287475586,\n",
       "  5.809405565261841,\n",
       "  4.883400201797485],\n",
       " 'acs_tsp': [0.23572635650634766,\n",
       "  1.8240959644317627,\n",
       "  4.3000969886779785,\n",
       "  6.608150959014893,\n",
       "  9.272181749343872,\n",
       "  19.54486060142517],\n",
       " 'bso_vrp': [0.05773019790649414,\n",
       "  0.19484663009643555,\n",
       "  0.07763504981994629,\n",
       "  0.28604578971862793,\n",
       "  0.6246328353881836,\n",
       "  1.1990089416503906],\n",
       " 'bso_tsp': [0.2900710105895996,\n",
       "  1.4919099807739258,\n",
       "  4.725322008132935,\n",
       "  11.571427583694458,\n",
       "  23.2957763671875,\n",
       "  42.003183126449585],\n",
       " 'acsbso_vrp': [2.3085196018218994,\n",
       "  7.107741117477417,\n",
       "  11.986207485198975,\n",
       "  14.514225721359253,\n",
       "  57.74159789085388,\n",
       "  88.03176689147949],\n",
       " 'acsbso_tsp': [1.0097095966339111,\n",
       "  5.425847053527832,\n",
       "  32.227585315704346,\n",
       "  31.613640308380127,\n",
       "  40.17062973976135,\n",
       "  174.09783935546875]}"
      ]
     },
     "execution_count": 27,
     "metadata": {},
     "output_type": "execute_result"
    }
   ],
   "source": [
    "run_time_analysis"
   ]
  },
  {
   "cell_type": "code",
   "execution_count": 28,
   "id": "1be6b577",
   "metadata": {},
   "outputs": [
    {
     "name": "stdout",
     "output_type": "stream",
     "text": [
      "n =  5\n",
      "n =  10\n",
      "n =  15\n",
      "n =  20\n",
      "n =  25\n",
      "n =  30\n"
     ]
    }
   ],
   "source": [
    "n = [5,10,15,20,25,30]\n",
    "run_time_analysis = {\n",
    "    \"aco_vrp\": [],\n",
    "    \"aco_tsp\": [],\n",
    "    \"haco_vrp\": [],\n",
    "    \"haco_tsp\": []\n",
    "}\n",
    "for i in n:\n",
    "    # setting\n",
    "    hotel,tur,timematrix = generate_data(n=i,random_state=30)\n",
    "    travel_days = 3\n",
    "    dwaktu,dtarif,drating = 1,1,1\n",
    "    \n",
    "    print(\"n = \",i)\n",
    "    \n",
    "    aco_vrp = ACO_VRP(random_state=100)\n",
    "    results_aco_vrp = get_analysis(aco_vrp,hotel,tur,timematrix,travel_days,dwaktu,dtarif,drating)\n",
    "    run_time_analysis[\"aco_vrp\"].append(results_aco_vrp[\"run_time\"])\n",
    "    \n",
    "    aco_tsp = ACO_TSP(random_state=100)\n",
    "    results_aco_tsp = get_analysis(aco_tsp,hotel,tur,timematrix,travel_days,dwaktu,dtarif,drating)\n",
    "    run_time_analysis[\"aco_tsp\"].append(results_aco_tsp[\"run_time\"])\n",
    "    \n",
    "    haco_vrp = HACO_VRP(random_state=100)\n",
    "    results_haco_vrp = get_analysis(haco_vrp,hotel,tur,timematrix,travel_days,dwaktu,dtarif,drating)\n",
    "    run_time_analysis[\"haco_vrp\"].append(results_haco_vrp[\"run_time\"])\n",
    "    \n",
    "    haco_tsp = HACO_TSP(random_state=100)\n",
    "    results_haco_tsp = get_analysis(haco_tsp,hotel,tur,timematrix,travel_days,dwaktu,dtarif,drating)\n",
    "    run_time_analysis[\"haco_tsp\"].append(results_haco_tsp[\"run_time\"])"
   ]
  },
  {
   "cell_type": "code",
   "execution_count": 29,
   "id": "b91ef207",
   "metadata": {},
   "outputs": [
    {
     "data": {
      "text/plain": [
       "{'aco_vrp': [0.4600832462310791,\n",
       "  1.6990396976470947,\n",
       "  5.050695180892944,\n",
       "  5.7222630977630615,\n",
       "  5.020593166351318,\n",
       "  6.436947345733643],\n",
       " 'aco_tsp': [0.37293577194213867,\n",
       "  0.9950556755065918,\n",
       "  1.7457401752471924,\n",
       "  4.582879543304443,\n",
       "  5.189100980758667,\n",
       "  11.044889688491821],\n",
       " 'haco_vrp': [1.443105697631836,\n",
       "  3.855119228363037,\n",
       "  8.64143180847168,\n",
       "  13.539929151535034,\n",
       "  13.049209117889404,\n",
       "  15.468297243118286],\n",
       " 'haco_tsp': [1.301438331604004,\n",
       "  4.210751056671143,\n",
       "  7.841652154922485,\n",
       "  12.51400375366211,\n",
       "  18.077520608901978,\n",
       "  21.041999340057373]}"
      ]
     },
     "execution_count": 29,
     "metadata": {},
     "output_type": "execute_result"
    }
   ],
   "source": [
    "run_time_analysis"
   ]
  },
  {
   "cell_type": "markdown",
   "id": "060a2103",
   "metadata": {},
   "source": [
    "### 5. Travel Duration"
   ]
  },
  {
   "cell_type": "code",
   "execution_count": 30,
   "id": "900bec9f",
   "metadata": {},
   "outputs": [
    {
     "name": "stdout",
     "output_type": "stream",
     "text": [
      "n =  5\n",
      "n =  10\n",
      "n =  15\n",
      "n =  20\n",
      "n =  25\n",
      "n =  30\n"
     ]
    }
   ],
   "source": [
    "n = [5,10,15,20,25,30]\n",
    "travel_duration_analysis = {\n",
    "    \"acs_vrp\": [],\n",
    "    \"acs_tsp\": [],\n",
    "    \"bso_vrp\": [],\n",
    "    \"bso_tsp\": [],\n",
    "    \"acsbso_vrp\": [],\n",
    "    \"acsbso_tsp\": []\n",
    "}\n",
    "for i in n:\n",
    "    # setting\n",
    "    hotel,tur,timematrix = generate_data(n=i,random_state=30)\n",
    "    travel_days = 100\n",
    "    dwaktu,dtarif,drating = 1,0,0\n",
    "    keys = [\"total_duration\",\"days_needed\"]\n",
    "    \n",
    "    print(\"n = \",i)\n",
    "    \n",
    "    acs_vrp = ACS_VRP(random_state=100)\n",
    "    results_acs_vrp = get_analysis(acs_vrp,hotel,tur,timematrix,travel_days,dwaktu,dtarif,drating)\n",
    "    travel_duration_analysis[\"acs_vrp\"].append({key: results_acs_vrp[key] for key in keys})\n",
    "    \n",
    "    acs_tsp = ACS_TSP(random_state=100)\n",
    "    results_acs_tsp = get_analysis(acs_tsp,hotel,tur,timematrix,travel_days,dwaktu,dtarif,drating)\n",
    "    travel_duration_analysis[\"acs_tsp\"].append({key: results_acs_tsp[key] for key in keys})\n",
    "    \n",
    "    bso_vrp = BSO_VRP(random_state=100)\n",
    "    results_bso_vrp = get_analysis(bso_vrp,hotel,tur,timematrix,travel_days,dwaktu,dtarif,drating)\n",
    "    travel_duration_analysis[\"bso_vrp\"].append({key: results_bso_vrp[key] for key in keys})\n",
    "    \n",
    "    bso_tsp = BSO_TSP(random_state=100)\n",
    "    results_bso_tsp = get_analysis(bso_tsp,hotel,tur,timematrix,travel_days,dwaktu,dtarif,drating)\n",
    "    travel_duration_analysis[\"bso_tsp\"].append({key: results_bso_tsp[key] for key in keys})\n",
    "    \n",
    "    acsbso_vrp = ACSBSO_VRP(random_state=100)\n",
    "    results_acsbso_vrp = get_analysis(acsbso_vrp,hotel,tur,timematrix,travel_days,dwaktu,dtarif,drating)\n",
    "    travel_duration_analysis[\"acsbso_vrp\"].append({key: results_acsbso_vrp[key] for key in keys})\n",
    "    \n",
    "    acsbso_tsp = ACSBSO_TSP(random_state=100)\n",
    "    results_acsbso_tsp = get_analysis(acsbso_tsp,hotel,tur,timematrix,travel_days,dwaktu,dtarif,drating)\n",
    "    travel_duration_analysis[\"acsbso_tsp\"].append({key: results_acsbso_tsp[key] for key in keys})"
   ]
  },
  {
   "cell_type": "code",
   "execution_count": 31,
   "id": "7209cb3b",
   "metadata": {},
   "outputs": [
    {
     "data": {
      "text/plain": [
       "{'acs_vrp': [{'total_duration': 24540, 'days_needed': 1},\n",
       "  {'total_duration': 62640, 'days_needed': 2},\n",
       "  {'total_duration': 91440, 'days_needed': 3},\n",
       "  {'total_duration': 122580, 'days_needed': 3},\n",
       "  {'total_duration': 152580, 'days_needed': 4},\n",
       "  {'total_duration': 180600, 'days_needed': 5}],\n",
       " 'acs_tsp': [{'total_duration': 24540, 'days_needed': 1},\n",
       "  {'total_duration': 64020, 'days_needed': 2},\n",
       "  {'total_duration': 105240, 'days_needed': 3},\n",
       "  {'total_duration': 134520, 'days_needed': 4},\n",
       "  {'total_duration': 173040, 'days_needed': 5},\n",
       "  {'total_duration': 182460, 'days_needed': 5}],\n",
       " 'bso_vrp': [{'total_duration': 24960, 'days_needed': 1},\n",
       "  {'total_duration': 65940, 'days_needed': 2},\n",
       "  {'total_duration': 92820, 'days_needed': 3},\n",
       "  {'total_duration': 129240, 'days_needed': 4},\n",
       "  {'total_duration': 185700, 'days_needed': 5},\n",
       "  {'total_duration': 204240, 'days_needed': 6}],\n",
       " 'bso_tsp': [{'total_duration': 25800, 'days_needed': 1},\n",
       "  {'total_duration': 74760, 'days_needed': 2},\n",
       "  {'total_duration': 97980, 'days_needed': 3},\n",
       "  {'total_duration': 139440, 'days_needed': 4},\n",
       "  {'total_duration': 158760, 'days_needed': 4},\n",
       "  {'total_duration': 186840, 'days_needed': 5}],\n",
       " 'acsbso_vrp': [{'total_duration': 24540, 'days_needed': 1},\n",
       "  {'total_duration': 62820, 'days_needed': 2},\n",
       "  {'total_duration': 90960, 'days_needed': 3},\n",
       "  {'total_duration': 120360, 'days_needed': 3},\n",
       "  {'total_duration': 148620, 'days_needed': 4},\n",
       "  {'total_duration': 170220, 'days_needed': 4}],\n",
       " 'acsbso_tsp': [{'total_duration': 24540, 'days_needed': 1},\n",
       "  {'total_duration': 64020, 'days_needed': 2},\n",
       "  {'total_duration': 108600, 'days_needed': 3},\n",
       "  {'total_duration': 141660, 'days_needed': 4},\n",
       "  {'total_duration': 161400, 'days_needed': 4},\n",
       "  {'total_duration': 174480, 'days_needed': 5}]}"
      ]
     },
     "execution_count": 31,
     "metadata": {},
     "output_type": "execute_result"
    }
   ],
   "source": [
    "travel_duration_analysis"
   ]
  },
  {
   "cell_type": "code",
   "execution_count": 32,
   "id": "e9347f97",
   "metadata": {},
   "outputs": [
    {
     "name": "stdout",
     "output_type": "stream",
     "text": [
      "n =  5\n",
      "n =  10\n",
      "n =  15\n",
      "n =  20\n",
      "n =  25\n",
      "n =  30\n"
     ]
    }
   ],
   "source": [
    "n = [5,10,15,20,25,30]\n",
    "travel_duration_analysis = {\n",
    "    \"aco_vrp\": [],\n",
    "    \"aco_tsp\": [],\n",
    "    \"haco_vrp\": [],\n",
    "    \"haco_tsp\": []\n",
    "}\n",
    "for i in n:\n",
    "    # setting\n",
    "    hotel,tur,timematrix = generate_data(n=i,random_state=30)\n",
    "    travel_days = 100\n",
    "    dwaktu,dtarif,drating = 1,0,0\n",
    "    keys = [\"total_duration\",\"days_needed\"]\n",
    "    \n",
    "    print(\"n = \",i)\n",
    "    \n",
    "    aco_vrp = ACO_VRP(random_state=100)\n",
    "    results_aco_vrp = get_analysis(aco_vrp,hotel,tur,timematrix,travel_days,dwaktu,dtarif,drating)\n",
    "    travel_duration_analysis[\"aco_vrp\"].append({key: results_aco_vrp[key] for key in keys})\n",
    "    \n",
    "    aco_tsp = ACO_TSP(random_state=100)\n",
    "    results_aco_tsp = get_analysis(aco_tsp,hotel,tur,timematrix,travel_days,dwaktu,dtarif,drating)\n",
    "    travel_duration_analysis[\"aco_tsp\"].append({key: results_aco_tsp[key] for key in keys})\n",
    "    \n",
    "    haco_vrp = HACO_VRP(random_state=100)\n",
    "    results_haco_vrp = get_analysis(haco_vrp,hotel,tur,timematrix,travel_days,dwaktu,dtarif,drating)\n",
    "    travel_duration_analysis[\"haco_vrp\"].append({key: results_haco_vrp[key] for key in keys})\n",
    "    \n",
    "    haco_tsp = HACO_TSP(random_state=100)\n",
    "    results_haco_tsp = get_analysis(haco_tsp,hotel,tur,timematrix,travel_days,dwaktu,dtarif,drating)\n",
    "    travel_duration_analysis[\"haco_tsp\"].append({key: results_haco_tsp[key] for key in keys})"
   ]
  },
  {
   "cell_type": "code",
   "execution_count": 33,
   "id": "91ba4d4c",
   "metadata": {},
   "outputs": [
    {
     "data": {
      "text/plain": [
       "{'aco_vrp': [{'total_duration': 24540, 'days_needed': 1},\n",
       "  {'total_duration': 63480, 'days_needed': 2},\n",
       "  {'total_duration': 93660, 'days_needed': 3},\n",
       "  {'total_duration': 128940, 'days_needed': 3},\n",
       "  {'total_duration': 157260, 'days_needed': 4},\n",
       "  {'total_duration': 181920, 'days_needed': 5}],\n",
       " 'aco_tsp': [{'total_duration': 24600, 'days_needed': 1},\n",
       "  {'total_duration': 70200, 'days_needed': 2},\n",
       "  {'total_duration': 98040, 'days_needed': 3},\n",
       "  {'total_duration': 139380, 'days_needed': 4},\n",
       "  {'total_duration': 175080, 'days_needed': 5},\n",
       "  {'total_duration': 191100, 'days_needed': 5}],\n",
       " 'haco_vrp': [{'total_duration': 24540, 'days_needed': 1},\n",
       "  {'total_duration': 63120, 'days_needed': 2},\n",
       "  {'total_duration': 91740, 'days_needed': 3},\n",
       "  {'total_duration': 123000, 'days_needed': 3},\n",
       "  {'total_duration': 154080, 'days_needed': 4},\n",
       "  {'total_duration': 177300, 'days_needed': 5}],\n",
       " 'haco_tsp': [{'total_duration': 24540, 'days_needed': 1},\n",
       "  {'total_duration': 84120, 'days_needed': 3},\n",
       "  {'total_duration': 103020, 'days_needed': 3},\n",
       "  {'total_duration': 146100, 'days_needed': 4},\n",
       "  {'total_duration': 176880, 'days_needed': 5},\n",
       "  {'total_duration': 179100, 'days_needed': 5}]}"
      ]
     },
     "execution_count": 33,
     "metadata": {},
     "output_type": "execute_result"
    }
   ],
   "source": [
    "travel_duration_analysis"
   ]
  },
  {
   "cell_type": "markdown",
   "id": "40c5df6d",
   "metadata": {},
   "source": [
    "### 6. Tarif"
   ]
  },
  {
   "cell_type": "code",
   "execution_count": 5,
   "id": "482eb337",
   "metadata": {},
   "outputs": [],
   "source": [
    "# setting\n",
    "hotel,tur,timematrix = generate_data(n=30,random_state=30)\n",
    "travel_days = 3\n",
    "dwaktu,dtarif,drating = 0,1,0"
   ]
  },
  {
   "cell_type": "code",
   "execution_count": 35,
   "id": "bb9f8d55",
   "metadata": {},
   "outputs": [
    {
     "name": "stdout",
     "output_type": "stream",
     "text": [
      "ACS - VRP\n"
     ]
    },
    {
     "data": {
      "text/plain": [
       "{'solution': [[76, 18, 7, 22, 40, 74, 4, 10, 1],\n",
       "  [88, 9, 46, 86, 39, 71, 35],\n",
       "  [95, 16, 34, 11, 54, 73, 51]],\n",
       " 'fitness': 0.8590986394557824,\n",
       " 'days_needed': 3,\n",
       " 'poi_included': 23,\n",
       " 'avg_rating': 4.552173913043478,\n",
       " 'total_tarif': 28500,\n",
       " 'total_duration': 133680,\n",
       " 'run_time': 6.755185842514038}"
      ]
     },
     "execution_count": 35,
     "metadata": {},
     "output_type": "execute_result"
    }
   ],
   "source": [
    "print(\"ACS - VRP\")\n",
    "acs_vrp = ACS_VRP(random_state=100)\n",
    "results_acs_vrp = get_analysis(acs_vrp,hotel,tur,timematrix,travel_days,dwaktu,dtarif,drating)\n",
    "results_acs_vrp"
   ]
  },
  {
   "cell_type": "code",
   "execution_count": 8,
   "id": "cc1d06d9",
   "metadata": {},
   "outputs": [
    {
     "name": "stdout",
     "output_type": "stream",
     "text": [
      "ACS - TSP\n"
     ]
    },
    {
     "data": {
      "text/plain": [
       "{'solution': [[76, 71, 18, 29, 53],\n",
       "  [86, 54, 11, 34, 93],\n",
       "  [39, 1, 46, 22, 4, 40, 73]],\n",
       " 'fitness': 0.7202239229024943,\n",
       " 'days_needed': 3,\n",
       " 'poi_included': 17,\n",
       " 'avg_rating': 4.535294117647059,\n",
       " 'total_tarif': 68500,\n",
       " 'total_duration': 122580,\n",
       " 'run_time': 25.767087936401367}"
      ]
     },
     "execution_count": 8,
     "metadata": {},
     "output_type": "execute_result"
    }
   ],
   "source": [
    "print(\"ACS - TSP\")\n",
    "acs_tsp = ACS_TSP(random_state=100)\n",
    "results_acs_tsp = get_analysis(acs_tsp,hotel,tur,timematrix,travel_days,dwaktu,dtarif,drating)\n",
    "results_acs_tsp"
   ]
  },
  {
   "cell_type": "code",
   "execution_count": 9,
   "id": "99588e5b",
   "metadata": {},
   "outputs": [
    {
     "name": "stdout",
     "output_type": "stream",
     "text": [
      "BSO - VRP\n"
     ]
    },
    {
     "data": {
      "text/plain": [
       "{'solution': [[29, 16, 47, 86, 1, 7, 9],\n",
       "  [69, 22, 71, 18, 4, 73, 88],\n",
       "  [76, 54, 34, 95, 64, 40]],\n",
       " 'fitness': 0.6867339065255732,\n",
       " 'days_needed': 3,\n",
       " 'poi_included': 20,\n",
       " 'avg_rating': 4.51,\n",
       " 'total_tarif': 168000,\n",
       " 'total_duration': 123780,\n",
       " 'run_time': 0.4839038848876953}"
      ]
     },
     "execution_count": 9,
     "metadata": {},
     "output_type": "execute_result"
    }
   ],
   "source": [
    "print(\"BSO - VRP\")\n",
    "bso_vrp = BSO_VRP(random_state=100)\n",
    "results_bso_vrp = get_analysis(bso_vrp,hotel,tur,timematrix,travel_days,dwaktu,dtarif,drating)\n",
    "results_bso_vrp"
   ]
  },
  {
   "cell_type": "code",
   "execution_count": 10,
   "id": "990058e0",
   "metadata": {},
   "outputs": [
    {
     "name": "stdout",
     "output_type": "stream",
     "text": [
      "BSO - TSP\n"
     ]
    },
    {
     "data": {
      "text/plain": [
       "{'solution': [[69, 22, 71, 18, 4, 73],\n",
       "  [29, 16, 47, 86, 1, 88, 7],\n",
       "  [76, 54, 34, 95, 64]],\n",
       " 'fitness': 0.6503913139329807,\n",
       " 'days_needed': 3,\n",
       " 'poi_included': 18,\n",
       " 'avg_rating': 4.51111111111111,\n",
       " 'total_tarif': 168000,\n",
       " 'total_duration': 119100,\n",
       " 'run_time': 39.84673285484314}"
      ]
     },
     "execution_count": 10,
     "metadata": {},
     "output_type": "execute_result"
    }
   ],
   "source": [
    "print(\"BSO - TSP\")\n",
    "bso_tsp = BSO_TSP(random_state=100)\n",
    "results_bso_tsp = get_analysis(bso_tsp,hotel,tur,timematrix,travel_days,dwaktu,dtarif,drating)\n",
    "results_bso_tsp"
   ]
  },
  {
   "cell_type": "code",
   "execution_count": 11,
   "id": "aa6ab47e",
   "metadata": {},
   "outputs": [
    {
     "name": "stdout",
     "output_type": "stream",
     "text": [
      "Hybrid ACS-BSO - VRP\n"
     ]
    },
    {
     "data": {
      "text/plain": [
       "{'solution': [[54, 4, 76, 22, 93, 73, 10],\n",
       "  [11, 16, 69, 88, 86, 1, 46, 35, 7, 9],\n",
       "  [18, 34, 95, 74, 40, 71]],\n",
       " 'fitness': 0.8616496598639456,\n",
       " 'days_needed': 3,\n",
       " 'poi_included': 23,\n",
       " 'avg_rating': 4.556521739130434,\n",
       " 'total_tarif': 25500,\n",
       " 'total_duration': 133140,\n",
       " 'run_time': 51.925819873809814}"
      ]
     },
     "execution_count": 11,
     "metadata": {},
     "output_type": "execute_result"
    }
   ],
   "source": [
    "print(\"Hybrid ACS-BSO - VRP\")\n",
    "acsbso_vrp = ACSBSO_VRP(random_state=100)\n",
    "results_acsbso_vrp = get_analysis(acsbso_vrp,hotel,tur,timematrix,travel_days,dwaktu,dtarif,drating)\n",
    "results_acsbso_vrp"
   ]
  },
  {
   "cell_type": "code",
   "execution_count": 6,
   "id": "adbf3837",
   "metadata": {},
   "outputs": [
    {
     "name": "stdout",
     "output_type": "stream",
     "text": [
      "Hybrid ACS-BSO - TSP\n"
     ]
    },
    {
     "data": {
      "text/plain": [
       "{'solution': [[71, 4, 16, 18, 9, 51],\n",
       "  [11, 39, 10, 1, 22, 88, 53],\n",
       "  [86, 69, 54, 7, 73, 64, 74]],\n",
       " 'fitness': 0.7675878684807257,\n",
       " 'days_needed': 3,\n",
       " 'poi_included': 20,\n",
       " 'avg_rating': 4.589999999999999,\n",
       " 'total_tarif': 76500,\n",
       " 'total_duration': 128880,\n",
       " 'run_time': 511.5103974342346}"
      ]
     },
     "execution_count": 6,
     "metadata": {},
     "output_type": "execute_result"
    }
   ],
   "source": [
    "print(\"Hybrid ACS-BSO - TSP\")\n",
    "acsbso_tsp = ACSBSO_TSP(random_state=100)\n",
    "results_acsbso_tsp = get_analysis(acsbso_tsp,hotel,tur,timematrix,travel_days,dwaktu,dtarif,drating)\n",
    "results_acsbso_tsp"
   ]
  },
  {
   "cell_type": "code",
   "execution_count": 8,
   "id": "9b6eb835",
   "metadata": {},
   "outputs": [
    {
     "name": "stdout",
     "output_type": "stream",
     "text": [
      "ACO - VRP\n"
     ]
    },
    {
     "data": {
      "text/plain": [
       "{'solution': [[54, 22, 86, 46, 10, 7, 73, 1],\n",
       "  [71, 4, 9, 40, 74, 93],\n",
       "  [39, 16, 95, 76, 88, 35, 51]],\n",
       " 'fitness': 0.8230221718316957,\n",
       " 'days_needed': 3,\n",
       " 'poi_included': 21,\n",
       " 'avg_rating': 4.561904761904761,\n",
       " 'total_tarif': 31000,\n",
       " 'total_duration': 131160,\n",
       " 'run_time': 9.376783609390259}"
      ]
     },
     "execution_count": 8,
     "metadata": {},
     "output_type": "execute_result"
    }
   ],
   "source": [
    "print(\"ACO - VRP\")\n",
    "aco_vrp = ACO_VRP(random_state=100)\n",
    "results_aco_vrp = get_analysis(aco_vrp,hotel,tur,timematrix,travel_days,dwaktu,dtarif,drating)\n",
    "results_aco_vrp"
   ]
  },
  {
   "cell_type": "code",
   "execution_count": 9,
   "id": "e933982b",
   "metadata": {},
   "outputs": [
    {
     "name": "stdout",
     "output_type": "stream",
     "text": [
      "ACO - TSP\n"
     ]
    },
    {
     "data": {
      "text/plain": [
       "{'solution': [[16, 76, 35, 39, 71, 88],\n",
       "  [54, 1, 4, 72, 64],\n",
       "  [11, 47, 74, 51, 29, 7]],\n",
       " 'fitness': 0.5595852229780801,\n",
       " 'days_needed': 3,\n",
       " 'poi_included': 17,\n",
       " 'avg_rating': 4.535294117647059,\n",
       " 'total_tarif': 258500,\n",
       " 'total_duration': 123960,\n",
       " 'run_time': 15.005361080169678}"
      ]
     },
     "execution_count": 9,
     "metadata": {},
     "output_type": "execute_result"
    }
   ],
   "source": [
    "print(\"ACO - TSP\")\n",
    "aco_tsp = ACO_TSP(random_state=100)\n",
    "results_aco_tsp = get_analysis(aco_tsp,hotel,tur,timematrix,travel_days,dwaktu,dtarif,drating)\n",
    "results_aco_tsp"
   ]
  },
  {
   "cell_type": "code",
   "execution_count": 10,
   "id": "a071d274",
   "metadata": {},
   "outputs": [
    {
     "name": "stdout",
     "output_type": "stream",
     "text": [
      "HACO - VRP\n"
     ]
    },
    {
     "data": {
      "text/plain": [
       "{'solution': [[11, 10, 88, 93, 4, 35, 71],\n",
       "  [76, 86, 74, 22, 95, 34, 51],\n",
       "  [18, 16, 54, 73, 7, 9, 1, 46, 40]],\n",
       " 'fitness': 0.8620748299319728,\n",
       " 'days_needed': 3,\n",
       " 'poi_included': 23,\n",
       " 'avg_rating': 4.552173913043478,\n",
       " 'total_tarif': 25000,\n",
       " 'total_duration': 133920,\n",
       " 'run_time': 14.788794040679932}"
      ]
     },
     "execution_count": 10,
     "metadata": {},
     "output_type": "execute_result"
    }
   ],
   "source": [
    "print(\"HACO - VRP\")\n",
    "haco_vrp = HACO_VRP(random_state=100)\n",
    "results_haco_vrp = get_analysis(haco_vrp,hotel,tur,timematrix,travel_days,dwaktu,dtarif,drating)\n",
    "results_haco_vrp"
   ]
  },
  {
   "cell_type": "code",
   "execution_count": 11,
   "id": "b433556e",
   "metadata": {},
   "outputs": [
    {
     "name": "stdout",
     "output_type": "stream",
     "text": [
      "HACO - TSP\n"
     ]
    },
    {
     "data": {
      "text/plain": [
       "{'solution': [[95, 93, 46, 1, 22, 7, 10],\n",
       "  [54, 73, 51, 86, 18, 4, 40],\n",
       "  [29, 64, 53, 74, 35, 9]],\n",
       " 'fitness': 0.7469875913328294,\n",
       " 'days_needed': 3,\n",
       " 'poi_included': 20,\n",
       " 'avg_rating': 4.575,\n",
       " 'total_tarif': 100000,\n",
       " 'total_duration': 128100,\n",
       " 'run_time': 23.69922637939453}"
      ]
     },
     "execution_count": 11,
     "metadata": {},
     "output_type": "execute_result"
    }
   ],
   "source": [
    "print(\"HACO - TSP\")\n",
    "haco_tsp = HACO_TSP(random_state=100)\n",
    "results_haco_tsp = get_analysis(haco_tsp,hotel,tur,timematrix,travel_days,dwaktu,dtarif,drating)\n",
    "results_haco_tsp"
   ]
  },
  {
   "cell_type": "markdown",
   "id": "8921ecce",
   "metadata": {},
   "source": [
    "### 7. Rating"
   ]
  },
  {
   "cell_type": "code",
   "execution_count": 7,
   "id": "67427a13",
   "metadata": {},
   "outputs": [],
   "source": [
    "# setting\n",
    "hotel,tur,timematrix = generate_data(n=30,random_state=30)\n",
    "travel_days = 3\n",
    "dwaktu,dtarif,drating = 0,0,1"
   ]
  },
  {
   "cell_type": "code",
   "execution_count": 8,
   "id": "a1a556ab",
   "metadata": {},
   "outputs": [
    {
     "name": "stdout",
     "output_type": "stream",
     "text": [
      "ACS - VRP\n"
     ]
    },
    {
     "data": {
      "text/plain": [
       "{'solution': [[76, 73, 88, 64, 39, 71],\n",
       "  [1, 46, 22, 40, 10, 35, 53, 7, 9],\n",
       "  [74, 16, 69, 11, 18, 4, 86, 93]],\n",
       " 'fitness': 0.8130992196209587,\n",
       " 'days_needed': 3,\n",
       " 'poi_included': 23,\n",
       " 'avg_rating': 4.634782608695652,\n",
       " 'total_tarif': 81500,\n",
       " 'total_duration': 133860,\n",
       " 'run_time': 9.191624164581299}"
      ]
     },
     "execution_count": 8,
     "metadata": {},
     "output_type": "execute_result"
    }
   ],
   "source": [
    "print(\"ACS - VRP\")\n",
    "acs_vrp = ACS_VRP(random_state=100)\n",
    "results_acs_vrp = get_analysis(acs_vrp,hotel,tur,timematrix,travel_days,dwaktu,dtarif,drating)\n",
    "results_acs_vrp"
   ]
  },
  {
   "cell_type": "code",
   "execution_count": 9,
   "id": "c791104f",
   "metadata": {},
   "outputs": [
    {
     "name": "stdout",
     "output_type": "stream",
     "text": [
      "ACS - TSP\n"
     ]
    },
    {
     "data": {
      "text/plain": [
       "{'solution': [[88, 7, 73, 69, 35, 74, 53, 46],\n",
       "  [4, 9, 72, 93, 10, 95, 71],\n",
       "  [51, 29, 34, 18, 86, 1]],\n",
       " 'fitness': 0.7771825396825398,\n",
       " 'days_needed': 3,\n",
       " 'poi_included': 21,\n",
       " 'avg_rating': 4.628571428571429,\n",
       " 'total_tarif': 163000,\n",
       " 'total_duration': 130500,\n",
       " 'run_time': 10.758424043655396}"
      ]
     },
     "execution_count": 9,
     "metadata": {},
     "output_type": "execute_result"
    }
   ],
   "source": [
    "print(\"ACS - TSP\")\n",
    "acs_tsp = ACS_TSP(random_state=100)\n",
    "results_acs_tsp = get_analysis(acs_tsp,hotel,tur,timematrix,travel_days,dwaktu,dtarif,drating)\n",
    "results_acs_tsp"
   ]
  },
  {
   "cell_type": "code",
   "execution_count": 10,
   "id": "6092227d",
   "metadata": {},
   "outputs": [
    {
     "name": "stdout",
     "output_type": "stream",
     "text": [
      "BSO - VRP\n"
     ]
    },
    {
     "data": {
      "text/plain": [
       "{'solution': [[29, 16, 47, 86, 1, 7, 9],\n",
       "  [69, 22, 71, 18, 4, 73, 88],\n",
       "  [76, 54, 34, 95, 64, 40]],\n",
       " 'fitness': 0.7353602801519468,\n",
       " 'days_needed': 3,\n",
       " 'poi_included': 20,\n",
       " 'avg_rating': 4.51,\n",
       " 'total_tarif': 168000,\n",
       " 'total_duration': 123780,\n",
       " 'run_time': 0.5323574542999268}"
      ]
     },
     "execution_count": 10,
     "metadata": {},
     "output_type": "execute_result"
    }
   ],
   "source": [
    "print(\"BSO - VRP\")\n",
    "bso_vrp = BSO_VRP(random_state=100)\n",
    "results_bso_vrp = get_analysis(bso_vrp,hotel,tur,timematrix,travel_days,dwaktu,dtarif,drating)\n",
    "results_bso_vrp"
   ]
  },
  {
   "cell_type": "code",
   "execution_count": 11,
   "id": "0f100ee7",
   "metadata": {},
   "outputs": [
    {
     "name": "stdout",
     "output_type": "stream",
     "text": [
      "BSO - TSP\n"
     ]
    },
    {
     "data": {
      "text/plain": [
       "{'solution': [[69, 47, 16, 4, 29],\n",
       "  [18, 71, 22, 86, 73, 1],\n",
       "  [76, 54, 34, 95, 10, 46]],\n",
       " 'fitness': 0.6762226970560303,\n",
       " 'days_needed': 3,\n",
       " 'poi_included': 17,\n",
       " 'avg_rating': 4.5,\n",
       " 'total_tarif': 143000,\n",
       " 'total_duration': 112560,\n",
       " 'run_time': 39.464017391204834}"
      ]
     },
     "execution_count": 11,
     "metadata": {},
     "output_type": "execute_result"
    }
   ],
   "source": [
    "print(\"BSO - TSP\")\n",
    "bso_tsp = BSO_TSP(random_state=100)\n",
    "results_bso_tsp = get_analysis(bso_tsp,hotel,tur,timematrix,travel_days,dwaktu,dtarif,drating)\n",
    "results_bso_tsp"
   ]
  },
  {
   "cell_type": "code",
   "execution_count": 12,
   "id": "4086d4d5",
   "metadata": {},
   "outputs": [
    {
     "name": "stdout",
     "output_type": "stream",
     "text": [
      "Hybrid ACS-BSO - VRP\n"
     ]
    },
    {
     "data": {
      "text/plain": [
       "{'solution': [[76, 34, 7, 40, 4, 10, 88, 35, 9],\n",
       "  [11, 69, 86, 95, 47, 16, 18, 53, 73],\n",
       "  [72, 22, 46, 1, 74, 93]],\n",
       " 'fitness': 0.8240622032288698,\n",
       " 'days_needed': 3,\n",
       " 'poi_included': 24,\n",
       " 'avg_rating': 4.608333333333333,\n",
       " 'total_tarif': 220500,\n",
       " 'total_duration': 130800,\n",
       " 'run_time': 70.39633798599243}"
      ]
     },
     "execution_count": 12,
     "metadata": {},
     "output_type": "execute_result"
    }
   ],
   "source": [
    "print(\"Hybrid ACS-BSO - VRP\")\n",
    "acsbso_vrp = ACSBSO_VRP(random_state=100)\n",
    "results_acsbso_vrp = get_analysis(acsbso_vrp,hotel,tur,timematrix,travel_days,dwaktu,dtarif,drating)\n",
    "results_acsbso_vrp"
   ]
  },
  {
   "cell_type": "code",
   "execution_count": 13,
   "id": "95a51828",
   "metadata": {},
   "outputs": [
    {
     "name": "stdout",
     "output_type": "stream",
     "text": [
      "Hybrid ACS-BSO - TSP\n"
     ]
    },
    {
     "data": {
      "text/plain": [
       "{'solution': [[46, 76, 53, 1, 10, 93],\n",
       "  [72, 47, 71, 4, 22, 7],\n",
       "  [39, 69, 16, 54, 29, 40]],\n",
       " 'fitness': 0.710116927825261,\n",
       " 'days_needed': 3,\n",
       " 'poi_included': 18,\n",
       " 'avg_rating': 4.544444444444444,\n",
       " 'total_tarif': 251500,\n",
       " 'total_duration': 127320,\n",
       " 'run_time': 440.4953348636627}"
      ]
     },
     "execution_count": 13,
     "metadata": {},
     "output_type": "execute_result"
    }
   ],
   "source": [
    "print(\"Hybrid ACS-BSO - TSP\")\n",
    "acsbso_tsp = ACSBSO_TSP(random_state=100)\n",
    "results_acsbso_tsp = get_analysis(acsbso_tsp,hotel,tur,timematrix,travel_days,dwaktu,dtarif,drating)\n",
    "results_acsbso_tsp"
   ]
  },
  {
   "cell_type": "code",
   "execution_count": 14,
   "id": "a2a1df1e",
   "metadata": {},
   "outputs": [
    {
     "name": "stdout",
     "output_type": "stream",
     "text": [
      "ACO - VRP\n"
     ]
    },
    {
     "data": {
      "text/plain": [
       "{'solution': [[4, 10, 35, 22, 73, 88, 46, 53],\n",
       "  [69, 64, 39, 93, 71],\n",
       "  [74, 7, 9, 1, 18, 76, 51, 40]],\n",
       " 'fitness': 0.7837958723375389,\n",
       " 'days_needed': 3,\n",
       " 'poi_included': 21,\n",
       " 'avg_rating': 4.657142857142857,\n",
       " 'total_tarif': 89000,\n",
       " 'total_duration': 131100,\n",
       " 'run_time': 6.771066665649414}"
      ]
     },
     "execution_count": 14,
     "metadata": {},
     "output_type": "execute_result"
    }
   ],
   "source": [
    "print(\"ACO - VRP\")\n",
    "aco_vrp = ACO_VRP(random_state=100)\n",
    "results_aco_vrp = get_analysis(aco_vrp,hotel,tur,timematrix,travel_days,dwaktu,dtarif,drating)\n",
    "results_aco_vrp"
   ]
  },
  {
   "cell_type": "code",
   "execution_count": 15,
   "id": "d7559d49",
   "metadata": {},
   "outputs": [
    {
     "name": "stdout",
     "output_type": "stream",
     "text": [
      "ACO - TSP\n"
     ]
    },
    {
     "data": {
      "text/plain": [
       "{'solution': [[46, 53, 1, 7, 88, 9],\n",
       "  [64, 74, 73, 93, 35],\n",
       "  [69, 39, 51, 10, 22]],\n",
       " 'fitness': 0.7024661680911681,\n",
       " 'days_needed': 3,\n",
       " 'poi_included': 16,\n",
       " 'avg_rating': 4.7125,\n",
       " 'total_tarif': 84000,\n",
       " 'total_duration': 115740,\n",
       " 'run_time': 13.435012578964233}"
      ]
     },
     "execution_count": 15,
     "metadata": {},
     "output_type": "execute_result"
    }
   ],
   "source": [
    "print(\"ACO - TSP\")\n",
    "aco_tsp = ACO_TSP(random_state=100)\n",
    "results_aco_tsp = get_analysis(aco_tsp,hotel,tur,timematrix,travel_days,dwaktu,dtarif,drating)\n",
    "results_aco_tsp"
   ]
  },
  {
   "cell_type": "code",
   "execution_count": 16,
   "id": "b22a19b0",
   "metadata": {},
   "outputs": [
    {
     "name": "stdout",
     "output_type": "stream",
     "text": [
      "HACO - VRP\n"
     ]
    },
    {
     "data": {
      "text/plain": [
       "{'solution': [[69, 22, 4, 10, 88, 53, 9, 74],\n",
       "  [40, 76, 18, 11, 7, 34, 1, 73, 35],\n",
       "  [47, 16, 86, 46, 54, 95, 71]],\n",
       " 'fitness': 0.8174679487179486,\n",
       " 'days_needed': 3,\n",
       " 'poi_included': 24,\n",
       " 'avg_rating': 4.570833333333333,\n",
       " 'total_tarif': 148000,\n",
       " 'total_duration': 132360,\n",
       " 'run_time': 15.568541765213013}"
      ]
     },
     "execution_count": 16,
     "metadata": {},
     "output_type": "execute_result"
    }
   ],
   "source": [
    "print(\"HACO - VRP\")\n",
    "haco_vrp = HACO_VRP(random_state=100)\n",
    "results_haco_vrp = get_analysis(haco_vrp,hotel,tur,timematrix,travel_days,dwaktu,dtarif,drating)\n",
    "results_haco_vrp"
   ]
  },
  {
   "cell_type": "code",
   "execution_count": 17,
   "id": "4f60a8f1",
   "metadata": {},
   "outputs": [
    {
     "name": "stdout",
     "output_type": "stream",
     "text": [
      "HACO - TSP\n"
     ]
    },
    {
     "data": {
      "text/plain": [
       "{'solution': [[46, 53, 1, 73, 88, 4],\n",
       "  [34, 18, 54, 11, 93, 10],\n",
       "  [7, 16, 22, 86, 29, 71]],\n",
       " 'fitness': 0.7161918328584996,\n",
       " 'days_needed': 3,\n",
       " 'poi_included': 18,\n",
       " 'avg_rating': 4.572222222222223,\n",
       " 'total_tarif': 62500,\n",
       " 'total_duration': 127200,\n",
       " 'run_time': 23.022470951080322}"
      ]
     },
     "execution_count": 17,
     "metadata": {},
     "output_type": "execute_result"
    }
   ],
   "source": [
    "print(\"HACO - TSP\")\n",
    "haco_tsp = HACO_TSP(random_state=100)\n",
    "results_haco_tsp = get_analysis(haco_tsp,hotel,tur,timematrix,travel_days,dwaktu,dtarif,drating)\n",
    "results_haco_tsp"
   ]
  },
  {
   "cell_type": "code",
   "execution_count": null,
   "id": "9b525ef2",
   "metadata": {},
   "outputs": [],
   "source": []
  },
  {
   "cell_type": "code",
   "execution_count": null,
   "id": "42ac35b8",
   "metadata": {},
   "outputs": [],
   "source": []
  },
  {
   "cell_type": "code",
   "execution_count": null,
   "id": "a74949e9",
   "metadata": {},
   "outputs": [],
   "source": []
  },
  {
   "cell_type": "code",
   "execution_count": null,
   "id": "871a210a",
   "metadata": {},
   "outputs": [],
   "source": []
  }
 ],
 "metadata": {
  "kernelspec": {
   "display_name": "Python 3 (ipykernel)",
   "language": "python",
   "name": "python3"
  },
  "language_info": {
   "codemirror_mode": {
    "name": "ipython",
    "version": 3
   },
   "file_extension": ".py",
   "mimetype": "text/x-python",
   "name": "python",
   "nbconvert_exporter": "python",
   "pygments_lexer": "ipython3",
   "version": "3.11.3"
  }
 },
 "nbformat": 4,
 "nbformat_minor": 5
}
