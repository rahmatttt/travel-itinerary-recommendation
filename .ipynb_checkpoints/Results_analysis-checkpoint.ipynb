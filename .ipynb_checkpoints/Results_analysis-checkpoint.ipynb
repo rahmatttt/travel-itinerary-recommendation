{
 "cells": [
  {
   "cell_type": "markdown",
   "id": "b3e9a7e3",
   "metadata": {},
   "source": [
    "# Results Analysis"
   ]
  },
  {
   "cell_type": "code",
   "execution_count": 1,
   "id": "4c1da47a",
   "metadata": {},
   "outputs": [],
   "source": [
    "from optimization.acs import ACS_VRP,ACS_TSP\n",
    "from optimization.bso import BSO_VRP,BSO_TSP\n",
    "from optimization.hybrid_acs_bso import ACSBSO_VRP,ACSBSO_TSP\n",
    "\n",
    "from optimization.aco import ACO_VRP,ACO_TSP\n",
    "from optimization.haco import HACO_VRP,HACO_TSP\n",
    "\n",
    "from optimization.koneksi import ConDB\n",
    "\n",
    "import sql_connection\n",
    "import json\n",
    "import time\n",
    "import random\n",
    "import datetime\n",
    "import copy\n",
    "\n",
    "import matplotlib.pyplot as plt\n",
    "from matplotlib.cm import get_cmap\n",
    "from matplotlib.patches import FancyArrowPatch\n",
    "\n",
    "import warnings\n",
    "warnings.filterwarnings('ignore')"
   ]
  },
  {
   "cell_type": "markdown",
   "id": "10e4eab2",
   "metadata": {},
   "source": [
    "## Generate Data"
   ]
  },
  {
   "cell_type": "code",
   "execution_count": 2,
   "id": "6ce38b3a",
   "metadata": {},
   "outputs": [],
   "source": [
    "def generate_data(n = 30, random_state = None):\n",
    "    random.seed(random_state)\n",
    "    query = \"\"\"SELECT \n",
    "                    p.post_id,\n",
    "                    p.post_type,\n",
    "                    CASE\n",
    "                        WHEN pj.pj_jam_buka = pj.pj_jam_tutup THEN \"tutup\"\n",
    "                        ELSE \"buka\"\n",
    "                    END AS is_operate\n",
    "                FROM \n",
    "                    posts p\n",
    "                LEFT JOIN\n",
    "                    posts_jadwal pj\n",
    "                    ON p.post_id = pj.pj_id_tempat AND pj.pj_hari = \"minggu\"\n",
    "                \"\"\"\n",
    "\n",
    "    df_location = sql_connection.read_from_sql(query)\n",
    "    \n",
    "    tourid = df_location[(df_location['post_type']==\"location\")&\n",
    "                         (df_location['is_operate'] != \"tutup\")]['post_id'].values.tolist()\n",
    "    tourid = random.sample(tourid,n)\n",
    "    idhotel = df_location[df_location['post_type']==\"hotel\"]['post_id'].values.tolist()\n",
    "    idhotel = idhotel[random.randint(0,len(idhotel)-1)]\n",
    "    \n",
    "    db = ConDB()\n",
    "\n",
    "    hotel = db.HotelbyID(idhotel)\n",
    "    tur = db.WisatabyID(tourid)\n",
    "    timematrix = db.TimeMatrixbyID(hotel._id,tourid)\n",
    "    \n",
    "    return hotel,tur,timematrix"
   ]
  },
  {
   "cell_type": "markdown",
   "id": "5cd6cb1b",
   "metadata": {},
   "source": [
    "## Analisis\n",
    "scenario analisis:\n",
    "1. semua degree 1, 30 pois, 3 hari wisata, all method cek fitness, travel duration, total tarif, rata-rata rating, poi included, running time\n",
    "2. semua degree 1, 0, 5-10-15-20-25-30 pois, 3 hari wisata, all method, cek running time\n",
    "3. degree travel duration 1 sisanya 0, 5-10-15-20-25-30 pois, 365 hari wisata, all method, cek travel duration and travel days\n",
    "4. degree tarif 1 sisanya 0, 30 pois, 3 hari wisata, all method, cek total tarif\n",
    "5. degree rating 1 sisanya 0, 30 pois, 3 hari wisata, all method, cek rata rata rating\n",
    "\n",
    "story:\n",
    "1. overview: jelasin dulu secara keseluruhan dengan scenario analisis no. 1 terus breakdown best model dengan beberapa random berbeda dan running time nya"
   ]
  },
  {
   "cell_type": "code",
   "execution_count": 3,
   "id": "7b90e758",
   "metadata": {},
   "outputs": [],
   "source": [
    "def find_node(node_id,tour):\n",
    "    for node in tour:\n",
    "        if node._id == node_id:\n",
    "            return node\n",
    "    return False\n",
    "\n",
    "def time_to_second(time):\n",
    "    return (time.hour*3600)+(time.minute*60)+time.second\n",
    "\n",
    "def diff_second_between_time(time_a,time_b):\n",
    "    #input: time_a and time_b, datetime.time()\n",
    "    #output: time_b - time_a, seconds (int)\n",
    "    return time_to_second(time_b) - time_to_second(time_a)\n",
    "\n",
    "def get_attribute_analysis(solution):\n",
    "    days_needed = len(solution)\n",
    "    poi_included = len(sum([sol[\"index\"] for sol in solution],[]))\n",
    "    avg_rating = sum(sum([sol[\"rating\"] for sol in solution],[]))/poi_included\n",
    "    total_tarif = sum(sum([sol[\"tarif\"] for sol in solution],[]))\n",
    "    total_duration = sum([diff_second_between_time(j[0],j[-1]) for j in [i['waktu'] for i in solution]])\n",
    "    return days_needed,poi_included,avg_rating,total_tarif,total_duration\n",
    "\n",
    "def get_analysis(model,hotel,tur,timematrix,travel_days,dwaktu,dtarif,drating):\n",
    "    start = time.time()\n",
    "    model.set_model(tour=tur,hotel=hotel,timematrix=timematrix,\n",
    "                    travel_days=travel_days,\n",
    "                    degree_waktu = dwaktu,degree_tarif = dtarif,degree_rating = drating)\n",
    "    solution,fitness = model.construct_solution()[-2:]\n",
    "    end = time.time()\n",
    "    run_time = end-start\n",
    "    days_needed,poi_included,avg_rating,total_tarif,total_duration = get_attribute_analysis(solution)\n",
    "    results = {\"solution\":[sol[\"index\"] for sol in solution],\n",
    "              \"fitness\":fitness,\n",
    "              \"days_needed\":days_needed,\n",
    "              \"poi_included\":poi_included,\n",
    "              \"avg_rating\":avg_rating,\n",
    "              \"total_tarif\":total_tarif,\n",
    "              \"total_duration\":total_duration,\n",
    "              \"run_time\":run_time}\n",
    "    \n",
    "    return results"
   ]
  },
  {
   "cell_type": "code",
   "execution_count": 4,
   "id": "16b6a34d",
   "metadata": {},
   "outputs": [],
   "source": [
    "def get_detail_node_on_solution(solution):\n",
    "    db = ConDB()\n",
    "    node_solution = []\n",
    "    for i in solution:\n",
    "        nodes = db.WisatabyID(i)\n",
    "        node_solution.append(nodes)\n",
    "    return node_solution\n",
    "\n",
    "def visualize_solution(solution_node,hotel):\n",
    "    # Sample VRP data\n",
    "    vrp_data = [[hotel]+sol+[hotel] for sol in solution_node]\n",
    "    \n",
    "    # Generate random node coordinates\n",
    "    node_coords = {node._id: (float(node.long), float(node.lat)) for node in set(node for route in vrp_data for node in route)}  \n",
    "\n",
    "    # Number of routes (you can calculate this)\n",
    "    num_routes = len(vrp_data)\n",
    "\n",
    "    # Create the plot\n",
    "    fig, ax = plt.subplots(figsize=(12,9))\n",
    "\n",
    "    # Define the colors for routes using a colormap\n",
    "    cmap = plt.get_cmap('tab20', num_routes)\n",
    "\n",
    "    for i, route in enumerate(vrp_data):\n",
    "        x = [node_coords[node._id][0] for node in route]\n",
    "        y = [node_coords[node._id][1] for node in route]\n",
    "        color = cmap(i)  # Get the color for the route\n",
    "        # Plot the nodes (scatter plot)\n",
    "        ax.scatter(x, y, c=color, label=f'Route {i + 1}', s=100)\n",
    "\n",
    "        for j in range(len(x) - 1):\n",
    "            # Make the arrow heads larger by increasing mutation_scale\n",
    "            arrow = FancyArrowPatch(\n",
    "                (x[j], y[j]), (x[j + 1], y[j + 1]),\n",
    "                arrowstyle='->', mutation_scale=15, color=color\n",
    "            )\n",
    "            ax.add_patch(arrow)\n",
    "\n",
    "    # Set node 159 (start and end point) to black\n",
    "    start_x, start_y = node_coords[hotel._id]\n",
    "    ax.scatter(start_x, start_y, c='k', label='Hotel', s=100)\n",
    "\n",
    "    # Add labels for nodes\n",
    "    for node, (x, y) in node_coords.items():\n",
    "        ax.annotate(str(node), (x, y), textcoords=\"offset points\", xytext=(0, 10), ha='center')\n",
    "\n",
    "    # Add legend\n",
    "    ax.legend()\n",
    "\n",
    "    plt.show()\n",
    "\n"
   ]
  },
  {
   "cell_type": "markdown",
   "id": "e0ba9868",
   "metadata": {},
   "source": [
    "### 1. Overview"
   ]
  },
  {
   "cell_type": "code",
   "execution_count": 33,
   "id": "cb5cb3e3",
   "metadata": {},
   "outputs": [
    {
     "name": "stderr",
     "output_type": "stream",
     "text": [
      "C:\\Users\\rahma\\Documents\\kuliah\\thesis\\rahmat_code\\travel-itinerary-recommendation\\sql_connection.py:23: UserWarning: pandas only supports SQLAlchemy connectable (engine/connection) or database string URI or sqlite3 DBAPI2 connection. Other DBAPI2 objects are not tested. Please consider using SQLAlchemy.\n",
      "  dataset = pd.read_sql(query, mydb)\n"
     ]
    }
   ],
   "source": [
    "# setting\n",
    "hotel,tur,timematrix = generate_data(n=30,random_state=30) #random state 50 blacklist\n",
    "travel_days = 3\n",
    "dwaktu,dtarif,drating = 1,1,1"
   ]
  },
  {
   "cell_type": "code",
   "execution_count": 34,
   "id": "5b3918bb",
   "metadata": {},
   "outputs": [
    {
     "name": "stdout",
     "output_type": "stream",
     "text": [
      "ACS - VRP\n"
     ]
    },
    {
     "data": {
      "text/plain": [
       "{'solution': [[76, 95, 93, 71, 18, 35, 73, 88],\n",
       "  [11, 54, 34, 1, 9, 7, 22, 40],\n",
       "  [16, 69, 4, 86, 74, 10, 46]],\n",
       " 'fitness': 0.6886417340998086,\n",
       " 'days_needed': 3,\n",
       " 'poi_included': 23,\n",
       " 'avg_rating': 4.556521739130434,\n",
       " 'total_tarif': 25500,\n",
       " 'total_duration': 123960,\n",
       " 'run_time': 13.057544708251953}"
      ]
     },
     "execution_count": 34,
     "metadata": {},
     "output_type": "execute_result"
    }
   ],
   "source": [
    "print(\"ACS - VRP\")\n",
    "acs_vrp = ACS_VRP(random_state=100)\n",
    "results_acs_vrp = get_analysis(acs_vrp,hotel,tur,timematrix,travel_days,dwaktu,dtarif,drating)\n",
    "results_acs_vrp"
   ]
  },
  {
   "cell_type": "code",
   "execution_count": 36,
   "id": "9a4bf628",
   "metadata": {},
   "outputs": [
    {
     "name": "stdout",
     "output_type": "stream",
     "text": [
      "ACS - TSP\n"
     ]
    },
    {
     "data": {
      "text/plain": [
       "{'solution': [[1, 53, 7, 10, 9, 4, 74],\n",
       "  [69, 11, 76, 40, 39, 64, 51],\n",
       "  [34, 29, 47, 16, 95, 73]],\n",
       " 'fitness': 0.5573323868958789,\n",
       " 'days_needed': 3,\n",
       " 'poi_included': 20,\n",
       " 'avg_rating': 4.59,\n",
       " 'total_tarif': 201500,\n",
       " 'total_duration': 126060,\n",
       " 'run_time': 14.970253944396973}"
      ]
     },
     "execution_count": 36,
     "metadata": {},
     "output_type": "execute_result"
    }
   ],
   "source": [
    "print(\"ACS - TSP\")\n",
    "acs_tsp = ACS_TSP(random_state=100)\n",
    "results_acs_tsp = get_analysis(acs_tsp,hotel,tur,timematrix,travel_days,dwaktu,dtarif,drating)\n",
    "results_acs_tsp"
   ]
  },
  {
   "cell_type": "code",
   "execution_count": 37,
   "id": "21065659",
   "metadata": {},
   "outputs": [
    {
     "name": "stdout",
     "output_type": "stream",
     "text": [
      "BSO - VRP\n"
     ]
    },
    {
     "data": {
      "text/plain": [
       "{'solution': [[29, 16, 47, 86, 1, 7, 9],\n",
       "  [69, 22, 71, 18, 4, 73, 88],\n",
       "  [76, 54, 34, 95, 64, 40]],\n",
       " 'fitness': 0.5691533260977705,\n",
       " 'days_needed': 3,\n",
       " 'poi_included': 20,\n",
       " 'avg_rating': 4.51,\n",
       " 'total_tarif': 168000,\n",
       " 'total_duration': 123780,\n",
       " 'run_time': 0.9690842628479004}"
      ]
     },
     "execution_count": 37,
     "metadata": {},
     "output_type": "execute_result"
    }
   ],
   "source": [
    "print(\"BSO - VRP\")\n",
    "bso_vrp = BSO_VRP(random_state=100)\n",
    "results_bso_vrp = get_analysis(bso_vrp,hotel,tur,timematrix,travel_days,dwaktu,dtarif,drating)\n",
    "results_bso_vrp"
   ]
  },
  {
   "cell_type": "code",
   "execution_count": 38,
   "id": "ce917837",
   "metadata": {},
   "outputs": [
    {
     "name": "stdout",
     "output_type": "stream",
     "text": [
      "BSO - TSP\n"
     ]
    },
    {
     "data": {
      "text/plain": [
       "{'solution': [[69, 4, 86, 18, 95, 73, 16, 71],\n",
       "  [47, 54, 29, 34, 1],\n",
       "  [76, 22, 72, 9, 7, 10, 11, 35, 88]],\n",
       " 'fitness': 0.5631434042148328,\n",
       " 'days_needed': 3,\n",
       " 'poi_included': 22,\n",
       " 'avg_rating': 4.518181818181818,\n",
       " 'total_tarif': 228000,\n",
       " 'total_duration': 118260,\n",
       " 'run_time': 28.259628534317017}"
      ]
     },
     "execution_count": 38,
     "metadata": {},
     "output_type": "execute_result"
    }
   ],
   "source": [
    "print(\"BSO - TSP\")\n",
    "bso_tsp = BSO_TSP(random_state=100)\n",
    "results_bso_tsp = get_analysis(bso_tsp,hotel,tur,timematrix,travel_days,dwaktu,dtarif,drating)\n",
    "results_bso_tsp"
   ]
  },
  {
   "cell_type": "code",
   "execution_count": 35,
   "id": "aca1816a",
   "metadata": {},
   "outputs": [
    {
     "name": "stdout",
     "output_type": "stream",
     "text": [
      "Hybrid ACS-BSO - VRP\n"
     ]
    },
    {
     "data": {
      "text/plain": [
       "{'solution': [[34, 74, 40, 93, 73],\n",
       "  [16, 54, 71, 95, 86, 88, 35, 10, 9],\n",
       "  [69, 11, 4, 18, 22, 76, 1, 7, 46]],\n",
       " 'fitness': 0.692216836980467,\n",
       " 'days_needed': 3,\n",
       " 'poi_included': 23,\n",
       " 'avg_rating': 4.556521739130434,\n",
       " 'total_tarif': 25500,\n",
       " 'total_duration': 120300,\n",
       " 'run_time': 94.49507784843445}"
      ]
     },
     "execution_count": 35,
     "metadata": {},
     "output_type": "execute_result"
    }
   ],
   "source": [
    "print(\"Hybrid ACS-BSO - VRP\")\n",
    "acsbso_vrp = ACSBSO_VRP(random_state=100)\n",
    "results_acsbso_vrp = get_analysis(acsbso_vrp,hotel,tur,timematrix,travel_days,dwaktu,dtarif,drating)\n",
    "results_acsbso_vrp"
   ]
  },
  {
   "cell_type": "code",
   "execution_count": 39,
   "id": "7cd25055",
   "metadata": {},
   "outputs": [
    {
     "name": "stdout",
     "output_type": "stream",
     "text": [
      "Hybrid ACS-BSO - TSP\n"
     ]
    },
    {
     "data": {
      "text/plain": [
       "{'solution': [[35, 88, 4, 11, 10, 9, 7, 46],\n",
       "  [69, 86, 18, 1, 53, 95, 22, 73],\n",
       "  [72, 47, 16, 54, 71, 93]],\n",
       " 'fitness': 0.5629285764206399,\n",
       " 'days_needed': 3,\n",
       " 'poi_included': 22,\n",
       " 'avg_rating': 4.577272727272727,\n",
       " 'total_tarif': 225500,\n",
       " 'total_duration': 128520,\n",
       " 'run_time': 110.97899723052979}"
      ]
     },
     "execution_count": 39,
     "metadata": {},
     "output_type": "execute_result"
    }
   ],
   "source": [
    "print(\"Hybrid ACS-BSO - TSP\")\n",
    "acsbso_tsp = ACSBSO_TSP(random_state=100)\n",
    "results_acsbso_tsp = get_analysis(acsbso_tsp,hotel,tur,timematrix,travel_days,dwaktu,dtarif,drating)\n",
    "results_acsbso_tsp"
   ]
  },
  {
   "cell_type": "code",
   "execution_count": 40,
   "id": "49d68b5f",
   "metadata": {},
   "outputs": [
    {
     "name": "stdout",
     "output_type": "stream",
     "text": [
      "ACO - VRP\n"
     ]
    },
    {
     "data": {
      "text/plain": [
       "{'solution': [[76, 18, 16, 46, 88, 73, 40, 35, 4],\n",
       "  [34, 51, 95, 71, 22, 9],\n",
       "  [11, 54, 93, 10, 74, 7, 1]],\n",
       " 'fitness': 0.6741053846212576,\n",
       " 'days_needed': 3,\n",
       " 'poi_included': 22,\n",
       " 'avg_rating': 4.559090909090909,\n",
       " 'total_tarif': 25000,\n",
       " 'total_duration': 128820,\n",
       " 'run_time': 8.810433626174927}"
      ]
     },
     "execution_count": 40,
     "metadata": {},
     "output_type": "execute_result"
    }
   ],
   "source": [
    "print(\"ACO - VRP\")\n",
    "aco_vrp = ACO_VRP(random_state=100)\n",
    "results_aco_vrp = get_analysis(aco_vrp,hotel,tur,timematrix,travel_days,dwaktu,dtarif,drating)\n",
    "results_aco_vrp"
   ]
  },
  {
   "cell_type": "code",
   "execution_count": 41,
   "id": "f12e6887",
   "metadata": {},
   "outputs": [
    {
     "name": "stdout",
     "output_type": "stream",
     "text": [
      "ACO - TSP\n"
     ]
    },
    {
     "data": {
      "text/plain": [
       "{'solution': [[53, 4, 9, 7, 46, 73],\n",
       "  [18, 39, 76, 11, 16, 22],\n",
       "  [69, 51, 64, 34, 40, 35]],\n",
       " 'fitness': 0.6093853970838098,\n",
       " 'days_needed': 3,\n",
       " 'poi_included': 18,\n",
       " 'avg_rating': 4.616666666666666,\n",
       " 'total_tarif': 81500,\n",
       " 'total_duration': 123480,\n",
       " 'run_time': 10.065051317214966}"
      ]
     },
     "execution_count": 41,
     "metadata": {},
     "output_type": "execute_result"
    }
   ],
   "source": [
    "print(\"ACO - TSP\")\n",
    "aco_tsp = ACO_TSP(random_state=100)\n",
    "results_aco_tsp = get_analysis(aco_tsp,hotel,tur,timematrix,travel_days,dwaktu,dtarif,drating)\n",
    "results_aco_tsp"
   ]
  },
  {
   "cell_type": "code",
   "execution_count": 42,
   "id": "cd4fb0d9",
   "metadata": {},
   "outputs": [
    {
     "name": "stdout",
     "output_type": "stream",
     "text": [
      "HACO - VRP\n"
     ]
    },
    {
     "data": {
      "text/plain": [
       "{'solution': [[16, 11, 69, 34, 51, 7, 46],\n",
       "  [76, 95, 71, 93, 9, 40, 73, 88],\n",
       "  [1, 22, 86, 18, 35, 4, 10, 74]],\n",
       " 'fitness': 0.6864573669180293,\n",
       " 'days_needed': 3,\n",
       " 'poi_included': 23,\n",
       " 'avg_rating': 4.591304347826086,\n",
       " 'total_tarif': 33000,\n",
       " 'total_duration': 127260,\n",
       " 'run_time': 15.274240493774414}"
      ]
     },
     "execution_count": 42,
     "metadata": {},
     "output_type": "execute_result"
    }
   ],
   "source": [
    "print(\"HACO - VRP\")\n",
    "haco_vrp = HACO_VRP(random_state=100)\n",
    "results_haco_vrp = get_analysis(haco_vrp,hotel,tur,timematrix,travel_days,dwaktu,dtarif,drating)\n",
    "results_haco_vrp"
   ]
  },
  {
   "cell_type": "code",
   "execution_count": 43,
   "id": "ea251cde",
   "metadata": {},
   "outputs": [
    {
     "name": "stdout",
     "output_type": "stream",
     "text": [
      "HACO - TSP\n"
     ]
    },
    {
     "data": {
      "text/plain": [
       "{'solution': [[53, 46, 73, 10, 9, 7],\n",
       "  [16, 47, 72, 86, 18, 74, 40],\n",
       "  [69, 76, 39, 64, 34, 51]],\n",
       " 'fitness': 0.5262807889687587,\n",
       " 'days_needed': 3,\n",
       " 'poi_included': 19,\n",
       " 'avg_rating': 4.6157894736842096,\n",
       " 'total_tarif': 246500,\n",
       " 'total_duration': 123960,\n",
       " 'run_time': 21.9304940700531}"
      ]
     },
     "execution_count": 43,
     "metadata": {},
     "output_type": "execute_result"
    }
   ],
   "source": [
    "print(\"HACO - TSP\")\n",
    "haco_tsp = HACO_TSP(random_state=100)\n",
    "results_haco_tsp = get_analysis(haco_tsp,hotel,tur,timematrix,travel_days,dwaktu,dtarif,drating)\n",
    "results_haco_tsp"
   ]
  },
  {
   "cell_type": "markdown",
   "id": "c37d23fe",
   "metadata": {},
   "source": [
    "### 2. Overview: Variasi hasil berdasarkan node yang berbeda"
   ]
  },
  {
   "cell_type": "code",
   "execution_count": 44,
   "id": "c43399b5",
   "metadata": {},
   "outputs": [
    {
     "name": "stderr",
     "output_type": "stream",
     "text": [
      "C:\\Users\\rahma\\Documents\\kuliah\\thesis\\rahmat_code\\travel-itinerary-recommendation\\sql_connection.py:23: UserWarning: pandas only supports SQLAlchemy connectable (engine/connection) or database string URI or sqlite3 DBAPI2 connection. Other DBAPI2 objects are not tested. Please consider using SQLAlchemy.\n",
      "  dataset = pd.read_sql(query, mydb)\n"
     ]
    },
    {
     "name": "stdout",
     "output_type": "stream",
     "text": [
      "Hybrid ACS-BSO - VRP -  1\n",
      "fitness =  0.6494000145671729\n",
      "==========================\n"
     ]
    },
    {
     "name": "stderr",
     "output_type": "stream",
     "text": [
      "C:\\Users\\rahma\\Documents\\kuliah\\thesis\\rahmat_code\\travel-itinerary-recommendation\\sql_connection.py:23: UserWarning: pandas only supports SQLAlchemy connectable (engine/connection) or database string URI or sqlite3 DBAPI2 connection. Other DBAPI2 objects are not tested. Please consider using SQLAlchemy.\n",
      "  dataset = pd.read_sql(query, mydb)\n"
     ]
    },
    {
     "name": "stdout",
     "output_type": "stream",
     "text": [
      "Hybrid ACS-BSO - VRP -  2\n",
      "fitness =  0.692216836980467\n",
      "==========================\n",
      "Hybrid ACS-BSO - VRP -  3\n"
     ]
    },
    {
     "name": "stderr",
     "output_type": "stream",
     "text": [
      "C:\\Users\\rahma\\Documents\\kuliah\\thesis\\rahmat_code\\travel-itinerary-recommendation\\sql_connection.py:23: UserWarning: pandas only supports SQLAlchemy connectable (engine/connection) or database string URI or sqlite3 DBAPI2 connection. Other DBAPI2 objects are not tested. Please consider using SQLAlchemy.\n",
      "  dataset = pd.read_sql(query, mydb)\n"
     ]
    },
    {
     "name": "stdout",
     "output_type": "stream",
     "text": [
      "fitness =  0.6783556799851964\n",
      "==========================\n"
     ]
    },
    {
     "name": "stderr",
     "output_type": "stream",
     "text": [
      "C:\\Users\\rahma\\Documents\\kuliah\\thesis\\rahmat_code\\travel-itinerary-recommendation\\sql_connection.py:23: UserWarning: pandas only supports SQLAlchemy connectable (engine/connection) or database string URI or sqlite3 DBAPI2 connection. Other DBAPI2 objects are not tested. Please consider using SQLAlchemy.\n",
      "  dataset = pd.read_sql(query, mydb)\n"
     ]
    },
    {
     "name": "stdout",
     "output_type": "stream",
     "text": [
      "Hybrid ACS-BSO - VRP -  4\n",
      "fitness =  0.6902856916745805\n",
      "==========================\n"
     ]
    },
    {
     "name": "stderr",
     "output_type": "stream",
     "text": [
      "C:\\Users\\rahma\\Documents\\kuliah\\thesis\\rahmat_code\\travel-itinerary-recommendation\\sql_connection.py:23: UserWarning: pandas only supports SQLAlchemy connectable (engine/connection) or database string URI or sqlite3 DBAPI2 connection. Other DBAPI2 objects are not tested. Please consider using SQLAlchemy.\n",
      "  dataset = pd.read_sql(query, mydb)\n"
     ]
    },
    {
     "name": "stdout",
     "output_type": "stream",
     "text": [
      "Hybrid ACS-BSO - VRP -  5\n",
      "fitness =  0.6471292255360653\n",
      "==========================\n"
     ]
    }
   ],
   "source": [
    "random_ls = [10,30,60,80,100]\n",
    "for i in range(len(random_ls)):\n",
    "    # setting\n",
    "    hotel,tur,timematrix = generate_data(n=30,random_state=random_ls[i]) #random state 50 blacklist\n",
    "    travel_days = 3\n",
    "    dwaktu,dtarif,drating = 1,1,1\n",
    "    \n",
    "    print(\"Hybrid ACS-BSO - VRP - \",i+1)\n",
    "    acsbso_vrp = ACSBSO_VRP(random_state=100)\n",
    "    results_acsbso_vrp = get_analysis(acsbso_vrp,hotel,tur,timematrix,travel_days,dwaktu,dtarif,drating)\n",
    "    print(\"fitness = \",results_acsbso_vrp[\"fitness\"])\n",
    "    print(\"==========================\")"
   ]
  },
  {
   "cell_type": "code",
   "execution_count": 45,
   "id": "20d6a292",
   "metadata": {},
   "outputs": [
    {
     "name": "stdout",
     "output_type": "stream",
     "text": [
      "HACO - VRP -  1\n"
     ]
    },
    {
     "name": "stderr",
     "output_type": "stream",
     "text": [
      "C:\\Users\\rahma\\Documents\\kuliah\\thesis\\rahmat_code\\travel-itinerary-recommendation\\sql_connection.py:23: UserWarning: pandas only supports SQLAlchemy connectable (engine/connection) or database string URI or sqlite3 DBAPI2 connection. Other DBAPI2 objects are not tested. Please consider using SQLAlchemy.\n",
      "  dataset = pd.read_sql(query, mydb)\n"
     ]
    },
    {
     "name": "stdout",
     "output_type": "stream",
     "text": [
      "fitness =  0.6435807021377327\n",
      "==========================\n"
     ]
    },
    {
     "name": "stderr",
     "output_type": "stream",
     "text": [
      "C:\\Users\\rahma\\Documents\\kuliah\\thesis\\rahmat_code\\travel-itinerary-recommendation\\sql_connection.py:23: UserWarning: pandas only supports SQLAlchemy connectable (engine/connection) or database string URI or sqlite3 DBAPI2 connection. Other DBAPI2 objects are not tested. Please consider using SQLAlchemy.\n",
      "  dataset = pd.read_sql(query, mydb)\n"
     ]
    },
    {
     "name": "stdout",
     "output_type": "stream",
     "text": [
      "HACO - VRP -  2\n",
      "fitness =  0.6864573669180293\n",
      "==========================\n",
      "HACO - VRP -  3\n"
     ]
    },
    {
     "name": "stderr",
     "output_type": "stream",
     "text": [
      "C:\\Users\\rahma\\Documents\\kuliah\\thesis\\rahmat_code\\travel-itinerary-recommendation\\sql_connection.py:23: UserWarning: pandas only supports SQLAlchemy connectable (engine/connection) or database string URI or sqlite3 DBAPI2 connection. Other DBAPI2 objects are not tested. Please consider using SQLAlchemy.\n",
      "  dataset = pd.read_sql(query, mydb)\n"
     ]
    },
    {
     "name": "stdout",
     "output_type": "stream",
     "text": [
      "fitness =  0.6738289310140028\n",
      "==========================\n",
      "HACO - VRP -  4\n"
     ]
    },
    {
     "name": "stderr",
     "output_type": "stream",
     "text": [
      "C:\\Users\\rahma\\Documents\\kuliah\\thesis\\rahmat_code\\travel-itinerary-recommendation\\sql_connection.py:23: UserWarning: pandas only supports SQLAlchemy connectable (engine/connection) or database string URI or sqlite3 DBAPI2 connection. Other DBAPI2 objects are not tested. Please consider using SQLAlchemy.\n",
      "  dataset = pd.read_sql(query, mydb)\n"
     ]
    },
    {
     "name": "stdout",
     "output_type": "stream",
     "text": [
      "fitness =  0.6848110528464795\n",
      "==========================\n"
     ]
    },
    {
     "name": "stderr",
     "output_type": "stream",
     "text": [
      "C:\\Users\\rahma\\Documents\\kuliah\\thesis\\rahmat_code\\travel-itinerary-recommendation\\sql_connection.py:23: UserWarning: pandas only supports SQLAlchemy connectable (engine/connection) or database string URI or sqlite3 DBAPI2 connection. Other DBAPI2 objects are not tested. Please consider using SQLAlchemy.\n",
      "  dataset = pd.read_sql(query, mydb)\n"
     ]
    },
    {
     "name": "stdout",
     "output_type": "stream",
     "text": [
      "HACO - VRP -  5\n",
      "fitness =  0.6411878675113739\n",
      "==========================\n"
     ]
    }
   ],
   "source": [
    "random_ls = [10,30,60,80,100]\n",
    "for i in range(len(random_ls)):\n",
    "    # setting\n",
    "    hotel,tur,timematrix = generate_data(n=30,random_state=random_ls[i]) #random state 50 blacklist\n",
    "    travel_days = 3\n",
    "    dwaktu,dtarif,drating = 1,1,1\n",
    "    \n",
    "    print(\"HACO - VRP - \",i+1)\n",
    "    haco_vrp = HACO_VRP(random_state=100)\n",
    "    results_haco_vrp = get_analysis(haco_vrp,hotel,tur,timematrix,travel_days,dwaktu,dtarif,drating)\n",
    "    print(\"fitness = \",results_haco_vrp[\"fitness\"])\n",
    "    print(\"==========================\")"
   ]
  },
  {
   "cell_type": "markdown",
   "id": "c64771ff",
   "metadata": {},
   "source": [
    "### 3. Overview: Visualization"
   ]
  },
  {
   "cell_type": "code",
   "execution_count": 46,
   "id": "3be05c12",
   "metadata": {},
   "outputs": [
    {
     "name": "stderr",
     "output_type": "stream",
     "text": [
      "C:\\Users\\rahma\\Documents\\kuliah\\thesis\\rahmat_code\\travel-itinerary-recommendation\\sql_connection.py:23: UserWarning: pandas only supports SQLAlchemy connectable (engine/connection) or database string URI or sqlite3 DBAPI2 connection. Other DBAPI2 objects are not tested. Please consider using SQLAlchemy.\n",
      "  dataset = pd.read_sql(query, mydb)\n"
     ]
    }
   ],
   "source": [
    "# setting\n",
    "hotel,tur,timematrix = generate_data(n=30,random_state=30) #random state 50 blacklist\n",
    "travel_days = 3\n",
    "dwaktu,dtarif,drating = 1,1,1"
   ]
  },
  {
   "cell_type": "code",
   "execution_count": 47,
   "id": "7fdee9dd",
   "metadata": {},
   "outputs": [
    {
     "name": "stdout",
     "output_type": "stream",
     "text": [
      "Hybrid ACS-BSO - VRP\n"
     ]
    },
    {
     "data": {
      "text/plain": [
       "{'solution': [[34, 74, 40, 93, 73],\n",
       "  [16, 54, 71, 95, 86, 88, 35, 10, 9],\n",
       "  [69, 11, 4, 18, 22, 76, 1, 7, 46]],\n",
       " 'fitness': 0.692216836980467,\n",
       " 'days_needed': 3,\n",
       " 'poi_included': 23,\n",
       " 'avg_rating': 4.556521739130434,\n",
       " 'total_tarif': 25500,\n",
       " 'total_duration': 120300,\n",
       " 'run_time': 87.3820252418518}"
      ]
     },
     "execution_count": 47,
     "metadata": {},
     "output_type": "execute_result"
    }
   ],
   "source": [
    "print(\"Hybrid ACS-BSO - VRP\")\n",
    "acsbso_vrp = ACSBSO_VRP(random_state=100)\n",
    "results_acsbso_vrp = get_analysis(acsbso_vrp,hotel,tur,timematrix,travel_days,dwaktu,dtarif,drating)\n",
    "results_acsbso_vrp"
   ]
  },
  {
   "cell_type": "code",
   "execution_count": 48,
   "id": "f6bd4f59",
   "metadata": {},
   "outputs": [
    {
     "name": "stderr",
     "output_type": "stream",
     "text": [
      "C:\\Users\\rahma\\AppData\\Local\\Temp\\ipykernel_9316\\2708662994.py:30: UserWarning: *c* argument looks like a single numeric RGB or RGBA sequence, which should be avoided as value-mapping will have precedence in case its length matches with *x* & *y*.  Please use the *color* keyword-argument or provide a 2D array with a single row if you intend to specify the same RGB or RGBA value for all points.\n",
      "  ax.scatter(x, y, c=color, label=f'Route {i + 1}', s=100)\n"
     ]
    },
    {
     "data": {
      "image/png": "[encoded data removed]",
      "text/plain": [
       "<Figure size 1200x900 with 1 Axes>"
      ]
     },
     "metadata": {},
     "output_type": "display_data"
    }
   ],
   "source": [
    "sol_node = get_detail_node_on_solution(results_acsbso_vrp['solution'])\n",
    "visualize_solution(sol_node,hotel)"
   ]
  },
  {
   "cell_type": "code",
   "execution_count": 49,
   "id": "27b11d2e",
   "metadata": {},
   "outputs": [
    {
     "name": "stdout",
     "output_type": "stream",
     "text": [
      "HACO - VRP\n"
     ]
    },
    {
     "data": {
      "text/plain": [
       "{'solution': [[16, 11, 69, 34, 51, 7, 46],\n",
       "  [76, 95, 71, 93, 9, 40, 73, 88],\n",
       "  [1, 22, 86, 18, 35, 4, 10, 74]],\n",
       " 'fitness': 0.6864573669180293,\n",
       " 'days_needed': 3,\n",
       " 'poi_included': 23,\n",
       " 'avg_rating': 4.591304347826086,\n",
       " 'total_tarif': 33000,\n",
       " 'total_duration': 127260,\n",
       " 'run_time': 14.938490629196167}"
      ]
     },
     "execution_count": 49,
     "metadata": {},
     "output_type": "execute_result"
    }
   ],
   "source": [
    "print(\"HACO - VRP\")\n",
    "haco_vrp = HACO_VRP(random_state=100)\n",
    "results_haco_vrp = get_analysis(haco_vrp,hotel,tur,timematrix,travel_days,dwaktu,dtarif,drating)\n",
    "results_haco_vrp"
   ]
  },
  {
   "cell_type": "code",
   "execution_count": 50,
   "id": "43d3ff90",
   "metadata": {},
   "outputs": [
    {
     "name": "stderr",
     "output_type": "stream",
     "text": [
      "C:\\Users\\rahma\\AppData\\Local\\Temp\\ipykernel_9316\\2708662994.py:30: UserWarning: *c* argument looks like a single numeric RGB or RGBA sequence, which should be avoided as value-mapping will have precedence in case its length matches with *x* & *y*.  Please use the *color* keyword-argument or provide a 2D array with a single row if you intend to specify the same RGB or RGBA value for all points.\n",
      "  ax.scatter(x, y, c=color, label=f'Route {i + 1}', s=100)\n"
     ]
    },
    {
     "data": {
      "image/png": "[encoded data removed]",
      "text/plain": [
       "<Figure size 1200x900 with 1 Axes>"
      ]
     },
     "metadata": {},
     "output_type": "display_data"
    }
   ],
   "source": [
    "sol_node = get_detail_node_on_solution(results_haco_vrp['solution'])\n",
    "visualize_solution(sol_node,hotel)"
   ]
  },
  {
   "cell_type": "markdown",
   "id": "ada1ce32",
   "metadata": {},
   "source": [
    "### 4. Running Time"
   ]
  },
  {
   "cell_type": "code",
   "execution_count": 7,
   "id": "04abe33d",
   "metadata": {},
   "outputs": [
    {
     "name": "stdout",
     "output_type": "stream",
     "text": [
      "n =  5\n",
      "n =  10\n",
      "n =  15\n",
      "n =  20\n",
      "n =  25\n",
      "n =  30\n"
     ]
    }
   ],
   "source": [
    "n = [5,10,15,20,25,30]\n",
    "run_time_analysis = {\n",
    "    \"acs_vrp\": [],\n",
    "    \"acs_tsp\": [],\n",
    "    \"bso_vrp\": [],\n",
    "    \"bso_tsp\": [],\n",
    "    \"acsbso_vrp\": [],\n",
    "    \"acsbso_tsp\": []\n",
    "}\n",
    "for i in n:\n",
    "    # setting\n",
    "    hotel,tur,timematrix = generate_data(n=i,random_state=30)\n",
    "    travel_days = 3\n",
    "    dwaktu,dtarif,drating = 1,1,1\n",
    "    \n",
    "    print(\"n = \",i)\n",
    "    \n",
    "    acs_vrp = ACS_VRP(random_state=100)\n",
    "    results_acs_vrp = get_analysis(acs_vrp,hotel,tur,timematrix,travel_days,dwaktu,dtarif,drating)\n",
    "    run_time_analysis[\"acs_vrp\"].append(results_acs_vrp[\"run_time\"])\n",
    "    \n",
    "    acs_tsp = ACS_TSP(random_state=100)\n",
    "    results_acs_tsp = get_analysis(acs_tsp,hotel,tur,timematrix,travel_days,dwaktu,dtarif,drating)\n",
    "    run_time_analysis[\"acs_tsp\"].append(results_acs_tsp[\"run_time\"])\n",
    "    \n",
    "    bso_vrp = BSO_VRP(random_state=100)\n",
    "    results_bso_vrp = get_analysis(bso_vrp,hotel,tur,timematrix,travel_days,dwaktu,dtarif,drating)\n",
    "    run_time_analysis[\"bso_vrp\"].append(results_bso_vrp[\"run_time\"])\n",
    "    \n",
    "    bso_tsp = BSO_TSP(random_state=100)\n",
    "    results_bso_tsp = get_analysis(bso_tsp,hotel,tur,timematrix,travel_days,dwaktu,dtarif,drating)\n",
    "    run_time_analysis[\"bso_tsp\"].append(results_bso_tsp[\"run_time\"])\n",
    "    \n",
    "    acsbso_vrp = ACSBSO_VRP(random_state=100)\n",
    "    results_acsbso_vrp = get_analysis(acsbso_vrp,hotel,tur,timematrix,travel_days,dwaktu,dtarif,drating)\n",
    "    run_time_analysis[\"acsbso_vrp\"].append(results_acsbso_vrp[\"run_time\"])\n",
    "    \n",
    "    acsbso_tsp = ACSBSO_TSP(random_state=100)\n",
    "    results_acsbso_tsp = get_analysis(acsbso_tsp,hotel,tur,timematrix,travel_days,dwaktu,dtarif,drating)\n",
    "    run_time_analysis[\"acsbso_tsp\"].append(results_acsbso_tsp[\"run_time\"])"
   ]
  },
  {
   "cell_type": "code",
   "execution_count": 8,
   "id": "61dc0183",
   "metadata": {},
   "outputs": [
    {
     "data": {
      "text/plain": [
       "{'acs_vrp': [0.31362462043762207,\n",
       "  1.6317250728607178,\n",
       "  4.346598863601685,\n",
       "  3.062130928039551,\n",
       "  8.975558042526245,\n",
       "  12.780457496643066],\n",
       " 'acs_tsp': [0.23544692993164062,\n",
       "  0.9129869937896729,\n",
       "  2.163102865219116,\n",
       "  5.806864500045776,\n",
       "  10.339011192321777,\n",
       "  15.963364601135254],\n",
       " 'bso_vrp': [0.06251335144042969,\n",
       "  0.41005492210388184,\n",
       "  0.5191915035247803,\n",
       "  0.9455263614654541,\n",
       "  0.6454594135284424,\n",
       "  0.9437882900238037],\n",
       " 'bso_tsp': [0.11533665657043457,\n",
       "  0.8411765098571777,\n",
       "  3.057725429534912,\n",
       "  7.4024269580841064,\n",
       "  15.201591968536377,\n",
       "  27.80937433242798],\n",
       " 'acsbso_vrp': [2.1948959827423096,\n",
       "  6.973323345184326,\n",
       "  12.142411708831787,\n",
       "  14.93755292892456,\n",
       "  57.63169074058533,\n",
       "  86.84850144386292],\n",
       " 'acsbso_tsp': [0.7797305583953857,\n",
       "  5.510660171508789,\n",
       "  20.838329553604126,\n",
       "  22.969918966293335,\n",
       "  113.08940434455872,\n",
       "  110.69467496871948]}"
      ]
     },
     "execution_count": 8,
     "metadata": {},
     "output_type": "execute_result"
    }
   ],
   "source": [
    "run_time_analysis"
   ]
  },
  {
   "cell_type": "code",
   "execution_count": 11,
   "id": "0ef54c09",
   "metadata": {},
   "outputs": [
    {
     "name": "stdout",
     "output_type": "stream",
     "text": [
      "n =  5\n",
      "n =  10\n",
      "n =  15\n",
      "n =  20\n",
      "n =  25\n",
      "n =  30\n"
     ]
    }
   ],
   "source": [
    "n = [5,10,15,20,25,30]\n",
    "run_time_analysis = {\n",
    "    \"aco_vrp\": [],\n",
    "    \"aco_tsp\": [],\n",
    "    \"haco_vrp\": [],\n",
    "    \"haco_tsp\": []\n",
    "}\n",
    "for i in n:\n",
    "    # setting\n",
    "    hotel,tur,timematrix = generate_data(n=i,random_state=30)\n",
    "    travel_days = 3\n",
    "    dwaktu,dtarif,drating = 1,1,1\n",
    "    \n",
    "    print(\"n = \",i)\n",
    "    \n",
    "    aco_vrp = ACO_VRP(random_state=100)\n",
    "    results_aco_vrp = get_analysis(aco_vrp,hotel,tur,timematrix,travel_days,dwaktu,dtarif,drating)\n",
    "    run_time_analysis[\"aco_vrp\"].append(results_aco_vrp[\"run_time\"])\n",
    "    \n",
    "    aco_tsp = ACO_TSP(random_state=100)\n",
    "    results_aco_tsp = get_analysis(aco_tsp,hotel,tur,timematrix,travel_days,dwaktu,dtarif,drating)\n",
    "    run_time_analysis[\"aco_tsp\"].append(results_aco_tsp[\"run_time\"])\n",
    "    \n",
    "    haco_vrp = HACO_VRP(random_state=100)\n",
    "    results_haco_vrp = get_analysis(haco_vrp,hotel,tur,timematrix,travel_days,dwaktu,dtarif,drating)\n",
    "    run_time_analysis[\"haco_vrp\"].append(results_haco_vrp[\"run_time\"])\n",
    "    \n",
    "    haco_tsp = HACO_TSP(random_state=100)\n",
    "    results_haco_tsp = get_analysis(haco_tsp,hotel,tur,timematrix,travel_days,dwaktu,dtarif,drating)\n",
    "    run_time_analysis[\"haco_tsp\"].append(results_haco_tsp[\"run_time\"])"
   ]
  },
  {
   "cell_type": "code",
   "execution_count": 12,
   "id": "4d329ec8",
   "metadata": {},
   "outputs": [
    {
     "data": {
      "text/plain": [
       "{'aco_vrp': [0.5078334808349609,\n",
       "  1.3141131401062012,\n",
       "  2.9715335369110107,\n",
       "  7.019808769226074,\n",
       "  5.107304334640503,\n",
       "  9.287899732589722],\n",
       " 'aco_tsp': [0.37125277519226074,\n",
       "  1.2223997116088867,\n",
       "  1.7118768692016602,\n",
       "  2.683976173400879,\n",
       "  7.406680583953857,\n",
       "  12.003194332122803],\n",
       " 'haco_vrp': [1.1476223468780518,\n",
       "  4.804590702056885,\n",
       "  8.572667360305786,\n",
       "  11.629117250442505,\n",
       "  9.326182126998901,\n",
       "  15.174498319625854],\n",
       " 'haco_tsp': [1.3644392490386963,\n",
       "  3.5026330947875977,\n",
       "  8.588392496109009,\n",
       "  12.400683403015137,\n",
       "  17.594865083694458,\n",
       "  22.384727239608765]}"
      ]
     },
     "execution_count": 12,
     "metadata": {},
     "output_type": "execute_result"
    }
   ],
   "source": [
    "run_time_analysis"
   ]
  },
  {
   "cell_type": "markdown",
   "id": "5c07f8f9",
   "metadata": {},
   "source": [
    "### 5. Travel Duration"
   ]
  },
  {
   "cell_type": "code",
   "execution_count": 5,
   "id": "3ae681fd",
   "metadata": {},
   "outputs": [
    {
     "name": "stdout",
     "output_type": "stream",
     "text": [
      "n =  5\n",
      "n =  10\n",
      "n =  15\n",
      "n =  20\n",
      "n =  25\n",
      "n =  30\n"
     ]
    }
   ],
   "source": [
    "n = [5,10,15,20,25,30]\n",
    "travel_duration_analysis = {\n",
    "    \"acs_vrp\": [],\n",
    "    \"acs_tsp\": [],\n",
    "    \"bso_vrp\": [],\n",
    "    \"bso_tsp\": [],\n",
    "    \"acsbso_vrp\": [],\n",
    "    \"acsbso_tsp\": []\n",
    "}\n",
    "for i in n:\n",
    "    # setting\n",
    "    hotel,tur,timematrix = generate_data(n=i,random_state=30)\n",
    "    travel_days = 100\n",
    "    dwaktu,dtarif,drating = 1,0,0\n",
    "    keys = [\"total_duration\",\"days_needed\"]\n",
    "    \n",
    "    print(\"n = \",i)\n",
    "    \n",
    "    acs_vrp = ACS_VRP(random_state=100)\n",
    "    results_acs_vrp = get_analysis(acs_vrp,hotel,tur,timematrix,travel_days,dwaktu,dtarif,drating)\n",
    "    travel_duration_analysis[\"acs_vrp\"].append({key: results_acs_vrp[key] for key in keys})\n",
    "    \n",
    "    acs_tsp = ACS_TSP(random_state=100)\n",
    "    results_acs_tsp = get_analysis(acs_tsp,hotel,tur,timematrix,travel_days,dwaktu,dtarif,drating)\n",
    "    travel_duration_analysis[\"acs_tsp\"].append({key: results_acs_tsp[key] for key in keys})\n",
    "    \n",
    "    bso_vrp = BSO_VRP(random_state=100)\n",
    "    results_bso_vrp = get_analysis(bso_vrp,hotel,tur,timematrix,travel_days,dwaktu,dtarif,drating)\n",
    "    travel_duration_analysis[\"bso_vrp\"].append({key: results_bso_vrp[key] for key in keys})\n",
    "    \n",
    "    bso_tsp = BSO_TSP(random_state=100)\n",
    "    results_bso_tsp = get_analysis(bso_tsp,hotel,tur,timematrix,travel_days,dwaktu,dtarif,drating)\n",
    "    travel_duration_analysis[\"bso_tsp\"].append({key: results_bso_tsp[key] for key in keys})\n",
    "    \n",
    "    acsbso_vrp = ACSBSO_VRP(random_state=100)\n",
    "    results_acsbso_vrp = get_analysis(acsbso_vrp,hotel,tur,timematrix,travel_days,dwaktu,dtarif,drating)\n",
    "    travel_duration_analysis[\"acsbso_vrp\"].append({key: results_acsbso_vrp[key] for key in keys})\n",
    "    \n",
    "    acsbso_tsp = ACSBSO_TSP(random_state=100)\n",
    "    results_acsbso_tsp = get_analysis(acsbso_tsp,hotel,tur,timematrix,travel_days,dwaktu,dtarif,drating)\n",
    "    travel_duration_analysis[\"acsbso_tsp\"].append({key: results_acsbso_tsp[key] for key in keys})"
   ]
  },
  {
   "cell_type": "code",
   "execution_count": 6,
   "id": "16a91230",
   "metadata": {},
   "outputs": [
    {
     "data": {
      "text/plain": [
       "{'acs_vrp': [{'total_duration': 24540, 'days_needed': 1},\n",
       "  {'total_duration': 62820, 'days_needed': 2},\n",
       "  {'total_duration': 90780, 'days_needed': 3},\n",
       "  {'total_duration': 120960, 'days_needed': 3},\n",
       "  {'total_duration': 150720, 'days_needed': 4},\n",
       "  {'total_duration': 177540, 'days_needed': 4}],\n",
       " 'acs_tsp': [{'total_duration': 24540, 'days_needed': 1},\n",
       "  {'total_duration': 84480, 'days_needed': 3},\n",
       "  {'total_duration': 95280, 'days_needed': 3},\n",
       "  {'total_duration': 138540, 'days_needed': 4},\n",
       "  {'total_duration': 156660, 'days_needed': 4},\n",
       "  {'total_duration': 182880, 'days_needed': 5}],\n",
       " 'bso_vrp': [{'total_duration': 24960, 'days_needed': 1},\n",
       "  {'total_duration': 64800, 'days_needed': 2},\n",
       "  {'total_duration': 94200, 'days_needed': 3},\n",
       "  {'total_duration': 129480, 'days_needed': 4},\n",
       "  {'total_duration': 192060, 'days_needed': 5},\n",
       "  {'total_duration': 182160, 'days_needed': 6}],\n",
       " 'bso_tsp': [{'total_duration': 25800, 'days_needed': 1},\n",
       "  {'total_duration': 74820, 'days_needed': 2},\n",
       "  {'total_duration': 97980, 'days_needed': 3},\n",
       "  {'total_duration': 139440, 'days_needed': 4},\n",
       "  {'total_duration': 158760, 'days_needed': 4},\n",
       "  {'total_duration': 186840, 'days_needed': 5}],\n",
       " 'acsbso_vrp': [{'total_duration': 24540, 'days_needed': 1},\n",
       "  {'total_duration': 62820, 'days_needed': 2},\n",
       "  {'total_duration': 90960, 'days_needed': 3},\n",
       "  {'total_duration': 120360, 'days_needed': 3},\n",
       "  {'total_duration': 148620, 'days_needed': 4},\n",
       "  {'total_duration': 170220, 'days_needed': 4}],\n",
       " 'acsbso_tsp': [{'total_duration': 24600, 'days_needed': 1},\n",
       "  {'total_duration': 64020, 'days_needed': 2},\n",
       "  {'total_duration': 95160, 'days_needed': 3},\n",
       "  {'total_duration': 148860, 'days_needed': 4},\n",
       "  {'total_duration': 153660, 'days_needed': 4},\n",
       "  {'total_duration': 181500, 'days_needed': 5}]}"
      ]
     },
     "execution_count": 6,
     "metadata": {},
     "output_type": "execute_result"
    }
   ],
   "source": [
    "travel_duration_analysis"
   ]
  },
  {
   "cell_type": "code",
   "execution_count": 9,
   "id": "5d05a393",
   "metadata": {},
   "outputs": [
    {
     "name": "stdout",
     "output_type": "stream",
     "text": [
      "n =  5\n",
      "n =  10\n",
      "n =  15\n",
      "n =  20\n",
      "n =  25\n",
      "n =  30\n"
     ]
    }
   ],
   "source": [
    "n = [5,10,15,20,25,30]\n",
    "travel_duration_analysis = {\n",
    "    \"aco_vrp\": [],\n",
    "    \"aco_tsp\": [],\n",
    "    \"haco_vrp\": [],\n",
    "    \"haco_tsp\": []\n",
    "}\n",
    "for i in n:\n",
    "    # setting\n",
    "    hotel,tur,timematrix = generate_data(n=i,random_state=30)\n",
    "    travel_days = 3\n",
    "    dwaktu,dtarif,drating = 1,1,1\n",
    "    \n",
    "    print(\"n = \",i)\n",
    "    \n",
    "    aco_vrp = ACO_VRP(random_state=100)\n",
    "    results_aco_vrp = get_analysis(aco_vrp,hotel,tur,timematrix,travel_days,dwaktu,dtarif,drating)\n",
    "    travel_duration_analysis[\"aco_vrp\"].append(results_aco_vrp[\"run_time\"])\n",
    "    \n",
    "    aco_tsp = ACO_TSP(random_state=100)\n",
    "    results_aco_tsp = get_analysis(aco_tsp,hotel,tur,timematrix,travel_days,dwaktu,dtarif,drating)\n",
    "    travel_duration_analysis[\"aco_tsp\"].append(results_aco_tsp[\"run_time\"])\n",
    "    \n",
    "    haco_vrp = HACO_VRP(random_state=100)\n",
    "    results_haco_vrp = get_analysis(haco_vrp,hotel,tur,timematrix,travel_days,dwaktu,dtarif,drating)\n",
    "    travel_duration_analysis[\"haco_vrp\"].append(results_haco_vrp[\"run_time\"])\n",
    "    \n",
    "    haco_tsp = HACO_TSP(random_state=100)\n",
    "    results_haco_tsp = get_analysis(haco_tsp,hotel,tur,timematrix,travel_days,dwaktu,dtarif,drating)\n",
    "    travel_duration_analysis[\"haco_tsp\"].append(results_haco_tsp[\"run_time\"])"
   ]
  },
  {
   "cell_type": "code",
   "execution_count": 10,
   "id": "caf0fe4d",
   "metadata": {},
   "outputs": [
    {
     "data": {
      "text/plain": [
       "{'aco_vrp': [0.5042905807495117,\n",
       "  1.607271671295166,\n",
       "  3.0123519897460938,\n",
       "  7.434915542602539,\n",
       "  5.364135503768921,\n",
       "  9.609212160110474],\n",
       " 'aco_tsp': [0.36096620559692383,\n",
       "  1.1463730335235596,\n",
       "  1.7028884887695312,\n",
       "  2.470151662826538,\n",
       "  7.923985958099365,\n",
       "  11.322162866592407],\n",
       " 'haco_vrp': [1.1588704586029053,\n",
       "  4.322824716567993,\n",
       "  8.605764389038086,\n",
       "  11.456895351409912,\n",
       "  9.90217137336731,\n",
       "  15.657648801803589],\n",
       " 'haco_tsp': [1.3781633377075195,\n",
       "  3.3770411014556885,\n",
       "  8.768243312835693,\n",
       "  12.580437421798706,\n",
       "  17.26732110977173,\n",
       "  23.34467101097107]}"
      ]
     },
     "execution_count": 10,
     "metadata": {},
     "output_type": "execute_result"
    }
   ],
   "source": [
    "travel_duration_analysis"
   ]
  },
  {
   "cell_type": "markdown",
   "id": "f791eaa7",
   "metadata": {},
   "source": [
    "### 6. Tarif"
   ]
  },
  {
   "cell_type": "code",
   "execution_count": 11,
   "id": "912a1b75",
   "metadata": {},
   "outputs": [],
   "source": [
    "# setting\n",
    "hotel,tur,timematrix = generate_data(n=30,random_state=30)\n",
    "travel_days = 3\n",
    "dwaktu,dtarif,drating = 0,1,0"
   ]
  },
  {
   "cell_type": "code",
   "execution_count": 12,
   "id": "1302933d",
   "metadata": {},
   "outputs": [
    {
     "name": "stdout",
     "output_type": "stream",
     "text": [
      "ACS - VRP\n"
     ]
    },
    {
     "data": {
      "text/plain": [
       "{'solution': [[10, 73, 93, 18, 16, 95, 86, 1],\n",
       "  [74, 40, 7, 11, 46, 53, 4, 88, 9],\n",
       "  [76, 54, 22, 51, 34, 35]],\n",
       " 'fitness': 0.8434862370874275,\n",
       " 'days_needed': 3,\n",
       " 'poi_included': 23,\n",
       " 'avg_rating': 4.573913043478259,\n",
       " 'total_tarif': 45000,\n",
       " 'total_duration': 127260,\n",
       " 'run_time': 3.687053680419922}"
      ]
     },
     "execution_count": 12,
     "metadata": {},
     "output_type": "execute_result"
    }
   ],
   "source": [
    "print(\"ACS - VRP\")\n",
    "acs_vrp = ACS_VRP(random_state=100)\n",
    "results_acs_vrp = get_analysis(acs_vrp,hotel,tur,timematrix,travel_days,dwaktu,dtarif,drating)\n",
    "results_acs_vrp"
   ]
  },
  {
   "cell_type": "code",
   "execution_count": 13,
   "id": "28386589",
   "metadata": {},
   "outputs": [
    {
     "name": "stdout",
     "output_type": "stream",
     "text": [
      "ACS - TSP\n"
     ]
    },
    {
     "data": {
      "text/plain": [
       "{'solution': [[40, 71, 39, 51],\n",
       "  [54, 4, 93, 22, 10],\n",
       "  [11, 69, 18, 53, 76, 1, 74, 88]],\n",
       " 'fitness': 0.7307020030234316,\n",
       " 'days_needed': 3,\n",
       " 'poi_included': 17,\n",
       " 'avg_rating': 4.552941176470588,\n",
       " 'total_tarif': 54000,\n",
       " 'total_duration': 119460,\n",
       " 'run_time': 3.033057928085327}"
      ]
     },
     "execution_count": 13,
     "metadata": {},
     "output_type": "execute_result"
    }
   ],
   "source": [
    "print(\"ACS - TSP\")\n",
    "acs_tsp = ACS_TSP(random_state=100)\n",
    "results_acs_tsp = get_analysis(acs_tsp,hotel,tur,timematrix,travel_days,dwaktu,dtarif,drating)\n",
    "results_acs_tsp"
   ]
  },
  {
   "cell_type": "code",
   "execution_count": 14,
   "id": "a5b002d8",
   "metadata": {},
   "outputs": [
    {
     "name": "stdout",
     "output_type": "stream",
     "text": [
      "BSO - VRP\n"
     ]
    },
    {
     "data": {
      "text/plain": [
       "{'solution': [[29, 16, 47, 86, 1, 7, 9],\n",
       "  [69, 22, 71, 18, 4, 73, 88],\n",
       "  [76, 54, 34, 95, 64, 40]],\n",
       " 'fitness': 0.6867339065255732,\n",
       " 'days_needed': 3,\n",
       " 'poi_included': 20,\n",
       " 'avg_rating': 4.51,\n",
       " 'total_tarif': 168000,\n",
       " 'total_duration': 123780,\n",
       " 'run_time': 0.988724946975708}"
      ]
     },
     "execution_count": 14,
     "metadata": {},
     "output_type": "execute_result"
    }
   ],
   "source": [
    "print(\"BSO - VRP\")\n",
    "bso_vrp = BSO_VRP(random_state=100)\n",
    "results_bso_vrp = get_analysis(bso_vrp,hotel,tur,timematrix,travel_days,dwaktu,dtarif,drating)\n",
    "results_bso_vrp"
   ]
  },
  {
   "cell_type": "code",
   "execution_count": 15,
   "id": "59c03810",
   "metadata": {},
   "outputs": [
    {
     "name": "stdout",
     "output_type": "stream",
     "text": [
      "BSO - TSP\n"
     ]
    },
    {
     "data": {
      "text/plain": [
       "{'solution': [[69, 22, 71, 18, 4, 73],\n",
       "  [29, 16, 47, 86, 1, 88, 7],\n",
       "  [76, 54, 34, 95, 64]],\n",
       " 'fitness': 0.6503913139329807,\n",
       " 'days_needed': 3,\n",
       " 'poi_included': 18,\n",
       " 'avg_rating': 4.51111111111111,\n",
       " 'total_tarif': 168000,\n",
       " 'total_duration': 119100,\n",
       " 'run_time': 26.960572957992554}"
      ]
     },
     "execution_count": 15,
     "metadata": {},
     "output_type": "execute_result"
    }
   ],
   "source": [
    "print(\"BSO - TSP\")\n",
    "bso_tsp = BSO_TSP(random_state=100)\n",
    "results_bso_tsp = get_analysis(bso_tsp,hotel,tur,timematrix,travel_days,dwaktu,dtarif,drating)\n",
    "results_bso_tsp"
   ]
  },
  {
   "cell_type": "code",
   "execution_count": 16,
   "id": "3adadde2",
   "metadata": {},
   "outputs": [
    {
     "name": "stdout",
     "output_type": "stream",
     "text": [
      "Hybrid ACS-BSO - VRP\n"
     ]
    },
    {
     "data": {
      "text/plain": [
       "{'solution': [[54, 4, 76, 22, 93, 73, 10],\n",
       "  [11, 16, 69, 88, 86, 1, 46, 35, 7, 9],\n",
       "  [18, 34, 95, 74, 40, 71]],\n",
       " 'fitness': 0.8616496598639456,\n",
       " 'days_needed': 3,\n",
       " 'poi_included': 23,\n",
       " 'avg_rating': 4.556521739130434,\n",
       " 'total_tarif': 25500,\n",
       " 'total_duration': 133140,\n",
       " 'run_time': 52.68372130393982}"
      ]
     },
     "execution_count": 16,
     "metadata": {},
     "output_type": "execute_result"
    }
   ],
   "source": [
    "print(\"Hybrid ACS-BSO - VRP\")\n",
    "acsbso_vrp = ACSBSO_VRP(random_state=100)\n",
    "results_acsbso_vrp = get_analysis(acsbso_vrp,hotel,tur,timematrix,travel_days,dwaktu,dtarif,drating)\n",
    "results_acsbso_vrp"
   ]
  },
  {
   "cell_type": "code",
   "execution_count": 17,
   "id": "c77e0753",
   "metadata": {},
   "outputs": [
    {
     "name": "stdout",
     "output_type": "stream",
     "text": [
      "Hybrid ACS-BSO - TSP\n"
     ]
    },
    {
     "data": {
      "text/plain": [
       "{'solution': [[39, 35, 18, 40, 64, 9, 88],\n",
       "  [69, 86, 54, 95, 51, 1],\n",
       "  [53, 72, 22, 46]],\n",
       " 'fitness': 0.64458380574452,\n",
       " 'days_needed': 3,\n",
       " 'poi_included': 17,\n",
       " 'avg_rating': 4.5588235294117645,\n",
       " 'total_tarif': 156500,\n",
       " 'total_duration': 120780,\n",
       " 'run_time': 73.67426538467407}"
      ]
     },
     "execution_count": 17,
     "metadata": {},
     "output_type": "execute_result"
    }
   ],
   "source": [
    "print(\"Hybrid ACS-BSO - TSP\")\n",
    "acsbso_tsp = ACSBSO_TSP(random_state=100)\n",
    "results_acsbso_tsp = get_analysis(acsbso_tsp,hotel,tur,timematrix,travel_days,dwaktu,dtarif,drating)\n",
    "results_acsbso_tsp"
   ]
  },
  {
   "cell_type": "code",
   "execution_count": 18,
   "id": "fc17b983",
   "metadata": {},
   "outputs": [
    {
     "name": "stdout",
     "output_type": "stream",
     "text": [
      "ACO - VRP\n"
     ]
    },
    {
     "data": {
      "text/plain": [
       "{'solution': [[16, 34, 71, 46, 74],\n",
       "  [40, 11, 76, 88, 10, 9, 73, 4, 51],\n",
       "  [54, 35, 18, 22, 95, 1, 7]],\n",
       " 'fitness': 0.8271636432350717,\n",
       " 'days_needed': 3,\n",
       " 'poi_included': 21,\n",
       " 'avg_rating': 4.557142857142857,\n",
       " 'total_tarif': 22500,\n",
       " 'total_duration': 125880,\n",
       " 'run_time': 6.771477699279785}"
      ]
     },
     "execution_count": 18,
     "metadata": {},
     "output_type": "execute_result"
    }
   ],
   "source": [
    "print(\"ACO - VRP\")\n",
    "aco_vrp = ACO_VRP(random_state=100)\n",
    "results_aco_vrp = get_analysis(aco_vrp,hotel,tur,timematrix,travel_days,dwaktu,dtarif,drating)\n",
    "results_aco_vrp"
   ]
  },
  {
   "cell_type": "code",
   "execution_count": 19,
   "id": "0065a81b",
   "metadata": {},
   "outputs": [
    {
     "name": "stdout",
     "output_type": "stream",
     "text": [
      "ACO - TSP\n"
     ]
    },
    {
     "data": {
      "text/plain": [
       "{'solution': [[40, 71, 39, 51],\n",
       "  [54, 4, 93, 22, 10],\n",
       "  [11, 69, 18, 53, 76, 1, 74, 88]],\n",
       " 'fitness': 0.7307020030234316,\n",
       " 'days_needed': 3,\n",
       " 'poi_included': 17,\n",
       " 'avg_rating': 4.552941176470588,\n",
       " 'total_tarif': 54000,\n",
       " 'total_duration': 119460,\n",
       " 'run_time': 5.574948072433472}"
      ]
     },
     "execution_count": 19,
     "metadata": {},
     "output_type": "execute_result"
    }
   ],
   "source": [
    "print(\"ACO - TSP\")\n",
    "aco_tsp = ACO_TSP(random_state=100)\n",
    "results_aco_tsp = get_analysis(aco_tsp,hotel,tur,timematrix,travel_days,dwaktu,dtarif,drating)\n",
    "results_aco_tsp"
   ]
  },
  {
   "cell_type": "code",
   "execution_count": 20,
   "id": "bb9b769f",
   "metadata": {},
   "outputs": [
    {
     "name": "stdout",
     "output_type": "stream",
     "text": [
      "HACO - VRP\n"
     ]
    },
    {
     "data": {
      "text/plain": [
       "{'solution': [[76, 34, 16, 18, 93, 73, 46],\n",
       "  [11, 69, 39, 1, 7, 9, 4, 10, 88],\n",
       "  [54, 86, 22, 40, 74, 95, 71]],\n",
       " 'fitness': 0.8650124401612497,\n",
       " 'days_needed': 3,\n",
       " 'poi_included': 23,\n",
       " 'avg_rating': 4.556521739130434,\n",
       " 'total_tarif': 21500,\n",
       " 'total_duration': 131160,\n",
       " 'run_time': 18.804116249084473}"
      ]
     },
     "execution_count": 20,
     "metadata": {},
     "output_type": "execute_result"
    }
   ],
   "source": [
    "print(\"HACO - VRP\")\n",
    "haco_vrp = HACO_VRP(random_state=100)\n",
    "results_haco_vrp = get_analysis(haco_vrp,hotel,tur,timematrix,travel_days,dwaktu,dtarif,drating)\n",
    "results_haco_vrp"
   ]
  },
  {
   "cell_type": "code",
   "execution_count": 21,
   "id": "e8b4b093",
   "metadata": {},
   "outputs": [
    {
     "name": "stdout",
     "output_type": "stream",
     "text": [
      "HACO - TSP\n"
     ]
    },
    {
     "data": {
      "text/plain": [
       "{'solution': [[40, 71, 39, 51],\n",
       "  [54, 4, 93, 22, 10],\n",
       "  [11, 69, 18, 53, 76, 1, 74, 88]],\n",
       " 'fitness': 0.7307020030234316,\n",
       " 'days_needed': 3,\n",
       " 'poi_included': 17,\n",
       " 'avg_rating': 4.552941176470588,\n",
       " 'total_tarif': 54000,\n",
       " 'total_duration': 119460,\n",
       " 'run_time': 11.609880447387695}"
      ]
     },
     "execution_count": 21,
     "metadata": {},
     "output_type": "execute_result"
    }
   ],
   "source": [
    "print(\"HACO - TSP\")\n",
    "haco_tsp = HACO_TSP(random_state=100)\n",
    "results_haco_tsp = get_analysis(haco_tsp,hotel,tur,timematrix,travel_days,dwaktu,dtarif,drating)\n",
    "results_haco_tsp"
   ]
  },
  {
   "cell_type": "markdown",
   "id": "9383a940",
   "metadata": {},
   "source": [
    "### 7. Rating"
   ]
  },
  {
   "cell_type": "code",
   "execution_count": 5,
   "id": "d8d5a51a",
   "metadata": {},
   "outputs": [],
   "source": [
    "# setting\n",
    "hotel,tur,timematrix = generate_data(n=30,random_state=30)\n",
    "travel_days = 3\n",
    "dwaktu,dtarif,drating = 0,0,1"
   ]
  },
  {
   "cell_type": "code",
   "execution_count": 6,
   "id": "be7f015e",
   "metadata": {},
   "outputs": [
    {
     "name": "stdout",
     "output_type": "stream",
     "text": [
      "ACS - VRP\n"
     ]
    },
    {
     "data": {
      "text/plain": [
       "{'solution': [[64, 34, 93, 86, 88, 35],\n",
       "  [73, 69, 11, 53, 40, 16, 46, 1],\n",
       "  [4, 18, 72, 22, 76, 10, 9, 7, 74]],\n",
       " 'fitness': 0.8121473584788802,\n",
       " 'days_needed': 3,\n",
       " 'poi_included': 23,\n",
       " 'avg_rating': 4.630434782608695,\n",
       " 'total_tarif': 145500,\n",
       " 'total_duration': 129660,\n",
       " 'run_time': 4.491796970367432}"
      ]
     },
     "execution_count": 6,
     "metadata": {},
     "output_type": "execute_result"
    }
   ],
   "source": [
    "print(\"ACS - VRP\")\n",
    "acs_vrp = ACS_VRP(random_state=100)\n",
    "results_acs_vrp = get_analysis(acs_vrp,hotel,tur,timematrix,travel_days,dwaktu,dtarif,drating)\n",
    "results_acs_vrp"
   ]
  },
  {
   "cell_type": "code",
   "execution_count": 7,
   "id": "04d17fe4",
   "metadata": {},
   "outputs": [
    {
     "name": "stdout",
     "output_type": "stream",
     "text": [
      "ACS - TSP\n"
     ]
    },
    {
     "data": {
      "text/plain": [
       "{'solution': [[18, 10, 9, 34, 16, 1, 74],\n",
       "  [29, 39, 35, 51],\n",
       "  [69, 53, 73, 7, 4]],\n",
       " 'fitness': 0.6890016619183286,\n",
       " 'days_needed': 3,\n",
       " 'poi_included': 16,\n",
       " 'avg_rating': 4.63125,\n",
       " 'total_tarif': 86500,\n",
       " 'total_duration': 119100,\n",
       " 'run_time': 2.976716995239258}"
      ]
     },
     "execution_count": 7,
     "metadata": {},
     "output_type": "execute_result"
    }
   ],
   "source": [
    "print(\"ACS - TSP\")\n",
    "acs_tsp = ACS_TSP(random_state=100)\n",
    "results_acs_tsp = get_analysis(acs_tsp,hotel,tur,timematrix,travel_days,dwaktu,dtarif,drating)\n",
    "results_acs_tsp"
   ]
  },
  {
   "cell_type": "code",
   "execution_count": 8,
   "id": "d88f57db",
   "metadata": {},
   "outputs": [
    {
     "name": "stdout",
     "output_type": "stream",
     "text": [
      "BSO - VRP\n"
     ]
    },
    {
     "data": {
      "text/plain": [
       "{'solution': [[29, 16, 47, 86, 1, 7, 9],\n",
       "  [69, 22, 71, 18, 4, 73, 88],\n",
       "  [76, 54, 34, 95, 64, 40]],\n",
       " 'fitness': 0.7353602801519468,\n",
       " 'days_needed': 3,\n",
       " 'poi_included': 20,\n",
       " 'avg_rating': 4.51,\n",
       " 'total_tarif': 168000,\n",
       " 'total_duration': 123780,\n",
       " 'run_time': 0.9853177070617676}"
      ]
     },
     "execution_count": 8,
     "metadata": {},
     "output_type": "execute_result"
    }
   ],
   "source": [
    "print(\"BSO - VRP\")\n",
    "bso_vrp = BSO_VRP(random_state=100)\n",
    "results_bso_vrp = get_analysis(bso_vrp,hotel,tur,timematrix,travel_days,dwaktu,dtarif,drating)\n",
    "results_bso_vrp"
   ]
  },
  {
   "cell_type": "code",
   "execution_count": 9,
   "id": "975aaae1",
   "metadata": {},
   "outputs": [
    {
     "name": "stdout",
     "output_type": "stream",
     "text": [
      "BSO - TSP\n"
     ]
    },
    {
     "data": {
      "text/plain": [
       "{'solution': [[69, 47, 16, 4, 29],\n",
       "  [18, 71, 22, 86, 73, 1],\n",
       "  [76, 54, 34, 95, 10, 46]],\n",
       " 'fitness': 0.6762226970560303,\n",
       " 'days_needed': 3,\n",
       " 'poi_included': 17,\n",
       " 'avg_rating': 4.5,\n",
       " 'total_tarif': 143000,\n",
       " 'total_duration': 112560,\n",
       " 'run_time': 25.515373468399048}"
      ]
     },
     "execution_count": 9,
     "metadata": {},
     "output_type": "execute_result"
    }
   ],
   "source": [
    "print(\"BSO - TSP\")\n",
    "bso_tsp = BSO_TSP(random_state=100)\n",
    "results_bso_tsp = get_analysis(bso_tsp,hotel,tur,timematrix,travel_days,dwaktu,dtarif,drating)\n",
    "results_bso_tsp"
   ]
  },
  {
   "cell_type": "code",
   "execution_count": 10,
   "id": "cd3e059e",
   "metadata": {},
   "outputs": [
    {
     "name": "stdout",
     "output_type": "stream",
     "text": [
      "Hybrid ACS-BSO - VRP\n"
     ]
    },
    {
     "data": {
      "text/plain": [
       "{'solution': [[76, 34, 7, 40, 4, 10, 88, 35, 9],\n",
       "  [11, 69, 86, 95, 47, 16, 18, 53, 73],\n",
       "  [72, 22, 46, 1, 74, 93]],\n",
       " 'fitness': 0.8240622032288698,\n",
       " 'days_needed': 3,\n",
       " 'poi_included': 24,\n",
       " 'avg_rating': 4.608333333333333,\n",
       " 'total_tarif': 220500,\n",
       " 'total_duration': 130800,\n",
       " 'run_time': 68.51357507705688}"
      ]
     },
     "execution_count": 10,
     "metadata": {},
     "output_type": "execute_result"
    }
   ],
   "source": [
    "print(\"Hybrid ACS-BSO - VRP\")\n",
    "acsbso_vrp = ACSBSO_VRP(random_state=100)\n",
    "results_acsbso_vrp = get_analysis(acsbso_vrp,hotel,tur,timematrix,travel_days,dwaktu,dtarif,drating)\n",
    "results_acsbso_vrp"
   ]
  },
  {
   "cell_type": "code",
   "execution_count": 11,
   "id": "23236fa0",
   "metadata": {},
   "outputs": [
    {
     "name": "stdout",
     "output_type": "stream",
     "text": [
      "Hybrid ACS-BSO - TSP\n"
     ]
    },
    {
     "data": {
      "text/plain": [
       "{'solution': [[53, 71, 1], [86, 39, 7, 46, 74, 10], [47, 69, 72, 93, 73, 40]],\n",
       " 'fitness': 0.6750771604938273,\n",
       " 'days_needed': 3,\n",
       " 'poi_included': 15,\n",
       " 'avg_rating': 4.653333333333334,\n",
       " 'total_tarif': 221500,\n",
       " 'total_duration': 116760,\n",
       " 'run_time': 66.92739391326904}"
      ]
     },
     "execution_count": 11,
     "metadata": {},
     "output_type": "execute_result"
    }
   ],
   "source": [
    "print(\"Hybrid ACS-BSO - TSP\")\n",
    "acsbso_tsp = ACSBSO_TSP(random_state=100)\n",
    "results_acsbso_tsp = get_analysis(acsbso_tsp,hotel,tur,timematrix,travel_days,dwaktu,dtarif,drating)\n",
    "results_acsbso_tsp"
   ]
  },
  {
   "cell_type": "code",
   "execution_count": 12,
   "id": "cddb3e67",
   "metadata": {},
   "outputs": [
    {
     "name": "stdout",
     "output_type": "stream",
     "text": [
      "ACO - VRP\n"
     ]
    },
    {
     "data": {
      "text/plain": [
       "{'solution': [[69, 76, 95, 93, 88, 10, 74, 40],\n",
       "  [64, 72, 51, 53, 73],\n",
       "  [46, 4, 7, 22, 86, 18, 1, 9, 35]],\n",
       " 'fitness': 0.7954766683933351,\n",
       " 'days_needed': 3,\n",
       " 'poi_included': 22,\n",
       " 'avg_rating': 4.631818181818182,\n",
       " 'total_tarif': 153000,\n",
       " 'total_duration': 130020,\n",
       " 'run_time': 7.996813535690308}"
      ]
     },
     "execution_count": 12,
     "metadata": {},
     "output_type": "execute_result"
    }
   ],
   "source": [
    "print(\"ACO - VRP\")\n",
    "aco_vrp = ACO_VRP(random_state=100)\n",
    "results_aco_vrp = get_analysis(aco_vrp,hotel,tur,timematrix,travel_days,dwaktu,dtarif,drating)\n",
    "results_aco_vrp"
   ]
  },
  {
   "cell_type": "code",
   "execution_count": 13,
   "id": "a29c0741",
   "metadata": {},
   "outputs": [
    {
     "name": "stdout",
     "output_type": "stream",
     "text": [
      "ACO - TSP\n"
     ]
    },
    {
     "data": {
      "text/plain": [
       "{'solution': [[88, 73, 18, 10, 4, 95, 7, 35],\n",
       "  [39, 29, 34, 71],\n",
       "  [69, 74, 72, 11, 47, 40, 22]],\n",
       " 'fitness': 0.7253964237516868,\n",
       " 'days_needed': 3,\n",
       " 'poi_included': 19,\n",
       " 'avg_rating': 4.557894736842105,\n",
       " 'total_tarif': 234000,\n",
       " 'total_duration': 119880,\n",
       " 'run_time': 5.683268785476685}"
      ]
     },
     "execution_count": 13,
     "metadata": {},
     "output_type": "execute_result"
    }
   ],
   "source": [
    "print(\"ACO - TSP\")\n",
    "aco_tsp = ACO_TSP(random_state=100)\n",
    "results_aco_tsp = get_analysis(aco_tsp,hotel,tur,timematrix,travel_days,dwaktu,dtarif,drating)\n",
    "results_aco_tsp"
   ]
  },
  {
   "cell_type": "code",
   "execution_count": 14,
   "id": "9d498409",
   "metadata": {},
   "outputs": [
    {
     "name": "stdout",
     "output_type": "stream",
     "text": [
      "HACO - VRP\n"
     ]
    },
    {
     "data": {
      "text/plain": [
       "{'solution': [[72, 18, 35, 88, 4, 95, 22, 46, 9],\n",
       "  [34, 64, 51, 7, 10, 74],\n",
       "  [11, 76, 69, 1, 53, 40, 73, 93]],\n",
       " 'fitness': 0.8122630992196207,\n",
       " 'days_needed': 3,\n",
       " 'poi_included': 23,\n",
       " 'avg_rating': 4.6304347826086945,\n",
       " 'total_tarif': 153000,\n",
       " 'total_duration': 133200,\n",
       " 'run_time': 18.363290548324585}"
      ]
     },
     "execution_count": 14,
     "metadata": {},
     "output_type": "execute_result"
    }
   ],
   "source": [
    "print(\"HACO - VRP\")\n",
    "haco_vrp = HACO_VRP(random_state=100)\n",
    "results_haco_vrp = get_analysis(haco_vrp,hotel,tur,timematrix,travel_days,dwaktu,dtarif,drating)\n",
    "results_haco_vrp"
   ]
  },
  {
   "cell_type": "code",
   "execution_count": 15,
   "id": "142acc16",
   "metadata": {},
   "outputs": [
    {
     "name": "stdout",
     "output_type": "stream",
     "text": [
      "HACO - TSP\n"
     ]
    },
    {
     "data": {
      "text/plain": [
       "{'solution': [[22, 4, 18, 93, 1, 73],\n",
       "  [69, 64, 10, 95, 54, 88, 35],\n",
       "  [11, 74, 53, 29, 46, 9]],\n",
       " 'fitness': 0.7376988366571701,\n",
       " 'days_needed': 3,\n",
       " 'poi_included': 19,\n",
       " 'avg_rating': 4.6000000000000005,\n",
       " 'total_tarif': 100500,\n",
       " 'total_duration': 126420,\n",
       " 'run_time': 11.661410808563232}"
      ]
     },
     "execution_count": 15,
     "metadata": {},
     "output_type": "execute_result"
    }
   ],
   "source": [
    "print(\"HACO - TSP\")\n",
    "haco_tsp = HACO_TSP(random_state=100)\n",
    "results_haco_tsp = get_analysis(haco_tsp,hotel,tur,timematrix,travel_days,dwaktu,dtarif,drating)\n",
    "results_haco_tsp"
   ]
  },
  {
   "cell_type": "code",
   "execution_count": null,
   "id": "0180bf6b",
   "metadata": {},
   "outputs": [],
   "source": []
  },
  {
   "cell_type": "code",
   "execution_count": null,
   "id": "c4d3f59d",
   "metadata": {},
   "outputs": [],
   "source": []
  }
 ],
 "metadata": {
  "kernelspec": {
   "display_name": "Python 3 (ipykernel)",
   "language": "python",
   "name": "python3"
  },
  "language_info": {
   "codemirror_mode": {
    "name": "ipython",
    "version": 3
   },
   "file_extension": ".py",
   "mimetype": "text/x-python",
   "name": "python",
   "nbconvert_exporter": "python",
   "pygments_lexer": "ipython3",
   "version": "3.11.3"
  }
 },
 "nbformat": 4,
 "nbformat_minor": 5
}
