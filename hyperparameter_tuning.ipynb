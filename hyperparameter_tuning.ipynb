{
 "cells": [
  {
   "cell_type": "markdown",
   "id": "c4fe917b",
   "metadata": {},
   "source": [
    "# Hyperparameter Tuning\n",
    "Find the most acceptable parameter"
   ]
  },
  {
   "cell_type": "code",
   "execution_count": 1,
   "id": "e2bada64",
   "metadata": {},
   "outputs": [],
   "source": [
    "from optimization.acs import ACS_VRP,ACS_TSP\n",
    "from optimization.bso import BSO_VRP,BSO_TSP\n",
    "from optimization.hybrid_acs_bso import ACSBSO_VRP,ACSBSO_TSP\n",
    "\n",
    "from optimization.aco import ACO_VRP,ACO_TSP\n",
    "from optimization.haco import HACO_VRP,HACO_TSP\n",
    "\n",
    "from optimization.koneksi import ConDB\n",
    "\n",
    "import sql_connection\n",
    "import json\n",
    "import time\n",
    "import random\n",
    "import datetime\n",
    "import copy"
   ]
  },
  {
   "cell_type": "markdown",
   "id": "9b259719",
   "metadata": {},
   "source": [
    "## Data for Tuning"
   ]
  },
  {
   "cell_type": "code",
   "execution_count": 2,
   "id": "f920c97a",
   "metadata": {},
   "outputs": [
    {
     "name": "stderr",
     "output_type": "stream",
     "text": [
      "C:\\Users\\rahma\\Documents\\kuliah\\thesis\\rahmat_code\\travel-itinerary-recommendation\\sql_connection.py:23: UserWarning: pandas only supports SQLAlchemy connectable (engine/connection) or database string URI or sqlite3 DBAPI2 connection. Other DBAPI2 objects are not tested. Please consider using SQLAlchemy.\n",
      "  dataset = pd.read_sql(query, mydb)\n"
     ]
    }
   ],
   "source": [
    "query = \"\"\"SELECT \n",
    "                p.post_id,\n",
    "                p.post_type,\n",
    "                CASE\n",
    "                    WHEN pj.pj_jam_buka = pj.pj_jam_tutup THEN \"tutup\"\n",
    "                    ELSE \"buka\"\n",
    "                END AS is_operate\n",
    "            FROM \n",
    "                posts p\n",
    "            LEFT JOIN\n",
    "                posts_jadwal pj\n",
    "                ON p.post_id = pj.pj_id_tempat AND pj.pj_hari = \"minggu\"\n",
    "            \"\"\"\n",
    "\n",
    "df_location = sql_connection.read_from_sql(query)"
   ]
  },
  {
   "cell_type": "code",
   "execution_count": 3,
   "id": "99bde56c",
   "metadata": {},
   "outputs": [],
   "source": [
    "random.seed(10)\n",
    "tourid = df_location[(df_location['post_type']==\"location\")&\n",
    "                     (df_location['is_operate'] != \"tutup\")]['post_id'].values.tolist()\n",
    "tourid = random.choices(tourid,k = 30)\n",
    "idhotel = df_location[df_location['post_type']==\"hotel\"]['post_id'].values.tolist()\n",
    "idhotel = idhotel[random.randint(0,len(idhotel)-1)]\n",
    "dwaktu,dtarif,drating = 1,1,1\n",
    "travel_days = 3"
   ]
  },
  {
   "cell_type": "code",
   "execution_count": 4,
   "id": "8625ebc5",
   "metadata": {},
   "outputs": [],
   "source": [
    "db = ConDB()\n",
    "\n",
    "hotel = db.HotelbyID(idhotel)\n",
    "tur = db.WisatabyID(tourid)\n",
    "timematrix = db.TimeMatrixbyID(hotel._id,tourid)"
   ]
  },
  {
   "cell_type": "markdown",
   "id": "c46c5e49",
   "metadata": {},
   "source": [
    "## Maximum Iteration"
   ]
  },
  {
   "cell_type": "code",
   "execution_count": 5,
   "id": "64d81ca6",
   "metadata": {},
   "outputs": [
    {
     "name": "stdout",
     "output_type": "stream",
     "text": [
      "n = 100\n",
      "ACS - VRP\n",
      "fitness = 0.6640717091850322\n",
      "time = 3.145900249481201\n",
      "==============================================\n",
      "\n",
      "ACS - TSP\n",
      "fitness = 0.5713543998805943\n",
      "time = 4.432577610015869\n",
      "==============================================\n",
      "\n",
      "BSO - VRP\n",
      "fitness = 0.5586581135660008\n",
      "time = 0.775104284286499\n",
      "==============================================\n",
      "\n",
      "BSO - TSP\n",
      "fitness = 0.5145780744874009\n",
      "time = 30.59467625617981\n",
      "==============================================\n",
      "\n",
      "ACO - VRP\n",
      "fitness = 0.6331323388066337\n",
      "time = 4.2995452880859375\n",
      "==============================================\n",
      "\n",
      "ACO - TSP\n",
      "fitness = 0.5465923088404376\n",
      "time = 4.123947620391846\n",
      "==============================================\n",
      "\n",
      "HACO - VRP\n",
      "fitness = 0.6373008579185134\n",
      "time = 9.445233583450317\n",
      "==============================================\n",
      "\n",
      "HACO - TSP\n",
      "fitness = 0.5880791730604625\n",
      "time = 9.643141031265259\n",
      "==============================================\n",
      "\n",
      "ACS BSO - VRP\n",
      "fitness = 0.6679080823438911\n",
      "time = 47.68351721763611\n",
      "==============================================\n",
      "\n",
      "ACS BSO - TSP\n",
      "fitness = 0.4847424170106957\n",
      "time = 129.83533263206482\n",
      "==============================================\n",
      "n = 200\n",
      "ACS - VRP\n",
      "fitness = 0.6645953579459625\n",
      "time = 10.81521987915039\n",
      "==============================================\n",
      "\n",
      "ACS - TSP\n",
      "fitness = 0.5758542908082344\n",
      "time = 11.09622073173523\n",
      "==============================================\n",
      "\n",
      "BSO - VRP\n",
      "fitness = 0.5586581135660008\n",
      "time = 0.7219836711883545\n",
      "==============================================\n",
      "\n",
      "BSO - TSP\n",
      "fitness = 0.5145780744874009\n",
      "time = 59.64255976676941\n",
      "==============================================\n",
      "\n",
      "ACO - VRP\n",
      "fitness = 0.6331323388066337\n",
      "time = 3.8732874393463135\n",
      "==============================================\n",
      "\n",
      "ACO - TSP\n",
      "fitness = 0.5465923088404376\n",
      "time = 3.877162456512451\n",
      "==============================================\n",
      "\n",
      "HACO - VRP\n",
      "fitness = 0.6373008579185134\n",
      "time = 8.982418775558472\n",
      "==============================================\n",
      "\n",
      "HACO - TSP\n",
      "fitness = 0.5880791730604625\n",
      "time = 9.486738443374634\n",
      "==============================================\n",
      "\n",
      "ACS BSO - VRP\n",
      "fitness = 0.672009266054315\n",
      "time = 97.52258110046387\n",
      "==============================================\n",
      "\n",
      "ACS BSO - TSP\n",
      "fitness = 0.4847424170106957\n",
      "time = 127.09216260910034\n",
      "==============================================\n",
      "n = 300\n",
      "ACS - VRP\n",
      "fitness = 0.6645953579459625\n",
      "time = 10.564788103103638\n",
      "==============================================\n",
      "\n",
      "ACS - TSP\n",
      "fitness = 0.5758542908082344\n",
      "time = 11.177578926086426\n",
      "==============================================\n",
      "\n",
      "BSO - VRP\n",
      "fitness = 0.5586581135660008\n",
      "time = 0.7165367603302002\n",
      "==============================================\n",
      "\n",
      "BSO - TSP\n",
      "fitness = 0.5145780744874009\n",
      "time = 89.05721473693848\n",
      "==============================================\n",
      "\n",
      "ACO - VRP\n",
      "fitness = 0.6331323388066337\n",
      "time = 3.9448578357696533\n",
      "==============================================\n",
      "\n",
      "ACO - TSP\n",
      "fitness = 0.5465923088404376\n",
      "time = 3.7869441509246826\n",
      "==============================================\n",
      "\n",
      "HACO - VRP\n",
      "fitness = 0.6373008579185134\n",
      "time = 8.543803215026855\n",
      "==============================================\n",
      "\n",
      "HACO - TSP\n",
      "fitness = 0.5880791730604625\n",
      "time = 9.462761402130127\n",
      "==============================================\n",
      "\n",
      "ACS BSO - VRP\n",
      "fitness = 0.6720092660543151\n",
      "time = 113.89180660247803\n",
      "==============================================\n",
      "\n",
      "ACS BSO - TSP\n",
      "fitness = 0.4847424170106957\n",
      "time = 857.8010742664337\n",
      "==============================================\n"
     ]
    }
   ],
   "source": [
    "# List of iterations\n",
    "iterations = [100, 200, 300]\n",
    "\n",
    "#list of algorithms\n",
    "for n in iterations:\n",
    "    print(f\"n = {n}\")\n",
    "    print(\"ACS - VRP\")\n",
    "    start = time.time()\n",
    "    acs_vrp = ACS_VRP(max_iter = n,random_state=10)\n",
    "    acs_vrp.set_model(tur,hotel,timematrix,travel_days=travel_days,degree_waktu = dwaktu,degree_tarif = dtarif,degree_rating = drating)\n",
    "    fitness = acs_vrp.construct_solution()[-1]\n",
    "    end = time.time()\n",
    "    print(f\"fitness = {fitness}\")\n",
    "    print(f\"time = {end-start}\")\n",
    "    print(\"==============================================\")\n",
    "    \n",
    "    print()\n",
    "    print(\"ACS - TSP\")\n",
    "    start = time.time()\n",
    "    acs_tsp = ACS_TSP(max_iter = n,random_state=10)\n",
    "    acs_tsp.set_model(tur,hotel,timematrix,travel_days=travel_days,degree_waktu = dwaktu,degree_tarif = dtarif,degree_rating = drating)\n",
    "    fitness = acs_tsp.construct_solution()[-1]\n",
    "    end = time.time()\n",
    "    print(f\"fitness = {fitness}\")\n",
    "    print(f\"time = {end-start}\")\n",
    "    print(\"==============================================\")\n",
    "    \n",
    "    print()\n",
    "    print(\"BSO - VRP\")\n",
    "    start = time.time()\n",
    "    bso_vrp = BSO_VRP(max_iter = n,two_opt_method = \"best\",random_state=10)\n",
    "    bso_vrp.set_model(tur,hotel,timematrix,init_solution=[],travel_days=travel_days,degree_waktu = dwaktu,degree_tarif = dtarif,degree_rating = drating)\n",
    "    fitness = bso_vrp.construct_solution()[-1]\n",
    "    end = time.time()\n",
    "    print(f\"fitness = {fitness}\")\n",
    "    print(f\"time = {end-start}\")\n",
    "    print(\"==============================================\")\n",
    "    \n",
    "    print()\n",
    "    print(\"BSO - TSP\")\n",
    "    start = time.time()\n",
    "    bso_tsp = BSO_TSP(max_iter = n,two_opt_method = \"best\",random_state=10)\n",
    "    bso_tsp.set_model(tur,hotel,timematrix,init_solution=[],travel_days=travel_days,degree_waktu = dwaktu,degree_tarif = dtarif,degree_rating = drating)\n",
    "    fitness = bso_tsp.construct_solution()[-1]\n",
    "    end = time.time()\n",
    "    print(f\"fitness = {fitness}\")\n",
    "    print(f\"time = {end-start}\")\n",
    "    print(\"==============================================\")\n",
    "    \n",
    "    print()\n",
    "    print(\"ACO - VRP\")\n",
    "    start = time.time()\n",
    "    aco_vrp = ACO_VRP(max_iter = n,random_state=10)\n",
    "    aco_vrp.set_model(tur,hotel,timematrix,travel_days=travel_days,degree_waktu = dwaktu,degree_tarif = dtarif,degree_rating = drating)\n",
    "    fitness = aco_vrp.construct_solution()[-1]\n",
    "    end = time.time()\n",
    "    print(f\"fitness = {fitness}\")\n",
    "    print(f\"time = {end-start}\")\n",
    "    print(\"==============================================\")\n",
    "    \n",
    "    print()\n",
    "    print(\"ACO - TSP\")\n",
    "    start = time.time()\n",
    "    aco_tsp = ACO_TSP(max_iter = n,random_state=10)\n",
    "    aco_tsp.set_model(tur,hotel,timematrix,travel_days=travel_days,degree_waktu = dwaktu,degree_tarif = dtarif,degree_rating = drating)\n",
    "    fitness = aco_tsp.construct_solution()[-1]\n",
    "    end = time.time()\n",
    "    print(f\"fitness = {fitness}\")\n",
    "    print(f\"time = {end-start}\")\n",
    "    print(\"==============================================\")\n",
    "    \n",
    "    print()\n",
    "    print(\"HACO - VRP\")\n",
    "    start = time.time()\n",
    "    haco_vrp = HACO_VRP(max_iter = n,random_state=10)\n",
    "    haco_vrp.set_model(tur,hotel,timematrix,travel_days=travel_days,degree_waktu = dwaktu,degree_tarif = dtarif,degree_rating = drating)\n",
    "    fitness = haco_vrp.construct_solution()[-1]\n",
    "    end = time.time()\n",
    "    print(f\"fitness = {fitness}\")\n",
    "    print(f\"time = {end-start}\")\n",
    "    print(\"==============================================\")\n",
    "    \n",
    "    print()\n",
    "    print(\"HACO - TSP\")\n",
    "    start = time.time()\n",
    "    haco_tsp = HACO_TSP(max_iter = n,random_state=10)\n",
    "    haco_tsp.set_model(tur,hotel,timematrix,travel_days=travel_days,degree_waktu = dwaktu,degree_tarif = dtarif,degree_rating = drating)\n",
    "    fitness = haco_tsp.construct_solution()[-1]\n",
    "    end = time.time()\n",
    "    print(f\"fitness = {fitness}\")\n",
    "    print(f\"time = {end-start}\")\n",
    "    print(\"==============================================\")\n",
    "    \n",
    "    print()\n",
    "    print(\"ACS BSO - VRP\")\n",
    "    start = time.time()\n",
    "    acsbso_vrp = ACSBSO_VRP(max_iter_acs = n,random_state=10)\n",
    "    acsbso_vrp.set_model(tur,hotel,timematrix,travel_days=travel_days,degree_waktu = dwaktu,degree_tarif = dtarif,degree_rating = drating)\n",
    "    fitness = acsbso_vrp.construct_solution()[-1]\n",
    "    end = time.time()\n",
    "    print(f\"fitness = {fitness}\")\n",
    "    print(f\"time = {end-start}\")\n",
    "    print(\"==============================================\")\n",
    "    \n",
    "    print()\n",
    "    print(\"ACS BSO - TSP\")\n",
    "    start = time.time()\n",
    "    acsbso_tsp = ACSBSO_TSP(max_iter_acs = n,random_state=10)\n",
    "    acsbso_tsp.set_model(tur,hotel,timematrix,travel_days=travel_days,degree_waktu = dwaktu,degree_tarif = dtarif,degree_rating = drating)\n",
    "    fitness = acsbso_tsp.construct_solution()[-1]\n",
    "    end = time.time()\n",
    "    print(f\"fitness = {fitness}\")\n",
    "    print(f\"time = {end-start}\")\n",
    "    print(\"==============================================\")\n"
   ]
  },
  {
   "cell_type": "markdown",
   "id": "46ceeeea",
   "metadata": {},
   "source": [
    "**results:**\n",
    "- semua ACS-based bisa menggunakan max iter = 200\n",
    "- BSO standalone bisa menggunakan max iter = 100\n",
    "- ACO-based bisa menggunakan max iter = 100"
   ]
  },
  {
   "cell_type": "markdown",
   "id": "4295ffaa",
   "metadata": {},
   "source": [
    "## Tuning ACS (VRP/TSP)\n",
    "Tuning dilakukan dengan VRP, TSP mengikuti\n",
    "\n",
    "default parameter/parameter awal:\n",
    "- alpha_t = 1\n",
    "- beta = 2\n",
    "- q0 = 0.1\n",
    "- init_pheromone = 0.1\n",
    "- rho = 0.1\n",
    "- alpha = 0.1\n",
    "- num_ant = 30"
   ]
  },
  {
   "cell_type": "markdown",
   "id": "53ff8f2f",
   "metadata": {},
   "source": [
    "### Find Initial Pheromone"
   ]
  },
  {
   "cell_type": "code",
   "execution_count": 35,
   "id": "528e442f",
   "metadata": {},
   "outputs": [
    {
     "name": "stdout",
     "output_type": "stream",
     "text": [
      "pheromone = 0.1\n",
      "ACS - VRP\n",
      "fitness = 0.6606055340691207\n",
      "time = 4.665886640548706\n",
      "==============================================\n",
      "pheromone = 0.3\n",
      "ACS - VRP\n",
      "fitness = 0.6694069251927628\n",
      "time = 16.335801601409912\n",
      "==============================================\n",
      "pheromone = 0.5\n",
      "ACS - VRP\n",
      "fitness = 0.657590153247745\n",
      "time = 3.5124146938323975\n",
      "==============================================\n",
      "pheromone = 1\n",
      "ACS - VRP\n",
      "fitness = 0.6696641268388532\n",
      "time = 16.188631534576416\n",
      "==============================================\n"
     ]
    }
   ],
   "source": [
    "#find init pheromone\n",
    "init_pheromone = [0.1,0.3,0.5,1]\n",
    "\n",
    "for pheromone in init_pheromone:\n",
    "    print(f\"pheromone = {pheromone}\")\n",
    "    print(\"ACS - VRP\")\n",
    "    start = time.time()\n",
    "    acs_vrp = ACS_VRP(max_iter = 200,init_pheromone=pheromone,random_state=100)\n",
    "    acs_vrp.set_model(tur,hotel,timematrix,travel_days=travel_days,degree_waktu = dwaktu,degree_tarif = dtarif,degree_rating = drating)\n",
    "    fitness = acs_vrp.construct_solution()[-1]\n",
    "    end = time.time()\n",
    "    print(f\"fitness = {fitness}\")\n",
    "    print(f\"time = {end-start}\")\n",
    "    print(\"==============================================\")"
   ]
  },
  {
   "cell_type": "markdown",
   "id": "7080bd5b",
   "metadata": {},
   "source": [
    "pheromone 0.3 atau 1 memberikan hasil yang baik tetapi lambat konvergen. acceptable value = 0.1 atau 0.3 atau 1"
   ]
  },
  {
   "cell_type": "markdown",
   "id": "69aa6dd7",
   "metadata": {},
   "source": [
    "### Find Alpha_t"
   ]
  },
  {
   "cell_type": "code",
   "execution_count": 43,
   "id": "7ac35140",
   "metadata": {},
   "outputs": [
    {
     "name": "stdout",
     "output_type": "stream",
     "text": [
      "alpha_t = 1\n",
      "ACS - VRP\n",
      "fitness = 0.6606055340691207\n",
      "time = 4.910164833068848\n",
      "==============================================\n",
      "alpha_t = 2\n",
      "ACS - VRP\n",
      "fitness = 0.661148855888349\n",
      "time = 7.235687017440796\n",
      "==============================================\n",
      "alpha_t = 3\n",
      "ACS - VRP\n",
      "fitness = 0.6542241217301061\n",
      "time = 3.6236445903778076\n",
      "==============================================\n",
      "alpha_t = 4\n",
      "ACS - VRP\n",
      "fitness = 0.658733138889299\n",
      "time = 8.140146493911743\n",
      "==============================================\n",
      "alpha_t = 5\n",
      "ACS - VRP\n",
      "fitness = 0.6476063947566538\n",
      "time = 3.8030900955200195\n",
      "==============================================\n"
     ]
    }
   ],
   "source": [
    "#find alpha_t\n",
    "alpha_t_ls = [1,2,3,4,5]\n",
    "\n",
    "for alpha_t in alpha_t_ls:\n",
    "    print(f\"alpha_t = {alpha_t}\")\n",
    "    print(\"ACS - VRP\")\n",
    "    start = time.time()\n",
    "    acs_vrp = ACS_VRP(init_pheromone=0.1,alpha_t = alpha_t,max_iter = 200,random_state=100)\n",
    "    acs_vrp.set_model(tur,hotel,timematrix,travel_days=travel_days,degree_waktu = dwaktu,degree_tarif = dtarif,degree_rating = drating)\n",
    "    fitness = acs_vrp.construct_solution()[-1]\n",
    "    end = time.time()\n",
    "    print(f\"fitness = {fitness}\")\n",
    "    print(f\"time = {end-start}\")\n",
    "    print(\"==============================================\")"
   ]
  },
  {
   "cell_type": "markdown",
   "id": "123aa2ea",
   "metadata": {},
   "source": [
    "nilai alpha_t terbaik adalah 2, rentang acceptable = [1,2]"
   ]
  },
  {
   "cell_type": "markdown",
   "id": "88f95b7c",
   "metadata": {},
   "source": [
    "### Find beta"
   ]
  },
  {
   "cell_type": "code",
   "execution_count": 44,
   "id": "62265a02",
   "metadata": {},
   "outputs": [
    {
     "name": "stdout",
     "output_type": "stream",
     "text": [
      "beta = 1\n",
      "ACS - VRP\n",
      "fitness = 0.6687896412421455\n",
      "time = 11.814791679382324\n",
      "==============================================\n",
      "beta = 2\n",
      "ACS - VRP\n",
      "fitness = 0.6606055340691207\n",
      "time = 4.725559949874878\n",
      "==============================================\n",
      "beta = 3\n",
      "ACS - VRP\n",
      "fitness = 0.6616663755336752\n",
      "time = 5.7361531257629395\n",
      "==============================================\n",
      "beta = 4\n",
      "ACS - VRP\n",
      "fitness = 0.6585768691018593\n",
      "time = 6.318057060241699\n",
      "==============================================\n",
      "beta = 5\n",
      "ACS - VRP\n",
      "fitness = 0.6651968141029742\n",
      "time = 11.79578709602356\n",
      "==============================================\n"
     ]
    }
   ],
   "source": [
    "#find beta\n",
    "beta_ls = [1,2,3,4,5]\n",
    "\n",
    "for beta in beta_ls:\n",
    "    print(f\"beta = {beta}\")\n",
    "    print(\"ACS - VRP\")\n",
    "    start = time.time()\n",
    "    acs_vrp = ACS_VRP(init_pheromone=0.1,alpha_t = 1,beta = beta,max_iter = 200,random_state=100)\n",
    "    acs_vrp.set_model(tur,hotel,timematrix,travel_days=travel_days,degree_waktu = dwaktu,degree_tarif = dtarif,degree_rating = drating)\n",
    "    fitness = acs_vrp.construct_solution()[-1]\n",
    "    end = time.time()\n",
    "    print(f\"fitness = {fitness}\")\n",
    "    print(f\"time = {end-start}\")\n",
    "    print(\"==============================================\")"
   ]
  },
  {
   "cell_type": "markdown",
   "id": "717b1b94",
   "metadata": {},
   "source": [
    "beta 1 atau 5 memiliki hasil lebih baik ketika alpha = 1 tetapi lebih lambat konvergen\n",
    "\n",
    "acceptable range = alpha [1,2] dan beta = 1 atau 2 atau 5"
   ]
  },
  {
   "cell_type": "markdown",
   "id": "bf93af69",
   "metadata": {},
   "source": [
    "### Find q0"
   ]
  },
  {
   "cell_type": "code",
   "execution_count": 14,
   "id": "9f02c85b",
   "metadata": {},
   "outputs": [
    {
     "name": "stdout",
     "output_type": "stream",
     "text": [
      "q0 = 0.1\n",
      "ACS - VRP\n",
      "fitness = 0.6687896412421455\n",
      "time = 11.08081579208374\n",
      "==============================================\n",
      "q0 = 0.3\n",
      "ACS - VRP\n",
      "fitness = 0.6639811903484902\n",
      "time = 7.48501443862915\n",
      "==============================================\n",
      "q0 = 0.5\n",
      "ACS - VRP\n",
      "fitness = 0.6624831060855815\n",
      "time = 8.814587593078613\n",
      "==============================================\n",
      "q0 = 0.7\n",
      "ACS - VRP\n",
      "fitness = 0.6650551225464869\n",
      "time = 8.973769426345825\n",
      "==============================================\n",
      "q0 = 0.9\n",
      "ACS - VRP\n",
      "fitness = 0.6580109882525572\n",
      "time = 6.427075386047363\n",
      "==============================================\n"
     ]
    }
   ],
   "source": [
    "#find beta\n",
    "q0_ls = [0.1,0.3,0.5,0.7,0.9]\n",
    "\n",
    "for q0 in q0_ls:\n",
    "    print(f\"q0 = {q0}\")\n",
    "    print(\"ACS - VRP\")\n",
    "    start = time.time()\n",
    "    acs_vrp = ACS_VRP(alpha_t = 1,beta = 1,q0=q0,max_iter = 200,random_state=100)\n",
    "    acs_vrp.set_model(tur,hotel,timematrix,travel_days=travel_days,degree_waktu = dwaktu,degree_tarif = dtarif,degree_rating = drating)\n",
    "    fitness = acs_vrp.construct_solution()[-1]\n",
    "    end = time.time()\n",
    "    print(f\"fitness = {fitness}\")\n",
    "    print(f\"time = {end-start}\")\n",
    "    print(\"==============================================\")"
   ]
  },
  {
   "cell_type": "markdown",
   "id": "d4f0b248",
   "metadata": {},
   "source": [
    "q0 = 0.1 memiliki hasil yang baik tetapi lambat konvergen. acceptable value = 0.1 atau 0.7"
   ]
  },
  {
   "cell_type": "markdown",
   "id": "ca12d79e",
   "metadata": {},
   "source": [
    "### Find Rho"
   ]
  },
  {
   "cell_type": "code",
   "execution_count": 15,
   "id": "7842fb36",
   "metadata": {},
   "outputs": [
    {
     "name": "stdout",
     "output_type": "stream",
     "text": [
      "rho = 0.1\n",
      "ACS - VRP\n",
      "fitness = 0.6687896412421455\n",
      "time = 11.565764427185059\n",
      "==============================================\n",
      "rho = 0.3\n",
      "ACS - VRP\n",
      "fitness = 0.6624348641188019\n",
      "time = 6.770227670669556\n",
      "==============================================\n",
      "rho = 0.5\n",
      "ACS - VRP\n",
      "fitness = 0.6618690204974028\n",
      "time = 7.656583786010742\n",
      "==============================================\n",
      "rho = 0.7\n",
      "ACS - VRP\n",
      "fitness = 0.6640263159621249\n",
      "time = 4.182241439819336\n",
      "==============================================\n",
      "rho = 0.9\n",
      "ACS - VRP\n",
      "fitness = 0.6639748756329066\n",
      "time = 13.024762630462646\n",
      "==============================================\n"
     ]
    }
   ],
   "source": [
    "#find rho\n",
    "rho_ls = [0.1,0.3,0.5,0.7,0.9]\n",
    "\n",
    "for rho in rho_ls:\n",
    "    print(f\"rho = {rho}\")\n",
    "    print(\"ACS - VRP\")\n",
    "    start = time.time()\n",
    "    acs_vrp = ACS_VRP(alpha_t = 1,beta = 1,q0=0.1,rho=rho,max_iter = 200,random_state=100)\n",
    "    acs_vrp.set_model(tur,hotel,timematrix,travel_days=travel_days,degree_waktu = dwaktu,degree_tarif = dtarif,degree_rating = drating)\n",
    "    fitness = acs_vrp.construct_solution()[-1]\n",
    "    end = time.time()\n",
    "    print(f\"fitness = {fitness}\")\n",
    "    print(f\"time = {end-start}\")\n",
    "    print(\"==============================================\")"
   ]
  },
  {
   "cell_type": "markdown",
   "id": "5b32b77f",
   "metadata": {},
   "source": [
    "rho 0.1 memberikan hasil baik. acceptable range = [0.1,0.7]"
   ]
  },
  {
   "cell_type": "markdown",
   "id": "38ce1d4b",
   "metadata": {},
   "source": [
    "### Find Alpha"
   ]
  },
  {
   "cell_type": "code",
   "execution_count": 16,
   "id": "8cfc0033",
   "metadata": {},
   "outputs": [
    {
     "name": "stdout",
     "output_type": "stream",
     "text": [
      "alpha = 0.1\n",
      "ACS - VRP\n",
      "fitness = 0.6687896412421455\n",
      "time = 11.074829816818237\n",
      "==============================================\n",
      "alpha = 0.3\n",
      "ACS - VRP\n",
      "fitness = 0.6606765730008313\n",
      "time = 9.202415466308594\n",
      "==============================================\n",
      "alpha = 0.5\n",
      "ACS - VRP\n",
      "fitness = 0.6608884558798204\n",
      "time = 5.642709732055664\n",
      "==============================================\n",
      "alpha = 0.7\n",
      "ACS - VRP\n",
      "fitness = 0.6500260314762027\n",
      "time = 6.14891242980957\n",
      "==============================================\n",
      "alpha = 0.9\n",
      "ACS - VRP\n",
      "fitness = 0.6553256856645944\n",
      "time = 4.98948335647583\n",
      "==============================================\n"
     ]
    }
   ],
   "source": [
    "#find alpha\n",
    "alpha_ls = [0.1,0.3,0.5,0.7,0.9]\n",
    "\n",
    "for alpha in alpha_ls:\n",
    "    print(f\"alpha = {alpha}\")\n",
    "    print(\"ACS - VRP\")\n",
    "    start = time.time()\n",
    "    acs_vrp = ACS_VRP(alpha_t = 1,beta = 1,q0=0.1,rho=0.1,alpha=alpha,max_iter = 200,random_state=100)\n",
    "    acs_vrp.set_model(tur,hotel,timematrix,travel_days=travel_days,degree_waktu = dwaktu,degree_tarif = dtarif,degree_rating = drating)\n",
    "    fitness = acs_vrp.construct_solution()[-1]\n",
    "    end = time.time()\n",
    "    print(f\"fitness = {fitness}\")\n",
    "    print(f\"time = {end-start}\")\n",
    "    print(\"==============================================\")"
   ]
  },
  {
   "cell_type": "markdown",
   "id": "2b8fcbb4",
   "metadata": {},
   "source": [
    "semakin besar alpha semakin cepat konvergen tetapi fitnessnya semakin kecil. Hasil terbaik 0.1"
   ]
  },
  {
   "cell_type": "markdown",
   "id": "942d1404",
   "metadata": {},
   "source": [
    "### Find Num Ant"
   ]
  },
  {
   "cell_type": "code",
   "execution_count": 19,
   "id": "2fee8103",
   "metadata": {},
   "outputs": [
    {
     "name": "stdout",
     "output_type": "stream",
     "text": [
      "num_ant = 10\n",
      "ACS - VRP\n",
      "fitness = 0.6599400081517238\n",
      "time = 6.117042541503906\n",
      "==============================================\n",
      "num_ant = 30\n",
      "ACS - VRP\n",
      "fitness = 0.6687896412421455\n",
      "time = 11.313025951385498\n",
      "==============================================\n",
      "num_ant = 50\n",
      "ACS - VRP\n",
      "fitness = 0.6598596492954582\n",
      "time = 7.883904695510864\n",
      "==============================================\n"
     ]
    }
   ],
   "source": [
    "#find num_ant\n",
    "num_ant_ls = [10,30,50]\n",
    "\n",
    "for num_ant in num_ant_ls:\n",
    "    print(f\"num_ant = {num_ant}\")\n",
    "    print(\"ACS - VRP\")\n",
    "    start = time.time()\n",
    "    acs_vrp = ACS_VRP(alpha_t = 1,beta = 1,q0=0.1,rho=0.1,alpha=0.1,num_ant=num_ant,max_iter = 200,random_state=100)\n",
    "    acs_vrp.set_model(tur,hotel,timematrix,travel_days=travel_days,degree_waktu = dwaktu,degree_tarif = dtarif,degree_rating = drating)\n",
    "    fitness = acs_vrp.construct_solution()[-1]\n",
    "    end = time.time()\n",
    "    print(f\"fitness = {fitness}\")\n",
    "    print(f\"time = {end-start}\")\n",
    "    print(\"==============================================\")"
   ]
  },
  {
   "cell_type": "markdown",
   "id": "75a06acb",
   "metadata": {},
   "source": [
    "num_ant terbaik adalah 30"
   ]
  },
  {
   "cell_type": "markdown",
   "id": "e1f78836",
   "metadata": {},
   "source": [
    "hasil tuning:\n",
    "- init_pheromone = 0.1 atau 0.3 atau 1\n",
    "- alpha_t = [1,2]\n",
    "- beta = 1 atau 5\n",
    "- q0 = 0.1 atau 0.7\n",
    "- rho = [0.1,0.7]\n",
    "- alpha = 0.1\n",
    "- num_ant = 30\n",
    "\n",
    "parameter terpilih:\n",
    "- init_pheromone = 0.1\n",
    "- alpha_t = 1\n",
    "- beta = 1\n",
    "- q0 = 0.1\n",
    "- rho = 0.1\n",
    "- alpha = 0.1\n",
    "- num_ant = 30\n"
   ]
  },
  {
   "cell_type": "markdown",
   "id": "040d9741",
   "metadata": {},
   "source": [
    "### Check TSP"
   ]
  },
  {
   "cell_type": "code",
   "execution_count": 22,
   "id": "e73db27d",
   "metadata": {},
   "outputs": [
    {
     "name": "stdout",
     "output_type": "stream",
     "text": [
      "fitness = 0.5150052403938413\n",
      "time = 14.111375570297241\n"
     ]
    }
   ],
   "source": [
    "start = time.time()\n",
    "acs_tsp = ACS_TSP(alpha_t = 1,beta = 1,q0=0.1,rho=0.1,alpha=0.1,num_ant=30,max_iter = 200,random_state=100)\n",
    "acs_tsp.set_model(tur,hotel,timematrix,travel_days=travel_days,degree_waktu = dwaktu,degree_tarif = dtarif,degree_rating = drating)\n",
    "fitness = acs_tsp.construct_solution()[-1]\n",
    "end = time.time()\n",
    "print(f\"fitness = {fitness}\")\n",
    "print(f\"time = {end-start}\")"
   ]
  },
  {
   "cell_type": "markdown",
   "id": "303c543c",
   "metadata": {},
   "source": [
    "## Tuning BSO (VRP/TSP)\n",
    "Tuning dilakukan dengan VRP, TSP mengikuti\n",
    "\n",
    "default parameter/parameter awal:\n",
    "- p1 = 0.3 untuk VRP | p1 = 0.4 untuk TSP\n",
    "- p2 = 0.4\n",
    "- p3 = 0.5\n",
    "- p4 = 0.5\n",
    "- two_opt_method = 'first'"
   ]
  },
  {
   "cell_type": "markdown",
   "id": "3e6c233b",
   "metadata": {},
   "source": [
    "### Find p1"
   ]
  },
  {
   "cell_type": "code",
   "execution_count": 58,
   "id": "99b439d5",
   "metadata": {},
   "outputs": [
    {
     "name": "stdout",
     "output_type": "stream",
     "text": [
      "p1 = 0.1\n",
      "BSO - VRP\n",
      "fitness = 0.5691515277511247\n",
      "time = 2.080500364303589\n",
      "==============================================\n",
      "p1 = 0.3\n",
      "BSO - VRP\n",
      "fitness = 0.5612907006092519\n",
      "time = 0.8220617771148682\n",
      "==============================================\n",
      "p1 = 0.5\n",
      "BSO - VRP\n",
      "fitness = 0.5700774536770506\n",
      "time = 1.122204065322876\n",
      "==============================================\n",
      "p1 = 0.7\n",
      "BSO - VRP\n",
      "fitness = 0.5700774536770506\n",
      "time = 0.5158281326293945\n",
      "==============================================\n",
      "p1 = 0.9\n",
      "BSO - VRP\n",
      "fitness = 0.5605190956709802\n",
      "time = 0.2710599899291992\n",
      "==============================================\n"
     ]
    }
   ],
   "source": [
    "#find p1\n",
    "p1_ls = [0.1,0.3,0.5,0.7,0.9]\n",
    "\n",
    "for p1 in p1_ls:\n",
    "    print(f\"p1 = {p1}\")\n",
    "    print(\"BSO - VRP\")\n",
    "    start = time.time()\n",
    "    bso_vrp = BSO_VRP(p1=p1,max_iter = 200,two_opt_method = \"best\",random_state=100)\n",
    "    bso_vrp.set_model(tur,hotel,timematrix,init_solution=[],travel_days=travel_days,degree_waktu = dwaktu,degree_tarif = dtarif,degree_rating = drating)\n",
    "    fitness = bso_vrp.construct_solution()[-1]\n",
    "    end = time.time()\n",
    "    print(f\"fitness = {fitness}\")\n",
    "    print(f\"time = {end-start}\")\n",
    "    print(\"==============================================\")"
   ]
  },
  {
   "cell_type": "markdown",
   "id": "9b514834",
   "metadata": {},
   "source": [
    "0.1"
   ]
  },
  {
   "cell_type": "markdown",
   "id": "17f67437",
   "metadata": {},
   "source": [
    "### Find p2"
   ]
  },
  {
   "cell_type": "code",
   "execution_count": 59,
   "id": "5d006901",
   "metadata": {},
   "outputs": [
    {
     "name": "stdout",
     "output_type": "stream",
     "text": [
      "p2 = 0.1\n",
      "BSO - VRP\n",
      "fitness = 0.5682256018251989\n",
      "time = 2.056840419769287\n",
      "==============================================\n",
      "p2 = 0.3\n",
      "BSO - VRP\n",
      "fitness = 0.5691515277511247\n",
      "time = 2.061793804168701\n",
      "==============================================\n",
      "p2 = 0.5\n",
      "BSO - VRP\n",
      "fitness = 0.5607248569878527\n",
      "time = 2.048513412475586\n",
      "==============================================\n",
      "p2 = 0.7\n",
      "BSO - VRP\n",
      "fitness = 0.5607248569878527\n",
      "time = 2.0163521766662598\n",
      "==============================================\n",
      "p2 = 0.9\n",
      "BSO - VRP\n",
      "fitness = 0.5607248569878527\n",
      "time = 2.041137456893921\n",
      "==============================================\n"
     ]
    }
   ],
   "source": [
    "#find p2\n",
    "p2_ls = [0.1,0.3,0.5,0.7,0.9]\n",
    "\n",
    "for p2 in p2_ls:\n",
    "    print(f\"p2 = {p2}\")\n",
    "    print(\"BSO - VRP\")\n",
    "    start = time.time()\n",
    "    bso_vrp = BSO_VRP(p1=0.1,p2=p2,max_iter = 200,two_opt_method = \"best\",random_state=100)\n",
    "    bso_vrp.set_model(tur,hotel,timematrix,init_solution=[],travel_days=travel_days,degree_waktu = dwaktu,degree_tarif = dtarif,degree_rating = drating)\n",
    "    fitness = bso_vrp.construct_solution()[-1]\n",
    "    end = time.time()\n",
    "    print(f\"fitness = {fitness}\")\n",
    "    print(f\"time = {end-start}\")\n",
    "    print(\"==============================================\")"
   ]
  },
  {
   "cell_type": "markdown",
   "id": "cae5820f",
   "metadata": {},
   "source": [
    "0.3"
   ]
  },
  {
   "cell_type": "markdown",
   "id": "6cd39309",
   "metadata": {},
   "source": [
    "### Find p3"
   ]
  },
  {
   "cell_type": "code",
   "execution_count": 60,
   "id": "55c2db64",
   "metadata": {},
   "outputs": [
    {
     "name": "stdout",
     "output_type": "stream",
     "text": [
      "p3 = 0.1\n",
      "BSO - VRP\n",
      "fitness = 0.5557865853829144\n",
      "time = 1.31313157081604\n",
      "==============================================\n",
      "p3 = 0.3\n",
      "BSO - VRP\n",
      "fitness = 0.5607248569878527\n",
      "time = 2.1054065227508545\n",
      "==============================================\n",
      "p3 = 0.5\n",
      "BSO - VRP\n",
      "fitness = 0.5691515277511247\n",
      "time = 2.0290749073028564\n",
      "==============================================\n",
      "p3 = 0.7\n",
      "BSO - VRP\n",
      "fitness = 0.5612907006092519\n",
      "time = 2.3685829639434814\n",
      "==============================================\n",
      "p3 = 0.9\n",
      "BSO - VRP\n",
      "fitness = 0.567865519520672\n",
      "time = 1.4327595233917236\n",
      "==============================================\n"
     ]
    }
   ],
   "source": [
    "#find p3\n",
    "p3_ls = [0.1,0.3,0.5,0.7,0.9]\n",
    "\n",
    "for p3 in p3_ls:\n",
    "    print(f\"p3 = {p3}\")\n",
    "    print(\"BSO - VRP\")\n",
    "    start = time.time()\n",
    "    bso_vrp = BSO_VRP(p1=0.1,p2=0.3,p3=p3,max_iter = 200,two_opt_method = \"best\",random_state=100)\n",
    "    bso_vrp.set_model(tur,hotel,timematrix,init_solution=[],travel_days=travel_days,degree_waktu = dwaktu,degree_tarif = dtarif,degree_rating = drating)\n",
    "    fitness = bso_vrp.construct_solution()[-1]\n",
    "    end = time.time()\n",
    "    print(f\"fitness = {fitness}\")\n",
    "    print(f\"time = {end-start}\")\n",
    "    print(\"==============================================\")"
   ]
  },
  {
   "cell_type": "markdown",
   "id": "1ab11d35",
   "metadata": {},
   "source": [
    "0.5"
   ]
  },
  {
   "cell_type": "markdown",
   "id": "8d45ed65",
   "metadata": {},
   "source": [
    "### Find p4"
   ]
  },
  {
   "cell_type": "code",
   "execution_count": 61,
   "id": "b9c9a3ad",
   "metadata": {},
   "outputs": [
    {
     "name": "stdout",
     "output_type": "stream",
     "text": [
      "p4 = 0.1\n",
      "BSO - VRP\n",
      "fitness = 0.5607248569878527\n",
      "time = 1.231050968170166\n",
      "==============================================\n",
      "p4 = 0.3\n",
      "BSO - VRP\n",
      "fitness = 0.5610849392923795\n",
      "time = 1.4399974346160889\n",
      "==============================================\n",
      "p4 = 0.5\n",
      "BSO - VRP\n",
      "fitness = 0.5691515277511247\n",
      "time = 2.044426679611206\n",
      "==============================================\n",
      "p4 = 0.7\n",
      "BSO - VRP\n",
      "fitness = 0.5557865853829144\n",
      "time = 1.6162891387939453\n",
      "==============================================\n",
      "p4 = 0.9\n",
      "BSO - VRP\n",
      "fitness = 0.5525972849713918\n",
      "time = 0.865875244140625\n",
      "==============================================\n"
     ]
    }
   ],
   "source": [
    "#find p4\n",
    "p4_ls = [0.1,0.3,0.5,0.7,0.9]\n",
    "\n",
    "for p4 in p4_ls:\n",
    "    print(f\"p4 = {p4}\")\n",
    "    print(\"BSO - VRP\")\n",
    "    start = time.time()\n",
    "    bso_vrp = BSO_VRP(p1=0.1,p2=0.3,p3=0.5,p4=p4,max_iter = 200,two_opt_method = \"best\",random_state=100)\n",
    "    bso_vrp.set_model(tur,hotel,timematrix,init_solution=[],travel_days=travel_days,degree_waktu = dwaktu,degree_tarif = dtarif,degree_rating = drating)\n",
    "    fitness = bso_vrp.construct_solution()[-1]\n",
    "    end = time.time()\n",
    "    print(f\"fitness = {fitness}\")\n",
    "    print(f\"time = {end-start}\")\n",
    "    print(\"==============================================\")"
   ]
  },
  {
   "cell_type": "markdown",
   "id": "da61c96f",
   "metadata": {},
   "source": [
    "0.5"
   ]
  },
  {
   "cell_type": "markdown",
   "id": "2b9df5b2",
   "metadata": {},
   "source": [
    "### Find p1 TSP"
   ]
  },
  {
   "cell_type": "code",
   "execution_count": 6,
   "id": "00ae710b",
   "metadata": {},
   "outputs": [
    {
     "name": "stdout",
     "output_type": "stream",
     "text": [
      "p1 = 0.1\n",
      "BSO - TSP\n",
      "fitness = 0.543676775952251\n",
      "time = 71.09224677085876\n",
      "==============================================\n",
      "p1 = 0.3\n",
      "BSO - TSP\n",
      "fitness = 0.543676775952251\n",
      "time = 60.36173439025879\n",
      "==============================================\n",
      "p1 = 0.5\n",
      "BSO - TSP\n",
      "fitness = 0.5415894856705162\n",
      "time = 54.44775867462158\n",
      "==============================================\n",
      "p1 = 0.7\n",
      "BSO - TSP\n",
      "fitness = 0.543676775952251\n",
      "time = 46.63485932350159\n",
      "==============================================\n",
      "p1 = 0.9\n",
      "BSO - TSP\n",
      "fitness = 0.543676775952251\n",
      "time = 39.93434500694275\n",
      "==============================================\n"
     ]
    }
   ],
   "source": [
    "#find p1\n",
    "p1_ls = [0.1,0.3,0.5,0.7,0.9]\n",
    "\n",
    "for p1 in p1_ls:\n",
    "    print(f\"p1 = {p1}\")\n",
    "    print(\"BSO - TSP\")\n",
    "    start = time.time()\n",
    "    bso_tsp = BSO_TSP(p1=p1,max_iter = 200,two_opt_method = \"best\",random_state=100)\n",
    "    bso_tsp.set_model(tur,hotel,timematrix,init_solution=[],travel_days=travel_days,degree_waktu = dwaktu,degree_tarif = dtarif,degree_rating = drating)\n",
    "    fitness = bso_tsp.construct_solution()[-1]\n",
    "    end = time.time()\n",
    "    print(f\"fitness = {fitness}\")\n",
    "    print(f\"time = {end-start}\")\n",
    "    print(\"==============================================\")"
   ]
  },
  {
   "cell_type": "markdown",
   "id": "4dff60fd",
   "metadata": {},
   "source": [
    "0.9"
   ]
  },
  {
   "cell_type": "code",
   "execution_count": null,
   "id": "5d2a7b23",
   "metadata": {},
   "outputs": [],
   "source": []
  },
  {
   "cell_type": "markdown",
   "id": "1e6dedfb",
   "metadata": {},
   "source": [
    "## Tuning Hybrid ACS BSO (VRP/TSP)\n",
    "ikuti hasil tuning ACS dan BSO"
   ]
  },
  {
   "cell_type": "code",
   "execution_count": 32,
   "id": "93854006",
   "metadata": {},
   "outputs": [
    {
     "name": "stdout",
     "output_type": "stream",
     "text": [
      "fitness = 0.6734238751078129\n",
      "time = 72.60819482803345\n"
     ]
    }
   ],
   "source": [
    "start = time.time()\n",
    "acsbso_vrp = ACSBSO_VRP(alpha_t = 1,beta = 1,q0=0.1,rho=0.1,alpha=0.1,num_ant=30,max_iter_acs = 200,\n",
    "                     p1 = 0.4,p2=0.4,p3=0.5,p4=0.5,max_iter_bso=15,random_state=100)\n",
    "acsbso_vrp.set_model(tur,hotel,timematrix,travel_days=travel_days,degree_waktu = dwaktu,degree_tarif = dtarif,degree_rating = drating)\n",
    "fitness = acsbso_vrp.construct_solution()[-1]\n",
    "end = time.time()\n",
    "print(f\"fitness = {fitness}\")\n",
    "print(f\"time = {end-start}\")"
   ]
  },
  {
   "cell_type": "code",
   "execution_count": 13,
   "id": "34b61aff",
   "metadata": {},
   "outputs": [
    {
     "name": "stdout",
     "output_type": "stream",
     "text": [
      "fitness = 0.627314637530019\n",
      "time = 144.34033846855164\n"
     ]
    }
   ],
   "source": [
    "start = time.time()\n",
    "acsbso_tsp = ACSBSO_TSP(alpha_t = 1,beta = 1,q0=0.1,rho=0.1,alpha=0.1,num_ant=30,max_iter_acs = 200,\n",
    "                     p1 = 0.9,max_iter_bso=15,random_state=100)\n",
    "acsbso_tsp.set_model(tur,hotel,timematrix,travel_days=travel_days,degree_waktu = dwaktu,degree_tarif = dtarif,degree_rating = drating)\n",
    "fitness = acsbso_tsp.construct_solution()[-1]\n",
    "end = time.time()\n",
    "print(f\"fitness = {fitness}\")\n",
    "print(f\"time = {end-start}\")"
   ]
  },
  {
   "cell_type": "code",
   "execution_count": null,
   "id": "b562ded7",
   "metadata": {},
   "outputs": [],
   "source": []
  },
  {
   "cell_type": "markdown",
   "id": "9ec3f4cf",
   "metadata": {},
   "source": [
    "## Tuning ACO (VRP/TSP)\n",
    "Tuning dilakukan dengan VRP, TSP mengikuti\n",
    "\n",
    "default parameter/parameter awal:\n",
    "- alpha_t = 1\n",
    "- beta = 4\n",
    "- q0 = 0.6\n",
    "- init_pheromone = 0.1\n",
    "- rho = 0.7\n",
    "- num_ant = 35"
   ]
  },
  {
   "cell_type": "markdown",
   "id": "6c9f5951",
   "metadata": {},
   "source": [
    "### Find Init Pheromone"
   ]
  },
  {
   "cell_type": "code",
   "execution_count": 14,
   "id": "0f86578b",
   "metadata": {},
   "outputs": [
    {
     "name": "stdout",
     "output_type": "stream",
     "text": [
      "pheromone = 0.1\n",
      "ACO - VRP\n",
      "fitness = 0.6367464756988616\n",
      "time = 2.907949686050415\n",
      "==============================================\n",
      "pheromone = 0.3\n",
      "ACO - VRP\n",
      "fitness = 0.6301815111688456\n",
      "time = 4.257891416549683\n",
      "==============================================\n",
      "pheromone = 0.5\n",
      "ACO - VRP\n",
      "fitness = 0.6392166770191339\n",
      "time = 4.698712348937988\n",
      "==============================================\n",
      "pheromone = 1\n",
      "ACO - VRP\n",
      "fitness = 0.6419920487889688\n",
      "time = 4.4397008419036865\n",
      "==============================================\n"
     ]
    }
   ],
   "source": [
    "#find init pheromone\n",
    "init_pheromone = [0.1,0.3,0.5,1]\n",
    "\n",
    "for pheromone in init_pheromone:\n",
    "    print(f\"pheromone = {pheromone}\")\n",
    "    print(\"ACO - VRP\")\n",
    "    start = time.time()\n",
    "    aco_vrp = ACO_VRP(max_iter = 100,init_pheromone=pheromone,random_state=100)\n",
    "    aco_vrp.set_model(tur,hotel,timematrix,travel_days=travel_days,degree_waktu = dwaktu,degree_tarif = dtarif,degree_rating = drating)\n",
    "    fitness = aco_vrp.construct_solution()[-1]\n",
    "    end = time.time()\n",
    "    print(f\"fitness = {fitness}\")\n",
    "    print(f\"time = {end-start}\")\n",
    "    print(\"==============================================\")"
   ]
  },
  {
   "cell_type": "markdown",
   "id": "cf95a0e3",
   "metadata": {},
   "source": [
    "pheromone 1 memiliki hasil lebih baik tetapi 0.1 lebih cepat konvergen. Acceptable value = 0.1 atau 1"
   ]
  },
  {
   "cell_type": "markdown",
   "id": "a4274686",
   "metadata": {},
   "source": [
    "### Find Alpha_t"
   ]
  },
  {
   "cell_type": "code",
   "execution_count": 17,
   "id": "d0dc22d6",
   "metadata": {},
   "outputs": [
    {
     "name": "stdout",
     "output_type": "stream",
     "text": [
      "alpha_t = 1\n",
      "ACO - VRP\n",
      "fitness = 0.6419920487889688\n",
      "time = 2.909588098526001\n",
      "==============================================\n",
      "alpha_t = 2\n",
      "ACO - VRP\n",
      "fitness = 0.6209169418078456\n",
      "time = 3.710354804992676\n",
      "==============================================\n",
      "alpha_t = 3\n",
      "ACO - VRP\n",
      "fitness = 0.6295667490039972\n",
      "time = 3.5760281085968018\n",
      "==============================================\n",
      "alpha_t = 4\n",
      "ACO - VRP\n",
      "fitness = 0.6209169418078456\n",
      "time = 4.227293252944946\n",
      "==============================================\n",
      "alpha_t = 5\n",
      "ACO - VRP\n",
      "fitness = 0.6209169418078456\n",
      "time = 4.268089771270752\n",
      "==============================================\n"
     ]
    }
   ],
   "source": [
    "#find alpha_t\n",
    "alpha_t_ls = [1,2,3,4,5]\n",
    "\n",
    "for alpha_t in alpha_t_ls:\n",
    "    print(f\"alpha_t = {alpha_t}\")\n",
    "    print(\"ACO - VRP\")\n",
    "    start = time.time()\n",
    "    aco_vrp = ACO_VRP(init_pheromone=1,alpha_t = alpha_t,max_iter = 100,random_state=100)\n",
    "    aco_vrp.set_model(tur,hotel,timematrix,travel_days=travel_days,degree_waktu = dwaktu,degree_tarif = dtarif,degree_rating = drating)\n",
    "    fitness = aco_vrp.construct_solution()[-1]\n",
    "    end = time.time()\n",
    "    print(f\"fitness = {fitness}\")\n",
    "    print(f\"time = {end-start}\")\n",
    "    print(\"==============================================\")"
   ]
  },
  {
   "cell_type": "markdown",
   "id": "02366792",
   "metadata": {},
   "source": [
    "1 memberikan hasil terbaik dengan waktu yang baik juga"
   ]
  },
  {
   "cell_type": "markdown",
   "id": "e60b0566",
   "metadata": {},
   "source": [
    "### Find beta"
   ]
  },
  {
   "cell_type": "code",
   "execution_count": 18,
   "id": "f6fd6afd",
   "metadata": {},
   "outputs": [
    {
     "name": "stdout",
     "output_type": "stream",
     "text": [
      "beta = 1\n",
      "ACO - VRP\n",
      "fitness = 0.6441434088310887\n",
      "time = 2.943222761154175\n",
      "==============================================\n",
      "beta = 2\n",
      "ACO - VRP\n",
      "fitness = 0.6381399595202129\n",
      "time = 4.1528050899505615\n",
      "==============================================\n",
      "beta = 3\n",
      "ACO - VRP\n",
      "fitness = 0.6442297031099563\n",
      "time = 4.259020090103149\n",
      "==============================================\n",
      "beta = 4\n",
      "ACO - VRP\n",
      "fitness = 0.6419920487889688\n",
      "time = 4.3442771434783936\n",
      "==============================================\n",
      "beta = 5\n",
      "ACO - VRP\n",
      "fitness = 0.6299559656495011\n",
      "time = 4.139296531677246\n",
      "==============================================\n"
     ]
    }
   ],
   "source": [
    "#find beta\n",
    "beta_ls = [1,2,3,4,5]\n",
    "\n",
    "for beta in beta_ls:\n",
    "    print(f\"beta = {beta}\")\n",
    "    print(\"ACO - VRP\")\n",
    "    start = time.time()\n",
    "    aco_vrp = ACO_VRP(init_pheromone=1,alpha_t = 1,beta = beta,max_iter = 100,random_state=100)\n",
    "    aco_vrp.set_model(tur,hotel,timematrix,travel_days=travel_days,degree_waktu = dwaktu,degree_tarif = dtarif,degree_rating = drating)\n",
    "    fitness = aco_vrp.construct_solution()[-1]\n",
    "    end = time.time()\n",
    "    print(f\"fitness = {fitness}\")\n",
    "    print(f\"time = {end-start}\")\n",
    "    print(\"==============================================\")"
   ]
  },
  {
   "cell_type": "markdown",
   "id": "2d4a0a48",
   "metadata": {},
   "source": [
    "1 memberikan hasil yang baik dan lebih cepat konvergen"
   ]
  },
  {
   "cell_type": "markdown",
   "id": "e661636b",
   "metadata": {},
   "source": [
    "### Find q0"
   ]
  },
  {
   "cell_type": "code",
   "execution_count": 19,
   "id": "4a028cef",
   "metadata": {},
   "outputs": [
    {
     "name": "stdout",
     "output_type": "stream",
     "text": [
      "q0 = 0.1\n",
      "ACO - VRP\n",
      "fitness = 0.6577598261592899\n",
      "time = 4.4432783126831055\n",
      "==============================================\n",
      "q0 = 0.3\n",
      "ACO - VRP\n",
      "fitness = 0.6463256658744568\n",
      "time = 5.40974235534668\n",
      "==============================================\n",
      "q0 = 0.5\n",
      "ACO - VRP\n",
      "fitness = 0.6404948051213162\n",
      "time = 4.162682056427002\n",
      "==============================================\n",
      "q0 = 0.7\n",
      "ACO - VRP\n",
      "fitness = 0.638007424060118\n",
      "time = 3.956200361251831\n",
      "==============================================\n",
      "q0 = 0.9\n",
      "ACO - VRP\n",
      "fitness = 0.6349400684526746\n",
      "time = 3.823956251144409\n",
      "==============================================\n"
     ]
    }
   ],
   "source": [
    "#find beta\n",
    "q0_ls = [0.1,0.3,0.5,0.7,0.9]\n",
    "\n",
    "for q0 in q0_ls:\n",
    "    print(f\"q0 = {q0}\")\n",
    "    print(\"ACO - VRP\")\n",
    "    start = time.time()\n",
    "    aco_vrp = ACO_VRP(init_pheromone = 1,alpha_t = 1,beta = 1,q0=q0,max_iter = 100,random_state=100)\n",
    "    aco_vrp.set_model(tur,hotel,timematrix,travel_days=travel_days,degree_waktu = dwaktu,degree_tarif = dtarif,degree_rating = drating)\n",
    "    fitness = aco_vrp.construct_solution()[-1]\n",
    "    end = time.time()\n",
    "    print(f\"fitness = {fitness}\")\n",
    "    print(f\"time = {end-start}\")\n",
    "    print(\"==============================================\")"
   ]
  },
  {
   "cell_type": "markdown",
   "id": "f633d319",
   "metadata": {},
   "source": [
    "0.1 memberikan hasil terbaik"
   ]
  },
  {
   "cell_type": "markdown",
   "id": "8d6880d5",
   "metadata": {},
   "source": [
    "### Find Rho"
   ]
  },
  {
   "cell_type": "code",
   "execution_count": 20,
   "id": "84d02077",
   "metadata": {},
   "outputs": [
    {
     "name": "stdout",
     "output_type": "stream",
     "text": [
      "rho = 0.1\n",
      "ACO - VRP\n",
      "fitness = 0.6491210119851832\n",
      "time = 3.153700113296509\n",
      "==============================================\n",
      "rho = 0.3\n",
      "ACO - VRP\n",
      "fitness = 0.6491210119851832\n",
      "time = 4.367241382598877\n",
      "==============================================\n",
      "rho = 0.5\n",
      "ACO - VRP\n",
      "fitness = 0.6505351823968691\n",
      "time = 5.156970262527466\n",
      "==============================================\n",
      "rho = 0.7\n",
      "ACO - VRP\n",
      "fitness = 0.6577598261592899\n",
      "time = 6.201971769332886\n",
      "==============================================\n",
      "rho = 0.9\n",
      "ACO - VRP\n",
      "fitness = 0.6491210119851832\n",
      "time = 4.659065246582031\n",
      "==============================================\n"
     ]
    }
   ],
   "source": [
    "#find rho\n",
    "rho_ls = [0.1,0.3,0.5,0.7,0.9]\n",
    "\n",
    "for rho in rho_ls:\n",
    "    print(f\"rho = {rho}\")\n",
    "    print(\"ACO - VRP\")\n",
    "    start = time.time()\n",
    "    aco_vrp = ACO_VRP(init_pheromone=1,alpha_t = 1,beta = 1,q0=0.1,rho=rho,max_iter = 100,random_state=100)\n",
    "    aco_vrp.set_model(tur,hotel,timematrix,travel_days=travel_days,degree_waktu = dwaktu,degree_tarif = dtarif,degree_rating = drating)\n",
    "    fitness = aco_vrp.construct_solution()[-1]\n",
    "    end = time.time()\n",
    "    print(f\"fitness = {fitness}\")\n",
    "    print(f\"time = {end-start}\")\n",
    "    print(\"==============================================\")"
   ]
  },
  {
   "cell_type": "markdown",
   "id": "fc701188",
   "metadata": {},
   "source": [
    "0.7 memberikan hasil terbaik walaupun runningnya cukup lama. Acceptable range = [0.5,0.7]"
   ]
  },
  {
   "cell_type": "markdown",
   "id": "3d738fec",
   "metadata": {},
   "source": [
    "### Find num_ant"
   ]
  },
  {
   "cell_type": "code",
   "execution_count": 21,
   "id": "60156dc7",
   "metadata": {},
   "outputs": [
    {
     "name": "stdout",
     "output_type": "stream",
     "text": [
      "num_ant = 10\n",
      "ACO - VRP\n",
      "fitness = 0.6396014881406362\n",
      "time = 1.0416336059570312\n",
      "==============================================\n",
      "num_ant = 30\n",
      "ACO - VRP\n",
      "fitness = 0.6491210119851832\n",
      "time = 2.8457512855529785\n",
      "==============================================\n",
      "num_ant = 35\n",
      "ACO - VRP\n",
      "fitness = 0.6577598261592899\n",
      "time = 6.224350452423096\n",
      "==============================================\n",
      "num_ant = 50\n",
      "ACO - VRP\n",
      "fitness = 0.6505694930349506\n",
      "time = 6.884086847305298\n",
      "==============================================\n"
     ]
    }
   ],
   "source": [
    "#find num_ant\n",
    "num_ant_ls = [10,30,35,50]\n",
    "\n",
    "for num_ant in num_ant_ls:\n",
    "    print(f\"num_ant = {num_ant}\")\n",
    "    print(\"ACO - VRP\")\n",
    "    start = time.time()\n",
    "    aco_vrp = ACO_VRP(init_pheromone=1,alpha_t = 1,beta = 1,q0=0.1,rho=0.7,num_ant=num_ant,max_iter = 100,random_state=100)\n",
    "    aco_vrp.set_model(tur,hotel,timematrix,travel_days=travel_days,degree_waktu = dwaktu,degree_tarif = dtarif,degree_rating = drating)\n",
    "    fitness = aco_vrp.construct_solution()[-1]\n",
    "    end = time.time()\n",
    "    print(f\"fitness = {fitness}\")\n",
    "    print(f\"time = {end-start}\")\n",
    "    print(\"==============================================\")"
   ]
  },
  {
   "cell_type": "markdown",
   "id": "d091a71d",
   "metadata": {},
   "source": [
    "35 memberikan hasil terbaik"
   ]
  },
  {
   "cell_type": "markdown",
   "id": "4cae7728",
   "metadata": {},
   "source": [
    "### Check TSP"
   ]
  },
  {
   "cell_type": "code",
   "execution_count": 26,
   "id": "5ae8fe39",
   "metadata": {},
   "outputs": [
    {
     "name": "stdout",
     "output_type": "stream",
     "text": [
      "fitness = 0.5052350089665102\n",
      "time = 8.734225511550903\n"
     ]
    }
   ],
   "source": [
    "start = time.time()\n",
    "aco_tsp = ACO_TSP(init_pheromone=1,alpha_t = 1,beta = 1,q0=0.1,rho=0.7,num_ant=35,max_iter = 100,random_state=100)\n",
    "aco_tsp.set_model(tur,hotel,timematrix,travel_days=travel_days,degree_waktu = dwaktu,degree_tarif = dtarif,degree_rating = drating)\n",
    "fitness = aco_tsp.construct_solution()[-1]\n",
    "end = time.time()\n",
    "print(f\"fitness = {fitness}\")\n",
    "print(f\"time = {end-start}\")"
   ]
  },
  {
   "cell_type": "markdown",
   "id": "de4d4aa3",
   "metadata": {},
   "source": [
    "choosen parameter:\n",
    "- alpha_t = 1\n",
    "- beta = 1\n",
    "- q0 = 0.1\n",
    "- init_pheromone = 1\n",
    "- rho = 0.7\n",
    "- num_ant = 35"
   ]
  },
  {
   "cell_type": "markdown",
   "id": "ce9d4bfd",
   "metadata": {},
   "source": [
    "## Tuning HACO (VRP/TSP)\n",
    "Gunakan parameter ACO yang sama dengan ACO_VRP dan tuning parameter terkait mutation-nya\n",
    "\n",
    "default parameter:\n",
    "- q1 = 0.6\n",
    "- q2 = 0.3\n",
    "- q3 = 0.6"
   ]
  },
  {
   "cell_type": "markdown",
   "id": "84e6284b",
   "metadata": {},
   "source": [
    "### Find q1"
   ]
  },
  {
   "cell_type": "code",
   "execution_count": 27,
   "id": "183e1a7d",
   "metadata": {},
   "outputs": [
    {
     "name": "stdout",
     "output_type": "stream",
     "text": [
      "q1 = 0.1\n",
      "HACO - VRP\n",
      "fitness = 0.641174180358118\n",
      "time = 6.7383198738098145\n",
      "==============================================\n",
      "q1 = 0.3\n",
      "HACO - VRP\n",
      "fitness = 0.6544938502957471\n",
      "time = 13.10752010345459\n",
      "==============================================\n",
      "q1 = 0.5\n",
      "HACO - VRP\n",
      "fitness = 0.6613771390073923\n",
      "time = 15.296005725860596\n",
      "==============================================\n",
      "q1 = 0.6\n",
      "HACO - VRP\n",
      "fitness = 0.6614851144931745\n",
      "time = 12.40409517288208\n",
      "==============================================\n",
      "q1 = 0.7\n",
      "HACO - VRP\n",
      "fitness = 0.662174464110273\n",
      "time = 16.132529497146606\n",
      "==============================================\n",
      "q1 = 0.9\n",
      "HACO - VRP\n",
      "fitness = 0.6626160431500097\n",
      "time = 18.687308311462402\n",
      "==============================================\n"
     ]
    }
   ],
   "source": [
    "#find q1\n",
    "q1_ls = [0.1,0.3,0.5,0.6,0.7,0.9]\n",
    "\n",
    "for q1 in q1_ls:\n",
    "    print(f\"q1 = {q1}\")\n",
    "    print(\"HACO - VRP\")\n",
    "    start = time.time()\n",
    "    haco_vrp = HACO_VRP(init_pheromone=1,alpha_t = 1,beta = 1,q0=0.1,q1=q1,rho=0.7,num_ant=35,max_iter = 100,random_state=100)\n",
    "    haco_vrp.set_model(tur,hotel,timematrix,travel_days=travel_days,degree_waktu = dwaktu,degree_tarif = dtarif,degree_rating = drating)\n",
    "    fitness = haco_vrp.construct_solution()[-1]\n",
    "    end = time.time()\n",
    "    print(f\"fitness = {fitness}\")\n",
    "    print(f\"time = {end-start}\")\n",
    "    print(\"==============================================\")"
   ]
  },
  {
   "cell_type": "markdown",
   "id": "109be695",
   "metadata": {},
   "source": [
    "0.6 memberikan hasil cukup baik dengan waktu running sedikit"
   ]
  },
  {
   "cell_type": "markdown",
   "id": "41f636b0",
   "metadata": {},
   "source": [
    "### Find q2"
   ]
  },
  {
   "cell_type": "code",
   "execution_count": 28,
   "id": "06395352",
   "metadata": {},
   "outputs": [
    {
     "name": "stdout",
     "output_type": "stream",
     "text": [
      "q2 = 0.1\n",
      "HACO - VRP\n",
      "fitness = 0.6618083346994356\n",
      "time = 13.632583141326904\n",
      "==============================================\n",
      "q2 = 0.3\n",
      "HACO - VRP\n",
      "fitness = 0.6614851144931745\n",
      "time = 11.849156379699707\n",
      "==============================================\n",
      "q2 = 0.5\n",
      "HACO - VRP\n",
      "fitness = 0.6639799704602525\n",
      "time = 15.419055938720703\n",
      "==============================================\n",
      "q2 = 0.6\n",
      "HACO - VRP\n",
      "fitness = 0.6565192262587196\n",
      "time = 14.914613246917725\n",
      "==============================================\n",
      "q2 = 0.7\n",
      "HACO - VRP\n",
      "fitness = 0.6608308939884857\n",
      "time = 14.804694175720215\n",
      "==============================================\n",
      "q2 = 0.9\n",
      "HACO - VRP\n",
      "fitness = 0.661148855888349\n",
      "time = 15.03340196609497\n",
      "==============================================\n"
     ]
    }
   ],
   "source": [
    "#find q2\n",
    "q2_ls = [0.1,0.3,0.5,0.6,0.7,0.9]\n",
    "\n",
    "for q2 in q2_ls:\n",
    "    print(f\"q2 = {q2}\")\n",
    "    print(\"HACO - VRP\")\n",
    "    start = time.time()\n",
    "    haco_vrp = HACO_VRP(init_pheromone=1,alpha_t = 1,beta = 1,q0=0.1,q1=0.6,q2=q2,rho=0.7,num_ant=35,max_iter = 100,random_state=100)\n",
    "    haco_vrp.set_model(tur,hotel,timematrix,travel_days=travel_days,degree_waktu = dwaktu,degree_tarif = dtarif,degree_rating = drating)\n",
    "    fitness = haco_vrp.construct_solution()[-1]\n",
    "    end = time.time()\n",
    "    print(f\"fitness = {fitness}\")\n",
    "    print(f\"time = {end-start}\")\n",
    "    print(\"==============================================\")"
   ]
  },
  {
   "cell_type": "markdown",
   "id": "c35eae3f",
   "metadata": {},
   "source": [
    "0.3 memberikan hasil cukup baik dengan running time kecil namun 0.5 memberikan hasil terbaik. acceptable range = [0.1,0.5]"
   ]
  },
  {
   "cell_type": "markdown",
   "id": "1d1b66e2",
   "metadata": {},
   "source": [
    "### Find q3"
   ]
  },
  {
   "cell_type": "code",
   "execution_count": 29,
   "id": "9fd24ecb",
   "metadata": {},
   "outputs": [
    {
     "name": "stdout",
     "output_type": "stream",
     "text": [
      "q3 = 0.1\n",
      "HACO - VRP\n",
      "fitness = 0.6603258106208595\n",
      "time = 13.30063009262085\n",
      "==============================================\n",
      "q3 = 0.3\n",
      "HACO - VRP\n",
      "fitness = 0.6640136865309576\n",
      "time = 12.632752418518066\n",
      "==============================================\n",
      "q3 = 0.5\n",
      "HACO - VRP\n",
      "fitness = 0.660162244164456\n",
      "time = 13.131663799285889\n",
      "==============================================\n",
      "q3 = 0.6\n",
      "HACO - VRP\n",
      "fitness = 0.6639799704602525\n",
      "time = 15.225099325180054\n",
      "==============================================\n",
      "q3 = 0.7\n",
      "HACO - VRP\n",
      "fitness = 0.6575994731722998\n",
      "time = 11.470699548721313\n",
      "==============================================\n",
      "q3 = 0.9\n",
      "HACO - VRP\n",
      "fitness = 0.6598536021891475\n",
      "time = 14.568622350692749\n",
      "==============================================\n"
     ]
    }
   ],
   "source": [
    "#find q3\n",
    "q3_ls = [0.1,0.3,0.5,0.6,0.7,0.9]\n",
    "\n",
    "for q3 in q3_ls:\n",
    "    print(f\"q3 = {q3}\")\n",
    "    print(\"HACO - VRP\")\n",
    "    start = time.time()\n",
    "    haco_vrp = HACO_VRP(init_pheromone=1,alpha_t = 1,beta = 1,q0=0.1,q1=0.6,q2=0.5,q3=q3,rho=0.7,num_ant=35,max_iter = 100,random_state=100)\n",
    "    haco_vrp.set_model(tur,hotel,timematrix,travel_days=travel_days,degree_waktu = dwaktu,degree_tarif = dtarif,degree_rating = drating)\n",
    "    fitness = haco_vrp.construct_solution()[-1]\n",
    "    end = time.time()\n",
    "    print(f\"fitness = {fitness}\")\n",
    "    print(f\"time = {end-start}\")\n",
    "    print(\"==============================================\")"
   ]
  },
  {
   "cell_type": "markdown",
   "id": "25f338bc",
   "metadata": {},
   "source": [
    "0.3 memberikan hasil terbaik dan running time yang acceptable"
   ]
  },
  {
   "cell_type": "markdown",
   "id": "23e83769",
   "metadata": {},
   "source": [
    "### Check TSP"
   ]
  },
  {
   "cell_type": "code",
   "execution_count": 30,
   "id": "c6a8bad2",
   "metadata": {},
   "outputs": [
    {
     "name": "stdout",
     "output_type": "stream",
     "text": [
      "fitness = 0.5614452579766339\n",
      "time = 16.4608952999115\n"
     ]
    }
   ],
   "source": [
    "start = time.time()\n",
    "haco_tsp = HACO_TSP(init_pheromone=1,alpha_t = 1,beta = 1,q0=0.1,q1=0.6,q2=0.5,q3=0.3,rho=0.7,num_ant=35,max_iter = 100,random_state=100)\n",
    "haco_tsp.set_model(tur,hotel,timematrix,travel_days=travel_days,degree_waktu = dwaktu,degree_tarif = dtarif,degree_rating = drating)\n",
    "fitness = haco_tsp.construct_solution()[-1]\n",
    "end = time.time()\n",
    "print(f\"fitness = {fitness}\")\n",
    "print(f\"time = {end-start}\")"
   ]
  },
  {
   "cell_type": "markdown",
   "id": "716a67ee",
   "metadata": {},
   "source": [
    "choosen parameter:\n",
    "- q1 = 0.6\n",
    "- q2 = 0.3\n",
    "- q3 = 0.3"
   ]
  },
  {
   "cell_type": "code",
   "execution_count": null,
   "id": "5152b1db",
   "metadata": {},
   "outputs": [],
   "source": []
  },
  {
   "cell_type": "code",
   "execution_count": null,
   "id": "183ebdb0",
   "metadata": {},
   "outputs": [],
   "source": []
  },
  {
   "cell_type": "code",
   "execution_count": 1,
   "id": "394aa449",
   "metadata": {},
   "outputs": [],
   "source": [
    "from optimization.acs import ACS_VRP,ACS_TSP\n",
    "from optimization.bso import BSO_VRP,BSO_TSP\n",
    "from optimization.hybrid_acs_bso import ACSBSO_VRP,ACSBSO_TSP\n",
    "\n",
    "from optimization.aco import ACO_VRP,ACO_TSP\n",
    "from optimization.haco import HACO_VRP,HACO_TSP\n",
    "\n",
    "from optimization.koneksi import ConDB\n",
    "\n",
    "import sql_connection\n",
    "import json\n",
    "import time\n",
    "import threading\n",
    "import random\n",
    "import datetime\n",
    "import copy"
   ]
  },
  {
   "cell_type": "code",
   "execution_count": 23,
   "id": "a07aa608",
   "metadata": {},
   "outputs": [
    {
     "name": "stdout",
     "output_type": "stream",
     "text": [
      "{\"idWisata\":[{\"id\":\"1\"},{\"id\":\"2\"},{\"id\":\"3\"},{\"id\":\"4\"},{\"id\":\"5\"},{\"id\":\"6\"},{\"id\":\"7\"},{\"id\":\"8\"},{\"id\":\"9\"},{\"id\":\"10\"},{\"id\":\"11\"},{\"id\":\"12\"},{\"id\":\"13\"},{\"id\":\"14\"},{\"id\":\"15\"},{\"id\":\"16\"},{\"id\":\"17\"},{\"id\":\"18\"},{\"id\":\"19\"},{\"id\":\"20\"},{\"id\":\"21\"},{\"id\":\"22\"},{\"id\":\"23\"},{\"id\":\"24\"},{\"id\":\"25\"},{\"id\":\"26\"},{\"id\":\"27\"},{\"id\":\"28\"},{\"id\":\"29\"},{\"id\":\"69\"}],\"idhotel\":[\"169\"],\"algo_url\":\"ant-colony-optimization-aco-tsp\",\"degree\":[1,1,1],\"travel_days\":6}\n"
     ]
    }
   ],
   "source": [
    "def get_var(strs):\n",
    "    t = str(strs)\n",
    "    print(t)\n",
    "    tourid = []\n",
    "    t_ = json.loads(t)\n",
    "    for t in t_['idWisata']:\n",
    "        tourid.append(t['id'])\n",
    "    idhotel = int(t_['idhotel'][0])\n",
    "    dwaktu = float(t_['degree'][0])\n",
    "    dtarif = float(t_['degree'][2])\n",
    "    drating = float(t_['degree'][1])\n",
    "    travel_days = int(t_['travel_days'])\n",
    "    return tourid,idhotel,dwaktu,dtarif,drating,travel_days\n",
    "\n",
    "choice = '{\"idWisata\":[{\"id\":\"1\"},{\"id\":\"2\"},{\"id\":\"3\"},{\"id\":\"4\"},{\"id\":\"5\"},{\"id\":\"6\"},{\"id\":\"7\"},{\"id\":\"8\"},{\"id\":\"9\"},{\"id\":\"10\"},{\"id\":\"11\"},{\"id\":\"12\"},{\"id\":\"13\"},{\"id\":\"14\"},{\"id\":\"15\"},{\"id\":\"16\"},{\"id\":\"17\"},{\"id\":\"18\"},{\"id\":\"19\"},{\"id\":\"20\"},{\"id\":\"21\"},{\"id\":\"22\"},{\"id\":\"23\"},{\"id\":\"24\"},{\"id\":\"25\"},{\"id\":\"26\"},{\"id\":\"27\"},{\"id\":\"28\"},{\"id\":\"29\"},{\"id\":\"69\"}],\"idhotel\":[\"169\"],\"algo_url\":\"ant-colony-optimization-aco-tsp\",\"degree\":[1,1,1],\"travel_days\":6}'\n",
    "tourid,idhotel,dwaktu,dtarif,drating,travel_days = get_var(choice)"
   ]
  },
  {
   "cell_type": "code",
   "execution_count": 24,
   "id": "6333ec79",
   "metadata": {},
   "outputs": [],
   "source": [
    "db = ConDB()\n",
    "rute_perhari = []\n",
    "waktuDatang = []\n",
    "\n",
    "start = time.time()\n",
    "\n",
    "hotel = db.HotelbyID(idhotel)\n",
    "tur = db.WisatabyID(tourid)\n",
    "timematrix = db.TimeMatrixbyID(hotel._id,tourid)"
   ]
  },
  {
   "cell_type": "code",
   "execution_count": 25,
   "id": "f3f824c2",
   "metadata": {},
   "outputs": [
    {
     "name": "stdout",
     "output_type": "stream",
     "text": [
      "0.6611956364097826\n",
      "2.0480401515960693\n"
     ]
    }
   ],
   "source": [
    "start = time.time()\n",
    "acs_model = ACS_VRP(max_iter=200,max_idem=30,num_ant=10,random_state = 100)\n",
    "acs_model.set_model(tur,hotel,timematrix,travel_days=travel_days,degree_waktu = dwaktu,degree_tarif = dtarif,degree_rating = drating)\n",
    "\n",
    "sol,fitness = acs_model.construct_solution()\n",
    "end = time.time()\n",
    "run = end-start\n",
    "print(fitness)\n",
    "print(run)"
   ]
  },
  {
   "cell_type": "code",
   "execution_count": 26,
   "id": "5502f0a7",
   "metadata": {},
   "outputs": [
    {
     "data": {
      "text/plain": [
       "[{'index': [13, 18, 2, 69, 12, 4, 5, 21, 27],\n",
       "  'waktu': [datetime.time(8, 0),\n",
       "   datetime.time(8, 11),\n",
       "   datetime.time(9, 22),\n",
       "   datetime.time(10, 32),\n",
       "   datetime.time(11, 35),\n",
       "   datetime.time(12, 45),\n",
       "   datetime.time(14, 30),\n",
       "   datetime.time(16, 12),\n",
       "   datetime.time(17, 15),\n",
       "   datetime.time(18, 14),\n",
       "   datetime.time(20, 34)],\n",
       "  'rating': [4.8, 4.5, 4.7, 4.6, 4.7, 4.6, 4.5, 4.6, 4.5],\n",
       "  'tarif': [0, 0, 0, 8000, 3000, 0, 35000, 0, 3000]},\n",
       " {'index': [17, 6, 11, 3, 14, 20, 7, 10, 9, 1],\n",
       "  'waktu': [datetime.time(8, 0),\n",
       "   datetime.time(8, 18),\n",
       "   datetime.time(9, 13),\n",
       "   datetime.time(11, 17),\n",
       "   datetime.time(12, 5),\n",
       "   datetime.time(12, 48),\n",
       "   datetime.time(13, 37),\n",
       "   datetime.time(15, 24),\n",
       "   datetime.time(16, 25),\n",
       "   datetime.time(17, 27),\n",
       "   datetime.time(18, 8),\n",
       "   datetime.time(19, 49)],\n",
       "  'rating': [4.5, 4.6, 4.5, 4.6, 4.5, 4.7, 4.8, 4.6, 4.7, 4.8],\n",
       "  'tarif': [0, 3000, 0, 0, 0, 10000, 0, 0, 0, 0]},\n",
       " {'index': [8, 24, 22, 28, 15, 23, 26],\n",
       "  'waktu': [datetime.time(8, 0),\n",
       "   datetime.time(8, 12),\n",
       "   datetime.time(10, 35),\n",
       "   datetime.time(11, 19),\n",
       "   datetime.time(12, 52),\n",
       "   datetime.time(15, 38),\n",
       "   datetime.time(16, 14),\n",
       "   datetime.time(17, 11),\n",
       "   datetime.time(19, 41)],\n",
       "  'rating': [4.7, 4.4, 4.5, 4.4, 4.5, 4.6, 4.5],\n",
       "  'tarif': [3000, 0, 0, 115000, 0, 0, 0]},\n",
       " {'index': [16, 29],\n",
       "  'waktu': [datetime.time(8, 0),\n",
       "   datetime.time(8, 9),\n",
       "   datetime.time(9, 59),\n",
       "   datetime.time(12, 23)],\n",
       "  'rating': [4.4, 4.3],\n",
       "  'tarif': [0, 30000]}]"
      ]
     },
     "execution_count": 26,
     "metadata": {},
     "output_type": "execute_result"
    }
   ],
   "source": [
    "sol"
   ]
  },
  {
   "cell_type": "code",
   "execution_count": 29,
   "id": "8a4ac566",
   "metadata": {},
   "outputs": [
    {
     "name": "stdout",
     "output_type": "stream",
     "text": [
      "0.6427285582204815\n",
      "12.973615884780884\n"
     ]
    }
   ],
   "source": [
    "start = time.time()\n",
    "acs_model = ACS_TSP(max_iter=200,random_state = 100)\n",
    "acs_model.set_model(tur,hotel,timematrix,travel_days=travel_days,degree_waktu = dwaktu,degree_tarif = dtarif,degree_rating = drating)\n",
    "\n",
    "sol,fitness = acs_model.construct_solution()\n",
    "end = time.time()\n",
    "run = end-start\n",
    "print(fitness)\n",
    "print(run)"
   ]
  },
  {
   "cell_type": "code",
   "execution_count": 30,
   "id": "2bf170e9",
   "metadata": {},
   "outputs": [
    {
     "data": {
      "text/plain": [
       "[{'index': [1, 5, 10, 7, 9],\n",
       "  'waktu': [datetime.time(8, 0),\n",
       "   datetime.time(8, 13),\n",
       "   datetime.time(16, 0),\n",
       "   datetime.time(16, 49),\n",
       "   datetime.time(17, 50),\n",
       "   datetime.time(18, 51),\n",
       "   datetime.time(19, 35)],\n",
       "  'rating': [4.8, 4.5, 4.6, 4.8, 4.7],\n",
       "  'tarif': [0, 35000, 0, 0, 0]},\n",
       " {'index': [8, 4, 23, 14, 27, 28],\n",
       "  'waktu': [datetime.time(8, 0),\n",
       "   datetime.time(8, 12),\n",
       "   datetime.time(10, 17),\n",
       "   datetime.time(11, 52),\n",
       "   datetime.time(12, 32),\n",
       "   datetime.time(13, 46),\n",
       "   datetime.time(16, 12),\n",
       "   datetime.time(18, 56)],\n",
       "  'rating': [4.7, 4.6, 4.6, 4.5, 4.5, 4.4],\n",
       "  'tarif': [3000, 0, 0, 0, 3000, 115000]},\n",
       " {'index': [20, 22, 12, 13, 2, 3, 17, 24],\n",
       "  'waktu': [datetime.time(8, 0),\n",
       "   datetime.time(9, 0),\n",
       "   datetime.time(10, 50),\n",
       "   datetime.time(12, 21),\n",
       "   datetime.time(13, 52),\n",
       "   datetime.time(14, 59),\n",
       "   datetime.time(16, 6),\n",
       "   datetime.time(16, 38),\n",
       "   datetime.time(17, 47),\n",
       "   datetime.time(18, 41)],\n",
       "  'rating': [4.7, 4.5, 4.7, 4.8, 4.7, 4.6, 4.5, 4.4],\n",
       "  'tarif': [10000, 0, 3000, 0, 0, 0, 0, 0]},\n",
       " {'index': [6, 69, 11, 26, 29, 21, 15],\n",
       "  'waktu': [datetime.time(8, 0),\n",
       "   datetime.time(8, 16),\n",
       "   datetime.time(10, 19),\n",
       "   datetime.time(11, 21),\n",
       "   datetime.time(12, 29),\n",
       "   datetime.time(15, 24),\n",
       "   datetime.time(17, 51),\n",
       "   datetime.time(18, 17),\n",
       "   datetime.time(18, 59)],\n",
       "  'rating': [4.6, 4.6, 4.5, 4.5, 4.3, 4.6, 4.5],\n",
       "  'tarif': [3000, 8000, 0, 0, 30000, 0, 0]},\n",
       " {'index': [16, 18],\n",
       "  'waktu': [datetime.time(8, 0),\n",
       "   datetime.time(8, 9),\n",
       "   datetime.time(9, 23),\n",
       "   datetime.time(10, 31)],\n",
       "  'rating': [4.4, 4.5],\n",
       "  'tarif': [0, 0]}]"
      ]
     },
     "execution_count": 30,
     "metadata": {},
     "output_type": "execute_result"
    }
   ],
   "source": [
    "sol"
   ]
  },
  {
   "cell_type": "code",
   "execution_count": 12,
   "id": "d7f0271f",
   "metadata": {},
   "outputs": [
    {
     "data": {
      "text/plain": [
       "28"
      ]
     },
     "execution_count": 12,
     "metadata": {},
     "output_type": "execute_result"
    }
   ],
   "source": [
    "len(sum([i['index'] for i in sol],[]))"
   ]
  },
  {
   "cell_type": "code",
   "execution_count": null,
   "id": "742d978d",
   "metadata": {},
   "outputs": [],
   "source": []
  },
  {
   "cell_type": "code",
   "execution_count": 7,
   "id": "aa090314",
   "metadata": {},
   "outputs": [
    {
     "name": "stdout",
     "output_type": "stream",
     "text": [
      "0.6636147933283799\n",
      "40.4247465133667\n"
     ]
    }
   ],
   "source": [
    "start = time.time()\n",
    "acsbso_model = ACSBSO_VRP(max_iter_acs=200,random_state = 100)\n",
    "acsbso_model.set_model(tur,hotel,timematrix,travel_days=travel_days,degree_waktu = dwaktu,degree_tarif = dtarif,degree_rating = drating)\n",
    "\n",
    "sol,fitness = acsbso_model.construct_solution()\n",
    "end = time.time()\n",
    "run = end-start\n",
    "print(fitness)\n",
    "print(run)"
   ]
  },
  {
   "cell_type": "code",
   "execution_count": null,
   "id": "1c51691e",
   "metadata": {},
   "outputs": [],
   "source": [
    "acsbso_model"
   ]
  },
  {
   "cell_type": "code",
   "execution_count": 5,
   "id": "a7392f61",
   "metadata": {},
   "outputs": [
    {
     "name": "stdout",
     "output_type": "stream",
     "text": [
      "0.5199885335653813\n",
      "396.80543303489685\n"
     ]
    }
   ],
   "source": [
    "start = time.time()\n",
    "acsbso_model = ACSBSO_TSP(max_iter_acs=300,max_idem_acs=30,max_iter_bso=15,p1=0.7, random_state = 100)\n",
    "acsbso_model.set_model(tur,hotel,timematrix,travel_days=travel_days,degree_waktu = dwaktu,degree_tarif = dtarif,degree_rating = drating)\n",
    "\n",
    "sol,fitness = acsbso_model.construct_solution()\n",
    "end = time.time()\n",
    "run = end-start\n",
    "print(fitness)\n",
    "print(run)"
   ]
  },
  {
   "cell_type": "code",
   "execution_count": 7,
   "id": "420a7f67",
   "metadata": {},
   "outputs": [
    {
     "data": {
      "text/plain": [
       "[{'index': [6, 14, 26, 24, 22, 5, 10, 13, 9],\n",
       "  'waktu': [datetime.time(8, 0),\n",
       "   datetime.time(8, 16),\n",
       "   datetime.time(10, 35),\n",
       "   datetime.time(11, 32),\n",
       "   datetime.time(13, 49),\n",
       "   datetime.time(14, 33),\n",
       "   datetime.time(16, 9),\n",
       "   datetime.time(16, 58),\n",
       "   datetime.time(18, 9),\n",
       "   datetime.time(19, 19),\n",
       "   datetime.time(20, 3)],\n",
       "  'rating': [4.6, 4.5, 4.5, 4.4, 4.5, 4.5, 4.6, 4.8, 4.7],\n",
       "  'tarif': [3000, 0, 0, 0, 0, 35000, 0, 0, 0]},\n",
       " {'index': [29, 20, 27, 21, 15, 17, 3, 4],\n",
       "  'waktu': [datetime.time(8, 0),\n",
       "   datetime.time(8, 53),\n",
       "   datetime.time(11, 26),\n",
       "   datetime.time(13, 38),\n",
       "   datetime.time(15, 52),\n",
       "   datetime.time(16, 18),\n",
       "   datetime.time(16, 52),\n",
       "   datetime.time(17, 39),\n",
       "   datetime.time(18, 9),\n",
       "   datetime.time(19, 54)],\n",
       "  'rating': [4.3, 4.7, 4.5, 4.6, 4.5, 4.5, 4.6, 4.6],\n",
       "  'tarif': [30000, 10000, 3000, 0, 0, 0, 0, 0]},\n",
       " {'index': [16, 12, 69, 11, 1, 2, 7, 23],\n",
       "  'waktu': [datetime.time(8, 0),\n",
       "   datetime.time(8, 9),\n",
       "   datetime.time(9, 26),\n",
       "   datetime.time(11, 8),\n",
       "   datetime.time(12, 10),\n",
       "   datetime.time(13, 7),\n",
       "   datetime.time(14, 39),\n",
       "   datetime.time(15, 40),\n",
       "   datetime.time(16, 51),\n",
       "   datetime.time(17, 40)],\n",
       "  'rating': [4.4, 4.7, 4.6, 4.5, 4.8, 4.7, 4.8, 4.6],\n",
       "  'tarif': [0, 3000, 8000, 0, 0, 0, 0, 0]},\n",
       " {'index': [8, 18, 28],\n",
       "  'waktu': [datetime.time(8, 0),\n",
       "   datetime.time(8, 12),\n",
       "   datetime.time(10, 17),\n",
       "   datetime.time(11, 25),\n",
       "   datetime.time(14, 9)],\n",
       "  'rating': [4.7, 4.5, 4.4],\n",
       "  'tarif': [3000, 0, 115000]}]"
      ]
     },
     "execution_count": 7,
     "metadata": {},
     "output_type": "execute_result"
    }
   ],
   "source": [
    "sol"
   ]
  },
  {
   "cell_type": "code",
   "execution_count": 4,
   "id": "6a517eeb",
   "metadata": {},
   "outputs": [
    {
     "data": {
      "text/plain": [
       "0.6603854512245971"
      ]
     },
     "execution_count": 4,
     "metadata": {},
     "output_type": "execute_result"
    }
   ],
   "source": [
    "bso_model = BSO_VRP(random_state = 100)\n",
    "bso_model.set_model(tur,hotel,timematrix,init_solution=[],travel_days=travel_days,degree_waktu = dwaktu,degree_tarif = dtarif,degree_rating = drating)\n",
    "\n",
    "sol_node,sol,fitness = bso_model.construct_solution()\n",
    "fitness"
   ]
  },
  {
   "cell_type": "code",
   "execution_count": 22,
   "id": "401928ed",
   "metadata": {},
   "outputs": [],
   "source": [
    "command = \"BSO_VRP\" + \"(max_iter={iteration},random_state=10)\".format(iteration=\"10\")\n",
    "exec(\"model = {command}\".format(command=command))"
   ]
  },
  {
   "cell_type": "code",
   "execution_count": 9,
   "id": "b1c56306",
   "metadata": {},
   "outputs": [],
   "source": [
    "random.seed(None)"
   ]
  },
  {
   "cell_type": "code",
   "execution_count": 6,
   "id": "751b20ff",
   "metadata": {},
   "outputs": [],
   "source": [
    "a = [0.3791177272796631,\n",
    "0.43644261360168457,\n",
    "0.38830065727233887,\n",
    "0.6996159553527832,\n",
    "0.46743106842041016,\n",
    "0.3434772491455078,\n",
    "0.5800998210906982,\n",
    "0.4150519371032715,\n",
    "0.44530248641967773,\n",
    "0.6571595668792725,\n",
    "0.40494465827941895,\n",
    "0.692896842956543,\n",
    "0.8342714309692383,\n",
    "0.6910789012908936,\n",
    "0.5129132270812988,\n",
    "0.4804236888885498,\n",
    "0.3209686279296875,\n",
    "0.42601847648620605,\n",
    "0.39066433906555176,\n",
    "0.5672774314880371,\n",
    "0.9084668159484863,\n",
    "0.27115368843078613,\n",
    "0.40529322624206543,\n",
    "0.7366936206817627,\n",
    "0.594475269317627,\n",
    "0.4014918804168701,\n",
    "0.41829848289489746,\n",
    "0.8024146556854248,\n",
    "0.6096019744873047,\n",
    "0.4448666572570801,\n",
    "0.8894081115722656,\n",
    "0.16657662391662598,\n",
    "0.5153968334197998,\n",
    "0.8408451080322266,\n",
    "0.29433155059814453,\n",
    "0.2928009033203125,\n",
    "0.4803731441497803,\n",
    "0.4021484851837158,\n",
    "0.3879678249359131,\n",
    "0.6936070919036865,\n",
    "0.4454841613769531,\n",
    "0.7051844596862793,\n",
    "0.43483638763427734,\n",
    "0.4561753273010254,\n",
    "0.649989128112793,\n",
    "0.44147682189941406,\n",
    "0.548473596572876,\n",
    "0.33518552780151367,\n",
    "0.5097179412841797,\n",
    "0.6174004077911377,\n",
    "0.6508307456970215,\n",
    "0.5080409049987793,\n",
    "1.111036777496338,\n",
    "0.8744893074035645,\n",
    "0.7643203735351562,\n",
    "0.45719456672668457,\n",
    "0.45942211151123047,\n",
    "0.5107338428497314,\n",
    "0.39502978324890137,\n",
    "0.6055765151977539,\n",
    "0.36304354667663574,\n",
    "0.49088478088378906,\n",
    "0.6541593074798584,\n",
    "0.703129768371582,\n",
    "0.30786871910095215,\n",
    "0.6256604194641113,\n",
    "0.4805271625518799,\n",
    "0.5253174304962158,\n",
    "0.1745436191558838,\n",
    "0.4888637065887451,\n",
    "0.3309011459350586,\n",
    "0.4515209197998047,\n",
    "0.43791770935058594,\n",
    "0.20480680465698242,\n",
    "0.5752556324005127,\n",
    "0.5809659957885742,\n",
    "0.6340129375457764,\n",
    "0.5782098770141602,\n",
    "0.4679274559020996,\n",
    "0.4718747138977051,\n",
    "0.49535179138183594,\n",
    "0.6401042938232422,\n",
    "0.5307507514953613,\n",
    "0.48633623123168945,\n",
    "0.33688807487487793,\n",
    "0.6628160067801528]"
   ]
  },
  {
   "cell_type": "code",
   "execution_count": 7,
   "id": "74908d33",
   "metadata": {},
   "outputs": [
    {
     "data": {
      "text/plain": [
       "44.86990614616919"
      ]
     },
     "execution_count": 7,
     "metadata": {},
     "output_type": "execute_result"
    }
   ],
   "source": [
    "sum(a)"
   ]
  },
  {
   "cell_type": "code",
   "execution_count": null,
   "id": "942ff700",
   "metadata": {},
   "outputs": [],
   "source": []
  }
 ],
 "metadata": {
  "kernelspec": {
   "display_name": "Python 3 (ipykernel)",
   "language": "python",
   "name": "python3"
  },
  "language_info": {
   "codemirror_mode": {
    "name": "ipython",
    "version": 3
   },
   "file_extension": ".py",
   "mimetype": "text/x-python",
   "name": "python",
   "nbconvert_exporter": "python",
   "pygments_lexer": "ipython3",
   "version": "3.11.3"
  }
 },
 "nbformat": 4,
 "nbformat_minor": 5
}
