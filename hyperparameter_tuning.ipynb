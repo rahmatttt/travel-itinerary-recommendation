{
 "cells": [
  {
   "cell_type": "markdown",
   "id": "54c9c305",
   "metadata": {},
   "source": [
    "# Hyperparameter Tuning\n",
    "Find the most acceptable parameter"
   ]
  },
  {
   "cell_type": "code",
   "execution_count": 1,
   "id": "288e9365",
   "metadata": {},
   "outputs": [],
   "source": [
    "from optimization.acs import ACS_VRP,ACS_TSP\n",
    "from optimization.bso import BSO_VRP,BSO_TSP\n",
    "from optimization.hybrid_acs_bso import ACSBSO_VRP,ACSBSO_TSP\n",
    "\n",
    "from optimization.koneksi import ConDB\n",
    "\n",
    "import sql_connection\n",
    "import json\n",
    "import time\n",
    "import threading\n",
    "import random"
   ]
  },
  {
   "cell_type": "markdown",
   "id": "39e060f0",
   "metadata": {},
   "source": [
    "## Maximum Iteration"
   ]
  },
  {
   "cell_type": "code",
   "execution_count": 2,
   "id": "351c5b7a",
   "metadata": {},
   "outputs": [],
   "source": [
    "def timeout_function():\n",
    "    print(\"Script timed out.\")\n",
    "    # You can perform any cleanup or additional actions here\n",
    "    # Exit the script if needed\n",
    "\n",
    "# Set the timeout duration in seconds\n",
    "timeout_duration = 120\n",
    "\n",
    "# Create a thread that runs the timeout_function after the specified duration\n",
    "timeout_thread = threading.Timer(timeout_duration, timeout_function)"
   ]
  },
  {
   "cell_type": "code",
   "execution_count": 3,
   "id": "23ee7b8d",
   "metadata": {},
   "outputs": [
    {
     "name": "stderr",
     "output_type": "stream",
     "text": [
      "C:\\Users\\rahma\\Documents\\kuliah\\thesis\\rahmat_code\\travel-itinerary-recommendation\\sql_connection.py:23: UserWarning: pandas only supports SQLAlchemy connectable (engine/connection) or database string URI or sqlite3 DBAPI2 connection. Other DBAPI2 objects are not tested. Please consider using SQLAlchemy.\n",
      "  dataset = pd.read_sql(query, mydb)\n"
     ]
    }
   ],
   "source": [
    "query = \"\"\"SELECT \n",
    "                p.post_id,\n",
    "                p.post_type,\n",
    "                CASE\n",
    "                    WHEN pj.pj_jam_buka = pj.pj_jam_tutup THEN \"tutup\"\n",
    "                    ELSE \"buka\"\n",
    "                END AS is_operate\n",
    "            FROM \n",
    "                posts p\n",
    "            LEFT JOIN\n",
    "                posts_jadwal pj\n",
    "                ON p.post_id = pj.pj_id_tempat AND pj.pj_hari = \"minggu\"\n",
    "            \"\"\"\n",
    "\n",
    "df_location = sql_connection.read_from_sql(query)"
   ]
  },
  {
   "cell_type": "code",
   "execution_count": 5,
   "id": "a9766f79",
   "metadata": {},
   "outputs": [],
   "source": [
    "random.seed(10)\n",
    "tourid = df_location[(df_location['post_type']==\"location\")&\n",
    "                     (df_location['is_operate'] != \"tutup\")]['post_id'].values.tolist()\n",
    "idhotel = df_location[df_location['post_type']==\"hotel\"]['post_id'].values.tolist()\n",
    "idhotel = idhotel[random.randint(0,len(idhotel))]\n",
    "dwaktu,dtarif,drating = 1,1,1\n",
    "travel_days = 3"
   ]
  },
  {
   "cell_type": "code",
   "execution_count": 6,
   "id": "b4e004b0",
   "metadata": {},
   "outputs": [],
   "source": [
    "db = ConDB()\n",
    "\n",
    "hotel = db.HotelbyID(idhotel)\n",
    "tur = db.WisatabyID(tourid)\n",
    "timematrix = db.TimeMatrixbyID(hotel._id,tourid)"
   ]
  },
  {
   "cell_type": "code",
   "execution_count": 7,
   "id": "34f5da4e",
   "metadata": {},
   "outputs": [
    {
     "name": "stdout",
     "output_type": "stream",
     "text": [
      "Testing iteration 100\n",
      "Get fitness = 0.5668301419385561\n",
      "Running time = 40.78083872795105\n",
      "==============================================\n",
      "Testing iteration 200\n",
      "Get fitness = 0.5693547470798093\n",
      "Running time = 90.93568778038025\n",
      "==============================================\n",
      "Testing iteration 300\n",
      "Timeout occurred for this iteration.\n",
      "Get fitness = 0.5702918308965187\n",
      "Running time = 147.43390345573425\n",
      "==============================================\n",
      "Testing iteration 400\n",
      "Timeout occurred for this iteration.\n",
      "Get fitness = 0.5702918308965187\n",
      "Running time = 151.09607529640198\n",
      "==============================================\n",
      "Testing iteration 500\n",
      "Timeout occurred for this iteration.\n",
      "Get fitness = 0.5702918308965187\n",
      "Running time = 144.6768672466278\n",
      "==============================================\n",
      "All iterations have finished.\n"
     ]
    }
   ],
   "source": [
    "# Function to be executed by each thread\n",
    "def worker_function(thread_id, iteration):\n",
    "    print(f\"Testing iteration {iteration}\")\n",
    "    \n",
    "    start = time.time()\n",
    "    \n",
    "    timeout_thread = threading.Timer(120, timeout_function)  # Set a 2-minute (120 seconds) timeout\n",
    "    timeout_thread.start()\n",
    "\n",
    "    acs_model = ACS_VRP(max_iter=iteration, random_state=10)\n",
    "    acs_model.set_model(tur, hotel, timematrix, travel_days=travel_days, degree_waktu=dwaktu, degree_tarif=dtarif, degree_rating=drating)\n",
    "\n",
    "    sol, fitness = acs_model.construct_solution()\n",
    "    print(f\"Get fitness = {fitness}\")\n",
    "\n",
    "    timeout_thread.cancel()\n",
    "    end = time.time()\n",
    "    print(f\"Running time = {end - start}\")\n",
    "    print(\"==============================================\")\n",
    "\n",
    "# Function to handle a timeout\n",
    "def timeout_function():\n",
    "    print(\"Timeout occurred for this iteration.\")\n",
    "    # You can perform any cleanup or additional actions here\n",
    "    # Continue to the next iteration\n",
    "\n",
    "# List of iterations\n",
    "n = [100, 200, 300, 400, 500]\n",
    "\n",
    "# Loop through the iterations\n",
    "for i in n:\n",
    "    thread = threading.Thread(target=worker_function, args=(i, i))\n",
    "    thread.start()\n",
    "    thread.join()  # Wait for the thread to finish\n",
    "\n",
    "print(\"All iterations have finished.\")"
   ]
  },
  {
   "cell_type": "code",
   "execution_count": 60,
   "id": "1c410911",
   "metadata": {},
   "outputs": [
    {
     "name": "stdout",
     "output_type": "stream",
     "text": [
      "{\"idWisata\":[{\"id\":\"1\"},{\"id\":\"2\"},{\"id\":\"3\"},{\"id\":\"4\"},{\"id\":\"5\"},{\"id\":\"6\"},{\"id\":\"7\"},{\"id\":\"8\"},{\"id\":\"9\"},{\"id\":\"10\"},{\"id\":\"11\"},{\"id\":\"12\"},{\"id\":\"13\"},{\"id\":\"14\"},{\"id\":\"15\"},{\"id\":\"16\"},{\"id\":\"17\"},{\"id\":\"18\"},{\"id\":\"19\"},{\"id\":\"20\"},{\"id\":\"21\"},{\"id\":\"22\"},{\"id\":\"23\"},{\"id\":\"24\"},{\"id\":\"25\"},{\"id\":\"26\"},{\"id\":\"27\"},{\"id\":\"28\"},{\"id\":\"29\"},{\"id\":\"69\"}],\"idhotel\":[\"169\"],\"algo_url\":\"ant-colony-optimization-aco-tsp\",\"degree\":[1,1,1],\"travel_days\":365}\n"
     ]
    }
   ],
   "source": [
    "def get_var(strs):\n",
    "    t = str(strs)\n",
    "    print(t)\n",
    "    tourid = []\n",
    "    t_ = json.loads(t)\n",
    "    for t in t_['idWisata']:\n",
    "        tourid.append(t['id'])\n",
    "    idhotel = int(t_['idhotel'][0])\n",
    "    dwaktu = float(t_['degree'][0])\n",
    "    dtarif = float(t_['degree'][2])\n",
    "    drating = float(t_['degree'][1])\n",
    "    travel_days = int(t_['travel_days'])\n",
    "    return tourid,idhotel,dwaktu,dtarif,drating,travel_days\n",
    "\n",
    "choice = '{\"idWisata\":[{\"id\":\"1\"},{\"id\":\"2\"},{\"id\":\"3\"},{\"id\":\"4\"},{\"id\":\"5\"},{\"id\":\"6\"},{\"id\":\"7\"},{\"id\":\"8\"},{\"id\":\"9\"},{\"id\":\"10\"},{\"id\":\"11\"},{\"id\":\"12\"},{\"id\":\"13\"},{\"id\":\"14\"},{\"id\":\"15\"},{\"id\":\"16\"},{\"id\":\"17\"},{\"id\":\"18\"},{\"id\":\"19\"},{\"id\":\"20\"},{\"id\":\"21\"},{\"id\":\"22\"},{\"id\":\"23\"},{\"id\":\"24\"},{\"id\":\"25\"},{\"id\":\"26\"},{\"id\":\"27\"},{\"id\":\"28\"},{\"id\":\"29\"},{\"id\":\"69\"}],\"idhotel\":[\"169\"],\"algo_url\":\"ant-colony-optimization-aco-tsp\",\"degree\":[1,1,1],\"travel_days\":365}'\n",
    "tourid,idhotel,dwaktu,dtarif,drating,travel_days = get_var(choice)"
   ]
  },
  {
   "cell_type": "code",
   "execution_count": 6,
   "id": "998dca3b",
   "metadata": {},
   "outputs": [],
   "source": [
    "db = ConDB()\n",
    "rute_perhari = []\n",
    "waktuDatang = []\n",
    "\n",
    "start = time.time()\n",
    "\n",
    "hotel = db.HotelbyID(idhotel)\n",
    "tur = db.WisatabyID(tourid)\n",
    "timematrix = db.TimeMatrixbyID(hotel._id,tourid)"
   ]
  },
  {
   "cell_type": "code",
   "execution_count": 61,
   "id": "05dad5ef",
   "metadata": {},
   "outputs": [
    {
     "ename": "KeyboardInterrupt",
     "evalue": "",
     "output_type": "error",
     "traceback": [
      "\u001b[1;31m---------------------------------------------------------------------------\u001b[0m",
      "\u001b[1;31mKeyboardInterrupt\u001b[0m                         Traceback (most recent call last)",
      "Cell \u001b[1;32mIn[61], line 4\u001b[0m\n\u001b[0;32m      1\u001b[0m acs_model \u001b[38;5;241m=\u001b[39m ACS_VRP(max_iter\u001b[38;5;241m=\u001b[39m\u001b[38;5;241m500\u001b[39m,max_idem\u001b[38;5;241m=\u001b[39m\u001b[38;5;241m50\u001b[39m,random_state \u001b[38;5;241m=\u001b[39m \u001b[38;5;241m10\u001b[39m)\n\u001b[0;32m      2\u001b[0m acs_model\u001b[38;5;241m.\u001b[39mset_model(tur,hotel,timematrix,travel_days\u001b[38;5;241m=\u001b[39mtravel_days,degree_waktu \u001b[38;5;241m=\u001b[39m dwaktu,degree_tarif \u001b[38;5;241m=\u001b[39m dtarif,degree_rating \u001b[38;5;241m=\u001b[39m drating)\n\u001b[1;32m----> 4\u001b[0m sol,fitness \u001b[38;5;241m=\u001b[39m acs_model\u001b[38;5;241m.\u001b[39mconstruct_solution()\n\u001b[0;32m      5\u001b[0m fitness\n",
      "File \u001b[1;32m~\\Documents\\kuliah\\thesis\\rahmat_code\\travel-itinerary-recommendation\\optimization\\acs.py:261\u001b[0m, in \u001b[0;36mACS_VRP.construct_solution\u001b[1;34m(self)\u001b[0m\n\u001b[0;32m    257\u001b[0m     tabu_nodes \u001b[38;5;241m=\u001b[39m []\n\u001b[0;32m    259\u001b[0m \u001b[38;5;28;01mfor\u001b[39;00m pos \u001b[38;5;129;01min\u001b[39;00m \u001b[38;5;28mrange\u001b[39m(\u001b[38;5;28mlen\u001b[39m(\u001b[38;5;28mself\u001b[39m\u001b[38;5;241m.\u001b[39mtour)\u001b[38;5;241m+\u001b[39m\u001b[38;5;241m1\u001b[39m):\n\u001b[0;32m    260\u001b[0m     \u001b[38;5;66;03m#recheck next node candidates (perlu dicek jam sampainya apakah melebihi max time)\u001b[39;00m\n\u001b[1;32m--> 261\u001b[0m     next_node_candidates \u001b[38;5;241m=\u001b[39m [node \u001b[38;5;28;01mfor\u001b[39;00m node \u001b[38;5;129;01min\u001b[39;00m \u001b[38;5;28mself\u001b[39m\u001b[38;5;241m.\u001b[39mtour \u001b[38;5;28;01mif\u001b[39;00m \u001b[38;5;28mself\u001b[39m\u001b[38;5;241m.\u001b[39mnext_node_check(current_node,node)\u001b[38;5;241m==\u001b[39m\u001b[38;5;28;01mTrue\u001b[39;00m \u001b[38;5;129;01mand\u001b[39;00m node\u001b[38;5;241m.\u001b[39m_id \u001b[38;5;129;01mnot\u001b[39;00m \u001b[38;5;129;01min\u001b[39;00m tabu_nodes]\n\u001b[0;32m    263\u001b[0m     \u001b[38;5;28;01mif\u001b[39;00m \u001b[38;5;28mlen\u001b[39m(next_node_candidates) \u001b[38;5;241m>\u001b[39m \u001b[38;5;241m0\u001b[39m:\n\u001b[0;32m    264\u001b[0m         \u001b[38;5;66;03m#transition rules\u001b[39;00m\n\u001b[0;32m    265\u001b[0m         next_node \u001b[38;5;241m=\u001b[39m \u001b[38;5;28mself\u001b[39m\u001b[38;5;241m.\u001b[39mtransition_rule(current_node,next_node_candidates,local_pheromone_matrix)\n",
      "File \u001b[1;32m~\\Documents\\kuliah\\thesis\\rahmat_code\\travel-itinerary-recommendation\\optimization\\acs.py:261\u001b[0m, in \u001b[0;36m<listcomp>\u001b[1;34m(.0)\u001b[0m\n\u001b[0;32m    257\u001b[0m     tabu_nodes \u001b[38;5;241m=\u001b[39m []\n\u001b[0;32m    259\u001b[0m \u001b[38;5;28;01mfor\u001b[39;00m pos \u001b[38;5;129;01min\u001b[39;00m \u001b[38;5;28mrange\u001b[39m(\u001b[38;5;28mlen\u001b[39m(\u001b[38;5;28mself\u001b[39m\u001b[38;5;241m.\u001b[39mtour)\u001b[38;5;241m+\u001b[39m\u001b[38;5;241m1\u001b[39m):\n\u001b[0;32m    260\u001b[0m     \u001b[38;5;66;03m#recheck next node candidates (perlu dicek jam sampainya apakah melebihi max time)\u001b[39;00m\n\u001b[1;32m--> 261\u001b[0m     next_node_candidates \u001b[38;5;241m=\u001b[39m [node \u001b[38;5;28;01mfor\u001b[39;00m node \u001b[38;5;129;01min\u001b[39;00m \u001b[38;5;28mself\u001b[39m\u001b[38;5;241m.\u001b[39mtour \u001b[38;5;28;01mif\u001b[39;00m \u001b[38;5;28mself\u001b[39m\u001b[38;5;241m.\u001b[39mnext_node_check(current_node,node)\u001b[38;5;241m==\u001b[39m\u001b[38;5;28;01mTrue\u001b[39;00m \u001b[38;5;129;01mand\u001b[39;00m node\u001b[38;5;241m.\u001b[39m_id \u001b[38;5;129;01mnot\u001b[39;00m \u001b[38;5;129;01min\u001b[39;00m tabu_nodes]\n\u001b[0;32m    263\u001b[0m     \u001b[38;5;28;01mif\u001b[39;00m \u001b[38;5;28mlen\u001b[39m(next_node_candidates) \u001b[38;5;241m>\u001b[39m \u001b[38;5;241m0\u001b[39m:\n\u001b[0;32m    264\u001b[0m         \u001b[38;5;66;03m#transition rules\u001b[39;00m\n\u001b[0;32m    265\u001b[0m         next_node \u001b[38;5;241m=\u001b[39m \u001b[38;5;28mself\u001b[39m\u001b[38;5;241m.\u001b[39mtransition_rule(current_node,next_node_candidates,local_pheromone_matrix)\n",
      "File \u001b[1;32m~\\Documents\\kuliah\\thesis\\rahmat_code\\travel-itinerary-recommendation\\optimization\\acs.py:192\u001b[0m, in \u001b[0;36mACS_VRP.next_node_check\u001b[1;34m(self, current_node, next_node)\u001b[0m\n\u001b[0;32m    189\u001b[0m         next_node \u001b[38;5;241m=\u001b[39m \u001b[38;5;28mself\u001b[39m\u001b[38;5;241m.\u001b[39mexploration(current_node,next_node_candidates,local_pheromone_matrix)\n\u001b[0;32m    190\u001b[0m     \u001b[38;5;28;01mreturn\u001b[39;00m next_node\n\u001b[1;32m--> 192\u001b[0m \u001b[38;5;28;01mdef\u001b[39;00m \u001b[38;5;21mnext_node_check\u001b[39m(\u001b[38;5;28mself\u001b[39m,current_node,next_node):\n\u001b[0;32m    193\u001b[0m     time_needed \u001b[38;5;241m=\u001b[39m \u001b[38;5;28mself\u001b[39m\u001b[38;5;241m.\u001b[39mtime_to_second(current_node\u001b[38;5;241m.\u001b[39mdepart_time)\u001b[38;5;241m+\u001b[39m\u001b[38;5;28mself\u001b[39m\u001b[38;5;241m.\u001b[39mtimematrix[current_node\u001b[38;5;241m.\u001b[39m_id][next_node\u001b[38;5;241m.\u001b[39m_id][\u001b[38;5;124m\"\u001b[39m\u001b[38;5;124mwaktu\u001b[39m\u001b[38;5;124m\"\u001b[39m]\u001b[38;5;241m+\u001b[39mnext_node\u001b[38;5;241m.\u001b[39mwaktu_kunjungan\n\u001b[0;32m    194\u001b[0m     time_limit \u001b[38;5;241m=\u001b[39m \u001b[38;5;28mself\u001b[39m\u001b[38;5;241m.\u001b[39mtime_to_second(\u001b[38;5;28mself\u001b[39m\u001b[38;5;241m.\u001b[39mmax_travel_time)\n",
      "\u001b[1;31mKeyboardInterrupt\u001b[0m: "
     ]
    }
   ],
   "source": [
    "acs_model = ACS_VRP(max_iter=500,max_idem=50,random_state = 10)\n",
    "acs_model.set_model(tur,hotel,timematrix,travel_days=travel_days,degree_waktu = dwaktu,degree_tarif = dtarif,degree_rating = drating)\n",
    "\n",
    "sol,fitness = acs_model.construct_solution()\n",
    "fitness"
   ]
  },
  {
   "cell_type": "code",
   "execution_count": 23,
   "id": "9c4c5c63",
   "metadata": {},
   "outputs": [
    {
     "data": {
      "text/plain": [
       "0.7035172143974963"
      ]
     },
     "execution_count": 23,
     "metadata": {},
     "output_type": "execute_result"
    }
   ],
   "source": [
    "bso_model = BSO_VRP(random_state = 100)\n",
    "bso_model.set_model(tur,hotel,timematrix,init_solution=[],travel_days=travel_days,degree_waktu = dwaktu,degree_tarif = dtarif,degree_rating = drating)\n",
    "\n",
    "sol_node,sol,fitness = bso_model.construct_solution()\n",
    "fitness"
   ]
  },
  {
   "cell_type": "code",
   "execution_count": null,
   "id": "155301eb",
   "metadata": {},
   "outputs": [],
   "source": []
  }
 ],
 "metadata": {
  "kernelspec": {
   "display_name": "Python 3 (ipykernel)",
   "language": "python",
   "name": "python3"
  },
  "language_info": {
   "codemirror_mode": {
    "name": "ipython",
    "version": 3
   },
   "file_extension": ".py",
   "mimetype": "text/x-python",
   "name": "python",
   "nbconvert_exporter": "python",
   "pygments_lexer": "ipython3",
   "version": "3.11.3"
  }
 },
 "nbformat": 4,
 "nbformat_minor": 5
}
