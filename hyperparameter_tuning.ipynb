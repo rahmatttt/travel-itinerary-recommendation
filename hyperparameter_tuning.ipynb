{
 "cells": [
  {
   "cell_type": "markdown",
   "id": "54d47e67",
   "metadata": {},
   "source": [
    "# Hyperparameter Tuning\n",
    "Find the most acceptable parameter"
   ]
  },
  {
   "cell_type": "code",
   "execution_count": 1,
   "id": "e5f8b11c",
   "metadata": {},
   "outputs": [],
   "source": [
    "from optimization.acs import ACS_VRP,ACS_TSP\n",
    "from optimization.bso import BSO_VRP,BSO_TSP\n",
    "from optimization.hybrid_acs_bso import ACSBSO_VRP,ACSBSO_TSP\n",
    "\n",
    "from optimization.aco import ACO_VRP,ACO_TSP\n",
    "from optimization.haco import HACO_VRP,HACO_TSP\n",
    "\n",
    "from optimization.koneksi import ConDB\n",
    "\n",
    "import sql_connection\n",
    "import json\n",
    "import time\n",
    "import random\n",
    "import datetime\n",
    "import copy"
   ]
  },
  {
   "cell_type": "markdown",
   "id": "b23cf63b",
   "metadata": {},
   "source": [
    "## Data for Tuning"
   ]
  },
  {
   "cell_type": "code",
   "execution_count": 2,
   "id": "67773542",
   "metadata": {},
   "outputs": [],
   "source": [
    "def generate_data(n = 30, random_state = None):\n",
    "    random.seed(random_state)\n",
    "    query = \"\"\"SELECT \n",
    "                    p.post_id,\n",
    "                    p.post_type,\n",
    "                    CASE\n",
    "                        WHEN pj.pj_jam_buka = pj.pj_jam_tutup THEN \"tutup\"\n",
    "                        ELSE \"buka\"\n",
    "                    END AS is_operate\n",
    "                FROM \n",
    "                    posts p\n",
    "                LEFT JOIN\n",
    "                    posts_jadwal pj\n",
    "                    ON p.post_id = pj.pj_id_tempat AND pj.pj_hari = \"minggu\"\n",
    "                \"\"\"\n",
    "\n",
    "    df_location = sql_connection.read_from_sql(query)\n",
    "    \n",
    "    tourid = df_location[(df_location['post_type']==\"location\")&\n",
    "                         (df_location['is_operate'] != \"tutup\")]['post_id'].values.tolist()\n",
    "    tourid = random.sample(tourid,n)\n",
    "    idhotel = df_location[df_location['post_type']==\"hotel\"]['post_id'].values.tolist()\n",
    "    idhotel = idhotel[random.randint(0,len(idhotel)-1)]\n",
    "    \n",
    "    db = ConDB()\n",
    "\n",
    "    hotel = db.HotelbyID(idhotel)\n",
    "    tur = db.WisatabyID(tourid)\n",
    "    timematrix = db.TimeMatrixbyID(hotel._id,tourid)\n",
    "    \n",
    "    return hotel,tur,timematrix"
   ]
  },
  {
   "cell_type": "code",
   "execution_count": 3,
   "id": "f9683f2c",
   "metadata": {},
   "outputs": [
    {
     "name": "stderr",
     "output_type": "stream",
     "text": [
      "C:\\Users\\rahma\\Documents\\kuliah\\thesis\\rahmat_code\\travel-itinerary-recommendation\\sql_connection.py:23: UserWarning: pandas only supports SQLAlchemy connectable (engine/connection) or database string URI or sqlite3 DBAPI2 connection. Other DBAPI2 objects are not tested. Please consider using SQLAlchemy.\n",
      "  dataset = pd.read_sql(query, mydb)\n"
     ]
    }
   ],
   "source": [
    "# setting\n",
    "hotel,tur,timematrix = generate_data(n=30,random_state=30)\n",
    "travel_days = 3\n",
    "dwaktu,dtarif,drating = 1,1,1"
   ]
  },
  {
   "cell_type": "markdown",
   "id": "61b8c62c",
   "metadata": {},
   "source": [
    "## Maximum Iteration"
   ]
  },
  {
   "cell_type": "code",
   "execution_count": 5,
   "id": "64785660",
   "metadata": {},
   "outputs": [
    {
     "name": "stdout",
     "output_type": "stream",
     "text": [
      "100\n",
      "ACS BSO - VRP\n",
      "fitness = 0.6880194416426301\n",
      "time = 17.9234721660614\n",
      "==============================================\n",
      "\n",
      "ACS BSO - TSP\n",
      "fitness = 0.616598958067212\n",
      "time = 27.046855688095093\n",
      "==============================================\n",
      "200\n",
      "ACS BSO - VRP\n",
      "fitness = 0.6924740386265574\n",
      "time = 25.85939645767212\n",
      "==============================================\n",
      "\n",
      "ACS BSO - TSP\n",
      "fitness = 0.616598958067212\n",
      "time = 31.444244146347046\n",
      "==============================================\n",
      "300\n",
      "ACS BSO - VRP\n",
      "fitness = 0.6924740386265574\n",
      "time = 25.638370990753174\n",
      "==============================================\n",
      "\n",
      "ACS BSO - TSP\n",
      "fitness = 0.5999078155824186\n",
      "time = 35.6239914894104\n",
      "==============================================\n"
     ]
    }
   ],
   "source": [
    "# List of iterations\n",
    "iterations = [100, 200, 300]\n",
    "\n",
    "#list of algorithms\n",
    "for n in iterations:\n",
    "    print(n)\n",
    "    print(\"ACS BSO - VRP\")\n",
    "    start = time.time()\n",
    "    acsbso_vrp = ACSBSO_VRP(max_iter_acs = n,random_state=100)\n",
    "    acsbso_vrp.set_model(tur,hotel,timematrix,travel_days=travel_days,degree_waktu = dwaktu,degree_tarif = dtarif,degree_rating = drating)\n",
    "    fitness = acsbso_vrp.construct_solution()[-1]\n",
    "    end = time.time()\n",
    "    print(f\"fitness = {fitness}\")\n",
    "    print(f\"time = {end-start}\")\n",
    "    print(\"==============================================\")\n",
    "    \n",
    "    print()\n",
    "    print(\"ACS BSO - TSP\")\n",
    "    start = time.time()\n",
    "    acsbso_tsp = ACSBSO_TSP(max_iter_acs = n,random_state=100)\n",
    "    acsbso_tsp.set_model(tur,hotel,timematrix,travel_days=travel_days,degree_waktu = dwaktu,degree_tarif = dtarif,degree_rating = drating)\n",
    "    fitness = acsbso_tsp.construct_solution()[-1]\n",
    "    end = time.time()\n",
    "    print(f\"fitness = {fitness}\")\n",
    "    print(f\"time = {end-start}\")\n",
    "    print(\"==============================================\")\n"
   ]
  },
  {
   "cell_type": "markdown",
   "id": "f1d22d55",
   "metadata": {},
   "source": [
    "## Tuning Hybrid ACS BSO (VRP/TSP)"
   ]
  },
  {
   "cell_type": "markdown",
   "id": "e3b0981f",
   "metadata": {},
   "source": [
    "### Find Initial Pheromone"
   ]
  },
  {
   "cell_type": "code",
   "execution_count": 12,
   "id": "a14a77eb",
   "metadata": {},
   "outputs": [
    {
     "name": "stdout",
     "output_type": "stream",
     "text": [
      "pheromone = 0.1\n",
      "ACS BSO - VRP\n",
      "fitness = 0.6924740386265574\n",
      "time = 25.228255033493042\n",
      "==============================================\n",
      "pheromone = 0.5\n",
      "ACS BSO - VRP\n",
      "fitness = 0.6928586771840739\n",
      "time = 29.90246319770813\n",
      "==============================================\n",
      "pheromone = 1\n",
      "ACS BSO - VRP\n",
      "fitness = 0.6791632749966082\n",
      "time = 8.105718612670898\n",
      "==============================================\n"
     ]
    }
   ],
   "source": [
    "#find init pheromone\n",
    "init_pheromone = [0.1,0.5,1]\n",
    "\n",
    "for pheromone in init_pheromone:\n",
    "    print(f\"pheromone = {pheromone}\")\n",
    "    print(\"ACS BSO - VRP\")\n",
    "    start = time.time()\n",
    "    acsbso_vrp = ACSBSO_VRP(max_iter_acs = 200,init_pheromone=pheromone,random_state=100)\n",
    "    acsbso_vrp.set_model(tur,hotel,timematrix,travel_days=travel_days,degree_waktu = dwaktu,degree_tarif = dtarif,degree_rating = drating)\n",
    "    fitness = acsbso_vrp.construct_solution()[-1]\n",
    "    end = time.time()\n",
    "    print(f\"fitness = {fitness}\")\n",
    "    print(f\"time = {end-start}\")\n",
    "    print(\"==============================================\")"
   ]
  },
  {
   "cell_type": "markdown",
   "id": "85691dbb",
   "metadata": {},
   "source": [
    "### Find Alpha_t"
   ]
  },
  {
   "cell_type": "code",
   "execution_count": 13,
   "id": "2d50527b",
   "metadata": {},
   "outputs": [
    {
     "name": "stdout",
     "output_type": "stream",
     "text": [
      "alpha_t = 1\n",
      "ACS BSO - VRP\n",
      "fitness = 0.6924740386265574\n",
      "time = 25.442343711853027\n",
      "==============================================\n",
      "alpha_t = 3\n",
      "ACS BSO - VRP\n",
      "fitness = 0.6766389401310037\n",
      "time = 8.094337224960327\n",
      "==============================================\n",
      "alpha_t = 5\n",
      "ACS BSO - VRP\n",
      "fitness = 0.665530706800548\n",
      "time = 5.593754768371582\n",
      "==============================================\n"
     ]
    }
   ],
   "source": [
    "#find alpha_t\n",
    "alpha_t_ls = [1,3,5]\n",
    "\n",
    "for alpha_t in alpha_t_ls:\n",
    "    print(f\"alpha_t = {alpha_t}\")\n",
    "    print(\"ACS BSO - VRP\")\n",
    "    start = time.time()\n",
    "    acsbso_vrp = ACSBSO_VRP(max_iter_acs = 200,init_pheromone=0.1,alpha_t=alpha_t,random_state=100)\n",
    "    acsbso_vrp.set_model(tur,hotel,timematrix,travel_days=travel_days,degree_waktu = dwaktu,degree_tarif = dtarif,degree_rating = drating)\n",
    "    fitness = acsbso_vrp.construct_solution()[-1]\n",
    "    end = time.time()\n",
    "    print(f\"fitness = {fitness}\")\n",
    "    print(f\"time = {end-start}\")\n",
    "    print(\"==============================================\")"
   ]
  },
  {
   "cell_type": "markdown",
   "id": "8914ecad",
   "metadata": {},
   "source": [
    "### Find beta"
   ]
  },
  {
   "cell_type": "code",
   "execution_count": 10,
   "id": "a842063c",
   "metadata": {},
   "outputs": [
    {
     "name": "stdout",
     "output_type": "stream",
     "text": [
      "beta = 1\n",
      "ACS BSO - VRP\n",
      "fitness = 0.6924740386265574\n",
      "time = 25.167970895767212\n",
      "==============================================\n",
      "beta = 3\n",
      "ACS BSO - VRP\n",
      "fitness = 0.6930605939060044\n",
      "time = 25.666985750198364\n",
      "==============================================\n",
      "beta = 5\n",
      "ACS BSO - VRP\n",
      "fitness = 0.690109630292515\n",
      "time = 17.28569984436035\n",
      "==============================================\n"
     ]
    }
   ],
   "source": [
    "#find beta\n",
    "beta_ls = [1,3,5]\n",
    "\n",
    "for beta in beta_ls:\n",
    "    print(f\"beta = {beta}\")\n",
    "    print(\"ACS BSO - VRP\")\n",
    "    start = time.time()\n",
    "    acsbso_vrp = ACSBSO_VRP(max_iter_acs = 200,init_pheromone=0.1,alpha_t=1,beta=beta,random_state=100)\n",
    "    acsbso_vrp.set_model(tur,hotel,timematrix,travel_days=travel_days,degree_waktu = dwaktu,degree_tarif = dtarif,degree_rating = drating)\n",
    "    fitness = acsbso_vrp.construct_solution()[-1]\n",
    "    end = time.time()\n",
    "    print(f\"fitness = {fitness}\")\n",
    "    print(f\"time = {end-start}\")\n",
    "    print(\"==============================================\")"
   ]
  },
  {
   "cell_type": "markdown",
   "id": "242b82c8",
   "metadata": {},
   "source": [
    "### Find q0"
   ]
  },
  {
   "cell_type": "code",
   "execution_count": 14,
   "id": "067aefec",
   "metadata": {},
   "outputs": [
    {
     "name": "stdout",
     "output_type": "stream",
     "text": [
      "q0 = 0.1\n",
      "ACS BSO - VRP\n",
      "fitness = 0.6924740386265574\n",
      "time = 26.1429705619812\n",
      "==============================================\n",
      "q0 = 0.5\n",
      "ACS BSO - VRP\n",
      "fitness = 0.6926490712722596\n",
      "time = 17.463536500930786\n",
      "==============================================\n",
      "q0 = 0.9\n",
      "ACS BSO - VRP\n",
      "fitness = 0.6900256144821362\n",
      "time = 13.919016361236572\n",
      "==============================================\n"
     ]
    }
   ],
   "source": [
    "#find beta\n",
    "q0_ls = [0.1,0.5,0.9]\n",
    "\n",
    "for q0 in q0_ls:\n",
    "    print(f\"q0 = {q0}\")\n",
    "    print(\"ACS BSO - VRP\")\n",
    "    start = time.time()\n",
    "    acsbso_vrp = ACSBSO_VRP(max_iter_acs = 200,init_pheromone=0.1,alpha_t=1,beta=1,q0=q0,random_state=100)\n",
    "    acsbso_vrp.set_model(tur,hotel,timematrix,travel_days=travel_days,degree_waktu = dwaktu,degree_tarif = dtarif,degree_rating = drating)\n",
    "    fitness = acsbso_vrp.construct_solution()[-1]\n",
    "    end = time.time()\n",
    "    print(f\"fitness = {fitness}\")\n",
    "    print(f\"time = {end-start}\")\n",
    "    print(\"==============================================\")"
   ]
  },
  {
   "cell_type": "markdown",
   "id": "8e66152f",
   "metadata": {},
   "source": [
    "### Find Rho"
   ]
  },
  {
   "cell_type": "code",
   "execution_count": 15,
   "id": "1a6fe4ac",
   "metadata": {},
   "outputs": [
    {
     "name": "stdout",
     "output_type": "stream",
     "text": [
      "rho = 0.1\n",
      "ACS BSO - VRP\n",
      "fitness = 0.6924740386265574\n",
      "time = 25.320417165756226\n",
      "==============================================\n",
      "rho = 0.5\n",
      "ACS BSO - VRP\n",
      "fitness = 0.6882252029595025\n",
      "time = 16.452585220336914\n",
      "==============================================\n",
      "rho = 0.9\n",
      "ACS BSO - VRP\n",
      "fitness = 0.6916717050171156\n",
      "time = 14.610160112380981\n",
      "==============================================\n"
     ]
    }
   ],
   "source": [
    "#find rho\n",
    "rho_ls = [0.1,0.5,0.9]\n",
    "\n",
    "for rho in rho_ls:\n",
    "    print(f\"rho = {rho}\")\n",
    "    print(\"ACS BSO - VRP\")\n",
    "    start = time.time()\n",
    "    acsbso_vrp = ACSBSO_VRP(max_iter_acs = 200,init_pheromone=0.1,alpha_t=1,beta=1,q0=0.1,rho=rho,random_state=100)\n",
    "    acsbso_vrp.set_model(tur,hotel,timematrix,travel_days=travel_days,degree_waktu = dwaktu,degree_tarif = dtarif,degree_rating = drating)\n",
    "    fitness = acsbso_vrp.construct_solution()[-1]\n",
    "    end = time.time()\n",
    "    print(f\"fitness = {fitness}\")\n",
    "    print(f\"time = {end-start}\")\n",
    "    print(\"==============================================\")"
   ]
  },
  {
   "cell_type": "markdown",
   "id": "56171860",
   "metadata": {},
   "source": [
    "### Find Alpha"
   ]
  },
  {
   "cell_type": "code",
   "execution_count": 16,
   "id": "be717833",
   "metadata": {},
   "outputs": [
    {
     "name": "stdout",
     "output_type": "stream",
     "text": [
      "alpha = 0.1\n",
      "ACS BSO - VRP\n",
      "fitness = 0.6924740386265574\n",
      "time = 25.227779626846313\n",
      "==============================================\n",
      "alpha = 0.5\n",
      "ACS BSO - VRP\n",
      "fitness = 0.6913956385229677\n",
      "time = 21.391562461853027\n",
      "==============================================\n",
      "alpha = 0.9\n",
      "ACS BSO - VRP\n",
      "fitness = 0.6885595650994202\n",
      "time = 10.09394884109497\n",
      "==============================================\n"
     ]
    }
   ],
   "source": [
    "#find alpha\n",
    "alpha_ls = [0.1,0.5,0.9]\n",
    "\n",
    "for alpha in alpha_ls:\n",
    "    print(f\"alpha = {alpha}\")\n",
    "    print(\"ACS BSO - VRP\")\n",
    "    start = time.time()\n",
    "    acsbso_vrp = ACSBSO_VRP(max_iter_acs = 200,init_pheromone=0.1,alpha_t=1,beta=1,q0=0.1,rho=0.1,alpha=alpha,random_state=100)\n",
    "    acsbso_vrp.set_model(tur,hotel,timematrix,travel_days=travel_days,degree_waktu = dwaktu,degree_tarif = dtarif,degree_rating = drating)\n",
    "    fitness = acsbso_vrp.construct_solution()[-1]\n",
    "    end = time.time()\n",
    "    print(f\"fitness = {fitness}\")\n",
    "    print(f\"time = {end-start}\")\n",
    "    print(\"==============================================\")"
   ]
  },
  {
   "cell_type": "markdown",
   "id": "d0178d6a",
   "metadata": {},
   "source": [
    "### Find Num Ant"
   ]
  },
  {
   "cell_type": "code",
   "execution_count": 18,
   "id": "634572b6",
   "metadata": {},
   "outputs": [
    {
     "name": "stdout",
     "output_type": "stream",
     "text": [
      "num_ant = 30\n",
      "ACS BSO - VRP\n",
      "fitness = 0.6924740386265574\n",
      "time = 25.02150821685791\n",
      "==============================================\n",
      "num_ant = 60\n",
      "ACS BSO - VRP\n",
      "fitness = 0.6921139563220308\n",
      "time = 18.742931365966797\n",
      "==============================================\n",
      "num_ant = 90\n",
      "ACS BSO - VRP\n",
      "fitness = 0.6868918118918118\n",
      "time = 16.177350759506226\n",
      "==============================================\n"
     ]
    }
   ],
   "source": [
    "#find num_ant\n",
    "num_ant_ls = [30,60,90]\n",
    "\n",
    "for num_ant in num_ant_ls:\n",
    "    print(f\"num_ant = {num_ant}\")\n",
    "    print(\"ACS BSO - VRP\")\n",
    "    start = time.time()\n",
    "    acsbso_vrp = ACSBSO_VRP(max_iter_acs = 200,init_pheromone=0.1,alpha_t=1,beta=1,q0=0.1,rho=0.1,alpha=0.1,num_ant=num_ant,random_state=100)\n",
    "    acsbso_vrp.set_model(tur,hotel,timematrix,travel_days=travel_days,degree_waktu = dwaktu,degree_tarif = dtarif,degree_rating = drating)\n",
    "    fitness = acsbso_vrp.construct_solution()[-1]\n",
    "    end = time.time()\n",
    "    print(f\"fitness = {fitness}\")\n",
    "    print(f\"time = {end-start}\")\n",
    "    print(\"==============================================\")"
   ]
  },
  {
   "cell_type": "markdown",
   "id": "f5497866",
   "metadata": {},
   "source": [
    "### Find P0"
   ]
  },
  {
   "cell_type": "code",
   "execution_count": 24,
   "id": "a56ec88d",
   "metadata": {},
   "outputs": [
    {
     "name": "stdout",
     "output_type": "stream",
     "text": [
      "p0 = 0.1\n",
      "ACS BSO - VRP\n",
      "fitness = 0.6922671133980658\n",
      "time = 20.0521981716156\n",
      "==============================================\n",
      "p0 = 0.5\n",
      "ACS BSO - VRP\n",
      "fitness = 0.6924740386265574\n",
      "time = 24.970614910125732\n",
      "==============================================\n",
      "p0 = 0.9\n",
      "ACS BSO - VRP\n",
      "fitness = 0.6921861083092966\n",
      "time = 11.906808376312256\n",
      "==============================================\n"
     ]
    }
   ],
   "source": [
    "#find p0\n",
    "p0_ls = [0.1,0.5,0.9]\n",
    "\n",
    "for p0 in p0_ls:\n",
    "    print(f\"p0 = {p0}\")\n",
    "    print(\"ACS BSO - VRP\")\n",
    "    start = time.time()\n",
    "    acsbso_vrp = ACSBSO_VRP(max_iter_acs = 200,init_pheromone=0.1,alpha_t=1,beta=1,\n",
    "                            q0=0.1,rho=0.1,alpha=0.1,num_ant=30,p0=p0,random_state=100)\n",
    "    acsbso_vrp.set_model(tur,hotel,timematrix,travel_days=travel_days,degree_waktu = dwaktu,degree_tarif = dtarif,degree_rating = drating)\n",
    "    fitness = acsbso_vrp.construct_solution()[-1]\n",
    "    end = time.time()\n",
    "    print(f\"fitness = {fitness}\")\n",
    "    print(f\"time = {end-start}\")\n",
    "    print(\"==============================================\")"
   ]
  },
  {
   "cell_type": "markdown",
   "id": "c0b9ba59",
   "metadata": {},
   "source": [
    "### Find P1"
   ]
  },
  {
   "cell_type": "code",
   "execution_count": 27,
   "id": "ab3d7dde",
   "metadata": {},
   "outputs": [
    {
     "name": "stdout",
     "output_type": "stream",
     "text": [
      "p1 = 0.4\n",
      "ACS BSO - VRP\n",
      "fitness = 0.6924740386265574\n",
      "time = 24.96790623664856\n",
      "==============================================\n",
      "p1 = 0.5\n",
      "ACS BSO - VRP\n",
      "fitness = 0.6916509933590679\n",
      "time = 18.49229884147644\n",
      "==============================================\n",
      "p1 = 0.6\n",
      "ACS BSO - VRP\n",
      "fitness = 0.6910544210664984\n",
      "time = 12.943957567214966\n",
      "==============================================\n"
     ]
    }
   ],
   "source": [
    "#find p1\n",
    "p1_ls = [0.4,0.5,0.6]\n",
    "\n",
    "for p1 in p1_ls:\n",
    "    print(f\"p1 = {p1}\")\n",
    "    print(\"ACS BSO - VRP\")\n",
    "    start = time.time()\n",
    "    acsbso_vrp = ACSBSO_VRP(max_iter_acs = 200,init_pheromone=0.1,alpha_t=1,beta=1,\n",
    "                            q0=0.1,rho=0.1,alpha=0.1,num_ant=30,p0=0.5,p1=p1,random_state=100)\n",
    "    acsbso_vrp.set_model(tur,hotel,timematrix,travel_days=travel_days,degree_waktu = dwaktu,degree_tarif = dtarif,degree_rating = drating)\n",
    "    fitness = acsbso_vrp.construct_solution()[-1]\n",
    "    end = time.time()\n",
    "    print(f\"fitness = {fitness}\")\n",
    "    print(f\"time = {end-start}\")\n",
    "    print(\"==============================================\")"
   ]
  },
  {
   "cell_type": "markdown",
   "id": "89a99877",
   "metadata": {},
   "source": [
    "### Find P2"
   ]
  },
  {
   "cell_type": "code",
   "execution_count": 28,
   "id": "4af16d9a",
   "metadata": {},
   "outputs": [
    {
     "name": "stdout",
     "output_type": "stream",
     "text": [
      "p2 = 0.4\n",
      "ACS BSO - VRP\n",
      "fitness = 0.6924740386265574\n",
      "time = 24.43697476387024\n",
      "==============================================\n",
      "p2 = 0.5\n",
      "ACS BSO - VRP\n",
      "fitness = 0.6934514048817015\n",
      "time = 32.5661199092865\n",
      "==============================================\n",
      "p2 = 0.6\n",
      "ACS BSO - VRP\n",
      "fitness = 0.6889265027204985\n",
      "time = 11.985989809036255\n",
      "==============================================\n"
     ]
    }
   ],
   "source": [
    "#find p2\n",
    "p2_ls = [0.4,0.5,0.6]\n",
    "\n",
    "for p2 in p2_ls:\n",
    "    print(f\"p2 = {p2}\")\n",
    "    print(\"ACS BSO - VRP\")\n",
    "    start = time.time()\n",
    "    acsbso_vrp = ACSBSO_VRP(max_iter_acs = 200,init_pheromone=0.1,alpha_t=1,beta=1,\n",
    "                            q0=0.1,rho=0.1,alpha=0.1,num_ant=30,p0=0.5,p1=0.4,p2=p2,random_state=100)\n",
    "    acsbso_vrp.set_model(tur,hotel,timematrix,travel_days=travel_days,degree_waktu = dwaktu,degree_tarif = dtarif,degree_rating = drating)\n",
    "    fitness = acsbso_vrp.construct_solution()[-1]\n",
    "    end = time.time()\n",
    "    print(f\"fitness = {fitness}\")\n",
    "    print(f\"time = {end-start}\")\n",
    "    print(\"==============================================\")"
   ]
  },
  {
   "cell_type": "markdown",
   "id": "1423cffd",
   "metadata": {},
   "source": [
    "### Find P3"
   ]
  },
  {
   "cell_type": "code",
   "execution_count": 29,
   "id": "5e21cc89",
   "metadata": {},
   "outputs": [
    {
     "name": "stdout",
     "output_type": "stream",
     "text": [
      "p3 = 0.4\n",
      "ACS BSO - VRP\n",
      "fitness = 0.6909772605726711\n",
      "time = 13.551257848739624\n",
      "==============================================\n",
      "p3 = 0.5\n",
      "ACS BSO - VRP\n",
      "fitness = 0.6924740386265574\n",
      "time = 25.217138290405273\n",
      "==============================================\n",
      "p3 = 0.6\n",
      "ACS BSO - VRP\n",
      "fitness = 0.6899741741529182\n",
      "time = 23.21198010444641\n",
      "==============================================\n"
     ]
    }
   ],
   "source": [
    "#find p3\n",
    "p3_ls = [0.4,0.5,0.6]\n",
    "\n",
    "for p3 in p3_ls:\n",
    "    print(f\"p3 = {p3}\")\n",
    "    print(\"ACS BSO - VRP\")\n",
    "    start = time.time()\n",
    "    acsbso_vrp = ACSBSO_VRP(max_iter_acs = 200,init_pheromone=0.1,alpha_t=1,beta=1,\n",
    "                            q0=0.1,rho=0.1,alpha=0.1,num_ant=30,p0=0.5,p1=0.4,p2=0.4,\n",
    "                            p3=p3,random_state=100)\n",
    "    acsbso_vrp.set_model(tur,hotel,timematrix,travel_days=travel_days,degree_waktu = dwaktu,degree_tarif = dtarif,degree_rating = drating)\n",
    "    fitness = acsbso_vrp.construct_solution()[-1]\n",
    "    end = time.time()\n",
    "    print(f\"fitness = {fitness}\")\n",
    "    print(f\"time = {end-start}\")\n",
    "    print(\"==============================================\")"
   ]
  },
  {
   "cell_type": "markdown",
   "id": "9241816b",
   "metadata": {},
   "source": [
    "### Find P4"
   ]
  },
  {
   "cell_type": "code",
   "execution_count": 31,
   "id": "71679db4",
   "metadata": {},
   "outputs": [
    {
     "name": "stdout",
     "output_type": "stream",
     "text": [
      "p4 = 0.4\n",
      "ACS BSO - VRP\n",
      "fitness = 0.6916717050171156\n",
      "time = 13.118225812911987\n",
      "==============================================\n",
      "p4 = 0.5\n",
      "ACS BSO - VRP\n",
      "fitness = 0.6924740386265574\n",
      "time = 25.095247268676758\n",
      "==============================================\n",
      "p4 = 0.6\n",
      "ACS BSO - VRP\n",
      "fitness = 0.6901022588522586\n",
      "time = 17.968683004379272\n",
      "==============================================\n"
     ]
    }
   ],
   "source": [
    "#find p4\n",
    "p4_ls = [0.4,0.5,0.6]\n",
    "\n",
    "for p4 in p4_ls:\n",
    "    print(f\"p4 = {p4}\")\n",
    "    print(\"ACS BSO - VRP\")\n",
    "    start = time.time()\n",
    "    acsbso_vrp = ACSBSO_VRP(max_iter_acs = 200,init_pheromone=0.1,alpha_t=1,beta=1,\n",
    "                            q0=0.1,rho=0.1,alpha=0.1,num_ant=30,p0=0.5,p1=0.4,p2=0.4,\n",
    "                            p3=0.5,p4=p4,random_state=100)\n",
    "    acsbso_vrp.set_model(tur,hotel,timematrix,travel_days=travel_days,degree_waktu = dwaktu,degree_tarif = dtarif,degree_rating = drating)\n",
    "    fitness = acsbso_vrp.construct_solution()[-1]\n",
    "    end = time.time()\n",
    "    print(f\"fitness = {fitness}\")\n",
    "    print(f\"time = {end-start}\")\n",
    "    print(\"==============================================\")"
   ]
  },
  {
   "cell_type": "markdown",
   "id": "a25b4d8b",
   "metadata": {},
   "source": [
    "### Find Max Iter BSO"
   ]
  },
  {
   "cell_type": "code",
   "execution_count": 33,
   "id": "5bbde634",
   "metadata": {},
   "outputs": [
    {
     "name": "stdout",
     "output_type": "stream",
     "text": [
      "max_iter_bso = 15\n",
      "ACS BSO - VRP\n",
      "fitness = 0.6924740386265574\n",
      "time = 25.019355535507202\n",
      "==============================================\n",
      "max_iter_bso = 20\n",
      "ACS BSO - VRP\n",
      "fitness = 0.6905728460507617\n",
      "time = 16.510849952697754\n",
      "==============================================\n",
      "max_iter_bso = 30\n",
      "ACS BSO - VRP\n",
      "fitness = 0.6903907052932242\n",
      "time = 19.568053245544434\n",
      "==============================================\n"
     ]
    }
   ],
   "source": [
    "#find p4\n",
    "max_iter_bso_ls = [15,20,30]\n",
    "\n",
    "for max_iter_bso in max_iter_bso_ls:\n",
    "    print(f\"max_iter_bso = {max_iter_bso}\")\n",
    "    print(\"ACS BSO - VRP\")\n",
    "    start = time.time()\n",
    "    acsbso_vrp = ACSBSO_VRP(max_iter_acs = 200,init_pheromone=0.1,alpha_t=1,beta=1,\n",
    "                            q0=0.1,rho=0.1,alpha=0.1,num_ant=30,p0=0.5,p1=0.4,p2=0.4,\n",
    "                            p3=0.5,p4=0.5,max_iter_bso=max_iter_bso,random_state=100)\n",
    "    acsbso_vrp.set_model(tur,hotel,timematrix,travel_days=travel_days,degree_waktu = dwaktu,degree_tarif = dtarif,degree_rating = drating)\n",
    "    fitness = acsbso_vrp.construct_solution()[-1]\n",
    "    end = time.time()\n",
    "    print(f\"fitness = {fitness}\")\n",
    "    print(f\"time = {end-start}\")\n",
    "    print(\"==============================================\")"
   ]
  },
  {
   "cell_type": "code",
   "execution_count": null,
   "id": "3895d538",
   "metadata": {},
   "outputs": [],
   "source": []
  }
 ],
 "metadata": {
  "kernelspec": {
   "display_name": "Python 3 (ipykernel)",
   "language": "python",
   "name": "python3"
  },
  "language_info": {
   "codemirror_mode": {
    "name": "ipython",
    "version": 3
   },
   "file_extension": ".py",
   "mimetype": "text/x-python",
   "name": "python",
   "nbconvert_exporter": "python",
   "pygments_lexer": "ipython3",
   "version": "3.11.3"
  }
 },
 "nbformat": 4,
 "nbformat_minor": 5
}
