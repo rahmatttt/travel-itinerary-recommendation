{
 "cells": [
  {
   "cell_type": "markdown",
   "id": "54d47e67",
   "metadata": {},
   "source": [
    "# Hyperparameter Tuning\n",
    "Find the most acceptable parameter"
   ]
  },
  {
   "cell_type": "code",
   "execution_count": 1,
   "id": "e5f8b11c",
   "metadata": {},
   "outputs": [],
   "source": [
    "from optimization.acs import ACS_VRP,ACS_TSP\n",
    "from optimization.bso import BSO_VRP,BSO_TSP\n",
    "from optimization.hybrid_acs_bso import ACSBSO_VRP,ACSBSO_TSP\n",
    "\n",
    "from optimization.aco import ACO_VRP,ACO_TSP\n",
    "from optimization.haco import HACO_VRP,HACO_TSP\n",
    "\n",
    "from optimization.koneksi import ConDB\n",
    "\n",
    "import sql_connection\n",
    "import json\n",
    "import time\n",
    "import random\n",
    "import datetime\n",
    "import copy"
   ]
  },
  {
   "cell_type": "markdown",
   "id": "b23cf63b",
   "metadata": {},
   "source": [
    "## Data for Tuning"
   ]
  },
  {
   "cell_type": "code",
   "execution_count": 2,
   "id": "67773542",
   "metadata": {},
   "outputs": [
    {
     "name": "stderr",
     "output_type": "stream",
     "text": [
      "C:\\Users\\rahma\\Documents\\kuliah\\thesis\\rahmat_code\\travel-itinerary-recommendation\\sql_connection.py:23: UserWarning: pandas only supports SQLAlchemy connectable (engine/connection) or database string URI or sqlite3 DBAPI2 connection. Other DBAPI2 objects are not tested. Please consider using SQLAlchemy.\n",
      "  dataset = pd.read_sql(query, mydb)\n"
     ]
    }
   ],
   "source": [
    "query = \"\"\"SELECT \n",
    "                p.post_id,\n",
    "                p.post_type,\n",
    "                CASE\n",
    "                    WHEN pj.pj_jam_buka = pj.pj_jam_tutup THEN \"tutup\"\n",
    "                    ELSE \"buka\"\n",
    "                END AS is_operate\n",
    "            FROM \n",
    "                posts p\n",
    "            LEFT JOIN\n",
    "                posts_jadwal pj\n",
    "                ON p.post_id = pj.pj_id_tempat AND pj.pj_hari = \"minggu\"\n",
    "            \"\"\"\n",
    "\n",
    "df_location = sql_connection.read_from_sql(query)"
   ]
  },
  {
   "cell_type": "code",
   "execution_count": 7,
   "id": "f9683f2c",
   "metadata": {},
   "outputs": [],
   "source": [
    "random.seed(10)\n",
    "tourid = df_location[(df_location['post_type']==\"location\")&\n",
    "                     (df_location['is_operate'] != \"tutup\")]['post_id'].values.tolist()\n",
    "tourid = random.sample(tourid,30)\n",
    "idhotel = df_location[df_location['post_type']==\"hotel\"]['post_id'].values.tolist()\n",
    "idhotel = idhotel[random.randint(0,len(idhotel)-1)]\n",
    "dwaktu,dtarif,drating = 1,1,1\n",
    "travel_days = 3"
   ]
  },
  {
   "cell_type": "code",
   "execution_count": 8,
   "id": "3cd250b8",
   "metadata": {},
   "outputs": [],
   "source": [
    "db = ConDB()\n",
    "\n",
    "hotel = db.HotelbyID(idhotel)\n",
    "tur = db.WisatabyID(tourid)\n",
    "timematrix = db.TimeMatrixbyID(hotel._id,tourid)"
   ]
  },
  {
   "cell_type": "markdown",
   "id": "61b8c62c",
   "metadata": {},
   "source": [
    "## Maximum Iteration"
   ]
  },
  {
   "cell_type": "code",
   "execution_count": 9,
   "id": "64785660",
   "metadata": {},
   "outputs": [
    {
     "name": "stdout",
     "output_type": "stream",
     "text": [
      "n = 100\n",
      "ACS - VRP\n",
      "fitness = 0.6434329363778726\n",
      "time = 15.027232885360718\n",
      "==============================================\n",
      "\n",
      "ACS - TSP\n",
      "fitness = 0.504823849675345\n",
      "time = 15.208268880844116\n",
      "==============================================\n",
      "\n",
      "BSO - VRP\n",
      "fitness = 0.5295243818056011\n",
      "time = 2.8107357025146484\n",
      "==============================================\n",
      "\n",
      "BSO - TSP\n",
      "fitness = 0.49167659055318835\n",
      "time = 43.6064658164978\n",
      "==============================================\n",
      "\n",
      "ACO - VRP\n",
      "fitness = 0.6214170025741726\n",
      "time = 17.618873834609985\n",
      "==============================================\n",
      "\n",
      "ACO - TSP\n",
      "fitness = 0.5692603901318903\n",
      "time = 15.942793130874634\n",
      "==============================================\n",
      "\n",
      "HACO - VRP\n",
      "fitness = 0.6435807021377327\n",
      "time = 20.360377073287964\n",
      "==============================================\n",
      "\n",
      "HACO - TSP\n",
      "fitness = 0.5555505480898796\n",
      "time = 35.77420163154602\n",
      "==============================================\n",
      "\n",
      "ACS BSO - VRP\n",
      "fitness = 0.6464099202447285\n",
      "time = 107.59738755226135\n",
      "==============================================\n",
      "\n",
      "ACS BSO - TSP\n",
      "fitness = 0.492790888233366\n",
      "time = 170.08405017852783\n",
      "==============================================\n",
      "n = 200\n",
      "ACS - VRP\n",
      "fitness = 0.6434329363778726\n",
      "time = 16.18814969062805\n",
      "==============================================\n",
      "\n",
      "ACS - TSP\n",
      "fitness = 0.5238314396008595\n",
      "time = 24.557923555374146\n",
      "==============================================\n",
      "\n",
      "BSO - VRP\n",
      "fitness = 0.5295243818056011\n",
      "time = 2.802900791168213\n",
      "==============================================\n",
      "\n",
      "BSO - TSP\n",
      "fitness = 0.49167659055318835\n",
      "time = 86.26762962341309\n",
      "==============================================\n",
      "\n",
      "ACO - VRP\n",
      "fitness = 0.6214170025741726\n",
      "time = 15.982304573059082\n",
      "==============================================\n",
      "\n",
      "ACO - TSP\n",
      "fitness = 0.5692603901318903\n",
      "time = 14.84937334060669\n",
      "==============================================\n",
      "\n",
      "HACO - VRP\n",
      "fitness = 0.6435807021377327\n",
      "time = 19.24412488937378\n",
      "==============================================\n",
      "\n",
      "HACO - TSP\n",
      "fitness = 0.5591501875523509\n",
      "time = 57.95034837722778\n",
      "==============================================\n",
      "\n",
      "ACS BSO - VRP\n",
      "fitness = 0.6494000145671729\n",
      "time = 161.39203262329102\n",
      "==============================================\n",
      "\n",
      "ACS BSO - TSP\n",
      "fitness = 0.492790888233366\n",
      "time = 170.65483164787292\n",
      "==============================================\n",
      "n = 300\n",
      "ACS - VRP\n",
      "fitness = 0.6434329363778726\n",
      "time = 16.92582893371582\n",
      "==============================================\n",
      "\n",
      "ACS - TSP\n",
      "fitness = 0.5238314396008595\n",
      "time = 24.299193382263184\n",
      "==============================================\n",
      "\n",
      "BSO - VRP\n",
      "fitness = 0.5295243818056011\n",
      "time = 2.8315086364746094\n",
      "==============================================\n",
      "\n",
      "BSO - TSP\n",
      "fitness = 0.49167659055318835\n",
      "time = 126.77348375320435\n",
      "==============================================\n",
      "\n",
      "ACO - VRP\n",
      "fitness = 0.6214170025741726\n",
      "time = 18.617677688598633\n",
      "==============================================\n",
      "\n",
      "ACO - TSP\n",
      "fitness = 0.5692603901318903\n",
      "time = 16.06477451324463\n",
      "==============================================\n",
      "\n",
      "HACO - VRP\n",
      "fitness = 0.6435807021377327\n",
      "time = 21.9393630027771\n",
      "==============================================\n",
      "\n",
      "HACO - TSP\n",
      "fitness = 0.5591501875523509\n",
      "time = 60.92828130722046\n",
      "==============================================\n",
      "\n",
      "ACS BSO - VRP\n",
      "fitness = 0.6494000145671729\n",
      "time = 160.06398630142212\n",
      "==============================================\n",
      "\n",
      "ACS BSO - TSP\n",
      "fitness = 0.492790888233366\n",
      "time = 166.33917379379272\n",
      "==============================================\n"
     ]
    }
   ],
   "source": [
    "# List of iterations\n",
    "iterations = [100, 200, 300]\n",
    "\n",
    "#list of algorithms\n",
    "for n in iterations:\n",
    "    print(f\"n = {n}\")\n",
    "    print(\"ACS - VRP\")\n",
    "    start = time.time()\n",
    "    acs_vrp = ACS_VRP(max_iter = n,random_state=100)\n",
    "    acs_vrp.set_model(tur,hotel,timematrix,travel_days=travel_days,degree_waktu = dwaktu,degree_tarif = dtarif,degree_rating = drating)\n",
    "    fitness = acs_vrp.construct_solution()[-1]\n",
    "    end = time.time()\n",
    "    print(f\"fitness = {fitness}\")\n",
    "    print(f\"time = {end-start}\")\n",
    "    print(\"==============================================\")\n",
    "    \n",
    "    print()\n",
    "    print(\"ACS - TSP\")\n",
    "    start = time.time()\n",
    "    acs_tsp = ACS_TSP(max_iter = n,random_state=100)\n",
    "    acs_tsp.set_model(tur,hotel,timematrix,travel_days=travel_days,degree_waktu = dwaktu,degree_tarif = dtarif,degree_rating = drating)\n",
    "    fitness = acs_tsp.construct_solution()[-1]\n",
    "    end = time.time()\n",
    "    print(f\"fitness = {fitness}\")\n",
    "    print(f\"time = {end-start}\")\n",
    "    print(\"==============================================\")\n",
    "    \n",
    "    print()\n",
    "    print(\"BSO - VRP\")\n",
    "    start = time.time()\n",
    "    bso_vrp = BSO_VRP(max_iter = n,two_opt_method = \"best\",random_state=100)\n",
    "    bso_vrp.set_model(tur,hotel,timematrix,init_solution=[],travel_days=travel_days,degree_waktu = dwaktu,degree_tarif = dtarif,degree_rating = drating)\n",
    "    fitness = bso_vrp.construct_solution()[-1]\n",
    "    end = time.time()\n",
    "    print(f\"fitness = {fitness}\")\n",
    "    print(f\"time = {end-start}\")\n",
    "    print(\"==============================================\")\n",
    "    \n",
    "    print()\n",
    "    print(\"BSO - TSP\")\n",
    "    start = time.time()\n",
    "    bso_tsp = BSO_TSP(max_iter = n,two_opt_method = \"best\",random_state=100)\n",
    "    bso_tsp.set_model(tur,hotel,timematrix,init_solution=[],travel_days=travel_days,degree_waktu = dwaktu,degree_tarif = dtarif,degree_rating = drating)\n",
    "    fitness = bso_tsp.construct_solution()[-1]\n",
    "    end = time.time()\n",
    "    print(f\"fitness = {fitness}\")\n",
    "    print(f\"time = {end-start}\")\n",
    "    print(\"==============================================\")\n",
    "    \n",
    "    print()\n",
    "    print(\"ACO - VRP\")\n",
    "    start = time.time()\n",
    "    aco_vrp = ACO_VRP(max_iter = n,random_state=100)\n",
    "    aco_vrp.set_model(tur,hotel,timematrix,travel_days=travel_days,degree_waktu = dwaktu,degree_tarif = dtarif,degree_rating = drating)\n",
    "    fitness = aco_vrp.construct_solution()[-1]\n",
    "    end = time.time()\n",
    "    print(f\"fitness = {fitness}\")\n",
    "    print(f\"time = {end-start}\")\n",
    "    print(\"==============================================\")\n",
    "    \n",
    "    print()\n",
    "    print(\"ACO - TSP\")\n",
    "    start = time.time()\n",
    "    aco_tsp = ACO_TSP(max_iter = n,random_state=100)\n",
    "    aco_tsp.set_model(tur,hotel,timematrix,travel_days=travel_days,degree_waktu = dwaktu,degree_tarif = dtarif,degree_rating = drating)\n",
    "    fitness = aco_tsp.construct_solution()[-1]\n",
    "    end = time.time()\n",
    "    print(f\"fitness = {fitness}\")\n",
    "    print(f\"time = {end-start}\")\n",
    "    print(\"==============================================\")\n",
    "    \n",
    "    print()\n",
    "    print(\"HACO - VRP\")\n",
    "    start = time.time()\n",
    "    haco_vrp = HACO_VRP(max_iter = n,random_state=100)\n",
    "    haco_vrp.set_model(tur,hotel,timematrix,travel_days=travel_days,degree_waktu = dwaktu,degree_tarif = dtarif,degree_rating = drating)\n",
    "    fitness = haco_vrp.construct_solution()[-1]\n",
    "    end = time.time()\n",
    "    print(f\"fitness = {fitness}\")\n",
    "    print(f\"time = {end-start}\")\n",
    "    print(\"==============================================\")\n",
    "    \n",
    "    print()\n",
    "    print(\"HACO - TSP\")\n",
    "    start = time.time()\n",
    "    haco_tsp = HACO_TSP(max_iter = n,random_state=100)\n",
    "    haco_tsp.set_model(tur,hotel,timematrix,travel_days=travel_days,degree_waktu = dwaktu,degree_tarif = dtarif,degree_rating = drating)\n",
    "    fitness = haco_tsp.construct_solution()[-1]\n",
    "    end = time.time()\n",
    "    print(f\"fitness = {fitness}\")\n",
    "    print(f\"time = {end-start}\")\n",
    "    print(\"==============================================\")\n",
    "    \n",
    "    print()\n",
    "    print(\"ACS BSO - VRP\")\n",
    "    start = time.time()\n",
    "    acsbso_vrp = ACSBSO_VRP(max_iter_acs = n,random_state=100)\n",
    "    acsbso_vrp.set_model(tur,hotel,timematrix,travel_days=travel_days,degree_waktu = dwaktu,degree_tarif = dtarif,degree_rating = drating)\n",
    "    fitness = acsbso_vrp.construct_solution()[-1]\n",
    "    end = time.time()\n",
    "    print(f\"fitness = {fitness}\")\n",
    "    print(f\"time = {end-start}\")\n",
    "    print(\"==============================================\")\n",
    "    \n",
    "    print()\n",
    "    print(\"ACS BSO - TSP\")\n",
    "    start = time.time()\n",
    "    acsbso_tsp = ACSBSO_TSP(max_iter_acs = n,random_state=100)\n",
    "    acsbso_tsp.set_model(tur,hotel,timematrix,travel_days=travel_days,degree_waktu = dwaktu,degree_tarif = dtarif,degree_rating = drating)\n",
    "    fitness = acsbso_tsp.construct_solution()[-1]\n",
    "    end = time.time()\n",
    "    print(f\"fitness = {fitness}\")\n",
    "    print(f\"time = {end-start}\")\n",
    "    print(\"==============================================\")\n"
   ]
  },
  {
   "cell_type": "markdown",
   "id": "c3dd6c93",
   "metadata": {},
   "source": [
    "**results:**\n",
    "- semua ACS-based bisa menggunakan max iter = 200\n",
    "- BSO standalone bisa menggunakan max iter = 100\n",
    "- ACO-based bisa menggunakan max iter = 100"
   ]
  },
  {
   "cell_type": "markdown",
   "id": "f1d22d55",
   "metadata": {},
   "source": [
    "## Tuning ACS (VRP/TSP)\n",
    "Tuning dilakukan dengan VRP, TSP mengikuti\n",
    "\n",
    "default parameter/parameter awal:\n",
    "- alpha_t = 1\n",
    "- beta = 2\n",
    "- q0 = 0.1\n",
    "- init_pheromone = 0.1\n",
    "- rho = 0.1\n",
    "- alpha = 0.1\n",
    "- num_ant = 30"
   ]
  },
  {
   "cell_type": "markdown",
   "id": "e3b0981f",
   "metadata": {},
   "source": [
    "### Find Initial Pheromone"
   ]
  },
  {
   "cell_type": "code",
   "execution_count": 10,
   "id": "ab82c9c5",
   "metadata": {},
   "outputs": [
    {
     "data": {
      "text/plain": [
       "[Tourism Zone Malioboro(00:00:00-00:00:00),\n",
       " Rumah Hantu Malioboro(00:00:00-00:00:00),\n",
       " Fort Vredeburg Museum(00:00:00-00:00:00),\n",
       " Yogyakarta Northern Square(00:00:00-00:00:00),\n",
       " Museum Sandi(00:00:00-00:00:00),\n",
       " Pakualaman Palace(00:00:00-00:00:00),\n",
       " Pasar Kotagede(00:00:00-00:00:00),\n",
       " Bentara Budaya Yogyakarta (BBY)(00:00:00-00:00:00),\n",
       " The Lost World Castle(00:00:00-00:00:00),\n",
       " Pasar Beringharjo(00:00:00-00:00:00),\n",
       " Grojogan Watu Purbo Gate(00:00:00-00:00:00),\n",
       " Dagadu Alun-Alun Utara(00:00:00-00:00:00),\n",
       " Tlogo Muncar National Garden(00:00:00-00:00:00),\n",
       " Sermo Reservoir Dam(00:00:00-00:00:00),\n",
       " Kotagede Heritage Trail(00:00:00-00:00:00),\n",
       " ALUN ALUN KIDUL YOGYAKARTA(00:00:00-00:00:00),\n",
       " History Of Java Museum (HOJM)(00:00:00-00:00:00),\n",
       " Pokdarwis Jurug taman sari(00:00:00-00:00:00),\n",
       " Desa Wisata Pentingsari(00:00:00-00:00:00),\n",
       " Omah Oblong(00:00:00-00:00:00),\n",
       " Timang Beach(00:00:00-00:00:00),\n",
       " Bukit Rhema Gereja Ayam(00:00:00-00:00:00),\n",
       " Jogja City Mall(00:00:00-00:00:00),\n",
       " De Mata Trick Eye Museum(00:00:00-00:00:00),\n",
       " Hutan Pinus Pengger(00:00:00-00:00:00),\n",
       " Tourism Village Mlangi(00:00:00-00:00:00),\n",
       " Sindu Kusuma Edupark (SKE)(00:00:00-00:00:00),\n",
       " Soko Tunggal Mosque(00:00:00-00:00:00),\n",
       " CitraGrand Mutiara Waterpark Yogyakarta(00:00:00-00:00:00),\n",
       " Selfie Park Jogja(00:00:00-00:00:00)]"
      ]
     },
     "execution_count": 10,
     "metadata": {},
     "output_type": "execute_result"
    }
   ],
   "source": [
    "tur"
   ]
  },
  {
   "cell_type": "code",
   "execution_count": 11,
   "id": "a14a77eb",
   "metadata": {},
   "outputs": [
    {
     "name": "stdout",
     "output_type": "stream",
     "text": [
      "pheromone = 0.1\n",
      "ACS - VRP\n",
      "fitness = 0.6434329363778726\n",
      "time = 10.676620244979858\n",
      "==============================================\n",
      "pheromone = 0.3\n",
      "ACS - VRP\n",
      "fitness = 0.6437689636798213\n",
      "time = 17.301435947418213\n",
      "==============================================\n",
      "pheromone = 0.5\n",
      "ACS - VRP\n",
      "fitness = 0.637928821151535\n",
      "time = 9.652634620666504\n",
      "==============================================\n",
      "pheromone = 1\n",
      "ACS - VRP\n",
      "fitness = 0.6419171118279693\n",
      "time = 7.141604661941528\n",
      "==============================================\n"
     ]
    }
   ],
   "source": [
    "#find init pheromone\n",
    "init_pheromone = [0.1,0.3,0.5,1]\n",
    "\n",
    "for pheromone in init_pheromone:\n",
    "    print(f\"pheromone = {pheromone}\")\n",
    "    print(\"ACS - VRP\")\n",
    "    start = time.time()\n",
    "    acs_vrp = ACS_VRP(max_iter = 200,init_pheromone=pheromone,random_state=100)\n",
    "    acs_vrp.set_model(tur,hotel,timematrix,travel_days=travel_days,degree_waktu = dwaktu,degree_tarif = dtarif,degree_rating = drating)\n",
    "    fitness = acs_vrp.construct_solution()[-1]\n",
    "    end = time.time()\n",
    "    print(f\"fitness = {fitness}\")\n",
    "    print(f\"time = {end-start}\")\n",
    "    print(\"==============================================\")"
   ]
  },
  {
   "cell_type": "markdown",
   "id": "bcdae63f",
   "metadata": {},
   "source": [
    "pheromone 0.1 atau 0.3 memberikan hasil yang baik tetapi 0.3 lambat konvergen. acceptable value = 0.1 atau 0.3"
   ]
  },
  {
   "cell_type": "markdown",
   "id": "85691dbb",
   "metadata": {},
   "source": [
    "### Find Alpha_t"
   ]
  },
  {
   "cell_type": "code",
   "execution_count": 12,
   "id": "2d50527b",
   "metadata": {},
   "outputs": [
    {
     "name": "stdout",
     "output_type": "stream",
     "text": [
      "alpha_t = 1\n",
      "ACS - VRP\n",
      "fitness = 0.6434329363778726\n",
      "time = 11.111112356185913\n",
      "==============================================\n",
      "alpha_t = 2\n",
      "ACS - VRP\n",
      "fitness = 0.6400738828799301\n",
      "time = 8.828542470932007\n",
      "==============================================\n",
      "alpha_t = 3\n",
      "ACS - VRP\n",
      "fitness = 0.6335522961506245\n",
      "time = 4.32839298248291\n",
      "==============================================\n",
      "alpha_t = 4\n",
      "ACS - VRP\n",
      "fitness = 0.6379199442805638\n",
      "time = 5.13025689125061\n",
      "==============================================\n",
      "alpha_t = 5\n",
      "ACS - VRP\n",
      "fitness = 0.6066195964893114\n",
      "time = 10.131937503814697\n",
      "==============================================\n"
     ]
    }
   ],
   "source": [
    "#find alpha_t\n",
    "alpha_t_ls = [1,2,3,4,5]\n",
    "\n",
    "for alpha_t in alpha_t_ls:\n",
    "    print(f\"alpha_t = {alpha_t}\")\n",
    "    print(\"ACS - VRP\")\n",
    "    start = time.time()\n",
    "    acs_vrp = ACS_VRP(init_pheromone=0.1,alpha_t = alpha_t,max_iter = 200,random_state=100)\n",
    "    acs_vrp.set_model(tur,hotel,timematrix,travel_days=travel_days,degree_waktu = dwaktu,degree_tarif = dtarif,degree_rating = drating)\n",
    "    fitness = acs_vrp.construct_solution()[-1]\n",
    "    end = time.time()\n",
    "    print(f\"fitness = {fitness}\")\n",
    "    print(f\"time = {end-start}\")\n",
    "    print(\"==============================================\")"
   ]
  },
  {
   "cell_type": "markdown",
   "id": "0f4089dd",
   "metadata": {},
   "source": [
    "nilai alpha_t terbaik adalah 1"
   ]
  },
  {
   "cell_type": "markdown",
   "id": "8914ecad",
   "metadata": {},
   "source": [
    "### Find beta"
   ]
  },
  {
   "cell_type": "code",
   "execution_count": 13,
   "id": "a842063c",
   "metadata": {},
   "outputs": [
    {
     "name": "stdout",
     "output_type": "stream",
     "text": [
      "beta = 1\n",
      "ACS - VRP\n",
      "fitness = 0.6434329363778726\n",
      "time = 12.120348453521729\n",
      "==============================================\n",
      "beta = 2\n",
      "ACS - VRP\n",
      "fitness = 0.647130084853782\n",
      "time = 18.092474460601807\n",
      "==============================================\n",
      "beta = 3\n",
      "ACS - VRP\n",
      "fitness = 0.6453811136603662\n",
      "time = 15.485116243362427\n",
      "==============================================\n",
      "beta = 4\n",
      "ACS - VRP\n",
      "fitness = 0.6428928129210825\n",
      "time = 11.836629867553711\n",
      "==============================================\n",
      "beta = 5\n",
      "ACS - VRP\n",
      "fitness = 0.6420714328156235\n",
      "time = 12.644165992736816\n",
      "==============================================\n"
     ]
    }
   ],
   "source": [
    "#find beta\n",
    "beta_ls = [1,2,3,4,5]\n",
    "\n",
    "for beta in beta_ls:\n",
    "    print(f\"beta = {beta}\")\n",
    "    print(\"ACS - VRP\")\n",
    "    start = time.time()\n",
    "    acs_vrp = ACS_VRP(init_pheromone=0.1,alpha_t = 1,beta = beta,max_iter = 200,random_state=100)\n",
    "    acs_vrp.set_model(tur,hotel,timematrix,travel_days=travel_days,degree_waktu = dwaktu,degree_tarif = dtarif,degree_rating = drating)\n",
    "    fitness = acs_vrp.construct_solution()[-1]\n",
    "    end = time.time()\n",
    "    print(f\"fitness = {fitness}\")\n",
    "    print(f\"time = {end-start}\")\n",
    "    print(\"==============================================\")"
   ]
  },
  {
   "cell_type": "markdown",
   "id": "9e5f0e0d",
   "metadata": {},
   "source": [
    "beta [1,3] memiliki hasil yang baik tetapi beta = 2 cukup lambat."
   ]
  },
  {
   "cell_type": "markdown",
   "id": "242b82c8",
   "metadata": {},
   "source": [
    "### Find q0"
   ]
  },
  {
   "cell_type": "code",
   "execution_count": 14,
   "id": "067aefec",
   "metadata": {},
   "outputs": [
    {
     "name": "stdout",
     "output_type": "stream",
     "text": [
      "q0 = 0.1\n",
      "ACS - VRP\n",
      "fitness = 0.6453811136603662\n",
      "time = 15.634683609008789\n",
      "==============================================\n",
      "q0 = 0.3\n",
      "ACS - VRP\n",
      "fitness = 0.6434263811500783\n",
      "time = 7.9814887046813965\n",
      "==============================================\n",
      "q0 = 0.5\n",
      "ACS - VRP\n",
      "fitness = 0.638873734716448\n",
      "time = 8.295466899871826\n",
      "==============================================\n",
      "q0 = 0.7\n",
      "ACS - VRP\n",
      "fitness = 0.6444409847408865\n",
      "time = 7.9140284061431885\n",
      "==============================================\n",
      "q0 = 0.9\n",
      "ACS - VRP\n",
      "fitness = 0.6291576532284496\n",
      "time = 4.747120141983032\n",
      "==============================================\n"
     ]
    }
   ],
   "source": [
    "#find beta\n",
    "q0_ls = [0.1,0.3,0.5,0.7,0.9]\n",
    "\n",
    "for q0 in q0_ls:\n",
    "    print(f\"q0 = {q0}\")\n",
    "    print(\"ACS - VRP\")\n",
    "    start = time.time()\n",
    "    acs_vrp = ACS_VRP(alpha_t = 1,beta = 3,q0=q0,max_iter = 200,random_state=100)\n",
    "    acs_vrp.set_model(tur,hotel,timematrix,travel_days=travel_days,degree_waktu = dwaktu,degree_tarif = dtarif,degree_rating = drating)\n",
    "    fitness = acs_vrp.construct_solution()[-1]\n",
    "    end = time.time()\n",
    "    print(f\"fitness = {fitness}\")\n",
    "    print(f\"time = {end-start}\")\n",
    "    print(\"==============================================\")"
   ]
  },
  {
   "cell_type": "markdown",
   "id": "9841fa1a",
   "metadata": {},
   "source": [
    "q0 = 0.1 memiliki hasil yang baik tetapi lambat konvergen. acceptable value = 0.1 atau 0.7"
   ]
  },
  {
   "cell_type": "markdown",
   "id": "8e66152f",
   "metadata": {},
   "source": [
    "### Find Rho"
   ]
  },
  {
   "cell_type": "code",
   "execution_count": 16,
   "id": "1a6fe4ac",
   "metadata": {},
   "outputs": [
    {
     "name": "stdout",
     "output_type": "stream",
     "text": [
      "rho = 0.1\n",
      "ACS - VRP\n",
      "fitness = 0.6453811136603662\n",
      "time = 15.548097133636475\n",
      "==============================================\n",
      "rho = 0.3\n",
      "ACS - VRP\n",
      "fitness = 0.6434263811500783\n",
      "time = 16.901838779449463\n",
      "==============================================\n",
      "rho = 0.5\n",
      "ACS - VRP\n",
      "fitness = 0.6417281938047346\n",
      "time = 7.9048848152160645\n",
      "==============================================\n",
      "rho = 0.7\n",
      "ACS - VRP\n",
      "fitness = 0.6421911567676976\n",
      "time = 9.368966579437256\n",
      "==============================================\n",
      "rho = 0.9\n",
      "ACS - VRP\n",
      "fitness = 0.6458440766233293\n",
      "time = 11.575773000717163\n",
      "==============================================\n"
     ]
    }
   ],
   "source": [
    "#find rho\n",
    "rho_ls = [0.1,0.3,0.5,0.7,0.9]\n",
    "\n",
    "for rho in rho_ls:\n",
    "    print(f\"rho = {rho}\")\n",
    "    print(\"ACS - VRP\")\n",
    "    start = time.time()\n",
    "    acs_vrp = ACS_VRP(alpha_t = 1,beta = 3,q0=0.1,rho=rho,max_iter = 200,random_state=100)\n",
    "    acs_vrp.set_model(tur,hotel,timematrix,travel_days=travel_days,degree_waktu = dwaktu,degree_tarif = dtarif,degree_rating = drating)\n",
    "    fitness = acs_vrp.construct_solution()[-1]\n",
    "    end = time.time()\n",
    "    print(f\"fitness = {fitness}\")\n",
    "    print(f\"time = {end-start}\")\n",
    "    print(\"==============================================\")"
   ]
  },
  {
   "cell_type": "markdown",
   "id": "ed55132b",
   "metadata": {},
   "source": [
    "rho 0.1 atau 0.9 memberikan hasil baik. acceptable range = 0.1 atau 0.9"
   ]
  },
  {
   "cell_type": "markdown",
   "id": "56171860",
   "metadata": {},
   "source": [
    "### Find Alpha"
   ]
  },
  {
   "cell_type": "code",
   "execution_count": 17,
   "id": "be717833",
   "metadata": {},
   "outputs": [
    {
     "name": "stdout",
     "output_type": "stream",
     "text": [
      "alpha = 0.1\n",
      "ACS - VRP\n",
      "fitness = 0.6458440766233293\n",
      "time = 11.69547700881958\n",
      "==============================================\n",
      "alpha = 0.3\n",
      "ACS - VRP\n",
      "fitness = 0.6411198969372518\n",
      "time = 6.226557731628418\n",
      "==============================================\n",
      "alpha = 0.5\n",
      "ACS - VRP\n",
      "fitness = 0.6437415783531811\n",
      "time = 6.927549600601196\n",
      "==============================================\n",
      "alpha = 0.7\n",
      "ACS - VRP\n",
      "fitness = 0.6450724716850578\n",
      "time = 7.0875914096832275\n",
      "==============================================\n",
      "alpha = 0.9\n",
      "ACS - VRP\n",
      "fitness = 0.6276004224480134\n",
      "time = 4.236937999725342\n",
      "==============================================\n"
     ]
    }
   ],
   "source": [
    "#find alpha\n",
    "alpha_ls = [0.1,0.3,0.5,0.7,0.9]\n",
    "\n",
    "for alpha in alpha_ls:\n",
    "    print(f\"alpha = {alpha}\")\n",
    "    print(\"ACS - VRP\")\n",
    "    start = time.time()\n",
    "    acs_vrp = ACS_VRP(alpha_t = 1,beta = 3,q0=0.1,rho=0.9,alpha=alpha,max_iter = 200,random_state=100)\n",
    "    acs_vrp.set_model(tur,hotel,timematrix,travel_days=travel_days,degree_waktu = dwaktu,degree_tarif = dtarif,degree_rating = drating)\n",
    "    fitness = acs_vrp.construct_solution()[-1]\n",
    "    end = time.time()\n",
    "    print(f\"fitness = {fitness}\")\n",
    "    print(f\"time = {end-start}\")\n",
    "    print(\"==============================================\")"
   ]
  },
  {
   "cell_type": "markdown",
   "id": "53a17e7a",
   "metadata": {},
   "source": [
    "Hasil terbaik 0.1"
   ]
  },
  {
   "cell_type": "markdown",
   "id": "d0178d6a",
   "metadata": {},
   "source": [
    "### Find Num Ant"
   ]
  },
  {
   "cell_type": "code",
   "execution_count": 18,
   "id": "634572b6",
   "metadata": {},
   "outputs": [
    {
     "name": "stdout",
     "output_type": "stream",
     "text": [
      "num_ant = 10\n",
      "ACS - VRP\n",
      "fitness = 0.6426033358825887\n",
      "time = 2.907057762145996\n",
      "==============================================\n",
      "num_ant = 30\n",
      "ACS - VRP\n",
      "fitness = 0.6458440766233293\n",
      "time = 11.901788234710693\n",
      "==============================================\n",
      "num_ant = 50\n",
      "ACS - VRP\n",
      "fitness = 0.6445131832914528\n",
      "time = 20.10200595855713\n",
      "==============================================\n"
     ]
    }
   ],
   "source": [
    "#find num_ant\n",
    "num_ant_ls = [10,30,50]\n",
    "\n",
    "for num_ant in num_ant_ls:\n",
    "    print(f\"num_ant = {num_ant}\")\n",
    "    print(\"ACS - VRP\")\n",
    "    start = time.time()\n",
    "    acs_vrp = ACS_VRP(alpha_t = 1,beta = 3,q0=0.1,rho=0.9,alpha=0.1,num_ant=num_ant,max_iter = 200,random_state=100)\n",
    "    acs_vrp.set_model(tur,hotel,timematrix,travel_days=travel_days,degree_waktu = dwaktu,degree_tarif = dtarif,degree_rating = drating)\n",
    "    fitness = acs_vrp.construct_solution()[-1]\n",
    "    end = time.time()\n",
    "    print(f\"fitness = {fitness}\")\n",
    "    print(f\"time = {end-start}\")\n",
    "    print(\"==============================================\")"
   ]
  },
  {
   "cell_type": "markdown",
   "id": "98d4e4e9",
   "metadata": {},
   "source": [
    "num_ant terbaik adalah 30"
   ]
  },
  {
   "cell_type": "markdown",
   "id": "ee361866",
   "metadata": {},
   "source": [
    "parameter terpilih:\n",
    "- init_pheromone = 0.1\n",
    "- alpha_t = 1\n",
    "- beta = 3\n",
    "- q0 = 0.1\n",
    "- rho = 0.9\n",
    "- alpha = 0.1\n",
    "- num_ant = 30\n"
   ]
  },
  {
   "cell_type": "markdown",
   "id": "ecd4c789",
   "metadata": {},
   "source": [
    "### Check TSP"
   ]
  },
  {
   "cell_type": "code",
   "execution_count": 19,
   "id": "a52f3360",
   "metadata": {},
   "outputs": [
    {
     "name": "stdout",
     "output_type": "stream",
     "text": [
      "fitness = 0.5038589351396628\n",
      "time = 8.150886535644531\n"
     ]
    }
   ],
   "source": [
    "start = time.time()\n",
    "acs_tsp = ACS_TSP(alpha_t = 1,beta = 3,q0=0.1,rho=0.9,alpha=0.1,num_ant=30,max_iter = 200,random_state=100)\n",
    "acs_tsp.set_model(tur,hotel,timematrix,travel_days=travel_days,degree_waktu = dwaktu,degree_tarif = dtarif,degree_rating = drating)\n",
    "fitness = acs_tsp.construct_solution()[-1]\n",
    "end = time.time()\n",
    "print(f\"fitness = {fitness}\")\n",
    "print(f\"time = {end-start}\")"
   ]
  },
  {
   "cell_type": "markdown",
   "id": "b7a7f1d4",
   "metadata": {},
   "source": [
    "## Tuning BSO (VRP/TSP)\n",
    "Tuning dilakukan dengan VRP, TSP mengikuti\n",
    "\n",
    "default parameter/parameter awal:\n",
    "- p1 = 0.3 untuk VRP | p1 = 0.4 untuk TSP\n",
    "- p2 = 0.4\n",
    "- p3 = 0.5\n",
    "- p4 = 0.5\n",
    "- two_opt_method = 'first'"
   ]
  },
  {
   "cell_type": "markdown",
   "id": "1d79084a",
   "metadata": {},
   "source": [
    "### Find p1"
   ]
  },
  {
   "cell_type": "code",
   "execution_count": 20,
   "id": "97ded0f3",
   "metadata": {},
   "outputs": [
    {
     "name": "stdout",
     "output_type": "stream",
     "text": [
      "p1 = 0.1\n",
      "BSO - VRP\n",
      "fitness = 0.5295243818056011\n",
      "time = 1.8471229076385498\n",
      "==============================================\n",
      "p1 = 0.3\n",
      "BSO - VRP\n",
      "fitness = 0.5415305546451074\n",
      "time = 1.869922161102295\n",
      "==============================================\n",
      "p1 = 0.5\n",
      "BSO - VRP\n",
      "fitness = 0.5415305546451074\n",
      "time = 1.5615653991699219\n",
      "==============================================\n",
      "p1 = 0.7\n",
      "BSO - VRP\n",
      "fitness = 0.5417877562911978\n",
      "time = 1.325859785079956\n",
      "==============================================\n",
      "p1 = 0.9\n",
      "BSO - VRP\n",
      "fitness = 0.5308103900360539\n",
      "time = 0.23762178421020508\n",
      "==============================================\n"
     ]
    }
   ],
   "source": [
    "#find p1\n",
    "p1_ls = [0.1,0.3,0.5,0.7,0.9]\n",
    "\n",
    "for p1 in p1_ls:\n",
    "    print(f\"p1 = {p1}\")\n",
    "    print(\"BSO - VRP\")\n",
    "    start = time.time()\n",
    "    bso_vrp = BSO_VRP(p1=p1,max_iter = 200,two_opt_method = \"best\",random_state=100)\n",
    "    bso_vrp.set_model(tur,hotel,timematrix,init_solution=[],travel_days=travel_days,degree_waktu = dwaktu,degree_tarif = dtarif,degree_rating = drating)\n",
    "    fitness = bso_vrp.construct_solution()[-1]\n",
    "    end = time.time()\n",
    "    print(f\"fitness = {fitness}\")\n",
    "    print(f\"time = {end-start}\")\n",
    "    print(\"==============================================\")"
   ]
  },
  {
   "cell_type": "markdown",
   "id": "93be80ab",
   "metadata": {},
   "source": [
    "0.7"
   ]
  },
  {
   "cell_type": "markdown",
   "id": "6b65972c",
   "metadata": {},
   "source": [
    "### Find p2"
   ]
  },
  {
   "cell_type": "code",
   "execution_count": 21,
   "id": "8a347421",
   "metadata": {},
   "outputs": [
    {
     "name": "stdout",
     "output_type": "stream",
     "text": [
      "p2 = 0.1\n",
      "BSO - VRP\n",
      "fitness = 0.5415305546451074\n",
      "time = 0.9644322395324707\n",
      "==============================================\n",
      "p2 = 0.3\n",
      "BSO - VRP\n",
      "fitness = 0.5417877562911978\n",
      "time = 1.403895378112793\n",
      "==============================================\n",
      "p2 = 0.5\n",
      "BSO - VRP\n",
      "fitness = 0.5417877562911978\n",
      "time = 1.3923754692077637\n",
      "==============================================\n",
      "p2 = 0.7\n",
      "BSO - VRP\n",
      "fitness = 0.5417877562911978\n",
      "time = 0.7063391208648682\n",
      "==============================================\n",
      "p2 = 0.9\n",
      "BSO - VRP\n",
      "fitness = 0.5417877562911978\n",
      "time = 0.7711894512176514\n",
      "==============================================\n"
     ]
    }
   ],
   "source": [
    "#find p2\n",
    "p2_ls = [0.1,0.3,0.5,0.7,0.9]\n",
    "\n",
    "for p2 in p2_ls:\n",
    "    print(f\"p2 = {p2}\")\n",
    "    print(\"BSO - VRP\")\n",
    "    start = time.time()\n",
    "    bso_vrp = BSO_VRP(p1=0.7,p2=p2,max_iter = 200,two_opt_method = \"best\",random_state=100)\n",
    "    bso_vrp.set_model(tur,hotel,timematrix,init_solution=[],travel_days=travel_days,degree_waktu = dwaktu,degree_tarif = dtarif,degree_rating = drating)\n",
    "    fitness = bso_vrp.construct_solution()[-1]\n",
    "    end = time.time()\n",
    "    print(f\"fitness = {fitness}\")\n",
    "    print(f\"time = {end-start}\")\n",
    "    print(\"==============================================\")"
   ]
  },
  {
   "cell_type": "markdown",
   "id": "e7d6b66f",
   "metadata": {},
   "source": [
    "[0.3,0.9]"
   ]
  },
  {
   "cell_type": "markdown",
   "id": "6a8580c6",
   "metadata": {},
   "source": [
    "### Find p3"
   ]
  },
  {
   "cell_type": "code",
   "execution_count": 22,
   "id": "74c7ab10",
   "metadata": {},
   "outputs": [
    {
     "name": "stdout",
     "output_type": "stream",
     "text": [
      "p3 = 0.1\n",
      "BSO - VRP\n",
      "fitness = 0.5317363159619798\n",
      "time = 0.4855985641479492\n",
      "==============================================\n",
      "p3 = 0.3\n",
      "BSO - VRP\n",
      "fitness = 0.5308103900360539\n",
      "time = 0.4365196228027344\n",
      "==============================================\n",
      "p3 = 0.5\n",
      "BSO - VRP\n",
      "fitness = 0.5417877562911978\n",
      "time = 0.6942324638366699\n",
      "==============================================\n",
      "p3 = 0.7\n",
      "BSO - VRP\n",
      "fitness = 0.5559338468261772\n",
      "time = 1.9374487400054932\n",
      "==============================================\n",
      "p3 = 0.9\n",
      "BSO - VRP\n",
      "fitness = 0.5559338468261772\n",
      "time = 1.6602849960327148\n",
      "==============================================\n"
     ]
    }
   ],
   "source": [
    "#find p3\n",
    "p3_ls = [0.1,0.3,0.5,0.7,0.9]\n",
    "\n",
    "for p3 in p3_ls:\n",
    "    print(f\"p3 = {p3}\")\n",
    "    print(\"BSO - VRP\")\n",
    "    start = time.time()\n",
    "    bso_vrp = BSO_VRP(p1=0.7,p2=0.7,p3=p3,max_iter = 200,two_opt_method = \"best\",random_state=100)\n",
    "    bso_vrp.set_model(tur,hotel,timematrix,init_solution=[],travel_days=travel_days,degree_waktu = dwaktu,degree_tarif = dtarif,degree_rating = drating)\n",
    "    fitness = bso_vrp.construct_solution()[-1]\n",
    "    end = time.time()\n",
    "    print(f\"fitness = {fitness}\")\n",
    "    print(f\"time = {end-start}\")\n",
    "    print(\"==============================================\")"
   ]
  },
  {
   "cell_type": "markdown",
   "id": "af09fa4b",
   "metadata": {},
   "source": [
    "[0.7,0.9]"
   ]
  },
  {
   "cell_type": "markdown",
   "id": "2b004382",
   "metadata": {},
   "source": [
    "### Find p4"
   ]
  },
  {
   "cell_type": "code",
   "execution_count": 23,
   "id": "a6741722",
   "metadata": {},
   "outputs": [
    {
     "name": "stdout",
     "output_type": "stream",
     "text": [
      "p4 = 0.1\n",
      "BSO - VRP\n",
      "fitness = 0.5415305546451074\n",
      "time = 1.4915804862976074\n",
      "==============================================\n",
      "p4 = 0.3\n",
      "BSO - VRP\n",
      "fitness = 0.5559338468261772\n",
      "time = 1.3832731246948242\n",
      "==============================================\n",
      "p4 = 0.5\n",
      "BSO - VRP\n",
      "fitness = 0.5559338468261772\n",
      "time = 1.743556022644043\n",
      "==============================================\n",
      "p4 = 0.7\n",
      "BSO - VRP\n",
      "fitness = 0.5417877562911978\n",
      "time = 1.5173122882843018\n",
      "==============================================\n",
      "p4 = 0.9\n",
      "BSO - VRP\n",
      "fitness = 0.5415305546451074\n",
      "time = 1.1754467487335205\n",
      "==============================================\n"
     ]
    }
   ],
   "source": [
    "#find p4\n",
    "p4_ls = [0.1,0.3,0.5,0.7,0.9]\n",
    "\n",
    "for p4 in p4_ls:\n",
    "    print(f\"p4 = {p4}\")\n",
    "    print(\"BSO - VRP\")\n",
    "    start = time.time()\n",
    "    bso_vrp = BSO_VRP(p1=0.7,p2=0.7,p3=0.9,p4=p4,max_iter = 200,two_opt_method = \"best\",random_state=100)\n",
    "    bso_vrp.set_model(tur,hotel,timematrix,init_solution=[],travel_days=travel_days,degree_waktu = dwaktu,degree_tarif = dtarif,degree_rating = drating)\n",
    "    fitness = bso_vrp.construct_solution()[-1]\n",
    "    end = time.time()\n",
    "    print(f\"fitness = {fitness}\")\n",
    "    print(f\"time = {end-start}\")\n",
    "    print(\"==============================================\")"
   ]
  },
  {
   "cell_type": "markdown",
   "id": "52a2ff14",
   "metadata": {},
   "source": [
    "[0.3,0.5]"
   ]
  },
  {
   "cell_type": "markdown",
   "id": "f5a16628",
   "metadata": {},
   "source": [
    "### Find p1 TSP"
   ]
  },
  {
   "cell_type": "code",
   "execution_count": 24,
   "id": "ee1daa75",
   "metadata": {},
   "outputs": [
    {
     "name": "stdout",
     "output_type": "stream",
     "text": [
      "p1 = 0.1\n",
      "BSO - TSP\n",
      "fitness = 0.5008792654503077\n",
      "time = 103.5092248916626\n",
      "==============================================\n",
      "p1 = 0.3\n",
      "BSO - TSP\n",
      "fitness = 0.49167659055318835\n",
      "time = 86.67144846916199\n",
      "==============================================\n",
      "p1 = 0.5\n",
      "BSO - TSP\n",
      "fitness = 0.5008792654503077\n",
      "time = 78.12436437606812\n",
      "==============================================\n",
      "p1 = 0.7\n",
      "BSO - TSP\n",
      "fitness = 0.49167659055318835\n",
      "time = 65.28187012672424\n",
      "==============================================\n",
      "p1 = 0.9\n",
      "BSO - TSP\n",
      "fitness = 0.49167659055318835\n",
      "time = 54.06042194366455\n",
      "==============================================\n"
     ]
    }
   ],
   "source": [
    "#find p1\n",
    "p1_ls = [0.1,0.3,0.5,0.7,0.9]\n",
    "\n",
    "for p1 in p1_ls:\n",
    "    print(f\"p1 = {p1}\")\n",
    "    print(\"BSO - TSP\")\n",
    "    start = time.time()\n",
    "    bso_tsp = BSO_TSP(p1=p1,max_iter = 200,two_opt_method = \"best\",random_state=100)\n",
    "    bso_tsp.set_model(tur,hotel,timematrix,init_solution=[],travel_days=travel_days,degree_waktu = dwaktu,degree_tarif = dtarif,degree_rating = drating)\n",
    "    fitness = bso_tsp.construct_solution()[-1]\n",
    "    end = time.time()\n",
    "    print(f\"fitness = {fitness}\")\n",
    "    print(f\"time = {end-start}\")\n",
    "    print(\"==============================================\")"
   ]
  },
  {
   "cell_type": "markdown",
   "id": "9485095d",
   "metadata": {},
   "source": [
    "0.5"
   ]
  },
  {
   "cell_type": "markdown",
   "id": "31c3b642",
   "metadata": {},
   "source": [
    "choosen parameter:\n",
    "- p1 = 0.7 untuk VRP | p1 = 0.5 untuk TSP\n",
    "- p2 = 0.7\n",
    "- p3 = 0.9\n",
    "- p4 = 0.3\n",
    "- two_opt_method = 'best'"
   ]
  },
  {
   "cell_type": "markdown",
   "id": "a0f80d07",
   "metadata": {},
   "source": [
    "## Tuning Hybrid ACS BSO (VRP/TSP)\n",
    "ikuti hasil tuning ACS dan BSO"
   ]
  },
  {
   "cell_type": "code",
   "execution_count": 25,
   "id": "29244210",
   "metadata": {},
   "outputs": [
    {
     "name": "stdout",
     "output_type": "stream",
     "text": [
      "fitness = 0.6470272041953459\n",
      "time = 102.653977394104\n"
     ]
    }
   ],
   "source": [
    "start = time.time()\n",
    "acsbso_vrp = ACSBSO_VRP(alpha_t = 1,beta = 3,q0=0.1,rho=0.9,alpha=0.1,num_ant=30,max_iter_acs = 200,\n",
    "                     p1 = 0.4,p2=0.4,p3=0.5,p4=0.5,max_iter_bso=15,random_state=100)\n",
    "acsbso_vrp.set_model(tur,hotel,timematrix,travel_days=travel_days,degree_waktu = dwaktu,degree_tarif = dtarif,degree_rating = drating)\n",
    "fitness = acsbso_vrp.construct_solution()[-1]\n",
    "end = time.time()\n",
    "print(f\"fitness = {fitness}\")\n",
    "print(f\"time = {end-start}\")"
   ]
  },
  {
   "cell_type": "code",
   "execution_count": 26,
   "id": "e0eeccac",
   "metadata": {},
   "outputs": [
    {
     "name": "stdout",
     "output_type": "stream",
     "text": [
      "fitness = 0.6459983976109837\n",
      "time = 42.60769987106323\n"
     ]
    }
   ],
   "source": [
    "start = time.time()\n",
    "acsbso_vrp = ACSBSO_VRP(alpha_t = 1,beta = 3,q0=0.1,rho=0.9,alpha=0.1,num_ant=30,max_iter_acs = 200,\n",
    "                     p1 = 0.7,p2=0.7,p3=0.9,p4=0.3,max_iter_bso=15,random_state=100)\n",
    "acsbso_vrp.set_model(tur,hotel,timematrix,travel_days=travel_days,degree_waktu = dwaktu,degree_tarif = dtarif,degree_rating = drating)\n",
    "fitness = acsbso_vrp.construct_solution()[-1]\n",
    "end = time.time()\n",
    "print(f\"fitness = {fitness}\")\n",
    "print(f\"time = {end-start}\")"
   ]
  },
  {
   "cell_type": "code",
   "execution_count": 27,
   "id": "bc963909",
   "metadata": {},
   "outputs": [
    {
     "name": "stdout",
     "output_type": "stream",
     "text": [
      "fitness = 0.6494000145671729\n",
      "time = 103.38867402076721\n"
     ]
    }
   ],
   "source": [
    "start = time.time()\n",
    "acsbso_vrp = ACSBSO_VRP(alpha_t = 1,beta = 1,q0=0.1,rho=0.1,alpha=0.1,num_ant=30,max_iter_acs = 200,\n",
    "                     p1 = 0.4,p2=0.4,p3=0.5,p4=0.5,max_iter_bso=15,random_state=100)\n",
    "acsbso_vrp.set_model(tur,hotel,timematrix,travel_days=travel_days,degree_waktu = dwaktu,degree_tarif = dtarif,degree_rating = drating)\n",
    "fitness = acsbso_vrp.construct_solution()[-1]\n",
    "end = time.time()\n",
    "print(f\"fitness = {fitness}\")\n",
    "print(f\"time = {end-start}\")"
   ]
  },
  {
   "cell_type": "code",
   "execution_count": 29,
   "id": "5dc18094",
   "metadata": {},
   "outputs": [
    {
     "name": "stdout",
     "output_type": "stream",
     "text": [
      "fitness = 0.492790888233366\n",
      "time = 110.29059028625488\n"
     ]
    }
   ],
   "source": [
    "start = time.time()\n",
    "acsbso_tsp = ACSBSO_TSP(alpha_t = 1,beta = 1,q0=0.1,rho=0.1,alpha=0.1,num_ant=30,max_iter_acs = 200,\n",
    "                     p1 = 0.9,max_iter_bso=15,random_state=100)\n",
    "acsbso_tsp.set_model(tur,hotel,timematrix,travel_days=travel_days,degree_waktu = dwaktu,degree_tarif = dtarif,degree_rating = drating)\n",
    "fitness = acsbso_tsp.construct_solution()[-1]\n",
    "end = time.time()\n",
    "print(f\"fitness = {fitness}\")\n",
    "print(f\"time = {end-start}\")"
   ]
  },
  {
   "cell_type": "code",
   "execution_count": 30,
   "id": "4097ffa7",
   "metadata": {},
   "outputs": [
    {
     "name": "stdout",
     "output_type": "stream",
     "text": [
      "fitness = 0.5259659856513347\n",
      "time = 209.10495924949646\n"
     ]
    }
   ],
   "source": [
    "start = time.time()\n",
    "acsbso_tsp = ACSBSO_TSP(alpha_t = 1,beta = 3,q0=0.1,rho=0.9,alpha=0.1,num_ant=30,max_iter_acs = 200,\n",
    "                     p1 = 0.9,max_iter_bso=15,random_state=100)\n",
    "acsbso_tsp.set_model(tur,hotel,timematrix,travel_days=travel_days,degree_waktu = dwaktu,degree_tarif = dtarif,degree_rating = drating)\n",
    "fitness = acsbso_tsp.construct_solution()[-1]\n",
    "end = time.time()\n",
    "print(f\"fitness = {fitness}\")\n",
    "print(f\"time = {end-start}\")"
   ]
  },
  {
   "cell_type": "code",
   "execution_count": 28,
   "id": "634e4231",
   "metadata": {},
   "outputs": [
    {
     "name": "stdout",
     "output_type": "stream",
     "text": [
      "fitness = 0.5081588003933136\n",
      "time = 429.73170351982117\n"
     ]
    }
   ],
   "source": [
    "start = time.time()\n",
    "acsbso_tsp = ACSBSO_TSP(alpha_t = 1,beta = 3,q0=0.1,rho=0.9,alpha=0.1,num_ant=30,max_iter_acs = 200,\n",
    "                     p1 = 0.5,max_iter_bso=15,random_state=100)\n",
    "acsbso_tsp.set_model(tur,hotel,timematrix,travel_days=travel_days,degree_waktu = dwaktu,degree_tarif = dtarif,degree_rating = drating)\n",
    "fitness = acsbso_tsp.construct_solution()[-1]\n",
    "end = time.time()\n",
    "print(f\"fitness = {fitness}\")\n",
    "print(f\"time = {end-start}\")"
   ]
  },
  {
   "cell_type": "markdown",
   "id": "c4361e48",
   "metadata": {},
   "source": [
    "choosen parameter VRP:\n",
    "alpha_t = 1,beta = 1,q0=0.1,rho=0.1,alpha=0.1,num_ant=30,max_iter_acs = 200,\n",
    "                     p1 = 0.4,p2=0.4,p3=0.5,p4=0.5,max_iter_bso=15\n",
    "                     \n",
    "choosen parameter TSP:\n",
    "alpha_t = 1,beta = 3,q0=0.1,rho=0.9,alpha=0.1,num_ant=30,max_iter_acs = 200,\n",
    "                     p1 = 0.9,max_iter_bso=15,random_state=100\n"
   ]
  },
  {
   "cell_type": "markdown",
   "id": "ebee0bea",
   "metadata": {},
   "source": [
    "## Tuning ACO (VRP/TSP)\n",
    "Tuning dilakukan dengan VRP, TSP mengikuti\n",
    "\n",
    "default parameter/parameter awal:\n",
    "- alpha_t = 1\n",
    "- beta = 4\n",
    "- q0 = 0.6\n",
    "- init_pheromone = 0.1\n",
    "- rho = 0.7\n",
    "- num_ant = 35"
   ]
  },
  {
   "cell_type": "markdown",
   "id": "772ff7ca",
   "metadata": {},
   "source": [
    "### Find Init Pheromone"
   ]
  },
  {
   "cell_type": "code",
   "execution_count": 31,
   "id": "319b3fd0",
   "metadata": {},
   "outputs": [
    {
     "name": "stdout",
     "output_type": "stream",
     "text": [
      "pheromone = 0.1\n",
      "ACO - VRP\n",
      "fitness = 0.6214170025741726\n",
      "time = 10.991971731185913\n",
      "==============================================\n",
      "pheromone = 0.3\n",
      "ACO - VRP\n",
      "fitness = 0.6207435631304853\n",
      "time = 8.786598205566406\n",
      "==============================================\n",
      "pheromone = 0.5\n",
      "ACO - VRP\n",
      "fitness = 0.6202647583670199\n",
      "time = 7.309040307998657\n",
      "==============================================\n",
      "pheromone = 1\n",
      "ACO - VRP\n",
      "fitness = 0.6249663852902221\n",
      "time = 6.873351573944092\n",
      "==============================================\n"
     ]
    }
   ],
   "source": [
    "#find init pheromone\n",
    "init_pheromone = [0.1,0.3,0.5,1]\n",
    "\n",
    "for pheromone in init_pheromone:\n",
    "    print(f\"pheromone = {pheromone}\")\n",
    "    print(\"ACO - VRP\")\n",
    "    start = time.time()\n",
    "    aco_vrp = ACO_VRP(max_iter = 100,init_pheromone=pheromone,random_state=100)\n",
    "    aco_vrp.set_model(tur,hotel,timematrix,travel_days=travel_days,degree_waktu = dwaktu,degree_tarif = dtarif,degree_rating = drating)\n",
    "    fitness = aco_vrp.construct_solution()[-1]\n",
    "    end = time.time()\n",
    "    print(f\"fitness = {fitness}\")\n",
    "    print(f\"time = {end-start}\")\n",
    "    print(\"==============================================\")"
   ]
  },
  {
   "cell_type": "markdown",
   "id": "f355e773",
   "metadata": {},
   "source": [
    "pheromone 1 memiliki hasil terbaik"
   ]
  },
  {
   "cell_type": "markdown",
   "id": "0795b0d7",
   "metadata": {},
   "source": [
    "### Find Alpha_t"
   ]
  },
  {
   "cell_type": "code",
   "execution_count": 32,
   "id": "37bfcd31",
   "metadata": {},
   "outputs": [
    {
     "name": "stdout",
     "output_type": "stream",
     "text": [
      "alpha_t = 1\n",
      "ACO - VRP\n",
      "fitness = 0.6249663852902221\n",
      "time = 6.474250793457031\n",
      "==============================================\n",
      "alpha_t = 2\n",
      "ACO - VRP\n",
      "fitness = 0.6197263240314266\n",
      "time = 6.984787225723267\n",
      "==============================================\n",
      "alpha_t = 3\n",
      "ACO - VRP\n",
      "fitness = 0.6183942902432528\n",
      "time = 6.166360139846802\n",
      "==============================================\n",
      "alpha_t = 4\n",
      "ACO - VRP\n",
      "fitness = 0.6019452686397518\n",
      "time = 6.229883432388306\n",
      "==============================================\n",
      "alpha_t = 5\n",
      "ACO - VRP\n",
      "fitness = 0.6066230561928695\n",
      "time = 5.67876672744751\n",
      "==============================================\n"
     ]
    }
   ],
   "source": [
    "#find alpha_t\n",
    "alpha_t_ls = [1,2,3,4,5]\n",
    "\n",
    "for alpha_t in alpha_t_ls:\n",
    "    print(f\"alpha_t = {alpha_t}\")\n",
    "    print(\"ACO - VRP\")\n",
    "    start = time.time()\n",
    "    aco_vrp = ACO_VRP(init_pheromone=1,alpha_t = alpha_t,max_iter = 100,random_state=100)\n",
    "    aco_vrp.set_model(tur,hotel,timematrix,travel_days=travel_days,degree_waktu = dwaktu,degree_tarif = dtarif,degree_rating = drating)\n",
    "    fitness = aco_vrp.construct_solution()[-1]\n",
    "    end = time.time()\n",
    "    print(f\"fitness = {fitness}\")\n",
    "    print(f\"time = {end-start}\")\n",
    "    print(\"==============================================\")"
   ]
  },
  {
   "cell_type": "markdown",
   "id": "35e36b75",
   "metadata": {},
   "source": [
    "1 memberikan hasil terbaik dengan waktu yang baik juga"
   ]
  },
  {
   "cell_type": "markdown",
   "id": "6682a71b",
   "metadata": {},
   "source": [
    "### Find beta"
   ]
  },
  {
   "cell_type": "code",
   "execution_count": 33,
   "id": "ef98cc4d",
   "metadata": {},
   "outputs": [
    {
     "name": "stdout",
     "output_type": "stream",
     "text": [
      "beta = 1\n",
      "ACO - VRP\n",
      "fitness = 0.6249663852902221\n",
      "time = 6.532970190048218\n",
      "==============================================\n",
      "beta = 2\n",
      "ACO - VRP\n",
      "fitness = 0.618677535502692\n",
      "time = 11.405494928359985\n",
      "==============================================\n",
      "beta = 3\n",
      "ACO - VRP\n",
      "fitness = 0.6318452055792273\n",
      "time = 7.0529985427856445\n",
      "==============================================\n",
      "beta = 4\n",
      "ACO - VRP\n",
      "fitness = 0.6424232947303251\n",
      "time = 7.651229381561279\n",
      "==============================================\n",
      "beta = 5\n",
      "ACO - VRP\n",
      "fitness = 0.6249401859422948\n",
      "time = 6.1337502002716064\n",
      "==============================================\n"
     ]
    }
   ],
   "source": [
    "#find beta\n",
    "beta_ls = [1,2,3,4,5]\n",
    "\n",
    "for beta in beta_ls:\n",
    "    print(f\"beta = {beta}\")\n",
    "    print(\"ACO - VRP\")\n",
    "    start = time.time()\n",
    "    aco_vrp = ACO_VRP(init_pheromone=1,alpha_t = 1,beta = beta,max_iter = 100,random_state=100)\n",
    "    aco_vrp.set_model(tur,hotel,timematrix,travel_days=travel_days,degree_waktu = dwaktu,degree_tarif = dtarif,degree_rating = drating)\n",
    "    fitness = aco_vrp.construct_solution()[-1]\n",
    "    end = time.time()\n",
    "    print(f\"fitness = {fitness}\")\n",
    "    print(f\"time = {end-start}\")\n",
    "    print(\"==============================================\")"
   ]
  },
  {
   "cell_type": "markdown",
   "id": "dbea3015",
   "metadata": {},
   "source": [
    "4 memberikan hasil yang terbaik"
   ]
  },
  {
   "cell_type": "markdown",
   "id": "2e11e14b",
   "metadata": {},
   "source": [
    "### Find q0"
   ]
  },
  {
   "cell_type": "code",
   "execution_count": 34,
   "id": "1d40fc2b",
   "metadata": {},
   "outputs": [
    {
     "name": "stdout",
     "output_type": "stream",
     "text": [
      "q0 = 0.1\n",
      "ACO - VRP\n",
      "fitness = 0.6424232947303251\n",
      "time = 7.531709432601929\n",
      "==============================================\n",
      "q0 = 0.3\n",
      "ACO - VRP\n",
      "fitness = 0.6221703745871837\n",
      "time = 6.23665714263916\n",
      "==============================================\n",
      "q0 = 0.5\n",
      "ACO - VRP\n",
      "fitness = 0.6395683564587203\n",
      "time = 5.76807427406311\n",
      "==============================================\n",
      "q0 = 0.7\n",
      "ACO - VRP\n",
      "fitness = 0.6289350486179394\n",
      "time = 5.7623090744018555\n",
      "==============================================\n",
      "q0 = 0.9\n",
      "ACO - VRP\n",
      "fitness = 0.6307562183619213\n",
      "time = 4.959774971008301\n",
      "==============================================\n"
     ]
    }
   ],
   "source": [
    "#find beta\n",
    "q0_ls = [0.1,0.3,0.5,0.7,0.9]\n",
    "\n",
    "for q0 in q0_ls:\n",
    "    print(f\"q0 = {q0}\")\n",
    "    print(\"ACO - VRP\")\n",
    "    start = time.time()\n",
    "    aco_vrp = ACO_VRP(init_pheromone = 1,alpha_t = 1,beta = 4,q0=q0,max_iter = 100,random_state=100)\n",
    "    aco_vrp.set_model(tur,hotel,timematrix,travel_days=travel_days,degree_waktu = dwaktu,degree_tarif = dtarif,degree_rating = drating)\n",
    "    fitness = aco_vrp.construct_solution()[-1]\n",
    "    end = time.time()\n",
    "    print(f\"fitness = {fitness}\")\n",
    "    print(f\"time = {end-start}\")\n",
    "    print(\"==============================================\")"
   ]
  },
  {
   "cell_type": "markdown",
   "id": "2667ebb0",
   "metadata": {},
   "source": [
    "0.1 memberikan hasil terbaik"
   ]
  },
  {
   "cell_type": "markdown",
   "id": "ceb1c3a8",
   "metadata": {},
   "source": [
    "### Find Rho"
   ]
  },
  {
   "cell_type": "code",
   "execution_count": 35,
   "id": "125c8ce3",
   "metadata": {},
   "outputs": [
    {
     "name": "stdout",
     "output_type": "stream",
     "text": [
      "rho = 0.1\n",
      "ACO - VRP\n",
      "fitness = 0.6295899340835429\n",
      "time = 11.146182775497437\n",
      "==============================================\n",
      "rho = 0.3\n",
      "ACO - VRP\n",
      "fitness = 0.6323564702206735\n",
      "time = 11.161631345748901\n",
      "==============================================\n",
      "rho = 0.5\n",
      "ACO - VRP\n",
      "fitness = 0.63859033372243\n",
      "time = 7.03918194770813\n",
      "==============================================\n",
      "rho = 0.7\n",
      "ACO - VRP\n",
      "fitness = 0.6424232947303251\n",
      "time = 8.115537166595459\n",
      "==============================================\n",
      "rho = 0.9\n",
      "ACO - VRP\n",
      "fitness = 0.6238756682211374\n",
      "time = 8.341376543045044\n",
      "==============================================\n"
     ]
    }
   ],
   "source": [
    "#find rho\n",
    "rho_ls = [0.1,0.3,0.5,0.7,0.9]\n",
    "\n",
    "for rho in rho_ls:\n",
    "    print(f\"rho = {rho}\")\n",
    "    print(\"ACO - VRP\")\n",
    "    start = time.time()\n",
    "    aco_vrp = ACO_VRP(init_pheromone=1,alpha_t = 1,beta = 4,q0=0.1,rho=rho,max_iter = 100,random_state=100)\n",
    "    aco_vrp.set_model(tur,hotel,timematrix,travel_days=travel_days,degree_waktu = dwaktu,degree_tarif = dtarif,degree_rating = drating)\n",
    "    fitness = aco_vrp.construct_solution()[-1]\n",
    "    end = time.time()\n",
    "    print(f\"fitness = {fitness}\")\n",
    "    print(f\"time = {end-start}\")\n",
    "    print(\"==============================================\")"
   ]
  },
  {
   "cell_type": "markdown",
   "id": "18007f60",
   "metadata": {},
   "source": [
    "0.7 memberikan hasil terbaik"
   ]
  },
  {
   "cell_type": "markdown",
   "id": "875fd7c9",
   "metadata": {},
   "source": [
    "### Find num_ant"
   ]
  },
  {
   "cell_type": "code",
   "execution_count": 36,
   "id": "676ebadf",
   "metadata": {},
   "outputs": [
    {
     "name": "stdout",
     "output_type": "stream",
     "text": [
      "num_ant = 10\n",
      "ACO - VRP\n",
      "fitness = 0.6199086365126188\n",
      "time = 3.3763844966888428\n",
      "==============================================\n",
      "num_ant = 30\n",
      "ACO - VRP\n",
      "fitness = 0.6324247538435294\n",
      "time = 6.435775995254517\n",
      "==============================================\n",
      "num_ant = 35\n",
      "ACO - VRP\n",
      "fitness = 0.6424232947303251\n",
      "time = 7.973817825317383\n",
      "==============================================\n",
      "num_ant = 50\n",
      "ACO - VRP\n",
      "fitness = 0.6300450456278356\n",
      "time = 13.756993293762207\n",
      "==============================================\n"
     ]
    }
   ],
   "source": [
    "#find num_ant\n",
    "num_ant_ls = [10,30,35,50]\n",
    "\n",
    "for num_ant in num_ant_ls:\n",
    "    print(f\"num_ant = {num_ant}\")\n",
    "    print(\"ACO - VRP\")\n",
    "    start = time.time()\n",
    "    aco_vrp = ACO_VRP(init_pheromone=1,alpha_t = 1,beta = 4,q0=0.1,rho=0.7,num_ant=num_ant,max_iter = 100,random_state=100)\n",
    "    aco_vrp.set_model(tur,hotel,timematrix,travel_days=travel_days,degree_waktu = dwaktu,degree_tarif = dtarif,degree_rating = drating)\n",
    "    fitness = aco_vrp.construct_solution()[-1]\n",
    "    end = time.time()\n",
    "    print(f\"fitness = {fitness}\")\n",
    "    print(f\"time = {end-start}\")\n",
    "    print(\"==============================================\")"
   ]
  },
  {
   "cell_type": "markdown",
   "id": "607bc3bb",
   "metadata": {},
   "source": [
    "35 memberikan hasil terbaik"
   ]
  },
  {
   "cell_type": "markdown",
   "id": "406a235f",
   "metadata": {},
   "source": [
    "### Check TSP"
   ]
  },
  {
   "cell_type": "code",
   "execution_count": 37,
   "id": "a813f736",
   "metadata": {},
   "outputs": [
    {
     "name": "stdout",
     "output_type": "stream",
     "text": [
      "fitness = 0.5357839127618019\n",
      "time = 6.018295526504517\n"
     ]
    }
   ],
   "source": [
    "start = time.time()\n",
    "aco_tsp = ACO_TSP(init_pheromone=1,alpha_t = 1,beta = 4,q0=0.1,rho=0.7,num_ant=35,max_iter = 100,random_state=100)\n",
    "aco_tsp.set_model(tur,hotel,timematrix,travel_days=travel_days,degree_waktu = dwaktu,degree_tarif = dtarif,degree_rating = drating)\n",
    "fitness = aco_tsp.construct_solution()[-1]\n",
    "end = time.time()\n",
    "print(f\"fitness = {fitness}\")\n",
    "print(f\"time = {end-start}\")"
   ]
  },
  {
   "cell_type": "markdown",
   "id": "9b344644",
   "metadata": {},
   "source": [
    "choosen parameter:\n",
    "- alpha_t = 1\n",
    "- beta = 4\n",
    "- q0 = 0.1\n",
    "- init_pheromone = 1\n",
    "- rho = 0.7\n",
    "- num_ant = 35"
   ]
  },
  {
   "cell_type": "markdown",
   "id": "d3f6f2cc",
   "metadata": {},
   "source": [
    "## Tuning HACO (VRP/TSP)\n",
    "Gunakan parameter ACO yang sama dengan ACO_VRP dan tuning parameter terkait mutation-nya\n",
    "\n",
    "default parameter:\n",
    "- q1 = 0.6\n",
    "- q2 = 0.3\n",
    "- q3 = 0.6\n",
    "\n",
    "parameter beta = 1"
   ]
  },
  {
   "cell_type": "markdown",
   "id": "a2449b17",
   "metadata": {},
   "source": [
    "### Find q1"
   ]
  },
  {
   "cell_type": "code",
   "execution_count": 42,
   "id": "1f405f66",
   "metadata": {},
   "outputs": [
    {
     "name": "stdout",
     "output_type": "stream",
     "text": [
      "q1 = 0.1\n",
      "HACO - VRP\n",
      "fitness = 0.6256933063840634\n",
      "time = 10.954456806182861\n",
      "==============================================\n",
      "q1 = 0.3\n",
      "HACO - VRP\n",
      "fitness = 0.6414267635383664\n",
      "time = 12.834321737289429\n",
      "==============================================\n",
      "q1 = 0.5\n",
      "HACO - VRP\n",
      "fitness = 0.6420368357800433\n",
      "time = 16.648963928222656\n",
      "==============================================\n",
      "q1 = 0.6\n",
      "HACO - VRP\n",
      "fitness = 0.6414027085357884\n",
      "time = 12.663633346557617\n",
      "==============================================\n",
      "q1 = 0.7\n",
      "HACO - VRP\n",
      "fitness = 0.6417868458428929\n",
      "time = 18.78300142288208\n",
      "==============================================\n",
      "q1 = 0.9\n",
      "HACO - VRP\n",
      "fitness = 0.6448152700389672\n",
      "time = 21.178571224212646\n",
      "==============================================\n"
     ]
    }
   ],
   "source": [
    "#find q1\n",
    "q1_ls = [0.1,0.3,0.5,0.6,0.7,0.9]\n",
    "\n",
    "for q1 in q1_ls:\n",
    "    print(f\"q1 = {q1}\")\n",
    "    print(\"HACO - VRP\")\n",
    "    start = time.time()\n",
    "    haco_vrp = HACO_VRP(init_pheromone=1,alpha_t = 1,beta = 1,q0=0.1,q1=q1,rho=0.7,num_ant=35,max_iter = 100,random_state=100)\n",
    "    haco_vrp.set_model(tur,hotel,timematrix,travel_days=travel_days,degree_waktu = dwaktu,degree_tarif = dtarif,degree_rating = drating)\n",
    "    fitness = haco_vrp.construct_solution()[-1]\n",
    "    end = time.time()\n",
    "    print(f\"fitness = {fitness}\")\n",
    "    print(f\"time = {end-start}\")\n",
    "    print(\"==============================================\")"
   ]
  },
  {
   "cell_type": "markdown",
   "id": "4b7f366a",
   "metadata": {},
   "source": [
    "0.9 memberikan hasil cukup baik dengan waktu running sedikit"
   ]
  },
  {
   "cell_type": "markdown",
   "id": "40131b0d",
   "metadata": {},
   "source": [
    "### Find q2"
   ]
  },
  {
   "cell_type": "code",
   "execution_count": 43,
   "id": "bbf8f5ff",
   "metadata": {},
   "outputs": [
    {
     "name": "stdout",
     "output_type": "stream",
     "text": [
      "q2 = 0.1\n",
      "HACO - VRP\n",
      "fitness = 0.6421469281474198\n",
      "time = 20.002585887908936\n",
      "==============================================\n",
      "q2 = 0.3\n",
      "HACO - VRP\n",
      "fitness = 0.6448152700389672\n",
      "time = 20.506115674972534\n",
      "==============================================\n",
      "q2 = 0.5\n",
      "HACO - VRP\n",
      "fitness = 0.6456102734986707\n",
      "time = 20.50117826461792\n",
      "==============================================\n",
      "q2 = 0.6\n",
      "HACO - VRP\n",
      "fitness = 0.6447189446083251\n",
      "time = 20.565255403518677\n",
      "==============================================\n",
      "q2 = 0.7\n",
      "HACO - VRP\n",
      "fitness = 0.6420714328156235\n",
      "time = 20.44146203994751\n",
      "==============================================\n",
      "q2 = 0.9\n",
      "HACO - VRP\n",
      "fitness = 0.6398275285750705\n",
      "time = 18.62910532951355\n",
      "==============================================\n"
     ]
    }
   ],
   "source": [
    "#find q2\n",
    "q2_ls = [0.1,0.3,0.5,0.6,0.7,0.9]\n",
    "\n",
    "for q2 in q2_ls:\n",
    "    print(f\"q2 = {q2}\")\n",
    "    print(\"HACO - VRP\")\n",
    "    start = time.time()\n",
    "    haco_vrp = HACO_VRP(init_pheromone=1,alpha_t = 1,beta = 1,q0=0.1,q1=0.9,q2=q2,rho=0.7,num_ant=35,max_iter = 100,random_state=100)\n",
    "    haco_vrp.set_model(tur,hotel,timematrix,travel_days=travel_days,degree_waktu = dwaktu,degree_tarif = dtarif,degree_rating = drating)\n",
    "    fitness = haco_vrp.construct_solution()[-1]\n",
    "    end = time.time()\n",
    "    print(f\"fitness = {fitness}\")\n",
    "    print(f\"time = {end-start}\")\n",
    "    print(\"==============================================\")"
   ]
  },
  {
   "cell_type": "markdown",
   "id": "0445ff9c",
   "metadata": {},
   "source": [
    "0.5 memberikan hasil terbaik"
   ]
  },
  {
   "cell_type": "markdown",
   "id": "c575eae9",
   "metadata": {},
   "source": [
    "### Find q3"
   ]
  },
  {
   "cell_type": "code",
   "execution_count": 49,
   "id": "8acceb9a",
   "metadata": {},
   "outputs": [
    {
     "name": "stdout",
     "output_type": "stream",
     "text": [
      "q3 = 0.1\n",
      "HACO - VRP\n",
      "fitness = 0.6402885210677738\n",
      "time = 21.572736740112305\n",
      "==============================================\n",
      "q3 = 0.3\n",
      "HACO - VRP\n",
      "fitness = 0.6456102734986707\n",
      "time = 22.827035188674927\n",
      "==============================================\n",
      "q3 = 0.5\n",
      "HACO - VRP\n",
      "fitness = 0.6436146426921668\n",
      "time = 21.610158920288086\n",
      "==============================================\n",
      "q3 = 0.6\n",
      "HACO - VRP\n",
      "fitness = 0.640931525183\n",
      "time = 20.115166425704956\n",
      "==============================================\n",
      "q3 = 0.7\n",
      "HACO - VRP\n",
      "fitness = 0.6436855532664283\n",
      "time = 20.290541172027588\n",
      "==============================================\n",
      "q3 = 0.9\n",
      "HACO - VRP\n",
      "fitness = 0.6416002494628356\n",
      "time = 19.631995916366577\n",
      "==============================================\n"
     ]
    }
   ],
   "source": [
    "#find q3\n",
    "q3_ls = [0.1,0.3,0.5,0.6,0.7,0.9]\n",
    "\n",
    "for q3 in q3_ls:\n",
    "    print(f\"q3 = {q3}\")\n",
    "    print(\"HACO - VRP\")\n",
    "    start = time.time()\n",
    "    haco_vrp = HACO_VRP(init_pheromone=1,alpha_t = 1,beta = 1,q0=0.1,q1=0.9,q2=0.5,q3=q3,rho=0.7,num_ant=35,max_iter = 100,random_state=100)\n",
    "    haco_vrp.set_model(tur,hotel,timematrix,travel_days=travel_days,degree_waktu = dwaktu,degree_tarif = dtarif,degree_rating = drating)\n",
    "    fitness = haco_vrp.construct_solution()[-1]\n",
    "    end = time.time()\n",
    "    print(f\"fitness = {fitness}\")\n",
    "    print(f\"time = {end-start}\")\n",
    "    print(\"==============================================\")"
   ]
  },
  {
   "cell_type": "markdown",
   "id": "7e2f13fa",
   "metadata": {},
   "source": [
    "0.3 memberikan hasil terbaik"
   ]
  },
  {
   "cell_type": "markdown",
   "id": "8e36e2a0",
   "metadata": {},
   "source": [
    "### Check TSP"
   ]
  },
  {
   "cell_type": "code",
   "execution_count": 47,
   "id": "0dc3dc61",
   "metadata": {},
   "outputs": [
    {
     "name": "stdout",
     "output_type": "stream",
     "text": [
      "fitness = 0.5752660425783128\n",
      "time = 25.350791454315186\n"
     ]
    }
   ],
   "source": [
    "start = time.time()\n",
    "haco_tsp = HACO_TSP(init_pheromone=1,alpha_t = 1,beta = 1,q0=0.1,q1=0.6,q2=0.3,q3=0.3,rho=0.7,num_ant=35,max_iter = 100,random_state=100)\n",
    "haco_tsp.set_model(tur,hotel,timematrix,travel_days=travel_days,degree_waktu = dwaktu,degree_tarif = dtarif,degree_rating = drating)\n",
    "fitness = haco_tsp.construct_solution()[-1]\n",
    "end = time.time()\n",
    "print(f\"fitness = {fitness}\")\n",
    "print(f\"time = {end-start}\")"
   ]
  },
  {
   "cell_type": "markdown",
   "id": "4f89b402",
   "metadata": {},
   "source": [
    "choosen parameter VRP:\n",
    "- q1 = 0.9\n",
    "- q2 = 0.5\n",
    "- q3 = 0.3\n",
    "\n",
    "choosen parameter TSP:\n",
    "- q1 = 0.6\n",
    "- q2 = 0.3\n",
    "- q3 = 0.3"
   ]
  },
  {
   "cell_type": "code",
   "execution_count": null,
   "id": "2d5547cc",
   "metadata": {},
   "outputs": [],
   "source": []
  },
  {
   "cell_type": "code",
   "execution_count": null,
   "id": "a0b85a38",
   "metadata": {},
   "outputs": [],
   "source": []
  },
  {
   "cell_type": "code",
   "execution_count": null,
   "id": "af0a5efb",
   "metadata": {},
   "outputs": [],
   "source": []
  }
 ],
 "metadata": {
  "kernelspec": {
   "display_name": "Python 3 (ipykernel)",
   "language": "python",
   "name": "python3"
  },
  "language_info": {
   "codemirror_mode": {
    "name": "ipython",
    "version": 3
   },
   "file_extension": ".py",
   "mimetype": "text/x-python",
   "name": "python",
   "nbconvert_exporter": "python",
   "pygments_lexer": "ipython3",
   "version": "3.11.3"
  }
 },
 "nbformat": 4,
 "nbformat_minor": 5
}
